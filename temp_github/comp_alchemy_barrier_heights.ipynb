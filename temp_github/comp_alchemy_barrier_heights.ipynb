{
 "cells": [
  {
   "cell_type": "markdown",
   "metadata": {},
   "source": [
    "# Running Computational Alchemy for Catalysis: Transition State Barrier Height Predictions\n",
    "This notebook outlines Python functions that use information from VASP calculations to predict descriptors for hypothetical catalyst."
   ]
  },
  {
   "cell_type": "code",
   "execution_count": 1,
   "metadata": {},
   "outputs": [
    {
     "name": "stdout",
     "output_type": "stream",
     "text": [
      "[-116.85742, -116.84115, -116.79842, -116.69364, -116.43924, -115.95241, -116.47439, -116.55566, -116.66599, -116.66624]\n"
     ]
    }
   ],
   "source": [
    "import numpy as np\n",
    "images = [str(int(n)) for n in np.linspace(0,9,10)]\n",
    "\n",
    "from read_oszicar import grab_energy\n",
    "image_energies = [grab_energy(oszicar='{0}/OSZICAR'.format(im)) for im in images]\n",
    "print(image_energies)"
   ]
  },
  {
   "cell_type": "code",
   "execution_count": 2,
   "metadata": {},
   "outputs": [],
   "source": [
    "from matplotlib import pyplot as plot\n",
    "plot.plot(images,image_energies,'bo-')\n",
    "plot.xlabel('NEB Image Number',weight='bold')\n",
    "plot.ylabel('Energy (eV)',weight='bold')\n",
    "plot.savefig('energy-profile.png',format='png',bbox_inches='tight',dpi=300)"
   ]
  },
  {
   "cell_type": "code",
   "execution_count": 3,
   "metadata": {},
   "outputs": [],
   "source": [
    "from ase.io import read \n",
    "from ase.visualize import view\n",
    "slab = read('slab/POSCAR',format='vasp')\n",
    "slab_contcar = read('slab/CONTCAR',format='vasp')\n",
    "ads = [read('{0}/POSCAR'.format(im),format='vasp') for im in images]\n",
    "ads_contcar = [read('{0}/CONTCAR'.format(im),format='vasp') for im in images]"
   ]
  },
  {
   "cell_type": "code",
   "execution_count": 4,
   "metadata": {},
   "outputs": [],
   "source": [
    "from ads_slab_pairs import pairs\n",
    "p = [pairs(slab,slab) for a in ads]"
   ]
  },
  {
   "cell_type": "code",
   "execution_count": 5,
   "metadata": {},
   "outputs": [],
   "source": [
    "from elec_stat_pot import (grab_esp,espdiff,remove_duplicate_espdiffs,heatmap)\n",
    "slab_elec = grab_esp(poscar='slab/POSCAR',outcar='slab/OUTCAR')\n",
    "ads_elec = [grab_esp(poscar='{0}/POSCAR'.format(im),\n",
    "                     outcar='{0}/OUTCAR'.format(im)) for im in images]\n",
    "diffs = [espdiff(elec1=slab_elec,elec2=ads_elec[im],pair=p[im]) for im in range(0,len(images))]"
   ]
  },
  {
   "cell_type": "code",
   "execution_count": 6,
   "metadata": {},
   "outputs": [],
   "source": [
    "slab_vis = [heatmap(poscar='slab/POSCAR',dexlist=[dex[0] for dex in p[im]],espdiffs=diffs[im]) for im in range(0,len(images))]"
   ]
  },
  {
   "cell_type": "code",
   "execution_count": 7,
   "metadata": {},
   "outputs": [],
   "source": [
    "from ase import Atom\n",
    "from alloy_index import index_transmuted, transmuter, transmuted_directory_names\n",
    "metal = Atom('Pt')\n",
    "[transmute, counter] = index_transmuted(slab=slab,\n",
    "                                        transmute_atom_sym=metal.symbol,\n",
    "                                        counter_atom_sym=metal.symbol,\n",
    "                                        transmute_num=8,\n",
    "                                        counter_num=1,\n",
    "                                        symmetric = False)"
   ]
  },
  {
   "cell_type": "code",
   "execution_count": 8,
   "metadata": {},
   "outputs": [],
   "source": [
    "new_transmute = [transmute for im in range(0,len(images))]\n",
    "new_counter = [counter for im in range(0,len(images))]\n",
    "\n",
    "#new_transmute = [remove_duplicate_espdiffs(dexlist=transmute,\n",
    "#                                          espdiffs=diffs[im]) for im in range(0,len(images))]\n",
    "#new_counter = [remove_duplicate_espdiffs(dexlist=counter,\n",
    "#                                          espdiffs=diffs[im]) for im in range(0,len(images))]"
   ]
  },
  {
   "cell_type": "code",
   "execution_count": 9,
   "metadata": {},
   "outputs": [
    {
     "name": "stdout",
     "output_type": "stream",
     "text": [
      "[[12, 13, 14, 15, 8, 9, 10, 11], [12, 13, 14, 15, 8, 9, 10, 11], [12, 13, 14, 15, 8, 9, 10, 11], [12, 13, 14, 15, 8, 9, 10, 11], [12, 13, 14, 15, 8, 9, 10, 11], [12, 13, 14, 15, 8, 9, 10, 11], [12, 13, 14, 15, 8, 9, 10, 11], [12, 13, 14, 15, 8, 9, 10, 11], [12, 13, 14, 15, 8, 9, 10, 11], [12, 13, 14, 15, 8, 9, 10, 11]]\n",
      "[[0], [0], [0], [0], [0], [0], [0], [0], [0], [0]]\n"
     ]
    }
   ],
   "source": [
    "print(new_transmute)\n",
    "print(new_counter)"
   ]
  },
  {
   "cell_type": "code",
   "execution_count": 16,
   "metadata": {},
   "outputs": [
    {
     "name": "stdout",
     "output_type": "stream",
     "text": [
      "[[13, 12, 15, 14, 11, 10, 9, 8], [13, 12, 15, 14, 11, 10, 9, 8], [13, 12, 15, 14, 11, 10, 9, 8], [13, 12, 15, 14, 11, 10, 9, 8], [13, 12, 15, 14, 11, 10, 9, 8], [13, 12, 15, 14, 11, 10, 9, 8], [13, 12, 15, 14, 11, 10, 9, 8], [13, 12, 15, 14, 11, 10, 9, 8], [13, 12, 15, 14, 11, 10, 9, 8], [13, 12, 15, 14, 11, 10, 9, 8]]\n",
      "[[1], [1], [1], [1], [1], [1], [1], [1], [1], [1]]\n"
     ]
    }
   ],
   "source": [
    "#redefining transmute indexes because everything was done different when these codes were run in h2p\n",
    "new_transmute = [[13, 12, 15, 14, 11, 10, 9, 8], [13, 12, 15, 14, 11, 10, 9, 8], [13, 12, 15, 14, 11, 10, 9, 8], [13, 12, 15, 14, 11, 10, 9, 8], [13, 12, 15, 14, 11, 10, 9, 8], [13, 12, 15, 14, 11, 10, 9, 8], [13, 12, 15, 14, 11, 10, 9, 8], [13, 12, 15, 14, 11, 10, 9, 8], [13, 12, 15, 14, 11, 10, 9, 8], [13, 12, 15, 14, 11, 10, 9, 8]]\n",
    "new_counter = [[1], [1], [1], [1], [1], [1], [1], [1], [1], [1]]\n",
    "print(new_transmute)\n",
    "print(new_counter)"
   ]
  },
  {
   "cell_type": "code",
   "execution_count": 17,
   "metadata": {},
   "outputs": [],
   "source": [
    "charge = 1\n",
    "transmute_atom = Atom(metal.symbol)\n",
    "transmute_atom.number += charge\n",
    "counter_transmute_atom = Atom(metal.symbol)\n",
    "counter_transmute_atom.number -= charge\n",
    "all_transmute = [counter_transmute_atom,transmute_atom]"
   ]
  },
  {
   "cell_type": "code",
   "execution_count": 18,
   "metadata": {},
   "outputs": [
    {
     "name": "stdout",
     "output_type": "stream",
     "text": [
      "Transmuted Slab Labels\n",
      "Image: 0\n",
      "['0.0.Ir1.Au13', '0.1.Ir1.Au12', '0.2.Ir1.Au15', '0.3.Ir1.Au14', '0.4.Ir1.Au11', '0.5.Ir1.Au10', '0.6.Ir1.Au9', '0.7.Ir1.Au8']\n",
      "8\n",
      "Image: 1\n",
      "['0.0.Ir1.Au13', '0.1.Ir1.Au12', '0.2.Ir1.Au15', '0.3.Ir1.Au14', '0.4.Ir1.Au11', '0.5.Ir1.Au10', '0.6.Ir1.Au9', '0.7.Ir1.Au8']\n",
      "16\n",
      "Image: 2\n",
      "['0.0.Ir1.Au13', '0.1.Ir1.Au12', '0.2.Ir1.Au15', '0.3.Ir1.Au14', '0.4.Ir1.Au11', '0.5.Ir1.Au10', '0.6.Ir1.Au9', '0.7.Ir1.Au8']\n",
      "24\n",
      "Image: 3\n",
      "['0.0.Ir1.Au13', '0.1.Ir1.Au12', '0.2.Ir1.Au15', '0.3.Ir1.Au14', '0.4.Ir1.Au11', '0.5.Ir1.Au10', '0.6.Ir1.Au9', '0.7.Ir1.Au8']\n",
      "32\n",
      "Image: 4\n",
      "['0.0.Ir1.Au13', '0.1.Ir1.Au12', '0.2.Ir1.Au15', '0.3.Ir1.Au14', '0.4.Ir1.Au11', '0.5.Ir1.Au10', '0.6.Ir1.Au9', '0.7.Ir1.Au8']\n",
      "40\n",
      "Image: 5\n",
      "['0.0.Ir1.Au13', '0.1.Ir1.Au12', '0.2.Ir1.Au15', '0.3.Ir1.Au14', '0.4.Ir1.Au11', '0.5.Ir1.Au10', '0.6.Ir1.Au9', '0.7.Ir1.Au8']\n",
      "48\n",
      "Image: 6\n",
      "['0.0.Ir1.Au13', '0.1.Ir1.Au12', '0.2.Ir1.Au15', '0.3.Ir1.Au14', '0.4.Ir1.Au11', '0.5.Ir1.Au10', '0.6.Ir1.Au9', '0.7.Ir1.Au8']\n",
      "56\n",
      "Image: 7\n",
      "['0.0.Ir1.Au13', '0.1.Ir1.Au12', '0.2.Ir1.Au15', '0.3.Ir1.Au14', '0.4.Ir1.Au11', '0.5.Ir1.Au10', '0.6.Ir1.Au9', '0.7.Ir1.Au8']\n",
      "64\n",
      "Image: 8\n",
      "['0.0.Ir1.Au13', '0.1.Ir1.Au12', '0.2.Ir1.Au15', '0.3.Ir1.Au14', '0.4.Ir1.Au11', '0.5.Ir1.Au10', '0.6.Ir1.Au9', '0.7.Ir1.Au8']\n",
      "72\n",
      "Image: 9\n",
      "['0.0.Ir1.Au13', '0.1.Ir1.Au12', '0.2.Ir1.Au15', '0.3.Ir1.Au14', '0.4.Ir1.Au11', '0.5.Ir1.Au10', '0.6.Ir1.Au9', '0.7.Ir1.Au8']\n",
      "80\n"
     ]
    }
   ],
   "source": [
    "print('Transmuted Slab Labels')\n",
    "transmuted_slabs = []\n",
    "dir_slab = []\n",
    "num = 0\n",
    "for im in range(0,len(images)):\n",
    "    print('Image: {0}'.format(im))\n",
    "    transmuted_single_image = []\n",
    "    dir_single_image = []\n",
    "    for i,c in enumerate(new_counter[im]):\n",
    "        for j,t in enumerate(new_transmute[im]):\n",
    "            transmuted_single_image.append(transmuter(slab=slab_contcar,\n",
    "                                                     atomdex=[c,t],\n",
    "                                                     trans=all_transmute))\n",
    "            dir_single_image.append(transmuted_directory_names(bdex=i,\n",
    "                                                              tdex=j,\n",
    "                                                              dexes=[c,t],\n",
    "                                                              atoms_array=all_transmute))\n",
    "    transmuted_slabs.append(transmuted_single_image)\n",
    "    dir_slab.append(dir_single_image)\n",
    "    print(dir_single_image)\n",
    "    num += len(dir_single_image)\n",
    "    print(num)"
   ]
  },
  {
   "cell_type": "code",
   "execution_count": 19,
   "metadata": {},
   "outputs": [
    {
     "name": "stdout",
     "output_type": "stream",
     "text": [
      "Transmuted Ads Labels\n",
      "Image: 0\n",
      "['0.0.Ir1.Au13', '0.1.Ir1.Au12', '0.2.Ir1.Au15', '0.3.Ir1.Au14', '0.4.Ir1.Au11', '0.5.Ir1.Au10', '0.6.Ir1.Au9', '0.7.Ir1.Au8']\n",
      "8\n",
      "Image: 1\n",
      "['0.0.Ir1.Au13', '0.1.Ir1.Au12', '0.2.Ir1.Au15', '0.3.Ir1.Au14', '0.4.Ir1.Au11', '0.5.Ir1.Au10', '0.6.Ir1.Au9', '0.7.Ir1.Au8']\n",
      "16\n",
      "Image: 2\n",
      "['0.0.Ir1.Au13', '0.1.Ir1.Au12', '0.2.Ir1.Au15', '0.3.Ir1.Au14', '0.4.Ir1.Au11', '0.5.Ir1.Au10', '0.6.Ir1.Au9', '0.7.Ir1.Au8']\n",
      "24\n",
      "Image: 3\n",
      "['0.0.Ir1.Au13', '0.1.Ir1.Au12', '0.2.Ir1.Au15', '0.3.Ir1.Au14', '0.4.Ir1.Au11', '0.5.Ir1.Au10', '0.6.Ir1.Au9', '0.7.Ir1.Au8']\n",
      "32\n",
      "Image: 4\n",
      "['0.0.Ir1.Au13', '0.1.Ir1.Au12', '0.2.Ir1.Au15', '0.3.Ir1.Au14', '0.4.Ir1.Au11', '0.5.Ir1.Au10', '0.6.Ir1.Au9', '0.7.Ir1.Au8']\n",
      "40\n",
      "Image: 5\n",
      "['0.0.Ir1.Au13', '0.1.Ir1.Au12', '0.2.Ir1.Au15', '0.3.Ir1.Au14', '0.4.Ir1.Au11', '0.5.Ir1.Au10', '0.6.Ir1.Au9', '0.7.Ir1.Au8']\n",
      "48\n",
      "Image: 6\n",
      "['0.0.Ir1.Au13', '0.1.Ir1.Au12', '0.2.Ir1.Au15', '0.3.Ir1.Au14', '0.4.Ir1.Au11', '0.5.Ir1.Au10', '0.6.Ir1.Au9', '0.7.Ir1.Au8']\n",
      "56\n",
      "Image: 7\n",
      "['0.0.Ir1.Au13', '0.1.Ir1.Au12', '0.2.Ir1.Au15', '0.3.Ir1.Au14', '0.4.Ir1.Au11', '0.5.Ir1.Au10', '0.6.Ir1.Au9', '0.7.Ir1.Au8']\n",
      "64\n",
      "Image: 8\n",
      "['0.0.Ir1.Au13', '0.1.Ir1.Au12', '0.2.Ir1.Au15', '0.3.Ir1.Au14', '0.4.Ir1.Au11', '0.5.Ir1.Au10', '0.6.Ir1.Au9', '0.7.Ir1.Au8']\n",
      "72\n",
      "Image: 9\n",
      "['0.0.Ir1.Au13', '0.1.Ir1.Au12', '0.2.Ir1.Au15', '0.3.Ir1.Au14', '0.4.Ir1.Au11', '0.5.Ir1.Au10', '0.6.Ir1.Au9', '0.7.Ir1.Au8']\n",
      "80\n"
     ]
    }
   ],
   "source": [
    "print('Transmuted Ads Labels')\n",
    "transmuted_ads = []\n",
    "dir_ads = []\n",
    "num = 0\n",
    "for im in range(0,len(images)):\n",
    "    print('Image: {0}'.format(im))\n",
    "    transmuted_single_image = []\n",
    "    dir_single_image = []\n",
    "    for i,c in enumerate(new_counter[im]):\n",
    "        for j,t in enumerate(new_transmute[im]):\n",
    "            transmuted_single_image.append(transmuter(slab=ads_contcar[im],\n",
    "                                                     atomdex=[c,t],\n",
    "                                                     trans=all_transmute))\n",
    "            dir_single_image.append(transmuted_directory_names(bdex=i,\n",
    "                                                              tdex=j,\n",
    "                                                              dexes=[c,t],\n",
    "                                                              atoms_array=all_transmute))\n",
    "    transmuted_ads.append(transmuted_single_image)\n",
    "    dir_ads.append(dir_single_image)\n",
    "    print(dir_single_image)\n",
    "    num += len(dir_single_image)\n",
    "    print(num)"
   ]
  },
  {
   "cell_type": "code",
   "execution_count": 20,
   "metadata": {},
   "outputs": [
    {
     "ename": "FileExistsError",
     "evalue": "[WinError 183] Cannot create a file when that file already exists: 'results'",
     "output_type": "error",
     "traceback": [
      "\u001b[1;31m---------------------------------------------------------------------------\u001b[0m",
      "\u001b[1;31mFileExistsError\u001b[0m                           Traceback (most recent call last)",
      "\u001b[1;32m<ipython-input-20-2c170ea9fad0>\u001b[0m in \u001b[0;36m<module>\u001b[1;34m\u001b[0m\n\u001b[0;32m      2\u001b[0m \u001b[1;32mfrom\u001b[0m \u001b[0mase\u001b[0m\u001b[1;33m.\u001b[0m\u001b[0mio\u001b[0m \u001b[1;32mimport\u001b[0m \u001b[0mwrite\u001b[0m\u001b[1;33m\u001b[0m\u001b[1;33m\u001b[0m\u001b[0m\n\u001b[0;32m      3\u001b[0m \u001b[1;32mfrom\u001b[0m \u001b[0mvasp_setup\u001b[0m \u001b[1;32mimport\u001b[0m \u001b[0mmake_potcar\u001b[0m\u001b[1;33m,\u001b[0m\u001b[0mmake_kpoints\u001b[0m\u001b[1;33m,\u001b[0m\u001b[0mmake_incar\u001b[0m\u001b[1;33m,\u001b[0m\u001b[0mmake_job_script\u001b[0m\u001b[1;33m\u001b[0m\u001b[1;33m\u001b[0m\u001b[0m\n\u001b[1;32m----> 4\u001b[1;33m \u001b[0mos\u001b[0m\u001b[1;33m.\u001b[0m\u001b[0mmkdir\u001b[0m\u001b[1;33m(\u001b[0m\u001b[1;34m'results'\u001b[0m\u001b[1;33m)\u001b[0m\u001b[1;33m\u001b[0m\u001b[1;33m\u001b[0m\u001b[0m\n\u001b[0m\u001b[0;32m      5\u001b[0m \u001b[0mos\u001b[0m\u001b[1;33m.\u001b[0m\u001b[0mchdir\u001b[0m\u001b[1;33m(\u001b[0m\u001b[1;34m'results'\u001b[0m\u001b[1;33m)\u001b[0m\u001b[1;33m\u001b[0m\u001b[1;33m\u001b[0m\u001b[0m\n\u001b[0;32m      6\u001b[0m \u001b[1;32mfor\u001b[0m \u001b[0mim\u001b[0m \u001b[1;32min\u001b[0m \u001b[0mrange\u001b[0m\u001b[1;33m(\u001b[0m\u001b[1;36m0\u001b[0m\u001b[1;33m,\u001b[0m\u001b[0mlen\u001b[0m\u001b[1;33m(\u001b[0m\u001b[0mimages\u001b[0m\u001b[1;33m)\u001b[0m\u001b[1;33m)\u001b[0m\u001b[1;33m:\u001b[0m\u001b[1;33m\u001b[0m\u001b[1;33m\u001b[0m\u001b[0m\n",
      "\u001b[1;31mFileExistsError\u001b[0m: [WinError 183] Cannot create a file when that file already exists: 'results'"
     ]
    }
   ],
   "source": [
    "import os\n",
    "from ase.io import write\n",
    "from vasp_setup import make_potcar,make_kpoints,make_incar,make_job_script\n",
    "os.mkdir('results')\n",
    "os.chdir('results')\n",
    "for im in range(0,len(images)):\n",
    "    imdir = images[im]\n",
    "    os.mkdir(imdir)\n",
    "    os.chdir(imdir)\n",
    "    os.mkdir('slab')\n",
    "    os.chdir('slab')\n",
    "    for i,s in enumerate(transmuted_slabs[im]):\n",
    "        d = dir_slab[im][i]\n",
    "        os.mkdir(d)\n",
    "        os.chdir(d)\n",
    "        home = os.getcwd()\n",
    "        write('POSCAR',s,'vasp',sort=True)\n",
    "        #make_potcar(home,'~/potcars/')\n",
    "        make_kpoints(home,d,kspacing=[8,8,1])\n",
    "        make_incar(home,d,encut=350,ismear=1,sigma=0.2,ibrion=-1,nsw=0)\n",
    "        make_job_script(home,d,jobnum=i,nodes=1,cores=16,cluster='smp',partition='smp',hours=6)\n",
    "        #os.system('sbatch job_sub.slurm')\n",
    "        os.chdir('../')\n",
    "    os.chdir('../')\n",
    "    os.mkdir('ads')\n",
    "    os.chdir('ads')\n",
    "    for i,s in enumerate(transmuted_ads[im]):\n",
    "        d = dir_ads[im][i]\n",
    "        os.mkdir(d)\n",
    "        os.chdir(d)\n",
    "        home = os.getcwd()\n",
    "        write('POSCAR',s,'vasp',sort=True)\n",
    "        #make_potcar(home,'~/potcars/')\n",
    "        make_kpoints(home,d,kspacing=[8,8,1])\n",
    "        make_incar(home,d,encut=350,ismear=1,sigma=0.2,ibrion=-1,nsw=0)\n",
    "        make_job_script(home,d,jobnum=i,nodes=1,cores=16,cluster='smp',partition='smp',hours=6)\n",
    "        #os.system('sbatch job_sub.slurm')\n",
    "        os.chdir('../')\n",
    "        \n",
    "    os.chdir('../../')\n",
    "os.chdir('../')"
   ]
  },
  {
   "cell_type": "code",
   "execution_count": 21,
   "metadata": {},
   "outputs": [],
   "source": [
    "adsorbate_energy = 0\n",
    "slab_energy = grab_energy(oszicar='slab/OSZICAR')\n",
    "ads_energy = image_energies\n",
    "ref_be = [slab_energy + adsorbate_energy - ae for ae in ads_energy]"
   ]
  },
  {
   "cell_type": "code",
   "execution_count": 22,
   "metadata": {},
   "outputs": [],
   "source": [
    "transmuted_slab_energy = [[grab_energy(oszicar=\n",
    "                                       'results/{0}/slab/{1}/OSZICAR'.format(im,d)) for d in dir_slab[int(im)]] for im in images]\n",
    "transmuted_ads_energy = [[grab_energy(oszicar=\n",
    "                                       'results/{0}/ads/{1}/OSZICAR'.format(im,d)) for d in dir_ads[int(im)]] for im in images]"
   ]
  },
  {
   "cell_type": "code",
   "execution_count": 23,
   "metadata": {},
   "outputs": [],
   "source": [
    "transmuted_be = [[transmuted_slab_energy[im][i] + adsorbate_energy - transmuted_ads_energy[im][i] for i in range(len(transmuted_slab_energy[im]))] for im in range(len(images))]\n",
    "dft_del_be = [[round(transmuted_be[im][i] - ref_be[im],4) for i in range(len(transmuted_be[im]))] for im in range(len(images))]"
   ]
  },
  {
   "cell_type": "code",
   "execution_count": 24,
   "metadata": {},
   "outputs": [],
   "source": [
    "from binding_energy import alc_be\n",
    "dn = []\n",
    "alc_del_be = []\n",
    "for im in range(len(images)):\n",
    "    dn_single_image = []\n",
    "    alc_del_be_single_image = []\n",
    "    for j in range(len(new_counter[im])):\n",
    "        dn_single_image.append([alc_be(transmute=[new_transmute[im][i]],\n",
    "             counter=[new_counter[im][j]],\n",
    "             espdiffs=diffs[im],\n",
    "             charge=charge)[0] for i in range(len(new_transmute[im]))])\n",
    "        \n",
    "        alc_del_be_single_image.append([alc_be(transmute=[new_transmute[im][i]],\n",
    "                     counter=[new_counter[im][j]],\n",
    "                     espdiffs=diffs[im],\n",
    "                     charge=charge)[1] for i in range(len(new_transmute[im]))])\n",
    "    \n",
    "    dn_sum = []\n",
    "    for dn_i in dn_single_image:\n",
    "        dn_sum += dn_i\n",
    "    alc_sum = []\n",
    "    for alc_i in alc_del_be_single_image:\n",
    "        alc_sum += alc_i\n",
    "        \n",
    "    dn.append(dn_sum)\n",
    "    alc_del_be.append(alc_sum)"
   ]
  },
  {
   "cell_type": "code",
   "execution_count": 25,
   "metadata": {},
   "outputs": [],
   "source": [
    "new_transmute_espdiffs = [[diffs[im][i] for i in new_transmute[im]] for im in range(len(images))]\n",
    "new_counter_espdiffs = [[diffs[im][i] for i in new_counter[im]] for im in range(len(images))]"
   ]
  },
  {
   "cell_type": "code",
   "execution_count": 26,
   "metadata": {},
   "outputs": [
    {
     "data": {
      "text/plain": [
       "Text(0.5, 1.0, 'Image 0')"
      ]
     },
     "execution_count": 26,
     "metadata": {},
     "output_type": "execute_result"
    },
    {
     "data": {
      "image/png": "[encoded data removed]",
      "text/plain": [
       "<Figure size 432x288 with 1 Axes>"
      ]
     },
     "metadata": {
      "needs_background": "light"
     },
     "output_type": "display_data"
    }
   ],
   "source": [
    "i = 0\n",
    "plot.plot([min(dft_del_be[i]+alc_del_be[i]),max(dft_del_be[i]+alc_del_be[i])],\n",
    "          [min(dft_del_be[i]+alc_del_be[i]),max(dft_del_be[i]+alc_del_be[i])],\n",
    "          linewidth=2.5)\n",
    "plot.plot(dft_del_be[i],alc_del_be[i],'ko',markersize=12)\n",
    "plot.xlabel('DFT',weight='bold')\n",
    "plot.ylabel('Alchemy',weight='bold')\n",
    "plot.title('Image {0}'.format(i),weight='bold')"
   ]
  },
  {
   "cell_type": "code",
   "execution_count": 27,
   "metadata": {},
   "outputs": [
    {
     "data": {
      "image/png": "[encoded data removed]",
      "text/plain": [
       "<Figure size 360x1080 with 1 Axes>"
      ]
     },
     "metadata": {
      "needs_background": "light"
     },
     "output_type": "display_data"
    },
    {
     "data": {
      "image/png": "[encoded data removed]",
      "text/plain": [
       "<Figure size 360x1080 with 1 Axes>"
      ]
     },
     "metadata": {
      "needs_background": "light"
     },
     "output_type": "display_data"
    },
    {
     "data": {
      "image/png": "[encoded data removed]",
      "text/plain": [
       "<Figure size 360x1080 with 1 Axes>"
      ]
     },
     "metadata": {
      "needs_background": "light"
     },
     "output_type": "display_data"
    }
   ],
   "source": [
    "i = 9\n",
    "fig = plot.figure(figsize=(5,15))\n",
    "ax = fig.add_subplot(3,1,1)\n",
    "ax.plot([min(dft_del_be[i]+alc_del_be[i]),max(dft_del_be[i]+alc_del_be[i])],\n",
    "          [min(dft_del_be[i]+alc_del_be[i]),max(dft_del_be[i]+alc_del_be[i])],\n",
    "          linewidth=2.5)\n",
    "ax.plot(dft_del_be[0],alc_del_be[0],'ko',markersize=12)\n",
    "ax.set_xlabel('DFT',weight='bold')\n",
    "ax.set_ylabel('Alchemy',weight='bold')\n",
    "ax.set_title('Image {0}'.format(0),weight='bold')\n",
    "plot.savefig('neb0.svg',format='svg',bbox_inches='tight',dpi=300)\n",
    "\n",
    "fig = plot.figure(figsize=(5,15))\n",
    "ax = fig.add_subplot(3,1,2)\n",
    "ax.plot([min(dft_del_be[i]+alc_del_be[i]),max(dft_del_be[i]+alc_del_be[i])],\n",
    "          [min(dft_del_be[i]+alc_del_be[i]),max(dft_del_be[i]+alc_del_be[i])],\n",
    "          linewidth=2.5)\n",
    "ax.plot(dft_del_be[5],alc_del_be[5],'ko',markersize=12)\n",
    "ax.set_xlabel('DFT',weight='bold')\n",
    "ax.set_ylabel('Alchemy',weight='bold')\n",
    "ax.set_title('Image {0}'.format(5),weight='bold')\n",
    "plot.savefig('neb5.svg',format='svg',bbox_inches='tight',dpi=300)\n",
    "\n",
    "fig = plot.figure(figsize=(5,15))\n",
    "ax = fig.add_subplot(3,1,2)\n",
    "ax.plot([min(dft_del_be[i]+alc_del_be[i]),max(dft_del_be[i]+alc_del_be[i])],\n",
    "          [min(dft_del_be[i]+alc_del_be[i]),max(dft_del_be[i]+alc_del_be[i])],\n",
    "          linewidth=2.5)\n",
    "ax.plot(dft_del_be[i],alc_del_be[i],'ko',markersize=12)\n",
    "ax.set_xlabel('DFT',weight='bold')\n",
    "ax.set_ylabel('Alchemy',weight='bold')\n",
    "ax.set_title('Image {0}'.format(i),weight='bold')\n",
    "plot.savefig('neb9.svg',format='svg',bbox_inches='tight',dpi=300)"
   ]
  },
  {
   "cell_type": "code",
   "execution_count": 31,
   "metadata": {},
   "outputs": [],
   "source": [
    "from numpy import average\n",
    "ae = [[round(abs(alc_del_be[im][i] - dft_del_be[im][i]),3) for i in range(len(alc_del_be[im]))] for im in range(len(images))]\n",
    "mae = [round(average(ae[im]),3) for im in range(len(images))]"
   ]
  },
  {
   "cell_type": "code",
   "execution_count": 32,
   "metadata": {},
   "outputs": [
    {
     "name": "stdout",
     "output_type": "stream",
     "text": [
      "8\n",
      "8\n",
      "8\n",
      "[0.029, 0.03, 0.028, 0.029, 0.028, 0.036, 0.069, 0.082, 0.09, 0.09]\n"
     ]
    }
   ],
   "source": [
    "j = 9\n",
    "print(len(dft_del_be[j]))\n",
    "print(len(alc_del_be[j]))\n",
    "print(len(ae[j]))\n",
    "print(mae)"
   ]
  },
  {
   "cell_type": "code",
   "execution_count": 30,
   "metadata": {},
   "outputs": [
    {
     "name": "stdout",
     "output_type": "stream",
     "text": [
      "0.208\n"
     ]
    }
   ],
   "source": [
    "print(max(ae[9]))"
   ]
  },
  {
   "cell_type": "code",
   "execution_count": 81,
   "metadata": {},
   "outputs": [],
   "source": [
    "view(slab_vis)"
   ]
  },
  {
   "cell_type": "code",
   "execution_count": 77,
   "metadata": {},
   "outputs": [],
   "source": [
    "view(ads_contcar[9])"
   ]
  },
  {
   "cell_type": "code",
   "execution_count": 74,
   "metadata": {},
   "outputs": [],
   "source": [
    "view(ads[0])"
   ]
  },
  {
   "cell_type": "code",
   "execution_count": 85,
   "metadata": {},
   "outputs": [
    {
     "name": "stdout",
     "output_type": "stream",
     "text": [
      "-0.5762999999999892\n",
      "-0.5482999999999976\n",
      "-0.5144999999999982\n",
      "-0.47860000000000014\n",
      "-0.45649999999999125\n",
      "-0.7295999999999907\n",
      "-0.8067999999999955\n",
      "-0.7941999999999894\n",
      "-0.823299999999989\n",
      "-0.8212999999999937\n"
     ]
    }
   ],
   "source": [
    "for i in range(len(images)):\n",
    "    print(min(diffs[i]))"
   ]
  },
  {
   "cell_type": "code",
   "execution_count": 80,
   "metadata": {},
   "outputs": [
    {
     "name": "stdout",
     "output_type": "stream",
     "text": [
      "[0.09350000000000591, 0.09850000000000136, 0.11240000000000805, 0.15500000000000114, 0.034099999999995134, 0.09049999999999159, 0.046700000000001296, 0.1910000000000025, 0.05289999999999395, 0.028399999999990655, 0.007799999999988927, 0.010199999999997544, -0.7295999999999907, -0.03519999999998902, 0.005400000000008731, -0.017599999999987403]\n"
     ]
    }
   ],
   "source": [
    "print(diffs[5])"
   ]
  },
  {
   "cell_type": "code",
   "execution_count": null,
   "metadata": {},
   "outputs": [],
   "source": []
  }
 ],
 "metadata": {
  "kernelspec": {
   "display_name": "Python 3",
   "language": "python",
   "name": "python3"
  },
  "language_info": {
   "codemirror_mode": {
    "name": "ipython",
    "version": 3
   },
   "file_extension": ".py",
   "mimetype": "text/x-python",
   "name": "python",
   "nbconvert_exporter": "python",
   "pygments_lexer": "ipython3",
   "version": "3.7.3"
  }
 },
 "nbformat": 4,
 "nbformat_minor": 2
}
