{
 "cells": [
  {
   "cell_type": "markdown",
   "metadata": {},
   "source": [
    "# Running Computational Alchemy for Catalysis: Binding Energy Predictions\n",
    "This notebook outlines Python functions that use information from VASP calculations to predict descriptors for hypothetical catalyst. These functions utilize tools from the Atomic Simulation Environment (ASE) to manipulate catalyst surface models and perform calculations with computational alchemy. "
   ]
  },
  {
   "cell_type": "markdown",
   "metadata": {},
   "source": [
    "In this example, we apply computational alchemy on reference calculcations of OH binding on Pt(111) to predict binding energies (BEs) of OH on hypothetical alloys of Pt(111). "
   ]
  },
  {
   "cell_type": "markdown",
   "metadata": {},
   "source": [
    "Here we make ASE Atoms objects with VASP POSCARs and CONTCARs for the bare catalyst surface (`slab`) and the catalyst surface with an adsorbate (`ads`). These models and the results of the VASP calculations for each will be used as our reference for computational alchemy calculations."
   ]
  },
  {
   "cell_type": "code",
   "execution_count": 1,
   "metadata": {},
   "outputs": [],
   "source": [
    "import comp_alchemy"
   ]
  },
  {
   "cell_type": "code",
   "execution_count": 1,
   "metadata": {},
   "outputs": [],
   "source": [
    "from ase.io import read \n",
    "from ase.visualize import view\n",
    "\n",
    "slab = read('POSCAR-pt',format='vasp')\n",
    "slab_contcar = read('CONTCAR-pt',format='vasp')\n",
    "\n",
    "ads = read('POSCAR-pt-oh',format='vasp')\n",
    "ads_contcar = read('CONTCAR-pt-oh',format='vasp')"
   ]
  },
  {
   "cell_type": "markdown",
   "metadata": {},
   "source": [
    "To do computational alchemy, we label the atoms in our models using indexes assigned by ASE.\n",
    "\n",
    "However, it's very likely that the atom indexes between slab and ads won't match. For instance, the atom located at the origin of the unit cell in slab may be indexed as 0, while the atom at the origin in ads may be indexed as 1. \n",
    "\n",
    "Here we use the `pairs` function to find the index of an atom in ads that share the same position in the unit cell with an atom in slab."
   ]
  },
  {
   "cell_type": "code",
   "execution_count": 3,
   "metadata": {},
   "outputs": [
    {
     "name": "stdout",
     "output_type": "stream",
     "text": [
      "Ordering: [slab index, ads index]\n",
      "[[0, 0], [1, 1], [2, 2], [3, 3], [4, 4], [5, 5], [6, 6], [7, 7], [8, 8], [9, 9], [10, 10], [11, 11], [12, 12], [13, 13], [14, 14], [15, 15]]\n"
     ]
    }
   ],
   "source": [
    "from comp_alchemy.ads_slab_pairs import pairs\n",
    "\n",
    "p = pairs(slab,ads)\n",
    "\n",
    "print(f'Ordering: [slab index, ads index]\\n{p}')"
   ]
  },
  {
   "cell_type": "markdown",
   "metadata": {},
   "source": [
    "### Working with electrostatic potentials in VASP OUTCAR\n",
    "Next we can grab the atom-centered electrostatic potentials (ESPs) printed at the end of the OUTCAR with `grab_esp()`. \n",
    "Here we grab ESPs for slab and ads and calculate the differences with `espdiff()`. The ESP differences define the alchemical potentials that facilitate predictions with alchemy."
   ]
  },
  {
   "cell_type": "code",
   "execution_count": 4,
   "metadata": {},
   "outputs": [],
   "source": [
    "from comp_alchemy.elec_stat_pot import (grab_esp,espdiff,remove_duplicate_espdiffs,heatmap)\n",
    "import numpy as np\n",
    "\n",
    "slab_elec = grab_esp(poscar='POSCAR-pt',outcar='OUTCAR-pt')\n",
    "ads_elec = grab_esp(poscar='POSCAR-pt-oh',outcar='OUTCAR-pt-oh')\n",
    "\n",
    "diffs = [e for e in espdiff(elec1=slab_elec,elec2=ads_elec,pair=p)]"
   ]
  },
  {
   "cell_type": "code",
   "execution_count": 6,
   "metadata": {},
   "outputs": [
    {
     "name": "stdout",
     "output_type": "stream",
     "text": [
      "\n",
      "Atom-centered electrostatic potentials:\n",
      "Slab:\n",
      "[-73.7028, -73.7028, -73.7028, -73.7028, -74.149, -74.149, -74.149, -74.149, -74.0946, -74.0946, -74.0946, -74.0946, -73.626, -73.626, -73.626, -73.626]\n",
      "\n",
      "Ads:\n",
      "[-73.3281, -73.3281, -73.3321, -73.2431, -73.8119, -73.7731, -73.7022, -73.7022, -73.7062, -73.7062, -73.8928, -73.6539, -73.7444, -73.7444, -73.2464, -73.2391, -76.4712, -39.6329]\n",
      "\n",
      "Differences in electrostatic potentials between ads and slab\n",
      "[ 0.3747  0.3747  0.3707  0.4597  0.3371  0.3759  0.4468  0.4468  0.3884\n",
      "  0.3884  0.2018  0.4407 -0.1184 -0.1184  0.3796  0.3869]\n"
     ]
    }
   ],
   "source": [
    "print(f'''\n",
    "Atom-centered electrostatic potentials:\n",
    "Slab:\n",
    "{slab_elec}\n",
    "\n",
    "Ads:\n",
    "{ads_elec}\n",
    "\n",
    "Differences in electrostatic potentials between ads and slab\n",
    "{np.round(diffs,4)}''')"
   ]
  },
  {
   "cell_type": "markdown",
   "metadata": {},
   "source": [
    "### Visualizing alchemical derivatives\n",
    "With the `heatmap()` function, visualize the alchemical derivatives with ASE GUI by running the cell below, pressing \"c\" in ASE GUI, and under \"Choose how the atoms are colored:\" selecting \"By initial charge.\" You may need to uncomment `view(slab_vis)`. "
   ]
  },
  {
   "cell_type": "code",
   "execution_count": 7,
   "metadata": {},
   "outputs": [],
   "source": [
    "slab_vis = heatmap(poscar='POSCAR-pt',\n",
    "                   dexlist=[dex[0] for dex in p],\n",
    "                   espdiffs=diffs)\n",
    "#view(slab_vis)"
   ]
  },
  {
   "cell_type": "markdown",
   "metadata": {},
   "source": [
    "### Creating hypothetical materials by making transmutations\n",
    "Below we use the `index_transmuted()` function to grab indexes of atoms that we want to transmute in our reference slabs. We specify the number of transmutable atoms by setting `transmute_num`. \n",
    "\n",
    "This function also grabs indexes of atoms at the bottom of the slab that we can counter-transmute to maintain isoelectronicity. We set the number of counter-transmutable atoms with `counter_num`."
   ]
  },
  {
   "cell_type": "code",
   "execution_count": 8,
   "metadata": {},
   "outputs": [],
   "source": [
    "from ase import Atom\n",
    "from comp_alchemy.alloy_index import index_transmuted, transmuter, transmuted_directory_names\n",
    "\n",
    "metal = Atom('Pt')\n",
    "\n",
    "[transmute, counter] = index_transmuted(slab=slab,\n",
    "                                        transmute_atom_sym=metal.symbol,\n",
    "                                        counter_atom_sym=metal.symbol,\n",
    "                                        transmute_num=8,\n",
    "                                        counter_num=4,\n",
    "                                        symmetric = False)"
   ]
  },
  {
   "cell_type": "markdown",
   "metadata": {},
   "source": [
    "We can filter through the ESP differences centered at each transmutable atom with `remove_duplicate_espdiffs()`. This reduces the number of systems to study by recording unique alchemical derivatives, the minimum amount needed to thoroughly assess alchemy. This step is optional if you want to make all possible transmutations to your reference system and assess them all.\n",
    "\n",
    "In this case, we will just filter ESP differences at the counter transmutations sites. "
   ]
  },
  {
   "cell_type": "code",
   "execution_count": 9,
   "metadata": {},
   "outputs": [
    {
     "name": "stdout",
     "output_type": "stream",
     "text": [
      "Unique Electrostatic Potential Differences:\n",
      "dict_values([0.37469999999999004, 0.37069999999999936, 0.459699999999998])\n",
      "\n",
      "Unique Electrostatic Potential Differences WITHIN A TOLERANCE VALUE:\n",
      "[0.37069999999999936, 0.459699999999998]\n",
      " \n"
     ]
    }
   ],
   "source": [
    "counter = remove_duplicate_espdiffs(dexlist=counter,\n",
    "                                        espdiffs=diffs)"
   ]
  },
  {
   "cell_type": "code",
   "execution_count": 10,
   "metadata": {},
   "outputs": [
    {
     "name": "stdout",
     "output_type": "stream",
     "text": [
      "Indices of atoms to be transmuted in the top two surface layers.\n",
      "[12, 13, 14, 15, 8, 9, 10, 11]\n",
      "\n",
      "Indices of atoms to be counter transmuted with unique electrostatic potential differences.\n",
      "[2, 3]\n",
      "\n",
      "There are 8 sites near the surface of the catalyst where we will make transmutations.\n",
      "\n",
      "For each transmutation, we can make counter transmutations at 1 of 2 sites.\n",
      "\n",
      "Considering all combinations of transmute and counter-transmute sites, we will assess a total of 16 hypothetical configurations of alloys.\n",
      "\n"
     ]
    }
   ],
   "source": [
    "print(f'''Indices of atoms to be transmuted in the top two surface layers.\n",
    "{transmute}\n",
    "\n",
    "Indices of atoms to be counter transmuted with unique electrostatic potential differences.\n",
    "{counter}\n",
    "\n",
    "There are {len(transmute)} sites near the surface of the catalyst where we will make transmutations.\n",
    "\n",
    "For each transmutation, we can make counter transmutations at 1 of {len(counter)} sites.\n",
    "\n",
    "Considering all combinations of transmute and counter-transmute sites, we will assess a total of {len(transmute)*len(counter)} hypothetical configurations of alloys.\n",
    "''')"
   ]
  },
  {
   "cell_type": "markdown",
   "metadata": {},
   "source": [
    "In this example, we transmute surface Pt atoms to Au or Ir (change in nuclear charge of +/- 1) and counter-transmute Pt atoms in the bottom layers to Ir or Au (change in nuclear charge of -/+ 1). Below we construct an array with Au and Ir Atom objects to use in the `transmuter()` function."
   ]
  },
  {
   "cell_type": "code",
   "execution_count": 11,
   "metadata": {},
   "outputs": [],
   "source": [
    "charge = [1,-1]\n",
    "chargelen = len(charge)\n",
    "\n",
    "all_transmute = []\n",
    "\n",
    "for c in charge:\n",
    "    \n",
    "    transmute_atom = Atom(metal.symbol)\n",
    "    transmute_atom.number += c\n",
    "    \n",
    "    counter_transmute_atom = Atom(metal.symbol)\n",
    "    counter_transmute_atom.number -= c\n",
    "    \n",
    "    all_transmute.append([counter_transmute_atom,transmute_atom])"
   ]
  },
  {
   "cell_type": "markdown",
   "metadata": {},
   "source": [
    "Next, we make transmutations to Atoms objects of slab and ads from their respective CONTCARs and give labels for each new model with the `transmuted_directory_names()` function. Now we can visualize these new systems and write POSCARs to do VASP calculations for benchmarking."
   ]
  },
  {
   "cell_type": "code",
   "execution_count": 12,
   "metadata": {},
   "outputs": [
    {
     "name": "stdout",
     "output_type": "stream",
     "text": [
      "Transmuted Slab Labels  Transmuted Ads Labels\n",
      "0.0.Ir2.Au12  0.0.Ir2.Au12\n",
      "0.1.Ir2.Au13  0.1.Ir2.Au13\n",
      "0.2.Ir2.Au14  0.2.Ir2.Au14\n",
      "0.3.Ir2.Au15  0.3.Ir2.Au15\n",
      "0.4.Ir2.Au8  0.4.Ir2.Au8\n",
      "0.5.Ir2.Au9  0.5.Ir2.Au9\n",
      "0.6.Ir2.Au10  0.6.Ir2.Au10\n",
      "0.7.Ir2.Au11  0.7.Ir2.Au11\n",
      "1.0.Ir3.Au12  1.0.Ir3.Au12\n",
      "1.1.Ir3.Au13  1.1.Ir3.Au13\n",
      "1.2.Ir3.Au14  1.2.Ir3.Au14\n",
      "1.3.Ir3.Au15  1.3.Ir3.Au15\n",
      "1.4.Ir3.Au8  1.4.Ir3.Au8\n",
      "1.5.Ir3.Au9  1.5.Ir3.Au9\n",
      "1.6.Ir3.Au10  1.6.Ir3.Au10\n",
      "1.7.Ir3.Au11  1.7.Ir3.Au11\n",
      "0.0.Au2.Ir12  0.0.Au2.Ir12\n",
      "0.1.Au2.Ir13  0.1.Au2.Ir13\n",
      "0.2.Au2.Ir14  0.2.Au2.Ir14\n",
      "0.3.Au2.Ir15  0.3.Au2.Ir15\n",
      "0.4.Au2.Ir8  0.4.Au2.Ir8\n",
      "0.5.Au2.Ir9  0.5.Au2.Ir9\n",
      "0.6.Au2.Ir10  0.6.Au2.Ir10\n",
      "0.7.Au2.Ir11  0.7.Au2.Ir11\n",
      "1.0.Au3.Ir12  1.0.Au3.Ir12\n",
      "1.1.Au3.Ir13  1.1.Au3.Ir13\n",
      "1.2.Au3.Ir14  1.2.Au3.Ir14\n",
      "1.3.Au3.Ir15  1.3.Au3.Ir15\n",
      "1.4.Au3.Ir8  1.4.Au3.Ir8\n",
      "1.5.Au3.Ir9  1.5.Au3.Ir9\n",
      "1.6.Au3.Ir10  1.6.Au3.Ir10\n",
      "1.7.Au3.Ir11  1.7.Au3.Ir11\n"
     ]
    }
   ],
   "source": [
    "print('Transmuted Slab Labels  Transmuted Ads Labels')\n",
    "\n",
    "transmuted_slabs = []\n",
    "dir_slab = []\n",
    "transmuted_ads = []\n",
    "dir_ads = []\n",
    "\n",
    "for k in all_transmute:\n",
    "    \n",
    "    slab_dir_names = []\n",
    "    t_slab = []\n",
    "    ads_dir_names = []\n",
    "    t_ads = []\n",
    "    \n",
    "    for i,c in enumerate(counter):\n",
    "        \n",
    "        ac = p[c][1]\n",
    "        \n",
    "        for j,t in enumerate(transmute):\n",
    "            \n",
    "            t_slab.append(transmuter(slab=slab_contcar,\n",
    "                                           atomdex=[c,t],\n",
    "                                           trans=k))\n",
    "            slab_dname = transmuted_directory_names(bdex=i,\n",
    "                                           tdex=j,\n",
    "                                           dexes=[c,t],\n",
    "                                           atoms_array=k)\n",
    "            slab_dir_names.append(slab_dname)\n",
    "        \n",
    "            at = p[t][1]\n",
    "            t_ads.append(transmuter(slab=ads_contcar,\n",
    "                                         atomdex=[ac,at],\n",
    "                                         trans=k))\n",
    "            ads_dname = transmuted_directory_names(bdex=i,\n",
    "                                           tdex=j,\n",
    "                                           dexes=[ac,at],\n",
    "                                           atoms_array=k)\n",
    "            ads_dir_names.append(ads_dname) \n",
    "            print(slab_dname,'',ads_dname)\n",
    "            \n",
    "    transmuted_slabs.append(t_slab)\n",
    "    transmuted_ads.append(t_ads)\n",
    "    \n",
    "    dir_slab.append(slab_dir_names)\n",
    "    dir_ads.append(ads_dir_names)    "
   ]
  },
  {
   "cell_type": "markdown",
   "metadata": {},
   "source": [
    "Images of a hyothetical alloy model bare and with the adsorbate below."
   ]
  },
  {
   "cell_type": "code",
   "execution_count": 13,
   "metadata": {},
   "outputs": [
    {
     "data": {
      "image/png": "[encoded data removed]",
      "text/plain": [
       "<IPython.core.display.Image object>"
      ]
     },
     "metadata": {},
     "output_type": "display_data"
    },
    {
     "data": {
      "image/png": "[encoded data removed]",
      "text/plain": [
       "<IPython.core.display.Image object>"
      ]
     },
     "metadata": {},
     "output_type": "display_data"
    }
   ],
   "source": [
    "from IPython.display import Image\n",
    "display(Image(filename=f'images/slab/{dir_slab[0][0]}.png'))\n",
    "display(Image(filename=f'images/ads/{dir_ads[0][0]}.png'))"
   ]
  },
  {
   "cell_type": "markdown",
   "metadata": {},
   "source": [
    "### Calculating binding energy (BE) with computational alchemy\n",
    "For validation purposes, we could then setup and run VASP calculations for our transmuted surface models. It's most convinient to analyze these calculations if they are each stored in a directory named with the labels generated above. \n",
    "Once all VASP calculations are complete, we can calculate binding energies on our transmuted surfaces using alchemy, then compare against DFT-calculated binding energies."
   ]
  },
  {
   "cell_type": "markdown",
   "metadata": {},
   "source": [
    "First we calculate the binding energy of our reference system."
   ]
  },
  {
   "cell_type": "code",
   "execution_count": 14,
   "metadata": {},
   "outputs": [],
   "source": [
    "from comp_alchemy.read_oszicar import grab_energy\n",
    "\n",
    "adsorbate_energy = -7.52462863#eV\n",
    "\n",
    "slab_energy = grab_energy(oszicar='OSZICAR-pt')\n",
    "ads_energy = grab_energy(oszicar='OSZICAR-pt-oh')\n",
    "\n",
    "ref_be = slab_energy + adsorbate_energy - ads_energy"
   ]
  },
  {
   "cell_type": "markdown",
   "metadata": {},
   "source": [
    "Next we grab energies of transmuted surfaces from VASP calculations and calculating binding energies for each. These energies were already parsed from the VASP output and stored in .csv files. We'll use `pandas.read_csv` to create a Dataframe with our VASP data. From there, we'll calculate $\\Delta$BE."
   ]
  },
  {
   "cell_type": "code",
   "execution_count": 29,
   "metadata": {},
   "outputs": [],
   "source": [
    "import pandas as pd\n",
    "\n",
    "transmuted_slab_data = pd.read_csv('slab_energies.csv',index_col='labels')\n",
    "transmuted_slab_energies = [[transmuted_slab_data['energies'][lab] for lab in dir_slab[i]] for i in range(chargelen)]\n",
    "\n",
    "transmuted_ads_data = pd.read_csv('ads_energies.csv',index_col='labels')\n",
    "transmuted_ads_energies = [[transmuted_ads_data['energies'][lab] for lab in dir_ads[i]] for i in range(chargelen)]\n",
    "\n",
    "transmuted_be = [[transmuted_slab_energies[i][j] + adsorbate_energy - transmuted_ads_energies[i][j] for j in range(len(transmuted_slab_energies[i]))] for i in range(chargelen)]\n",
    "dft_del_be = [[transmuted_be[i][j] - ref_be for j in range(len(transmuted_be[i]))] for i in range(chargelen)]"
   ]
  },
  {
   "cell_type": "markdown",
   "metadata": {},
   "source": [
    "Finally, we can use the `alc_be()` function to take the dot product of an array of charge differences and an array of the ESP differences to approximate $\\Delta$BEs with computational alchemy. Below we've used this function to construct the charge difference array and calculate BE for every transmuted system. These arrays, which contain **all necessary information to predict BEs** are printed below the next two cells. "
   ]
  },
  {
   "cell_type": "code",
   "execution_count": 18,
   "metadata": {},
   "outputs": [],
   "source": [
    "from comp_alchemy.binding_energy import alc_be\n",
    "\n",
    "dn = [[[alc_be(transmute=[transmute[i]],\n",
    "             counter=[counter[j]],\n",
    "             espdiffs=diffs,\n",
    "             charge=charge[k])[0] for i in range(len(transmute))] for j in range(len(counter))] for k in range(chargelen)]\n",
    "\n",
    "alc_del_be = [[[alc_be(transmute=[transmute[i]],\n",
    "                     counter=[counter[j]],\n",
    "                     espdiffs=diffs,\n",
    "                     charge=charge[k])[1] for i in range(len(transmute))] for j in range(len(counter))] for k in range(chargelen)]\n",
    "\n",
    "#Reducing list dimensions\n",
    "dn = [[item for sublist in dn[i] for item in sublist] for i in range(chargelen)]\n",
    "alc_del_be = [[item for sublist in alc_del_be[i] for item in sublist] for i in range(chargelen)]"
   ]
  },
  {
   "cell_type": "code",
   "execution_count": 20,
   "metadata": {},
   "outputs": [
    {
     "name": "stdout",
     "output_type": "stream",
     "text": [
      "\n",
      "Information used to calculate BEs with alchemy:\n",
      "\n",
      "(1) Array of All Electrostatic Potential Differences:\n",
      "[ 0.3747  0.3747  0.3707  0.4597  0.3371  0.3759  0.4468  0.4468  0.3884\n",
      "  0.3884  0.2018  0.4407 -0.1184 -0.1184  0.3796  0.3869]\n",
      "\n",
      "(2) Arrays of Charge Differences:\n",
      "\n",
      "[ 0.  0. -1.  0.  0.  0.  0.  0.  0.  0.  0.  0.  1.  0.  0.  0.]\n",
      "[ 0.  0. -1.  0.  0.  0.  0.  0.  0.  0.  0.  0.  0.  1.  0.  0.]\n",
      "[ 0.  0. -1.  0.  0.  0.  0.  0.  0.  0.  0.  0.  0.  0.  1.  0.]\n",
      "[ 0.  0. -1.  0.  0.  0.  0.  0.  0.  0.  0.  0.  0.  0.  0.  1.]\n",
      "[ 0.  0. -1.  0.  0.  0.  0.  0.  1.  0.  0.  0.  0.  0.  0.  0.]\n",
      "[ 0.  0. -1.  0.  0.  0.  0.  0.  0.  1.  0.  0.  0.  0.  0.  0.]\n",
      "[ 0.  0. -1.  0.  0.  0.  0.  0.  0.  0.  1.  0.  0.  0.  0.  0.]\n",
      "[ 0.  0. -1.  0.  0.  0.  0.  0.  0.  0.  0.  1.  0.  0.  0.  0.]\n",
      "[ 0.  0.  0. -1.  0.  0.  0.  0.  0.  0.  0.  0.  1.  0.  0.  0.]\n",
      "[ 0.  0.  0. -1.  0.  0.  0.  0.  0.  0.  0.  0.  0.  1.  0.  0.]\n",
      "[ 0.  0.  0. -1.  0.  0.  0.  0.  0.  0.  0.  0.  0.  0.  1.  0.]\n",
      "[ 0.  0.  0. -1.  0.  0.  0.  0.  0.  0.  0.  0.  0.  0.  0.  1.]\n",
      "[ 0.  0.  0. -1.  0.  0.  0.  0.  1.  0.  0.  0.  0.  0.  0.  0.]\n",
      "[ 0.  0.  0. -1.  0.  0.  0.  0.  0.  1.  0.  0.  0.  0.  0.  0.]\n",
      "[ 0.  0.  0. -1.  0.  0.  0.  0.  0.  0.  1.  0.  0.  0.  0.  0.]\n",
      "[ 0.  0.  0. -1.  0.  0.  0.  0.  0.  0.  0.  1.  0.  0.  0.  0.]\n",
      "[ 0.  0.  1.  0.  0.  0.  0.  0.  0.  0.  0.  0. -1.  0.  0.  0.]\n",
      "[ 0.  0.  1.  0.  0.  0.  0.  0.  0.  0.  0.  0.  0. -1.  0.  0.]\n",
      "[ 0.  0.  1.  0.  0.  0.  0.  0.  0.  0.  0.  0.  0.  0. -1.  0.]\n",
      "[ 0.  0.  1.  0.  0.  0.  0.  0.  0.  0.  0.  0.  0.  0.  0. -1.]\n",
      "[ 0.  0.  1.  0.  0.  0.  0.  0. -1.  0.  0.  0.  0.  0.  0.  0.]\n",
      "[ 0.  0.  1.  0.  0.  0.  0.  0.  0. -1.  0.  0.  0.  0.  0.  0.]\n",
      "[ 0.  0.  1.  0.  0.  0.  0.  0.  0.  0. -1.  0.  0.  0.  0.  0.]\n",
      "[ 0.  0.  1.  0.  0.  0.  0.  0.  0.  0.  0. -1.  0.  0.  0.  0.]\n",
      "[ 0.  0.  0.  1.  0.  0.  0.  0.  0.  0.  0.  0. -1.  0.  0.  0.]\n",
      "[ 0.  0.  0.  1.  0.  0.  0.  0.  0.  0.  0.  0.  0. -1.  0.  0.]\n",
      "[ 0.  0.  0.  1.  0.  0.  0.  0.  0.  0.  0.  0.  0.  0. -1.  0.]\n",
      "[ 0.  0.  0.  1.  0.  0.  0.  0.  0.  0.  0.  0.  0.  0.  0. -1.]\n",
      "[ 0.  0.  0.  1.  0.  0.  0.  0. -1.  0.  0.  0.  0.  0.  0.  0.]\n",
      "[ 0.  0.  0.  1.  0.  0.  0.  0.  0. -1.  0.  0.  0.  0.  0.  0.]\n",
      "[ 0.  0.  0.  1.  0.  0.  0.  0.  0.  0. -1.  0.  0.  0.  0.  0.]\n",
      "[ 0.  0.  0.  1.  0.  0.  0.  0.  0.  0.  0. -1.  0.  0.  0.  0.]\n"
     ]
    }
   ],
   "source": [
    "print(f'''\n",
    "Information used to calculate BEs with alchemy:\n",
    "\n",
    "(1) Array of All Electrostatic Potential Differences:\n",
    "{np.round(diffs,4)}\n",
    "\n",
    "(2) Arrays of Charge Differences:\n",
    "''')\n",
    "\n",
    "for d in dn:\n",
    "    for dd in d:\n",
    "        print(dd)"
   ]
  },
  {
   "cell_type": "markdown",
   "metadata": {},
   "source": [
    "### Benchmarking computational alchemy against DFT"
   ]
  },
  {
   "cell_type": "markdown",
   "metadata": {},
   "source": [
    "Now that the BEs are calculated, we can evaluate the accuracy of computational alchemy against DFT. For each BE, we calculate the absolute error between alchemy and DFT. These quantities are summarized at the end of this notebook."
   ]
  },
  {
   "cell_type": "code",
   "execution_count": 22,
   "metadata": {},
   "outputs": [],
   "source": [
    "ae = [[abs(alc_del_be[i][j] - dft_del_be[i][j]) for j in range(len(alc_del_be[i]))] for i in range(chargelen)]\n",
    "mae = np.round(np.average(ae),3)"
   ]
  },
  {
   "cell_type": "markdown",
   "metadata": {},
   "source": [
    "Below we also calcuate the distance between each transmute site and the binding site of OH. This quantity will help us analyze the data at the end of the notebook."
   ]
  },
  {
   "cell_type": "code",
   "execution_count": 23,
   "metadata": {},
   "outputs": [],
   "source": [
    "adsorbate_site = 'O'\n",
    "\n",
    "adsorbate_indexes = [a.index for a in ads_contcar if a.symbol == adsorbate_site]\n",
    "\n",
    "adsorbate_positions = [[ads_contcar[d].position[0],ads_contcar[d].position[1],ads_contcar[d].position[2]]for d in adsorbate_indexes]\n",
    "adsorbate_positions = [items for item in adsorbate_positions for items in item if item[2] == max([pos[2] for pos in adsorbate_positions])]\n",
    "\n",
    "distances = [[np.sqrt((ads_contcar[t].position[0]-adsorbate_positions[0])**2+(ads_contcar[t].position[1]-adsorbate_positions[1])**2+(ads_contcar[t].position[2]-adsorbate_positions[2])**2) for t in transmute*len(counter)] for i in range(chargelen)]"
   ]
  },
  {
   "cell_type": "markdown",
   "metadata": {},
   "source": [
    "Here we construct a parity plot with Bokeh visualization tools. Select any of the tools from the side toolbar to interpret this figure anyway you prefer. You can click labels in the legend to hide/show groups of data, and you can hover your mouse over any data point to view detailed information that includes images of the hypothetical alloy, alchemy and DFT BEs, and absolute errors."
   ]
  },
  {
   "cell_type": "code",
   "execution_count": 26,
   "metadata": {},
   "outputs": [
    {
     "data": {
      "text/html": [
       "\n",
       "    <div class=\"bk-root\">\n",
       "        <a href=\"https://bokeh.pydata.org\" target=\"_blank\" class=\"bk-logo bk-logo-small bk-logo-notebook\"></a>\n",
       "        <span id=\"1172\">Loading BokehJS ...</span>\n",
       "    </div>"
      ]
     },
     "metadata": {},
     "output_type": "display_data"
    },
    {
     "data": {
      "application/javascript": [
       "\n",
       "(function(root) {\n",
       "  function now() {\n",
       "    return new Date();\n",
       "  }\n",
       "\n",
       "  var force = true;\n",
       "\n",
       "  if (typeof (root._bokeh_onload_callbacks) === \"undefined\" || force === true) {\n",
       "    root._bokeh_onload_callbacks = [];\n",
       "    root._bokeh_is_loading = undefined;\n",
       "  }\n",
       "\n",
       "  var JS_MIME_TYPE = 'application/javascript';\n",
       "  var HTML_MIME_TYPE = 'text/html';\n",
       "  var EXEC_MIME_TYPE = 'application/vnd.bokehjs_exec.v0+json';\n",
       "  var CLASS_NAME = 'output_bokeh rendered_html';\n",
       "\n",
       "  /**\n",
       "   * Render data to the DOM node\n",
       "   */\n",
       "  function render(props, node) {\n",
       "    var script = document.createElement(\"script\");\n",
       "    node.appendChild(script);\n",
       "  }\n",
       "\n",
       "  /**\n",
       "   * Handle when an output is cleared or removed\n",
       "   */\n",
       "  function handleClearOutput(event, handle) {\n",
       "    var cell = handle.cell;\n",
       "\n",
       "    var id = cell.output_area._bokeh_element_id;\n",
       "    var server_id = cell.output_area._bokeh_server_id;\n",
       "    // Clean up Bokeh references\n",
       "    if (id != null && id in Bokeh.index) {\n",
       "      Bokeh.index[id].model.document.clear();\n",
       "      delete Bokeh.index[id];\n",
       "    }\n",
       "\n",
       "    if (server_id !== undefined) {\n",
       "      // Clean up Bokeh references\n",
       "      var cmd = \"from bokeh.io.state import curstate; print(curstate().uuid_to_server['\" + server_id + \"'].get_sessions()[0].document.roots[0]._id)\";\n",
       "      cell.notebook.kernel.execute(cmd, {\n",
       "        iopub: {\n",
       "          output: function(msg) {\n",
       "            var id = msg.content.text.trim();\n",
       "            if (id in Bokeh.index) {\n",
       "              Bokeh.index[id].model.document.clear();\n",
       "              delete Bokeh.index[id];\n",
       "            }\n",
       "          }\n",
       "        }\n",
       "      });\n",
       "      // Destroy server and session\n",
       "      var cmd = \"import bokeh.io.notebook as ion; ion.destroy_server('\" + server_id + \"')\";\n",
       "      cell.notebook.kernel.execute(cmd);\n",
       "    }\n",
       "  }\n",
       "\n",
       "  /**\n",
       "   * Handle when a new output is added\n",
       "   */\n",
       "  function handleAddOutput(event, handle) {\n",
       "    var output_area = handle.output_area;\n",
       "    var output = handle.output;\n",
       "\n",
       "    // limit handleAddOutput to display_data with EXEC_MIME_TYPE content only\n",
       "    if ((output.output_type != \"display_data\") || (!output.data.hasOwnProperty(EXEC_MIME_TYPE))) {\n",
       "      return\n",
       "    }\n",
       "\n",
       "    var toinsert = output_area.element.find(\".\" + CLASS_NAME.split(' ')[0]);\n",
       "\n",
       "    if (output.metadata[EXEC_MIME_TYPE][\"id\"] !== undefined) {\n",
       "      toinsert[toinsert.length - 1].firstChild.textContent = output.data[JS_MIME_TYPE];\n",
       "      // store reference to embed id on output_area\n",
       "      output_area._bokeh_element_id = output.metadata[EXEC_MIME_TYPE][\"id\"];\n",
       "    }\n",
       "    if (output.metadata[EXEC_MIME_TYPE][\"server_id\"] !== undefined) {\n",
       "      var bk_div = document.createElement(\"div\");\n",
       "      bk_div.innerHTML = output.data[HTML_MIME_TYPE];\n",
       "      var script_attrs = bk_div.children[0].attributes;\n",
       "      for (var i = 0; i < script_attrs.length; i++) {\n",
       "        toinsert[toinsert.length - 1].firstChild.setAttribute(script_attrs[i].name, script_attrs[i].value);\n",
       "      }\n",
       "      // store reference to server id on output_area\n",
       "      output_area._bokeh_server_id = output.metadata[EXEC_MIME_TYPE][\"server_id\"];\n",
       "    }\n",
       "  }\n",
       "\n",
       "  function register_renderer(events, OutputArea) {\n",
       "\n",
       "    function append_mime(data, metadata, element) {\n",
       "      // create a DOM node to render to\n",
       "      var toinsert = this.create_output_subarea(\n",
       "        metadata,\n",
       "        CLASS_NAME,\n",
       "        EXEC_MIME_TYPE\n",
       "      );\n",
       "      this.keyboard_manager.register_events(toinsert);\n",
       "      // Render to node\n",
       "      var props = {data: data, metadata: metadata[EXEC_MIME_TYPE]};\n",
       "      render(props, toinsert[toinsert.length - 1]);\n",
       "      element.append(toinsert);\n",
       "      return toinsert\n",
       "    }\n",
       "\n",
       "    /* Handle when an output is cleared or removed */\n",
       "    events.on('clear_output.CodeCell', handleClearOutput);\n",
       "    events.on('delete.Cell', handleClearOutput);\n",
       "\n",
       "    /* Handle when a new output is added */\n",
       "    events.on('output_added.OutputArea', handleAddOutput);\n",
       "\n",
       "    /**\n",
       "     * Register the mime type and append_mime function with output_area\n",
       "     */\n",
       "    OutputArea.prototype.register_mime_type(EXEC_MIME_TYPE, append_mime, {\n",
       "      /* Is output safe? */\n",
       "      safe: true,\n",
       "      /* Index of renderer in `output_area.display_order` */\n",
       "      index: 0\n",
       "    });\n",
       "  }\n",
       "\n",
       "  // register the mime type if in Jupyter Notebook environment and previously unregistered\n",
       "  if (root.Jupyter !== undefined) {\n",
       "    var events = require('base/js/events');\n",
       "    var OutputArea = require('notebook/js/outputarea').OutputArea;\n",
       "\n",
       "    if (OutputArea.prototype.mime_types().indexOf(EXEC_MIME_TYPE) == -1) {\n",
       "      register_renderer(events, OutputArea);\n",
       "    }\n",
       "  }\n",
       "\n",
       "  \n",
       "  if (typeof (root._bokeh_timeout) === \"undefined\" || force === true) {\n",
       "    root._bokeh_timeout = Date.now() + 5000;\n",
       "    root._bokeh_failed_load = false;\n",
       "  }\n",
       "\n",
       "  var NB_LOAD_WARNING = {'data': {'text/html':\n",
       "     \"<div style='background-color: #fdd'>\\n\"+\n",
       "     \"<p>\\n\"+\n",
       "     \"BokehJS does not appear to have successfully loaded. If loading BokehJS from CDN, this \\n\"+\n",
       "     \"may be due to a slow or bad network connection. Possible fixes:\\n\"+\n",
       "     \"</p>\\n\"+\n",
       "     \"<ul>\\n\"+\n",
       "     \"<li>re-rerun `output_notebook()` to attempt to load from CDN again, or</li>\\n\"+\n",
       "     \"<li>use INLINE resources instead, as so:</li>\\n\"+\n",
       "     \"</ul>\\n\"+\n",
       "     \"<code>\\n\"+\n",
       "     \"from bokeh.resources import INLINE\\n\"+\n",
       "     \"output_notebook(resources=INLINE)\\n\"+\n",
       "     \"</code>\\n\"+\n",
       "     \"</div>\"}};\n",
       "\n",
       "  function display_loaded() {\n",
       "    var el = document.getElementById(\"1172\");\n",
       "    if (el != null) {\n",
       "      el.textContent = \"BokehJS is loading...\";\n",
       "    }\n",
       "    if (root.Bokeh !== undefined) {\n",
       "      if (el != null) {\n",
       "        el.textContent = \"BokehJS \" + root.Bokeh.version + \" successfully loaded.\";\n",
       "      }\n",
       "    } else if (Date.now() < root._bokeh_timeout) {\n",
       "      setTimeout(display_loaded, 100)\n",
       "    }\n",
       "  }\n",
       "\n",
       "\n",
       "  function run_callbacks() {\n",
       "    try {\n",
       "      root._bokeh_onload_callbacks.forEach(function(callback) { callback() });\n",
       "    }\n",
       "    finally {\n",
       "      delete root._bokeh_onload_callbacks\n",
       "    }\n",
       "    console.info(\"Bokeh: all callbacks have finished\");\n",
       "  }\n",
       "\n",
       "  function load_libs(js_urls, callback) {\n",
       "    root._bokeh_onload_callbacks.push(callback);\n",
       "    if (root._bokeh_is_loading > 0) {\n",
       "      console.log(\"Bokeh: BokehJS is being loaded, scheduling callback at\", now());\n",
       "      return null;\n",
       "    }\n",
       "    if (js_urls == null || js_urls.length === 0) {\n",
       "      run_callbacks();\n",
       "      return null;\n",
       "    }\n",
       "    console.log(\"Bokeh: BokehJS not loaded, scheduling load and callback at\", now());\n",
       "    root._bokeh_is_loading = js_urls.length;\n",
       "    for (var i = 0; i < js_urls.length; i++) {\n",
       "      var url = js_urls[i];\n",
       "      var s = document.createElement('script');\n",
       "      s.src = url;\n",
       "      s.async = false;\n",
       "      s.onreadystatechange = s.onload = function() {\n",
       "        root._bokeh_is_loading--;\n",
       "        if (root._bokeh_is_loading === 0) {\n",
       "          console.log(\"Bokeh: all BokehJS libraries loaded\");\n",
       "          run_callbacks()\n",
       "        }\n",
       "      };\n",
       "      s.onerror = function() {\n",
       "        console.warn(\"failed to load library \" + url);\n",
       "      };\n",
       "      console.log(\"Bokeh: injecting script tag for BokehJS library: \", url);\n",
       "      document.getElementsByTagName(\"head\")[0].appendChild(s);\n",
       "    }\n",
       "  };var element = document.getElementById(\"1172\");\n",
       "  if (element == null) {\n",
       "    console.log(\"Bokeh: ERROR: autoload.js configured with elementid '1172' but no matching script tag was found. \")\n",
       "    return false;\n",
       "  }\n",
       "\n",
       "  var js_urls = [\"https://cdn.pydata.org/bokeh/release/bokeh-1.0.4.min.js\", \"https://cdn.pydata.org/bokeh/release/bokeh-widgets-1.0.4.min.js\", \"https://cdn.pydata.org/bokeh/release/bokeh-tables-1.0.4.min.js\", \"https://cdn.pydata.org/bokeh/release/bokeh-gl-1.0.4.min.js\"];\n",
       "\n",
       "  var inline_js = [\n",
       "    function(Bokeh) {\n",
       "      Bokeh.set_log_level(\"info\");\n",
       "    },\n",
       "    \n",
       "    function(Bokeh) {\n",
       "      \n",
       "    },\n",
       "    function(Bokeh) {\n",
       "      console.log(\"Bokeh: injecting CSS: https://cdn.pydata.org/bokeh/release/bokeh-1.0.4.min.css\");\n",
       "      Bokeh.embed.inject_css(\"https://cdn.pydata.org/bokeh/release/bokeh-1.0.4.min.css\");\n",
       "      console.log(\"Bokeh: injecting CSS: https://cdn.pydata.org/bokeh/release/bokeh-widgets-1.0.4.min.css\");\n",
       "      Bokeh.embed.inject_css(\"https://cdn.pydata.org/bokeh/release/bokeh-widgets-1.0.4.min.css\");\n",
       "      console.log(\"Bokeh: injecting CSS: https://cdn.pydata.org/bokeh/release/bokeh-tables-1.0.4.min.css\");\n",
       "      Bokeh.embed.inject_css(\"https://cdn.pydata.org/bokeh/release/bokeh-tables-1.0.4.min.css\");\n",
       "    }\n",
       "  ];\n",
       "\n",
       "  function run_inline_js() {\n",
       "    \n",
       "    if ((root.Bokeh !== undefined) || (force === true)) {\n",
       "      for (var i = 0; i < inline_js.length; i++) {\n",
       "        inline_js[i].call(root, root.Bokeh);\n",
       "      }if (force === true) {\n",
       "        display_loaded();\n",
       "      }} else if (Date.now() < root._bokeh_timeout) {\n",
       "      setTimeout(run_inline_js, 100);\n",
       "    } else if (!root._bokeh_failed_load) {\n",
       "      console.log(\"Bokeh: BokehJS failed to load within specified timeout.\");\n",
       "      root._bokeh_failed_load = true;\n",
       "    } else if (force !== true) {\n",
       "      var cell = $(document.getElementById(\"1172\")).parents('.cell').data().cell;\n",
       "      cell.output_area.append_execute_result(NB_LOAD_WARNING)\n",
       "    }\n",
       "\n",
       "  }\n",
       "\n",
       "  if (root._bokeh_is_loading === 0) {\n",
       "    console.log(\"Bokeh: BokehJS loaded, going straight to plotting\");\n",
       "    run_inline_js();\n",
       "  } else {\n",
       "    load_libs(js_urls, function() {\n",
       "      console.log(\"Bokeh: BokehJS plotting callback run at\", now());\n",
       "      run_inline_js();\n",
       "    });\n",
       "  }\n",
       "}(window));"
      ],
      "application/vnd.bokehjs_load.v0+json": "\n(function(root) {\n  function now() {\n    return new Date();\n  }\n\n  var force = true;\n\n  if (typeof (root._bokeh_onload_callbacks) === \"undefined\" || force === true) {\n    root._bokeh_onload_callbacks = [];\n    root._bokeh_is_loading = undefined;\n  }\n\n  \n\n  \n  if (typeof (root._bokeh_timeout) === \"undefined\" || force === true) {\n    root._bokeh_timeout = Date.now() + 5000;\n    root._bokeh_failed_load = false;\n  }\n\n  var NB_LOAD_WARNING = {'data': {'text/html':\n     \"<div style='background-color: #fdd'>\\n\"+\n     \"<p>\\n\"+\n     \"BokehJS does not appear to have successfully loaded. If loading BokehJS from CDN, this \\n\"+\n     \"may be due to a slow or bad network connection. Possible fixes:\\n\"+\n     \"</p>\\n\"+\n     \"<ul>\\n\"+\n     \"<li>re-rerun `output_notebook()` to attempt to load from CDN again, or</li>\\n\"+\n     \"<li>use INLINE resources instead, as so:</li>\\n\"+\n     \"</ul>\\n\"+\n     \"<code>\\n\"+\n     \"from bokeh.resources import INLINE\\n\"+\n     \"output_notebook(resources=INLINE)\\n\"+\n     \"</code>\\n\"+\n     \"</div>\"}};\n\n  function display_loaded() {\n    var el = document.getElementById(\"1172\");\n    if (el != null) {\n      el.textContent = \"BokehJS is loading...\";\n    }\n    if (root.Bokeh !== undefined) {\n      if (el != null) {\n        el.textContent = \"BokehJS \" + root.Bokeh.version + \" successfully loaded.\";\n      }\n    } else if (Date.now() < root._bokeh_timeout) {\n      setTimeout(display_loaded, 100)\n    }\n  }\n\n\n  function run_callbacks() {\n    try {\n      root._bokeh_onload_callbacks.forEach(function(callback) { callback() });\n    }\n    finally {\n      delete root._bokeh_onload_callbacks\n    }\n    console.info(\"Bokeh: all callbacks have finished\");\n  }\n\n  function load_libs(js_urls, callback) {\n    root._bokeh_onload_callbacks.push(callback);\n    if (root._bokeh_is_loading > 0) {\n      console.log(\"Bokeh: BokehJS is being loaded, scheduling callback at\", now());\n      return null;\n    }\n    if (js_urls == null || js_urls.length === 0) {\n      run_callbacks();\n      return null;\n    }\n    console.log(\"Bokeh: BokehJS not loaded, scheduling load and callback at\", now());\n    root._bokeh_is_loading = js_urls.length;\n    for (var i = 0; i < js_urls.length; i++) {\n      var url = js_urls[i];\n      var s = document.createElement('script');\n      s.src = url;\n      s.async = false;\n      s.onreadystatechange = s.onload = function() {\n        root._bokeh_is_loading--;\n        if (root._bokeh_is_loading === 0) {\n          console.log(\"Bokeh: all BokehJS libraries loaded\");\n          run_callbacks()\n        }\n      };\n      s.onerror = function() {\n        console.warn(\"failed to load library \" + url);\n      };\n      console.log(\"Bokeh: injecting script tag for BokehJS library: \", url);\n      document.getElementsByTagName(\"head\")[0].appendChild(s);\n    }\n  };var element = document.getElementById(\"1172\");\n  if (element == null) {\n    console.log(\"Bokeh: ERROR: autoload.js configured with elementid '1172' but no matching script tag was found. \")\n    return false;\n  }\n\n  var js_urls = [\"https://cdn.pydata.org/bokeh/release/bokeh-1.0.4.min.js\", \"https://cdn.pydata.org/bokeh/release/bokeh-widgets-1.0.4.min.js\", \"https://cdn.pydata.org/bokeh/release/bokeh-tables-1.0.4.min.js\", \"https://cdn.pydata.org/bokeh/release/bokeh-gl-1.0.4.min.js\"];\n\n  var inline_js = [\n    function(Bokeh) {\n      Bokeh.set_log_level(\"info\");\n    },\n    \n    function(Bokeh) {\n      \n    },\n    function(Bokeh) {\n      console.log(\"Bokeh: injecting CSS: https://cdn.pydata.org/bokeh/release/bokeh-1.0.4.min.css\");\n      Bokeh.embed.inject_css(\"https://cdn.pydata.org/bokeh/release/bokeh-1.0.4.min.css\");\n      console.log(\"Bokeh: injecting CSS: https://cdn.pydata.org/bokeh/release/bokeh-widgets-1.0.4.min.css\");\n      Bokeh.embed.inject_css(\"https://cdn.pydata.org/bokeh/release/bokeh-widgets-1.0.4.min.css\");\n      console.log(\"Bokeh: injecting CSS: https://cdn.pydata.org/bokeh/release/bokeh-tables-1.0.4.min.css\");\n      Bokeh.embed.inject_css(\"https://cdn.pydata.org/bokeh/release/bokeh-tables-1.0.4.min.css\");\n    }\n  ];\n\n  function run_inline_js() {\n    \n    if ((root.Bokeh !== undefined) || (force === true)) {\n      for (var i = 0; i < inline_js.length; i++) {\n        inline_js[i].call(root, root.Bokeh);\n      }if (force === true) {\n        display_loaded();\n      }} else if (Date.now() < root._bokeh_timeout) {\n      setTimeout(run_inline_js, 100);\n    } else if (!root._bokeh_failed_load) {\n      console.log(\"Bokeh: BokehJS failed to load within specified timeout.\");\n      root._bokeh_failed_load = true;\n    } else if (force !== true) {\n      var cell = $(document.getElementById(\"1172\")).parents('.cell').data().cell;\n      cell.output_area.append_execute_result(NB_LOAD_WARNING)\n    }\n\n  }\n\n  if (root._bokeh_is_loading === 0) {\n    console.log(\"Bokeh: BokehJS loaded, going straight to plotting\");\n    run_inline_js();\n  } else {\n    load_libs(js_urls, function() {\n      console.log(\"Bokeh: BokehJS plotting callback run at\", now());\n      run_inline_js();\n    });\n  }\n}(window));"
     },
     "metadata": {},
     "output_type": "display_data"
    }
   ],
   "source": [
    "from bokeh.plotting import figure, output_notebook, show\n",
    "from bokeh.models import ColumnDataSource, CustomJS, Range1d\n",
    "from bokeh.models.annotations import Slope\n",
    "\n",
    "output_notebook()\n",
    "\n",
    "#HTML string for interactive bokeh figure\n",
    "tooltips=\"\"\"\n",
    "            <p>\n",
    "                <span style=\"font-size: 25px;\">Surface Index:</span>\n",
    "                <span style=\"font-size: 25px;\">$index</span>\n",
    "            </p>\n",
    "            <p>\n",
    "                <img\n",
    "                src=\"@slab_imgs\" height=\"100\" alt=\"@slab_imgs\" width=\"100\"\n",
    "                style=\"float: left; margin: 0px 15px 15px 0px;\"\n",
    "                border=\"2\"\n",
    "                ></img>\n",
    "                <img\n",
    "                src=\"@ads_imgs\" height=\"150\" alt=\"@ads_imgs\" width=\"150\"\n",
    "                style=\"float: center; margin: 0px 15px 15px 0px;\"\n",
    "                border=\"2\"\n",
    "                ></img>\n",
    "            </p>\n",
    "            <p>\n",
    "                <span style=\"font-size: 25px;\">Label:</span>\n",
    "                <span style=\"font-size: 25px; font-weight: bold;\">@desc</span>\n",
    "            </p>\n",
    "            <p>\n",
    "                <span style=\"font-size: 25px;\">DFT, Alchemy:</span>\n",
    "                <span style=\"font-size: 25px; font-weight: bold;\">@x eV, @y eV</span>\n",
    "            </p>\n",
    "            <p>\n",
    "                <span style=\"font-size: 25px;\">Absolute Error:</span>\n",
    "                <span style=\"font-size: 25px; font-weight: bold;\">@aerr eV</span>\n",
    "            </p>\n",
    "\"\"\""
   ]
  },
  {
   "cell_type": "code",
   "execution_count": 27,
   "metadata": {},
   "outputs": [
    {
     "data": {
      "text/html": [
       "\n",
       "\n",
       "\n",
       "\n",
       "\n",
       "\n",
       "  <div class=\"bk-root\" id=\"e759970f-d625-40b2-b3db-d38fffbb2aa8\" data-root-id=\"1174\"></div>\n"
      ]
     },
     "metadata": {},
     "output_type": "display_data"
    },
    {
     "data": {
      "application/javascript": [
       "(function(root) {\n",
       "  function embed_document(root) {\n",
       "    \n",
       "  var docs_json = {\"be8e35cf-2702-480f-b882-14301539a0cf\":{\"roots\":{\"references\":[{\"attributes\":{\"below\":[{\"id\":\"1184\",\"type\":\"LinearAxis\"}],\"left\":[{\"id\":\"1189\",\"type\":\"LinearAxis\"}],\"plot_height\":800,\"plot_width\":800,\"renderers\":[{\"id\":\"1184\",\"type\":\"LinearAxis\"},{\"id\":\"1188\",\"type\":\"Grid\"},{\"id\":\"1189\",\"type\":\"LinearAxis\"},{\"id\":\"1193\",\"type\":\"Grid\"},{\"id\":\"1203\",\"type\":\"BoxAnnotation\"},{\"id\":\"1211\",\"type\":\"Slope\"},{\"id\":\"1224\",\"type\":\"Legend\"},{\"id\":\"1216\",\"type\":\"GlyphRenderer\"},{\"id\":\"1230\",\"type\":\"GlyphRenderer\"},{\"id\":\"1244\",\"type\":\"GlyphRenderer\"}],\"title\":{\"id\":\"1173\",\"type\":\"Title\"},\"toolbar\":{\"id\":\"1201\",\"type\":\"Toolbar\"},\"x_range\":{\"id\":\"1257\",\"type\":\"Range1d\"},\"x_scale\":{\"id\":\"1180\",\"type\":\"LinearScale\"},\"y_range\":{\"id\":\"1258\",\"type\":\"Range1d\"},\"y_scale\":{\"id\":\"1182\",\"type\":\"LinearScale\"}},\"id\":\"1174\",\"subtype\":\"Figure\",\"type\":\"Plot\"},{\"attributes\":{\"axis_label\":\"Alchemy\",\"axis_label_text_font_size\":{\"value\":\"20pt\"},\"axis_label_text_font_style\":\"bold\",\"formatter\":{\"id\":\"1221\",\"type\":\"BasicTickFormatter\"},\"major_label_text_font_size\":{\"value\":\"20pt\"},\"major_label_text_font_style\":\"bold\",\"major_tick_line_width\":{\"value\":2},\"plot\":{\"id\":\"1174\",\"subtype\":\"Figure\",\"type\":\"Plot\"},\"ticker\":{\"id\":\"1190\",\"type\":\"BasicTicker\"}},\"id\":\"1189\",\"type\":\"LinearAxis\"},{\"attributes\":{},\"id\":\"1254\",\"type\":\"Selection\"},{\"attributes\":{\"data_source\":{\"id\":\"1212\",\"type\":\"ColumnDataSource\"},\"glyph\":{\"id\":\"1214\",\"type\":\"Circle\"},\"hover_glyph\":null,\"muted_glyph\":null,\"nonselection_glyph\":{\"id\":\"1215\",\"type\":\"Circle\"},\"selection_glyph\":null,\"view\":{\"id\":\"1217\",\"type\":\"CDSView\"}},\"id\":\"1216\",\"type\":\"GlyphRenderer\"},{\"attributes\":{},\"id\":\"1190\",\"type\":\"BasicTicker\"},{\"attributes\":{},\"id\":\"1255\",\"type\":\"UnionRenderers\"},{\"attributes\":{\"source\":{\"id\":\"1212\",\"type\":\"ColumnDataSource\"}},\"id\":\"1217\",\"type\":\"CDSView\"},{\"attributes\":{\"dimension\":1,\"plot\":{\"id\":\"1174\",\"subtype\":\"Figure\",\"type\":\"Plot\"},\"ticker\":{\"id\":\"1190\",\"type\":\"BasicTicker\"}},\"id\":\"1193\",\"type\":\"Grid\"},{\"attributes\":{\"label\":{\"value\":\"BE_ref\"},\"renderers\":[{\"id\":\"1244\",\"type\":\"GlyphRenderer\"}]},\"id\":\"1256\",\"type\":\"LegendItem\"},{\"attributes\":{},\"id\":\"1219\",\"type\":\"BasicTickFormatter\"},{\"attributes\":{\"click_policy\":\"hide\",\"glyph_height\":65,\"glyph_width\":65,\"items\":[{\"id\":\"1225\",\"type\":\"LegendItem\"},{\"id\":\"1240\",\"type\":\"LegendItem\"},{\"id\":\"1256\",\"type\":\"LegendItem\"}],\"label_text_font_size\":{\"value\":\"20pt\"},\"location\":\"top_left\",\"plot\":{\"id\":\"1174\",\"subtype\":\"Figure\",\"type\":\"Plot\"}},\"id\":\"1224\",\"type\":\"Legend\"},{\"attributes\":{},\"id\":\"1281\",\"type\":\"Selection\"},{\"attributes\":{\"callback\":null,\"end\":0.65,\"start\":-0.65},\"id\":\"1258\",\"type\":\"Range1d\"},{\"attributes\":{},\"id\":\"1221\",\"type\":\"BasicTickFormatter\"},{\"attributes\":{\"fill_alpha\":{\"value\":0.5},\"fill_color\":{\"field\":\"color\"},\"line_width\":{\"value\":2},\"radius\":{\"field\":\"rad\",\"units\":\"data\"},\"x\":{\"field\":\"x\"},\"y\":{\"field\":\"y\"}},\"id\":\"1214\",\"type\":\"Circle\"},{\"attributes\":{},\"id\":\"1282\",\"type\":\"UnionRenderers\"},{\"attributes\":{\"label\":{\"value\":\"delZ = 1\"},\"renderers\":[{\"id\":\"1216\",\"type\":\"GlyphRenderer\"}]},\"id\":\"1225\",\"type\":\"LegendItem\"},{\"attributes\":{\"active_drag\":\"auto\",\"active_inspect\":\"auto\",\"active_multi\":null,\"active_scroll\":\"auto\",\"active_tap\":\"auto\",\"tools\":[{\"id\":\"1194\",\"type\":\"PanTool\"},{\"id\":\"1195\",\"type\":\"WheelZoomTool\"},{\"id\":\"1196\",\"type\":\"BoxZoomTool\"},{\"id\":\"1197\",\"type\":\"SaveTool\"},{\"id\":\"1198\",\"type\":\"ResetTool\"},{\"id\":\"1199\",\"type\":\"HelpTool\"},{\"id\":\"1200\",\"type\":\"HoverTool\"}]},\"id\":\"1201\",\"type\":\"Toolbar\"},{\"attributes\":{},\"id\":\"1194\",\"type\":\"PanTool\"},{\"attributes\":{\"callback\":null,\"data\":{\"ads_imgs\":[\"images/ads/0.0.Au2.Ir12.png\",\"images/ads/0.1.Au2.Ir13.png\",\"images/ads/0.2.Au2.Ir14.png\",\"images/ads/0.3.Au2.Ir15.png\",\"images/ads/0.4.Au2.Ir8.png\",\"images/ads/0.5.Au2.Ir9.png\",\"images/ads/0.6.Au2.Ir10.png\",\"images/ads/0.7.Au2.Ir11.png\",\"images/ads/1.0.Au3.Ir12.png\",\"images/ads/1.1.Au3.Ir13.png\",\"images/ads/1.2.Au3.Ir14.png\",\"images/ads/1.3.Au3.Ir15.png\",\"images/ads/1.4.Au3.Ir8.png\",\"images/ads/1.5.Au3.Ir9.png\",\"images/ads/1.6.Au3.Ir10.png\",\"images/ads/1.7.Au3.Ir11.png\"],\"aerr\":[0.10239400000000387,0.10239299999999218,0.0062410000000170385,0.024022999999971262,0.0022070000000127266,0.002208000000010202,0.04015299999998945,0.013323000000013963,0.12437399999998888,0.12437199999997972,0.022922999999977378,0.03679699999999286,0.019101999999989516,0.01910299999998699,0.019416999999990026,0.013261999999983232],\"color\":[\"green\",\"green\",\"green\",\"green\",\"green\",\"green\",\"green\",\"green\",\"green\",\"green\",\"green\",\"green\",\"green\",\"green\",\"green\",\"green\"],\"desc\":[\"0.0.Au2.Ir12\",\"0.1.Au2.Ir13\",\"0.2.Au2.Ir14\",\"0.3.Au2.Ir15\",\"0.4.Au2.Ir8\",\"0.5.Au2.Ir9\",\"0.6.Au2.Ir10\",\"0.7.Au2.Ir11\",\"1.0.Au3.Ir12\",\"1.1.Au3.Ir13\",\"1.2.Au3.Ir14\",\"1.3.Au3.Ir15\",\"1.4.Au3.Ir8\",\"1.5.Au3.Ir9\",\"1.6.Au3.Ir10\",\"1.7.Au3.Ir11\"],\"rad\":[0.02167147741826684,0.021671477418266853,0.028548170721835624,0.03972319375022178,0.06035417882237424,0.04575881877387009,0.07867631234671037,0.06294402770410935,0.02167147741826684,0.021671477418266853,0.028548170721835624,0.03972319375022178,0.06035417882237424,0.04575881877387009,0.07867631234671037,0.06294402770410935],\"slab_imgs\":[\"images/slab/0.0.Au2.Ir12.png\",\"images/slab/0.1.Au2.Ir13.png\",\"images/slab/0.2.Au2.Ir14.png\",\"images/slab/0.3.Au2.Ir15.png\",\"images/slab/0.4.Au2.Ir8.png\",\"images/slab/0.5.Au2.Ir9.png\",\"images/slab/0.6.Au2.Ir10.png\",\"images/slab/0.7.Au2.Ir11.png\",\"images/slab/1.0.Au3.Ir12.png\",\"images/slab/1.1.Au3.Ir13.png\",\"images/slab/1.2.Au3.Ir14.png\",\"images/slab/1.3.Au3.Ir15.png\",\"images/slab/1.4.Au3.Ir8.png\",\"images/slab/1.5.Au3.Ir9.png\",\"images/slab/1.6.Au3.Ir10.png\",\"images/slab/1.7.Au3.Ir11.png\"],\"x\":[0.38670599999998956,0.38670700000000124,-0.002658999999994194,-0.040222999999983244,-0.015492999999992207,-0.015491999999994732,0.12874700000000416,-0.05667699999999343,0.4537260000000032,0.45372800000001234,0.057177000000010025,0.03600299999999379,0.052198000000004185,0.05219700000000671,0.23848300000000222,0.0057380000000080145],\"y\":[0.48909999999999343,0.48909999999999343,-0.008900000000011232,-0.016200000000011983,-0.017700000000004934,-0.017700000000004934,0.1688999999999936,-0.07000000000000739,0.5780999999999921,0.5780999999999921,0.0800999999999874,0.07279999999998665,0.0712999999999937,0.0712999999999937,0.25789999999999225,0.018999999999991246]},\"selected\":{\"id\":\"1254\",\"type\":\"Selection\"},\"selection_policy\":{\"id\":\"1255\",\"type\":\"UnionRenderers\"}},\"id\":\"1226\",\"type\":\"ColumnDataSource\"},{\"attributes\":{},\"id\":\"1195\",\"type\":\"WheelZoomTool\"},{\"attributes\":{\"overlay\":{\"id\":\"1203\",\"type\":\"BoxAnnotation\"}},\"id\":\"1196\",\"type\":\"BoxZoomTool\"},{\"attributes\":{\"fill_alpha\":{\"value\":0.5},\"fill_color\":{\"field\":\"color\"},\"line_width\":{\"value\":2},\"radius\":{\"field\":\"rad\",\"units\":\"data\"},\"x\":{\"field\":\"x\"},\"y\":{\"field\":\"y\"}},\"id\":\"1228\",\"type\":\"Circle\"},{\"attributes\":{},\"id\":\"1197\",\"type\":\"SaveTool\"},{\"attributes\":{\"fill_alpha\":{\"value\":0.1},\"fill_color\":{\"value\":\"#1f77b4\"},\"line_alpha\":{\"value\":0.1},\"line_color\":{\"value\":\"#1f77b4\"},\"line_width\":{\"value\":2},\"radius\":{\"field\":\"rad\",\"units\":\"data\"},\"x\":{\"field\":\"x\"},\"y\":{\"field\":\"y\"}},\"id\":\"1229\",\"type\":\"Circle\"},{\"attributes\":{},\"id\":\"1198\",\"type\":\"ResetTool\"},{\"attributes\":{\"gradient\":1,\"plot\":{\"id\":\"1174\",\"subtype\":\"Figure\",\"type\":\"Plot\"},\"y_intercept\":0},\"id\":\"1211\",\"type\":\"Slope\"},{\"attributes\":{\"data_source\":{\"id\":\"1226\",\"type\":\"ColumnDataSource\"},\"glyph\":{\"id\":\"1228\",\"type\":\"Circle\"},\"hover_glyph\":null,\"muted_glyph\":null,\"nonselection_glyph\":{\"id\":\"1229\",\"type\":\"Circle\"},\"selection_glyph\":null,\"view\":{\"id\":\"1231\",\"type\":\"CDSView\"}},\"id\":\"1230\",\"type\":\"GlyphRenderer\"},{\"attributes\":{},\"id\":\"1199\",\"type\":\"HelpTool\"},{\"attributes\":{\"source\":{\"id\":\"1226\",\"type\":\"ColumnDataSource\"}},\"id\":\"1231\",\"type\":\"CDSView\"},{\"attributes\":{\"callback\":null,\"tooltips\":\"\\n            <p>\\n                <span style=\\\"font-size: 25px;\\\">Surface Index:</span>\\n                <span style=\\\"font-size: 25px;\\\">$index</span>\\n            </p>\\n            <p>\\n                <img\\n                src=\\\"@slab_imgs\\\" height=\\\"100\\\" alt=\\\"@slab_imgs\\\" width=\\\"100\\\"\\n                style=\\\"float: left; margin: 0px 15px 15px 0px;\\\"\\n                border=\\\"2\\\"\\n                ></img>\\n                <img\\n                src=\\\"@ads_imgs\\\" height=\\\"150\\\" alt=\\\"@ads_imgs\\\" width=\\\"150\\\"\\n                style=\\\"float: center; margin: 0px 15px 15px 0px;\\\"\\n                border=\\\"2\\\"\\n                ></img>\\n            </p>\\n            <p>\\n                <span style=\\\"font-size: 25px;\\\">Label:</span>\\n                <span style=\\\"font-size: 25px; font-weight: bold;\\\">@desc</span>\\n            </p>\\n            <p>\\n                <span style=\\\"font-size: 25px;\\\">DFT, Alchemy:</span>\\n                <span style=\\\"font-size: 25px; font-weight: bold;\\\">@x eV, @y eV</span>\\n            </p>\\n            <p>\\n                <span style=\\\"font-size: 25px;\\\">Absolute Error:</span>\\n                <span style=\\\"font-size: 25px; font-weight: bold;\\\">@aerr eV</span>\\n            </p>\\n\"},\"id\":\"1200\",\"type\":\"HoverTool\"},{\"attributes\":{},\"id\":\"1238\",\"type\":\"Selection\"},{\"attributes\":{\"callback\":null,\"data\":{\"ads_imgs\":[\"images/ads/0.0.Ir2.Au12.png\",\"images/ads/0.1.Ir2.Au13.png\",\"images/ads/0.2.Ir2.Au14.png\",\"images/ads/0.3.Ir2.Au15.png\",\"images/ads/0.4.Ir2.Au8.png\",\"images/ads/0.5.Ir2.Au9.png\",\"images/ads/0.6.Ir2.Au10.png\",\"images/ads/0.7.Ir2.Au11.png\",\"images/ads/1.0.Ir3.Au12.png\",\"images/ads/1.1.Ir3.Au13.png\",\"images/ads/1.2.Ir3.Au14.png\",\"images/ads/1.3.Ir3.Au15.png\",\"images/ads/1.4.Ir3.Au8.png\",\"images/ads/1.5.Ir3.Au9.png\",\"images/ads/1.6.Ir3.Au10.png\",\"images/ads/1.7.Ir3.Au11.png\"],\"aerr\":[0.09789299999998491,0.09788199999999847,0.08854799999998875,0.04164199999998175,0.003467999999998028,0.003477000000003727,0.04831700000001149,0.0023989999999969314,0.10787099999998873,0.10786199999999724,0.08661199999998814,0.035395999999991545,0.007807000000013886,0.007808000000011361,0.011338999999992438,0.014947000000020694],\"color\":[\"blue\",\"blue\",\"blue\",\"blue\",\"blue\",\"blue\",\"blue\",\"blue\",\"blue\",\"blue\",\"blue\",\"blue\",\"blue\",\"blue\",\"blue\",\"blue\"],\"desc\":[\"0.0.Ir2.Au12\",\"0.1.Ir2.Au13\",\"0.2.Ir2.Au14\",\"0.3.Ir2.Au15\",\"0.4.Ir2.Au8\",\"0.5.Ir2.Au9\",\"0.6.Ir2.Au10\",\"0.7.Ir2.Au11\",\"1.0.Ir3.Au12\",\"1.1.Ir3.Au13\",\"1.2.Ir3.Au14\",\"1.3.Ir3.Au15\",\"1.4.Ir3.Au8\",\"1.5.Ir3.Au9\",\"1.6.Ir3.Au10\",\"1.7.Ir3.Au11\"],\"rad\":[0.02167147741826684,0.021671477418266853,0.028548170721835624,0.03972319375022178,0.06035417882237424,0.04575881877387009,0.07867631234671037,0.06294402770410935,0.02167147741826684,0.021671477418266853,0.028548170721835624,0.03972319375022178,0.06035417882237424,0.04575881877387009,0.07867631234671037,0.06294402770410935],\"slab_imgs\":[\"images/slab/0.0.Ir2.Au12.png\",\"images/slab/0.1.Ir2.Au13.png\",\"images/slab/0.2.Ir2.Au14.png\",\"images/slab/0.3.Ir2.Au15.png\",\"images/slab/0.4.Ir2.Au8.png\",\"images/slab/0.5.Ir2.Au9.png\",\"images/slab/0.6.Ir2.Au10.png\",\"images/slab/0.7.Ir2.Au11.png\",\"images/slab/1.0.Ir3.Au12.png\",\"images/slab/1.1.Ir3.Au13.png\",\"images/slab/1.2.Ir3.Au14.png\",\"images/slab/1.3.Ir3.Au15.png\",\"images/slab/1.4.Ir3.Au8.png\",\"images/slab/1.5.Ir3.Au9.png\",\"images/slab/1.6.Ir3.Au10.png\",\"images/slab/1.7.Ir3.Au11.png\"],\"x\":[-0.3912070000000085,-0.39121799999999496,0.09744799999999998,0.05784199999999373,0.014232000000006906,0.014223000000001207,-0.2172170000000051,0.06760100000001046,-0.47022900000000334,-0.4702379999999948,0.006512000000000739,-0.03740399999999511,-0.07910700000000759,-0.07910800000000506,-0.2692389999999847,-0.03394700000001194],\"y\":[-0.48909999999999343,-0.48909999999999343,0.008900000000011232,0.016200000000011983,0.017700000000004934,0.017700000000004934,-0.1688999999999936,0.07000000000000739,-0.5780999999999921,-0.5780999999999921,-0.0800999999999874,-0.07279999999998665,-0.0712999999999937,-0.0712999999999937,-0.25789999999999225,-0.018999999999991246]},\"selected\":{\"id\":\"1238\",\"type\":\"Selection\"},\"selection_policy\":{\"id\":\"1239\",\"type\":\"UnionRenderers\"}},\"id\":\"1212\",\"type\":\"ColumnDataSource\"},{\"attributes\":{},\"id\":\"1239\",\"type\":\"UnionRenderers\"},{\"attributes\":{},\"id\":\"1180\",\"type\":\"LinearScale\"},{\"attributes\":{\"bottom_units\":\"screen\",\"fill_alpha\":{\"value\":0.5},\"fill_color\":{\"value\":\"lightgrey\"},\"left_units\":\"screen\",\"level\":\"overlay\",\"line_alpha\":{\"value\":1.0},\"line_color\":{\"value\":\"black\"},\"line_dash\":[4,4],\"line_width\":{\"value\":2},\"plot\":null,\"render_mode\":\"css\",\"right_units\":\"screen\",\"top_units\":\"screen\"},\"id\":\"1203\",\"type\":\"BoxAnnotation\"},{\"attributes\":{\"label\":{\"value\":\"delZ = -1\"},\"renderers\":[{\"id\":\"1230\",\"type\":\"GlyphRenderer\"}]},\"id\":\"1240\",\"type\":\"LegendItem\"},{\"attributes\":{\"source\":{\"id\":\"1241\",\"type\":\"ColumnDataSource\"}},\"id\":\"1245\",\"type\":\"CDSView\"},{\"attributes\":{},\"id\":\"1182\",\"type\":\"LinearScale\"},{\"attributes\":{\"align\":\"center\",\"plot\":null,\"text\":\"Parity Plot for BE Predictions with Computational Alchemy\",\"text_font_size\":{\"value\":\"20pt\"}},\"id\":\"1173\",\"type\":\"Title\"},{\"attributes\":{\"callback\":null,\"end\":0.65,\"start\":-0.65},\"id\":\"1257\",\"type\":\"Range1d\"},{\"attributes\":{\"axis_label\":\"DFT\",\"axis_label_text_font_size\":{\"value\":\"20pt\"},\"axis_label_text_font_style\":\"bold\",\"formatter\":{\"id\":\"1219\",\"type\":\"BasicTickFormatter\"},\"major_label_text_font_size\":{\"value\":\"20pt\"},\"major_label_text_font_style\":\"bold\",\"major_tick_line_width\":{\"value\":2},\"plot\":{\"id\":\"1174\",\"subtype\":\"Figure\",\"type\":\"Plot\"},\"ticker\":{\"id\":\"1185\",\"type\":\"BasicTicker\"}},\"id\":\"1184\",\"type\":\"LinearAxis\"},{\"attributes\":{\"fill_alpha\":{\"value\":0.1},\"fill_color\":{\"value\":\"#1f77b4\"},\"line_alpha\":{\"value\":0.1},\"line_color\":{\"value\":\"#1f77b4\"},\"line_width\":{\"value\":5},\"size\":{\"units\":\"screen\",\"value\":50},\"x\":{\"value\":0.0},\"y\":{\"value\":0.0}},\"id\":\"1243\",\"type\":\"Asterisk\"},{\"attributes\":{\"callback\":null,\"data\":{},\"selected\":{\"id\":\"1281\",\"type\":\"Selection\"},\"selection_policy\":{\"id\":\"1282\",\"type\":\"UnionRenderers\"}},\"id\":\"1241\",\"type\":\"ColumnDataSource\"},{\"attributes\":{\"data_source\":{\"id\":\"1241\",\"type\":\"ColumnDataSource\"},\"glyph\":{\"id\":\"1242\",\"type\":\"Asterisk\"},\"hover_glyph\":null,\"muted_glyph\":null,\"nonselection_glyph\":{\"id\":\"1243\",\"type\":\"Asterisk\"},\"selection_glyph\":null,\"view\":{\"id\":\"1245\",\"type\":\"CDSView\"}},\"id\":\"1244\",\"type\":\"GlyphRenderer\"},{\"attributes\":{},\"id\":\"1185\",\"type\":\"BasicTicker\"},{\"attributes\":{\"fill_color\":{\"value\":\"red\"},\"line_color\":{\"value\":\"red\"},\"line_width\":{\"value\":5},\"size\":{\"units\":\"screen\",\"value\":50},\"x\":{\"value\":0.0},\"y\":{\"value\":0.0}},\"id\":\"1242\",\"type\":\"Asterisk\"},{\"attributes\":{\"plot\":{\"id\":\"1174\",\"subtype\":\"Figure\",\"type\":\"Plot\"},\"ticker\":{\"id\":\"1185\",\"type\":\"BasicTicker\"}},\"id\":\"1188\",\"type\":\"Grid\"},{\"attributes\":{\"fill_alpha\":{\"value\":0.1},\"fill_color\":{\"value\":\"#1f77b4\"},\"line_alpha\":{\"value\":0.1},\"line_color\":{\"value\":\"#1f77b4\"},\"line_width\":{\"value\":2},\"radius\":{\"field\":\"rad\",\"units\":\"data\"},\"x\":{\"field\":\"x\"},\"y\":{\"field\":\"y\"}},\"id\":\"1215\",\"type\":\"Circle\"}],\"root_ids\":[\"1174\"]},\"title\":\"Bokeh Application\",\"version\":\"1.0.4\"}};\n",
       "  var render_items = [{\"docid\":\"be8e35cf-2702-480f-b882-14301539a0cf\",\"roots\":{\"1174\":\"e759970f-d625-40b2-b3db-d38fffbb2aa8\"}}];\n",
       "  root.Bokeh.embed.embed_items_notebook(docs_json, render_items);\n",
       "\n",
       "  }\n",
       "  if (root.Bokeh !== undefined) {\n",
       "    embed_document(root);\n",
       "  } else {\n",
       "    var attempts = 0;\n",
       "    var timer = setInterval(function(root) {\n",
       "      if (root.Bokeh !== undefined) {\n",
       "        embed_document(root);\n",
       "        clearInterval(timer);\n",
       "      }\n",
       "      attempts++;\n",
       "      if (attempts > 100) {\n",
       "        console.log(\"Bokeh: ERROR: Unable to run BokehJS code because BokehJS library is missing\");\n",
       "        clearInterval(timer);\n",
       "      }\n",
       "    }, 10, root)\n",
       "  }\n",
       "})(window);"
      ],
      "application/vnd.bokehjs_exec.v0+json": ""
     },
     "metadata": {
      "application/vnd.bokehjs_exec.v0+json": {
       "id": "1174"
      }
     },
     "output_type": "display_data"
    }
   ],
   "source": [
    "pf = figure(plot_width=800, plot_height=800,tooltips=tooltips,title=\"Parity Plot for BE Predictions with Computational Alchemy\")\n",
    "\n",
    "parity = Slope(gradient=1,y_intercept=0,)\n",
    "pf.add_layout(parity)\n",
    "\n",
    "colors = ['blue','green','red','yellow','magenta','cyan','indigo']\n",
    "mx = []\n",
    "mn =[]\n",
    "for i in range(chargelen):\n",
    "    mx.append(max(dft_del_be[i]+alc_del_be[i]))\n",
    "    mn.append(min(dft_del_be[i]+alc_del_be[i]))\n",
    "    source = ColumnDataSource(data=dict(\n",
    "            x=[d for d in dft_del_be[i]],\n",
    "            y=[a for a in alc_del_be[i]],\n",
    "            desc=dir_slab[i],\n",
    "            ads_imgs=['images/ads/'+a+'.png' for a in dir_ads[i]],\n",
    "            slab_imgs=['images/slab/'+s+'.png' for s in dir_slab[i]],\n",
    "            aerr=ae[i],\n",
    "            rad=[d/100 for d in distances[i]],\n",
    "            color=[colors[i]]*len(alc_del_be[i])))\n",
    "    pf.circle('x', 'y', radius='rad', fill_color ='color',source=source, line_color=\"black\", line_width=2, fill_alpha=0.5, legend='delZ = '+str(charge[i]))\n",
    "\n",
    "\n",
    "pf.asterisk(ref_be - ref_be,ref_be - ref_be,size=50,line_width=5,color='red',legend='BE_ref')\n",
    "\n",
    "pf.xaxis.axis_label = \"DFT\"\n",
    "pf.xaxis.axis_label_text_font_style = \"bold\"\n",
    "pf.xaxis.axis_label_text_font_size = \"20pt\"\n",
    "pf.xaxis.major_label_text_font_size = \"20pt\"\n",
    "pf.xaxis.major_label_text_font_style = \"bold\"\n",
    "pf.xaxis.major_tick_line_width = 2\n",
    "\n",
    "pf.yaxis.axis_label = \"Alchemy\"\n",
    "pf.yaxis.axis_label_text_font_style = \"bold\"\n",
    "pf.yaxis.axis_label_text_font_size = \"20pt\"\n",
    "pf.yaxis.major_label_text_font_size = \"20pt\"\n",
    "pf.yaxis.major_label_text_font_style = \"bold\"\n",
    "pf.yaxis.major_tick_line_width = 2\n",
    "\n",
    "\n",
    "pf.title.text_font_size = '20pt'\n",
    "pf.title.align = 'center'\n",
    "\n",
    "pf.x_range=Range1d(-0.65,0.65)\n",
    "pf.y_range=Range1d(-0.65,0.65)\n",
    "\n",
    "pf.legend.location = \"top_left\"\n",
    "pf.legend.click_policy = \"hide\"\n",
    "pf.legend.label_text_font_size = \"20pt\"\n",
    "pf.legend.glyph_height = 65\n",
    "pf.legend.glyph_width = 65\n",
    "\n",
    "show(pf)"
   ]
  },
  {
   "cell_type": "markdown",
   "metadata": {},
   "source": [
    "The radii of the data points above correspond to distances from the binding site. The smaller the point, the closer the transmutation was made to the binding site. "
   ]
  },
  {
   "cell_type": "markdown",
   "metadata": {},
   "source": [
    "Below is a summary of pertinent quantities for this analysis. We can read through the list of absolute errors printed below and identify systems with inaccurate BE predictions. For these systems with low accuracy, we can look at the magnitude of the ESP difference and the transmutation index (location of transmuted atom). Low accuracy is typically attributed to systems where transmutations are made to atoms where the magnitude of the ESP difference is large. Above we can see that every data point that's away from the parity line belongs to a system where the transmutation was made at the binding site."
   ]
  },
  {
   "cell_type": "code",
   "execution_count": 28,
   "metadata": {},
   "outputs": [
    {
     "name": "stdout",
     "output_type": "stream",
     "text": [
      "          labels  DFT Binding Energy  Alchemy Binding Energy  Absolute Errors  \\\n",
      "0   0.0.Ir2.Au12           -0.391207                 -0.4891         0.097893   \n",
      "1   0.1.Ir2.Au13           -0.391218                 -0.4891         0.097882   \n",
      "2   0.2.Ir2.Au14            0.097448                  0.0089         0.088548   \n",
      "3   0.3.Ir2.Au15            0.057842                  0.0162         0.041642   \n",
      "4    0.4.Ir2.Au8            0.014232                  0.0177         0.003468   \n",
      "5    0.5.Ir2.Au9            0.014223                  0.0177         0.003477   \n",
      "6   0.6.Ir2.Au10           -0.217217                 -0.1689         0.048317   \n",
      "7   0.7.Ir2.Au11            0.067601                  0.0700         0.002399   \n",
      "8   1.0.Ir3.Au12           -0.470229                 -0.5781         0.107871   \n",
      "9   1.1.Ir3.Au13           -0.470238                 -0.5781         0.107862   \n",
      "10  1.2.Ir3.Au14            0.006512                 -0.0801         0.086612   \n",
      "11  1.3.Ir3.Au15           -0.037404                 -0.0728         0.035396   \n",
      "12   1.4.Ir3.Au8           -0.079107                 -0.0713         0.007807   \n",
      "13   1.5.Ir3.Au9           -0.079108                 -0.0713         0.007808   \n",
      "14  1.6.Ir3.Au10           -0.269239                 -0.2579         0.011339   \n",
      "15  1.7.Ir3.Au11           -0.033947                 -0.0190         0.014947   \n",
      "16  0.0.Au2.Ir12            0.386706                  0.4891         0.102394   \n",
      "17  0.1.Au2.Ir13            0.386707                  0.4891         0.102393   \n",
      "18  0.2.Au2.Ir14           -0.002659                 -0.0089         0.006241   \n",
      "19  0.3.Au2.Ir15           -0.040223                 -0.0162         0.024023   \n",
      "20   0.4.Au2.Ir8           -0.015493                 -0.0177         0.002207   \n",
      "21   0.5.Au2.Ir9           -0.015492                 -0.0177         0.002208   \n",
      "22  0.6.Au2.Ir10            0.128747                  0.1689         0.040153   \n",
      "23  0.7.Au2.Ir11           -0.056677                 -0.0700         0.013323   \n",
      "24  1.0.Au3.Ir12            0.453726                  0.5781         0.124374   \n",
      "25  1.1.Au3.Ir13            0.453728                  0.5781         0.124372   \n",
      "26  1.2.Au3.Ir14            0.057177                  0.0801         0.022923   \n",
      "27  1.3.Au3.Ir15            0.036003                  0.0728         0.036797   \n",
      "28   1.4.Au3.Ir8            0.052198                  0.0713         0.019102   \n",
      "29   1.5.Au3.Ir9            0.052197                  0.0713         0.019103   \n",
      "30  1.6.Au3.Ir10            0.238483                  0.2579         0.019417   \n",
      "31  1.7.Au3.Ir11            0.005738                  0.0190         0.013262   \n",
      "\n",
      "   Transmutation Site Index  ESP Difference at Transmute Site  \n",
      "0                        12                           -0.1184  \n",
      "1                        13                           -0.1184  \n",
      "2                        14                            0.3796  \n",
      "3                        15                            0.3869  \n",
      "4                         8                            0.3884  \n",
      "5                         9                            0.3884  \n",
      "6                        10                            0.2018  \n",
      "7                        11                            0.4407  \n",
      "8                        12                           -0.1184  \n",
      "9                        13                           -0.1184  \n",
      "10                       14                            0.3796  \n",
      "11                       15                            0.3869  \n",
      "12                        8                            0.3884  \n",
      "13                        9                            0.3884  \n",
      "14                       10                            0.2018  \n",
      "15                       11                            0.4407  \n",
      "16                       12                           -0.1184  \n",
      "17                       13                           -0.1184  \n",
      "18                       14                            0.3796  \n",
      "19                       15                            0.3869  \n",
      "20                        8                            0.3884  \n",
      "21                        9                            0.3884  \n",
      "22                       10                            0.2018  \n",
      "23                       11                            0.4407  \n",
      "24                       12                           -0.1184  \n",
      "25                       13                           -0.1184  \n",
      "26                       14                            0.3796  \n",
      "27                       15                            0.3869  \n",
      "28                        8                            0.3884  \n",
      "29                        9                            0.3884  \n",
      "30                       10                            0.2018  \n",
      "31                       11                            0.4407  \n"
     ]
    }
   ],
   "source": [
    "datsum = pd.DataFrame(columns=['labels','DFT Binding Energy','Alchemy Binding Energy',\n",
    "                               'Absolute Errors','Transmutation Site Index',\n",
    "                              'ESP Difference at Transmute Site'])\n",
    "for i in range(chargelen):\n",
    "    for j in range(len(dir_slab[i])):\n",
    "        datsum = datsum.append({'labels': dir_slab[i][j], \n",
    "                                'DFT Binding Energy': dft_del_be[i][j], \n",
    "                                'Alchemy Binding Energy': alc_del_be[i][j],\n",
    "                                'Absolute Errors': ae[i][j],\n",
    "                                'Transmutation Site Index': (transmute*len(counter))[j],\n",
    "                                'ESP Difference at Transmute Site': ([diffs[k] for k in transmute]*len(counter))[j]}, ignore_index=True)\n",
    "print(datsum)"
   ]
  }
 ],
 "metadata": {
  "kernelspec": {
   "display_name": "Python 3",
   "language": "python",
   "name": "python3"
  },
  "language_info": {
   "codemirror_mode": {
    "name": "ipython",
    "version": 3
   },
   "file_extension": ".py",
   "mimetype": "text/x-python",
   "name": "python",
   "nbconvert_exporter": "python",
   "pygments_lexer": "ipython3",
   "version": "3.7.3"
  }
 },
 "nbformat": 4,
 "nbformat_minor": 2
}
