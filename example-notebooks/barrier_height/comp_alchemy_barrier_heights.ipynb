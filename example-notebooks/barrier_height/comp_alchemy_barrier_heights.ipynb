{
 "cells": [
  {
   "cell_type": "markdown",
   "metadata": {},
   "source": [
    "# Running Computational Alchemy for Catalysis: Transition State Barrier Height Predictions\n",
    "This notebook outlines Python functions that use information from VASP calculations to predict descriptors for hypothetical catalyst. These functions utilize tools from the Atomic Simulation Environment (ASE) to manipulate catalyst surface models and perform calculations with computational alchemy. "
   ]
  },
  {
   "cell_type": "markdown",
   "metadata": {},
   "source": [
    "In this example, we apply computational alchemy on reference set of nudged elastic band (NEB) calculcations of CH4 dehydrogenation on Pt(111) to predict transition state barrier heights of the same process on hypothetical alloys of Pt(111). "
   ]
  },
  {
   "cell_type": "code",
   "execution_count": 1,
   "metadata": {},
   "outputs": [],
   "source": [
    "import comp_alchemy"
   ]
  },
  {
   "cell_type": "code",
   "execution_count": 2,
   "metadata": {},
   "outputs": [],
   "source": [
    "import numpy as np\n",
    "import pandas as pd\n",
    "from bokeh.plotting import figure, output_notebook, show\n",
    "from bokeh.models import ColumnDataSource, CustomJS, Range1d\n",
    "from bokeh.models.annotations import Slope\n",
    "from ipywidgets import interact\n",
    "from bokeh.io import push_notebook, show, output_notebook"
   ]
  },
  {
   "cell_type": "markdown",
   "metadata": {},
   "source": [
    "This example uses an NEB calculation with 10 images in total. Below we plot the total energy for each image. You also can hover your mouse over any data point to visualize the image"
   ]
  },
  {
   "cell_type": "code",
   "execution_count": 3,
   "metadata": {},
   "outputs": [],
   "source": [
    "images = range(10)\n",
    "image_energies = pd.read_csv('reference_images_energies.csv')\n",
    "image_energies = image_energies['energy']"
   ]
  },
  {
   "cell_type": "code",
   "execution_count": 4,
   "metadata": {},
   "outputs": [
    {
     "data": {
      "text/html": "\n    <div class=\"bk-root\">\n        <a href=\"https://bokeh.pydata.org\" target=\"_blank\" class=\"bk-logo bk-logo-small bk-logo-notebook\"></a>\n        <span id=\"1001\">Loading BokehJS ...</span>\n    </div>"
     },
     "metadata": {},
     "output_type": "display_data"
    },
    {
     "data": {
      "application/javascript": "\n(function(root) {\n  function now() {\n    return new Date();\n  }\n\n  var force = true;\n\n  if (typeof (root._bokeh_onload_callbacks) === \"undefined\" || force === true) {\n    root._bokeh_onload_callbacks = [];\n    root._bokeh_is_loading = undefined;\n  }\n\n  var JS_MIME_TYPE = 'application/javascript';\n  var HTML_MIME_TYPE = 'text/html';\n  var EXEC_MIME_TYPE = 'application/vnd.bokehjs_exec.v0+json';\n  var CLASS_NAME = 'output_bokeh rendered_html';\n\n  /**\n   * Render data to the DOM node\n   */\n  function render(props, node) {\n    var script = document.createElement(\"script\");\n    node.appendChild(script);\n  }\n\n  /**\n   * Handle when an output is cleared or removed\n   */\n  function handleClearOutput(event, handle) {\n    var cell = handle.cell;\n\n    var id = cell.output_area._bokeh_element_id;\n    var server_id = cell.output_area._bokeh_server_id;\n    // Clean up Bokeh references\n    if (id != null && id in Bokeh.index) {\n      Bokeh.index[id].model.document.clear();\n      delete Bokeh.index[id];\n    }\n\n    if (server_id !== undefined) {\n      // Clean up Bokeh references\n      var cmd = \"from bokeh.io.state import curstate; print(curstate().uuid_to_server['\" + server_id + \"'].get_sessions()[0].document.roots[0]._id)\";\n      cell.notebook.kernel.execute(cmd, {\n        iopub: {\n          output: function(msg) {\n            var id = msg.content.text.trim();\n            if (id in Bokeh.index) {\n              Bokeh.index[id].model.document.clear();\n              delete Bokeh.index[id];\n            }\n          }\n        }\n      });\n      // Destroy server and session\n      var cmd = \"import bokeh.io.notebook as ion; ion.destroy_server('\" + server_id + \"')\";\n      cell.notebook.kernel.execute(cmd);\n    }\n  }\n\n  /**\n   * Handle when a new output is added\n   */\n  function handleAddOutput(event, handle) {\n    var output_area = handle.output_area;\n    var output = handle.output;\n\n    // limit handleAddOutput to display_data with EXEC_MIME_TYPE content only\n    if ((output.output_type != \"display_data\") || (!output.data.hasOwnProperty(EXEC_MIME_TYPE))) {\n      return\n    }\n\n    var toinsert = output_area.element.find(\".\" + CLASS_NAME.split(' ')[0]);\n\n    if (output.metadata[EXEC_MIME_TYPE][\"id\"] !== undefined) {\n      toinsert[toinsert.length - 1].firstChild.textContent = output.data[JS_MIME_TYPE];\n      // store reference to embed id on output_area\n      output_area._bokeh_element_id = output.metadata[EXEC_MIME_TYPE][\"id\"];\n    }\n    if (output.metadata[EXEC_MIME_TYPE][\"server_id\"] !== undefined) {\n      var bk_div = document.createElement(\"div\");\n      bk_div.innerHTML = output.data[HTML_MIME_TYPE];\n      var script_attrs = bk_div.children[0].attributes;\n      for (var i = 0; i < script_attrs.length; i++) {\n        toinsert[toinsert.length - 1].firstChild.setAttribute(script_attrs[i].name, script_attrs[i].value);\n      }\n      // store reference to server id on output_area\n      output_area._bokeh_server_id = output.metadata[EXEC_MIME_TYPE][\"server_id\"];\n    }\n  }\n\n  function register_renderer(events, OutputArea) {\n\n    function append_mime(data, metadata, element) {\n      // create a DOM node to render to\n      var toinsert = this.create_output_subarea(\n        metadata,\n        CLASS_NAME,\n        EXEC_MIME_TYPE\n      );\n      this.keyboard_manager.register_events(toinsert);\n      // Render to node\n      var props = {data: data, metadata: metadata[EXEC_MIME_TYPE]};\n      render(props, toinsert[toinsert.length - 1]);\n      element.append(toinsert);\n      return toinsert\n    }\n\n    /* Handle when an output is cleared or removed */\n    events.on('clear_output.CodeCell', handleClearOutput);\n    events.on('delete.Cell', handleClearOutput);\n\n    /* Handle when a new output is added */\n    events.on('output_added.OutputArea', handleAddOutput);\n\n    /**\n     * Register the mime type and append_mime function with output_area\n     */\n    OutputArea.prototype.register_mime_type(EXEC_MIME_TYPE, append_mime, {\n      /* Is output safe? */\n      safe: true,\n      /* Index of renderer in `output_area.display_order` */\n      index: 0\n    });\n  }\n\n  // register the mime type if in Jupyter Notebook environment and previously unregistered\n  if (root.Jupyter !== undefined) {\n    var events = require('base/js/events');\n    var OutputArea = require('notebook/js/outputarea').OutputArea;\n\n    if (OutputArea.prototype.mime_types().indexOf(EXEC_MIME_TYPE) == -1) {\n      register_renderer(events, OutputArea);\n    }\n  }\n\n  \n  if (typeof (root._bokeh_timeout) === \"undefined\" || force === true) {\n    root._bokeh_timeout = Date.now() + 5000;\n    root._bokeh_failed_load = false;\n  }\n\n  var NB_LOAD_WARNING = {'data': {'text/html':\n     \"<div style='background-color: #fdd'>\\n\"+\n     \"<p>\\n\"+\n     \"BokehJS does not appear to have successfully loaded. If loading BokehJS from CDN, this \\n\"+\n     \"may be due to a slow or bad network connection. Possible fixes:\\n\"+\n     \"</p>\\n\"+\n     \"<ul>\\n\"+\n     \"<li>re-rerun `output_notebook()` to attempt to load from CDN again, or</li>\\n\"+\n     \"<li>use INLINE resources instead, as so:</li>\\n\"+\n     \"</ul>\\n\"+\n     \"<code>\\n\"+\n     \"from bokeh.resources import INLINE\\n\"+\n     \"output_notebook(resources=INLINE)\\n\"+\n     \"</code>\\n\"+\n     \"</div>\"}};\n\n  function display_loaded() {\n    var el = document.getElementById(\"1001\");\n    if (el != null) {\n      el.textContent = \"BokehJS is loading...\";\n    }\n    if (root.Bokeh !== undefined) {\n      if (el != null) {\n        el.textContent = \"BokehJS \" + root.Bokeh.version + \" successfully loaded.\";\n      }\n    } else if (Date.now() < root._bokeh_timeout) {\n      setTimeout(display_loaded, 100)\n    }\n  }\n\n\n  function run_callbacks() {\n    try {\n      root._bokeh_onload_callbacks.forEach(function(callback) { callback() });\n    }\n    finally {\n      delete root._bokeh_onload_callbacks\n    }\n    console.info(\"Bokeh: all callbacks have finished\");\n  }\n\n  function load_libs(js_urls, callback) {\n    root._bokeh_onload_callbacks.push(callback);\n    if (root._bokeh_is_loading > 0) {\n      console.log(\"Bokeh: BokehJS is being loaded, scheduling callback at\", now());\n      return null;\n    }\n    if (js_urls == null || js_urls.length === 0) {\n      run_callbacks();\n      return null;\n    }\n    console.log(\"Bokeh: BokehJS not loaded, scheduling load and callback at\", now());\n    root._bokeh_is_loading = js_urls.length;\n    for (var i = 0; i < js_urls.length; i++) {\n      var url = js_urls[i];\n      var s = document.createElement('script');\n      s.src = url;\n      s.async = false;\n      s.onreadystatechange = s.onload = function() {\n        root._bokeh_is_loading--;\n        if (root._bokeh_is_loading === 0) {\n          console.log(\"Bokeh: all BokehJS libraries loaded\");\n          run_callbacks()\n        }\n      };\n      s.onerror = function() {\n        console.warn(\"failed to load library \" + url);\n      };\n      console.log(\"Bokeh: injecting script tag for BokehJS library: \", url);\n      document.getElementsByTagName(\"head\")[0].appendChild(s);\n    }\n  };var element = document.getElementById(\"1001\");\n  if (element == null) {\n    console.log(\"Bokeh: ERROR: autoload.js configured with elementid '1001' but no matching script tag was found. \")\n    return false;\n  }\n\n  var js_urls = [\"https://cdn.pydata.org/bokeh/release/bokeh-1.0.4.min.js\", \"https://cdn.pydata.org/bokeh/release/bokeh-widgets-1.0.4.min.js\", \"https://cdn.pydata.org/bokeh/release/bokeh-tables-1.0.4.min.js\", \"https://cdn.pydata.org/bokeh/release/bokeh-gl-1.0.4.min.js\"];\n\n  var inline_js = [\n    function(Bokeh) {\n      Bokeh.set_log_level(\"info\");\n    },\n    \n    function(Bokeh) {\n      \n    },\n    function(Bokeh) {\n      console.log(\"Bokeh: injecting CSS: https://cdn.pydata.org/bokeh/release/bokeh-1.0.4.min.css\");\n      Bokeh.embed.inject_css(\"https://cdn.pydata.org/bokeh/release/bokeh-1.0.4.min.css\");\n      console.log(\"Bokeh: injecting CSS: https://cdn.pydata.org/bokeh/release/bokeh-widgets-1.0.4.min.css\");\n      Bokeh.embed.inject_css(\"https://cdn.pydata.org/bokeh/release/bokeh-widgets-1.0.4.min.css\");\n      console.log(\"Bokeh: injecting CSS: https://cdn.pydata.org/bokeh/release/bokeh-tables-1.0.4.min.css\");\n      Bokeh.embed.inject_css(\"https://cdn.pydata.org/bokeh/release/bokeh-tables-1.0.4.min.css\");\n    }\n  ];\n\n  function run_inline_js() {\n    \n    if ((root.Bokeh !== undefined) || (force === true)) {\n      for (var i = 0; i < inline_js.length; i++) {\n        inline_js[i].call(root, root.Bokeh);\n      }if (force === true) {\n        display_loaded();\n      }} else if (Date.now() < root._bokeh_timeout) {\n      setTimeout(run_inline_js, 100);\n    } else if (!root._bokeh_failed_load) {\n      console.log(\"Bokeh: BokehJS failed to load within specified timeout.\");\n      root._bokeh_failed_load = true;\n    } else if (force !== true) {\n      var cell = $(document.getElementById(\"1001\")).parents('.cell').data().cell;\n      cell.output_area.append_execute_result(NB_LOAD_WARNING)\n    }\n\n  }\n\n  if (root._bokeh_is_loading === 0) {\n    console.log(\"Bokeh: BokehJS loaded, going straight to plotting\");\n    run_inline_js();\n  } else {\n    load_libs(js_urls, function() {\n      console.log(\"Bokeh: BokehJS plotting callback run at\", now());\n      run_inline_js();\n    });\n  }\n}(window));",
      "application/vnd.bokehjs_load.v0+json": "\n(function(root) {\n  function now() {\n    return new Date();\n  }\n\n  var force = true;\n\n  if (typeof (root._bokeh_onload_callbacks) === \"undefined\" || force === true) {\n    root._bokeh_onload_callbacks = [];\n    root._bokeh_is_loading = undefined;\n  }\n\n  \n\n  \n  if (typeof (root._bokeh_timeout) === \"undefined\" || force === true) {\n    root._bokeh_timeout = Date.now() + 5000;\n    root._bokeh_failed_load = false;\n  }\n\n  var NB_LOAD_WARNING = {'data': {'text/html':\n     \"<div style='background-color: #fdd'>\\n\"+\n     \"<p>\\n\"+\n     \"BokehJS does not appear to have successfully loaded. If loading BokehJS from CDN, this \\n\"+\n     \"may be due to a slow or bad network connection. Possible fixes:\\n\"+\n     \"</p>\\n\"+\n     \"<ul>\\n\"+\n     \"<li>re-rerun `output_notebook()` to attempt to load from CDN again, or</li>\\n\"+\n     \"<li>use INLINE resources instead, as so:</li>\\n\"+\n     \"</ul>\\n\"+\n     \"<code>\\n\"+\n     \"from bokeh.resources import INLINE\\n\"+\n     \"output_notebook(resources=INLINE)\\n\"+\n     \"</code>\\n\"+\n     \"</div>\"}};\n\n  function display_loaded() {\n    var el = document.getElementById(\"1001\");\n    if (el != null) {\n      el.textContent = \"BokehJS is loading...\";\n    }\n    if (root.Bokeh !== undefined) {\n      if (el != null) {\n        el.textContent = \"BokehJS \" + root.Bokeh.version + \" successfully loaded.\";\n      }\n    } else if (Date.now() < root._bokeh_timeout) {\n      setTimeout(display_loaded, 100)\n    }\n  }\n\n\n  function run_callbacks() {\n    try {\n      root._bokeh_onload_callbacks.forEach(function(callback) { callback() });\n    }\n    finally {\n      delete root._bokeh_onload_callbacks\n    }\n    console.info(\"Bokeh: all callbacks have finished\");\n  }\n\n  function load_libs(js_urls, callback) {\n    root._bokeh_onload_callbacks.push(callback);\n    if (root._bokeh_is_loading > 0) {\n      console.log(\"Bokeh: BokehJS is being loaded, scheduling callback at\", now());\n      return null;\n    }\n    if (js_urls == null || js_urls.length === 0) {\n      run_callbacks();\n      return null;\n    }\n    console.log(\"Bokeh: BokehJS not loaded, scheduling load and callback at\", now());\n    root._bokeh_is_loading = js_urls.length;\n    for (var i = 0; i < js_urls.length; i++) {\n      var url = js_urls[i];\n      var s = document.createElement('script');\n      s.src = url;\n      s.async = false;\n      s.onreadystatechange = s.onload = function() {\n        root._bokeh_is_loading--;\n        if (root._bokeh_is_loading === 0) {\n          console.log(\"Bokeh: all BokehJS libraries loaded\");\n          run_callbacks()\n        }\n      };\n      s.onerror = function() {\n        console.warn(\"failed to load library \" + url);\n      };\n      console.log(\"Bokeh: injecting script tag for BokehJS library: \", url);\n      document.getElementsByTagName(\"head\")[0].appendChild(s);\n    }\n  };var element = document.getElementById(\"1001\");\n  if (element == null) {\n    console.log(\"Bokeh: ERROR: autoload.js configured with elementid '1001' but no matching script tag was found. \")\n    return false;\n  }\n\n  var js_urls = [\"https://cdn.pydata.org/bokeh/release/bokeh-1.0.4.min.js\", \"https://cdn.pydata.org/bokeh/release/bokeh-widgets-1.0.4.min.js\", \"https://cdn.pydata.org/bokeh/release/bokeh-tables-1.0.4.min.js\", \"https://cdn.pydata.org/bokeh/release/bokeh-gl-1.0.4.min.js\"];\n\n  var inline_js = [\n    function(Bokeh) {\n      Bokeh.set_log_level(\"info\");\n    },\n    \n    function(Bokeh) {\n      \n    },\n    function(Bokeh) {\n      console.log(\"Bokeh: injecting CSS: https://cdn.pydata.org/bokeh/release/bokeh-1.0.4.min.css\");\n      Bokeh.embed.inject_css(\"https://cdn.pydata.org/bokeh/release/bokeh-1.0.4.min.css\");\n      console.log(\"Bokeh: injecting CSS: https://cdn.pydata.org/bokeh/release/bokeh-widgets-1.0.4.min.css\");\n      Bokeh.embed.inject_css(\"https://cdn.pydata.org/bokeh/release/bokeh-widgets-1.0.4.min.css\");\n      console.log(\"Bokeh: injecting CSS: https://cdn.pydata.org/bokeh/release/bokeh-tables-1.0.4.min.css\");\n      Bokeh.embed.inject_css(\"https://cdn.pydata.org/bokeh/release/bokeh-tables-1.0.4.min.css\");\n    }\n  ];\n\n  function run_inline_js() {\n    \n    if ((root.Bokeh !== undefined) || (force === true)) {\n      for (var i = 0; i < inline_js.length; i++) {\n        inline_js[i].call(root, root.Bokeh);\n      }if (force === true) {\n        display_loaded();\n      }} else if (Date.now() < root._bokeh_timeout) {\n      setTimeout(run_inline_js, 100);\n    } else if (!root._bokeh_failed_load) {\n      console.log(\"Bokeh: BokehJS failed to load within specified timeout.\");\n      root._bokeh_failed_load = true;\n    } else if (force !== true) {\n      var cell = $(document.getElementById(\"1001\")).parents('.cell').data().cell;\n      cell.output_area.append_execute_result(NB_LOAD_WARNING)\n    }\n\n  }\n\n  if (root._bokeh_is_loading === 0) {\n    console.log(\"Bokeh: BokehJS loaded, going straight to plotting\");\n    run_inline_js();\n  } else {\n    load_libs(js_urls, function() {\n      console.log(\"Bokeh: BokehJS plotting callback run at\", now());\n      run_inline_js();\n    });\n  }\n}(window));"
     },
     "metadata": {},
     "output_type": "display_data"
    },
    {
     "data": {
      "text/html": "\n\n\n\n\n\n  <div class=\"bk-root\" id=\"a37c0883-2507-4f75-84f9-973d28858d83\" data-root-id=\"1003\"></div>\n"
     },
     "metadata": {},
     "output_type": "display_data"
    },
    {
     "data": {
      "application/javascript": "(function(root) {\n  function embed_document(root) {\n    \n  var docs_json = {\"13410171-0ad3-45b7-8146-f7beeab85bc2\":{\"roots\":{\"references\":[{\"attributes\":{\"below\":[{\"id\":\"1012\",\"type\":\"LinearAxis\"}],\"left\":[{\"id\":\"1017\",\"type\":\"LinearAxis\"}],\"plot_width\":900,\"renderers\":[{\"id\":\"1012\",\"type\":\"LinearAxis\"},{\"id\":\"1016\",\"type\":\"Grid\"},{\"id\":\"1017\",\"type\":\"LinearAxis\"},{\"id\":\"1021\",\"type\":\"Grid\"},{\"id\":\"1031\",\"type\":\"BoxAnnotation\"},{\"id\":\"1044\",\"type\":\"GlyphRenderer\"},{\"id\":\"1049\",\"type\":\"GlyphRenderer\"}],\"title\":{\"id\":\"1039\",\"type\":\"Title\"},\"toolbar\":{\"id\":\"1029\",\"type\":\"Toolbar\"},\"x_range\":{\"id\":\"1004\",\"type\":\"DataRange1d\"},\"x_scale\":{\"id\":\"1008\",\"type\":\"LinearScale\"},\"y_range\":{\"id\":\"1006\",\"type\":\"Range1d\"},\"y_scale\":{\"id\":\"1010\",\"type\":\"LinearScale\"}},\"id\":\"1003\",\"subtype\":\"Figure\",\"type\":\"Plot\"},{\"attributes\":{\"line_alpha\":0.1,\"line_color\":\"#1f77b4\",\"line_dash\":[6],\"x\":{\"field\":\"x\"},\"y\":{\"field\":\"y\"}},\"id\":\"1048\",\"type\":\"Line\"},{\"attributes\":{\"dimension\":1,\"plot\":{\"id\":\"1003\",\"subtype\":\"Figure\",\"type\":\"Plot\"},\"ticker\":{\"id\":\"1018\",\"type\":\"BasicTicker\"}},\"id\":\"1021\",\"type\":\"Grid\"},{\"attributes\":{\"data_source\":{\"id\":\"1002\",\"type\":\"ColumnDataSource\"},\"glyph\":{\"id\":\"1047\",\"type\":\"Line\"},\"hover_glyph\":null,\"muted_glyph\":null,\"nonselection_glyph\":{\"id\":\"1048\",\"type\":\"Line\"},\"selection_glyph\":null,\"view\":{\"id\":\"1050\",\"type\":\"CDSView\"}},\"id\":\"1049\",\"type\":\"GlyphRenderer\"},{\"attributes\":{\"active_drag\":\"auto\",\"active_inspect\":\"auto\",\"active_multi\":null,\"active_scroll\":\"auto\",\"active_tap\":\"auto\",\"tools\":[{\"id\":\"1022\",\"type\":\"PanTool\"},{\"id\":\"1023\",\"type\":\"WheelZoomTool\"},{\"id\":\"1024\",\"type\":\"BoxZoomTool\"},{\"id\":\"1025\",\"type\":\"SaveTool\"},{\"id\":\"1026\",\"type\":\"ResetTool\"},{\"id\":\"1027\",\"type\":\"HelpTool\"},{\"id\":\"1028\",\"type\":\"HoverTool\"}]},\"id\":\"1029\",\"type\":\"Toolbar\"},{\"attributes\":{},\"id\":\"1057\",\"type\":\"UnionRenderers\"},{\"attributes\":{\"source\":{\"id\":\"1002\",\"type\":\"ColumnDataSource\"}},\"id\":\"1050\",\"type\":\"CDSView\"},{\"attributes\":{},\"id\":\"1058\",\"type\":\"Selection\"},{\"attributes\":{},\"id\":\"1022\",\"type\":\"PanTool\"},{\"attributes\":{\"callback\":null},\"id\":\"1004\",\"type\":\"DataRange1d\"},{\"attributes\":{},\"id\":\"1023\",\"type\":\"WheelZoomTool\"},{\"attributes\":{\"overlay\":{\"id\":\"1031\",\"type\":\"BoxAnnotation\"}},\"id\":\"1024\",\"type\":\"BoxZoomTool\"},{\"attributes\":{},\"id\":\"1056\",\"type\":\"BasicTickFormatter\"},{\"attributes\":{},\"id\":\"1025\",\"type\":\"SaveTool\"},{\"attributes\":{},\"id\":\"1026\",\"type\":\"ResetTool\"},{\"attributes\":{\"callback\":null,\"data\":{\"ads_imgs\":[\"neb_images/0/neb_image_0.png\",\"neb_images/1/neb_image_1.png\",\"neb_images/2/neb_image_2.png\",\"neb_images/3/neb_image_3.png\",\"neb_images/4/neb_image_4.png\",\"neb_images/5/neb_image_5.png\",\"neb_images/6/neb_image_6.png\",\"neb_images/7/neb_image_7.png\",\"neb_images/8/neb_image_8.png\",\"neb_images/9/neb_image_9.png\"],\"x\":[0,1,2,3,4,5,6,7,8,9],\"y\":{\"__ndarray__\":\"7Lsi+N82XcDyQc9m1TVdwDoeM1AZM13AoswGmWQsXcAUxhaCHBxdwIqYEkn0/FzAKePfZ1weXcCB7PXujyNdwKJdhZSfKl3AXtIYraMqXcA=\",\"dtype\":\"float64\",\"shape\":[10]}},\"selected\":{\"id\":\"1058\",\"type\":\"Selection\"},\"selection_policy\":{\"id\":\"1057\",\"type\":\"UnionRenderers\"}},\"id\":\"1002\",\"type\":\"ColumnDataSource\"},{\"attributes\":{},\"id\":\"1027\",\"type\":\"HelpTool\"},{\"attributes\":{},\"id\":\"1008\",\"type\":\"LinearScale\"},{\"attributes\":{\"callback\":null,\"tooltips\":\"\\n            <p>\\n                <span style=\\\"font-size: 25px;\\\">NEB Image </span>\\n                <span style=\\\"font-size: 25px;\\\">$index</span>\\n            </p>\\n            <p>\\n                <img\\n                src=\\\"@ads_imgs\\\" height=\\\"150\\\" alt=\\\"@ads_imgs\\\" width=\\\"150\\\"\\n                style=\\\"float: center; margin: 0px 15px 15px 0px;\\\"\\n                border=\\\"2\\\"\\n                ></img>\\n\"},\"id\":\"1028\",\"type\":\"HoverTool\"},{\"attributes\":{\"fill_color\":{\"value\":\"#1f77b4\"},\"line_color\":{\"value\":\"#1f77b4\"},\"size\":{\"units\":\"screen\",\"value\":45},\"x\":{\"field\":\"x\"},\"y\":{\"field\":\"y\"}},\"id\":\"1042\",\"type\":\"Circle\"},{\"attributes\":{},\"id\":\"1010\",\"type\":\"LinearScale\"},{\"attributes\":{\"callback\":null,\"end\":-115.45241000000001,\"start\":-117.35741999999999},\"id\":\"1006\",\"type\":\"Range1d\"},{\"attributes\":{\"bottom_units\":\"screen\",\"fill_alpha\":{\"value\":0.5},\"fill_color\":{\"value\":\"lightgrey\"},\"left_units\":\"screen\",\"level\":\"overlay\",\"line_alpha\":{\"value\":1.0},\"line_color\":{\"value\":\"black\"},\"line_dash\":[4,4],\"line_width\":{\"value\":2},\"plot\":null,\"render_mode\":\"css\",\"right_units\":\"screen\",\"top_units\":\"screen\"},\"id\":\"1031\",\"type\":\"BoxAnnotation\"},{\"attributes\":{\"axis_label\":\"NEB Image Number\",\"axis_label_text_font_size\":{\"value\":\"12pt\"},\"axis_label_text_font_style\":\"bold\",\"formatter\":{\"id\":\"1054\",\"type\":\"BasicTickFormatter\"},\"plot\":{\"id\":\"1003\",\"subtype\":\"Figure\",\"type\":\"Plot\"},\"ticker\":{\"id\":\"1013\",\"type\":\"BasicTicker\"}},\"id\":\"1012\",\"type\":\"LinearAxis\"},{\"attributes\":{\"align\":\"center\",\"plot\":null,\"text\":\"\",\"text_font_size\":{\"value\":\"12pt\"}},\"id\":\"1039\",\"type\":\"Title\"},{\"attributes\":{\"fill_alpha\":{\"value\":0.1},\"fill_color\":{\"value\":\"#1f77b4\"},\"line_alpha\":{\"value\":0.1},\"line_color\":{\"value\":\"#1f77b4\"},\"size\":{\"units\":\"screen\",\"value\":45},\"x\":{\"field\":\"x\"},\"y\":{\"field\":\"y\"}},\"id\":\"1043\",\"type\":\"Circle\"},{\"attributes\":{},\"id\":\"1013\",\"type\":\"BasicTicker\"},{\"attributes\":{\"data_source\":{\"id\":\"1002\",\"type\":\"ColumnDataSource\"},\"glyph\":{\"id\":\"1042\",\"type\":\"Circle\"},\"hover_glyph\":null,\"muted_glyph\":null,\"nonselection_glyph\":{\"id\":\"1043\",\"type\":\"Circle\"},\"selection_glyph\":null,\"view\":{\"id\":\"1045\",\"type\":\"CDSView\"}},\"id\":\"1044\",\"type\":\"GlyphRenderer\"},{\"attributes\":{\"plot\":{\"id\":\"1003\",\"subtype\":\"Figure\",\"type\":\"Plot\"},\"ticker\":{\"id\":\"1013\",\"type\":\"BasicTicker\"}},\"id\":\"1016\",\"type\":\"Grid\"},{\"attributes\":{\"source\":{\"id\":\"1002\",\"type\":\"ColumnDataSource\"}},\"id\":\"1045\",\"type\":\"CDSView\"},{\"attributes\":{\"axis_label\":\"Energy (eV)\",\"axis_label_text_font_size\":{\"value\":\"12pt\"},\"axis_label_text_font_style\":\"bold\",\"formatter\":{\"id\":\"1056\",\"type\":\"BasicTickFormatter\"},\"plot\":{\"id\":\"1003\",\"subtype\":\"Figure\",\"type\":\"Plot\"},\"ticker\":{\"id\":\"1018\",\"type\":\"BasicTicker\"}},\"id\":\"1017\",\"type\":\"LinearAxis\"},{\"attributes\":{},\"id\":\"1054\",\"type\":\"BasicTickFormatter\"},{\"attributes\":{},\"id\":\"1018\",\"type\":\"BasicTicker\"},{\"attributes\":{\"line_color\":\"#1f77b4\",\"line_dash\":[6],\"x\":{\"field\":\"x\"},\"y\":{\"field\":\"y\"}},\"id\":\"1047\",\"type\":\"Line\"}],\"root_ids\":[\"1003\"]},\"title\":\"Bokeh Application\",\"version\":\"1.0.4\"}};\n  var render_items = [{\"docid\":\"13410171-0ad3-45b7-8146-f7beeab85bc2\",\"notebook_comms_target\":\"1060\",\"roots\":{\"1003\":\"a37c0883-2507-4f75-84f9-973d28858d83\"}}];\n  root.Bokeh.embed.embed_items_notebook(docs_json, render_items);\n\n  }\n  if (root.Bokeh !== undefined) {\n    embed_document(root);\n  } else {\n    var attempts = 0;\n    var timer = setInterval(function(root) {\n      if (root.Bokeh !== undefined) {\n        embed_document(root);\n        clearInterval(timer);\n      }\n      attempts++;\n      if (attempts > 100) {\n        console.log(\"Bokeh: ERROR: Unable to run BokehJS code because BokehJS library is missing\");\n        clearInterval(timer);\n      }\n    }, 10, root)\n  }\n})(window);",
      "application/vnd.bokehjs_exec.v0+json": ""
     },
     "metadata": {
      "application/vnd.bokehjs_exec.v0+json": {
       "id": "1003"
      }
     },
     "output_type": "display_data"
    },
    {
     "data": {
      "text/html": "<p><code>&lt;Bokeh Notebook handle for <strong>In[4]</strong>&gt;</code></p>",
      "text/plain": "<bokeh.io.notebook.CommsHandle at 0x25562a887b8>"
     },
     "execution_count": 4,
     "metadata": {},
     "output_type": "execute_result"
    }
   ],
   "source": [
    "output_notebook()\n",
    "\n",
    "en_source = ColumnDataSource(\n",
    "data=dict(\n",
    "x=[int(im) for im in images],\n",
    "y=image_energies,\n",
    "ads_imgs=['neb_images/'+str(im)+'/'+'neb_image_'+str(im)+'.png' for im in images]))\n",
    "\n",
    "en_tooltips=\"\"\"\n",
    "            <p>\n",
    "                <span style=\"font-size: 25px;\">NEB Image </span>\n",
    "                <span style=\"font-size: 25px;\">$index</span>\n",
    "            </p>\n",
    "            <p>\n",
    "                <img\n",
    "                src=\"@ads_imgs\" height=\"150\" alt=\"@ads_imgs\" width=\"150\"\n",
    "                style=\"float: center; margin: 0px 15px 15px 0px;\"\n",
    "                border=\"2\"\n",
    "                ></img>\n",
    "\"\"\"\n",
    "\n",
    "ef = figure(plot_width=900, plot_height=600,y_range=(min(image_energies)-0.5,max(image_energies)+0.5),tooltips=en_tooltips)\n",
    "\n",
    "ef.xaxis.axis_label = \"NEB Image Number\"\n",
    "ef.xaxis.axis_label_text_font_style = \"bold\"\n",
    "ef.xaxis.axis_label_text_font_size = \"12pt\"\n",
    "ef.yaxis.axis_label = \"Energy (eV)\"\n",
    "ef.yaxis.axis_label_text_font_style = \"bold\"\n",
    "ef.yaxis.axis_label_text_font_size = \"12pt\"\n",
    "ef.title.text_font_size = '12pt'\n",
    "ef.title.align = 'center'\n",
    "\n",
    "ef.circle('x', 'y', size=45, source=en_source)\n",
    "ef.line('x','y', line_dash=\"dashed\", source=en_source)\n",
    "\n",
    "show(ef, notebook_handle=True)"
   ]
  },
  {
   "cell_type": "markdown",
   "metadata": {},
   "source": [
    "From the plot above, it's apparent that image 5 is the transition state for CH4 dehydrogenation."
   ]
  },
  {
   "cell_type": "markdown",
   "metadata": {},
   "source": [
    "Next we make ASE Atoms objects with VASP POSCARs and CONTCARs for the bare catalyst surface (slab) and the catalyst surface with the adsorbate (ads) for each image. These models and the results of the VASP calculations for each will be used as our reference for computational alchemy calculations."
   ]
  },
  {
   "cell_type": "code",
   "execution_count": 5,
   "metadata": {},
   "outputs": [],
   "source": [
    "from ase.io import read \n",
    "from ase.visualize import view\n",
    "slab = read('slab/POSCAR',format='vasp')\n",
    "slab_contcar = read('slab/CONTCAR',format='vasp')\n",
    "ads = [read(f'neb_images/{str(im)}/POSCAR',format='vasp') for im in images]\n",
    "ads_contcar = [read(f'neb_images/{str(im)}/CONTCAR',format='vasp') for im in images]"
   ]
  },
  {
   "cell_type": "code",
   "execution_count": 6,
   "metadata": {},
   "outputs": [],
   "source": [
    "from comp_alchemy.ads_slab_pairs import pairs\n",
    "p = [pairs(slab,slab) for a in ads]"
   ]
  },
  {
   "cell_type": "markdown",
   "metadata": {},
   "source": [
    "### Working with electrostatic potentials in VASP OUTCAR\n",
    "Next we can grab the atom-centered electrostatic potentials (ESPs) printed at the end of the OUTCAR with `grab_esp()`. \n",
    "Here we grab ESPs for slab and ads and calculate the differences with `espdiff()`. The ESP differnces define the alchemical derivatives that facilitate predictions with alchemy."
   ]
  },
  {
   "cell_type": "code",
   "execution_count": 7,
   "metadata": {},
   "outputs": [],
   "source": [
    "from comp_alchemy.elec_stat_pot import (grab_esp,espdiff,remove_duplicate_espdiffs,heatmap)\n",
    "slab_elec = grab_esp(poscar='slab/POSCAR',outcar='slab/trunc-OUTCAR')\n",
    "ads_elec = [grab_esp(poscar=f'neb_images/{str(im)}/POSCAR',\n",
    "                     outcar=f'neb_images/{str(im)}/trunc-OUTCAR') for im in images]\n",
    "diffs = [espdiff(elec1=slab_elec,elec2=ads_elec[im],pair=p[im]) for im in images]"
   ]
  },
  {
   "cell_type": "code",
   "execution_count": 8,
   "metadata": {},
   "outputs": [
    {
     "name": "stdout",
     "output_type": "stream",
     "text": "\nAtom-centered electrostatic potentials for the initial state of CH4 dehydrogenation (image 0):\n\nSlab:\n[-73.7064, -73.7064, -73.7064, -73.7064, -74.1493, -74.1493, -74.1493, -74.1493, -74.0957, -74.0957, -74.0957, -74.0957, -73.6192, -73.6192, -73.6192, -73.6192]\n\nAds:\n[-74.1863, -74.186, -74.1864, -74.1866, -74.6565, -74.6556, -74.6567, -74.6575, -74.6527, -74.6519, -74.6519, -74.6528, -74.1955, -74.1747, -74.1757, -74.1765, -53.2355, -36.6325, -36.6332, -36.6324, -36.6331]\n\nDifferences in electrostatic potentials between ads and slab\n[-0.4799, -0.4796, -0.48, -0.4802, -0.5072, -0.5063, -0.5074, -0.5082, -0.557, -0.5562, -0.5562, -0.5571, -0.5763, -0.5555, -0.5565, -0.5573]\n"
    }
   ],
   "source": [
    "diffs0 = [round(d,4) for d in diffs[0]]\n",
    "print(f'''\n",
    "Atom-centered electrostatic potentials for the initial state of CH4 dehydrogenation (image 0):\n",
    "\n",
    "Slab:\n",
    "{slab_elec}\n",
    "\n",
    "Ads:\n",
    "{ads_elec[0]}\n",
    "\n",
    "Differences in electrostatic potentials between ads and slab\n",
    "{diffs0}''')"
   ]
  },
  {
   "cell_type": "markdown",
   "metadata": {},
   "source": [
    "### Visualizing alchemical derivatives\n",
    "With the `heatmap()` function, visualize the alchemical derivatives with ASE GUI by running the cell below, pressing \"c\" in ASE GUI, and under \"Choose how the atoms are colored:\" selecting \"By initial charge\" "
   ]
  },
  {
   "cell_type": "code",
   "execution_count": 10,
   "metadata": {},
   "outputs": [],
   "source": [
    "slab_vis = [heatmap(poscar='slab/POSCAR',dexlist=[dex[0] for dex in p[im]],espdiffs=diffs[im]) for im in range(0,len(images))]\n",
    "#view(slab_vis)"
   ]
  },
  {
   "cell_type": "markdown",
   "metadata": {},
   "source": [
    "### Creating hypothetical materials by making transmutations\n",
    "Below we use the `index_transmuted()` function to grab indexes of atoms that we want to transmute in our reference slabs. We specify the number of transmutable atoms by setting `transmute_num`. \n",
    "\n",
    "This function also grabs indexes of atoms at the bottom of the slab that we can counter-transmute to maintain isoelectronicity. We set the number of counter-transmutable atoms with `counter_num`."
   ]
  },
  {
   "cell_type": "code",
   "execution_count": 9,
   "metadata": {},
   "outputs": [],
   "source": [
    "from ase import Atom\n",
    "from comp_alchemy.alloy_index import index_transmuted, transmuter, transmuted_directory_names\n",
    "metal = Atom('Pt')\n",
    "[transmute, counter] = index_transmuted(slab=slab,\n",
    "                                        transmute_atom_sym=metal.symbol,\n",
    "                                        counter_atom_sym=metal.symbol,\n",
    "                                        transmute_num=8,\n",
    "                                        counter_num=2,\n",
    "                                        symmetric = False)\n",
    "\n",
    "transmute = [transmute for im in images]\n",
    "counter = [counter for im in images]"
   ]
  },
  {
   "cell_type": "code",
   "execution_count": 11,
   "metadata": {},
   "outputs": [
    {
     "name": "stdout",
     "output_type": "stream",
     "text": "Indices of atoms to be transmuted in the top two surface layers.\n[12, 13, 14, 15, 8, 9, 10, 11]\n\nIndices of atoms to be counter transmuted with unique electrostatic potential differences.\n[0, 1]\n\nThere are 10 sites near the surface of the catalyst where we will make transmutations.\n\nFor each transmutation, we can make counter transmutations at 1 of 10 sites.\n\nConsidering all combinations of transmute and counter-transmute sites, we will assess a total of 100 hypothetical configurations of alloys.\n\n"
    }
   ],
   "source": [
    "print(f'''Indices of atoms to be transmuted in the top two surface layers.\n",
    "{transmute[0]}\n",
    "\n",
    "Indices of atoms to be counter transmuted with unique electrostatic potential differences.\n",
    "{counter[0]}\n",
    "\n",
    "There are {len(transmute)} sites near the surface of the catalyst where we will make transmutations.\n",
    "\n",
    "For each transmutation, we can make counter transmutations at 1 of {len(counter)} sites.\n",
    "\n",
    "Considering all combinations of transmute and counter-transmute sites, we will assess a total of {len(transmute)*len(counter)} hypothetical configurations of alloys.\n",
    "''')"
   ]
  },
  {
   "cell_type": "markdown",
   "metadata": {},
   "source": [
    "In this example, we transmute surface Pt atoms to Au or Ir (change in nuclear charge of +/- 1) and counter-transmute Pt atoms in the bottom layers to Ir or Au (change in nuclear charge of -/+ 1). Below we construct an array with Au and Ir Atom objects to use in the `transmuter()` function."
   ]
  },
  {
   "cell_type": "code",
   "execution_count": 12,
   "metadata": {},
   "outputs": [],
   "source": [
    "charge = [1,-1]\n",
    "chargelen = len(charge)\n",
    "all_transmute = []\n",
    "for c in charge:\n",
    "    transmute_atom = Atom(metal.symbol)\n",
    "    transmute_atom.number += c\n",
    "    counter_transmute_atom = Atom(metal.symbol)\n",
    "    counter_transmute_atom.number -= c\n",
    "    all_transmute.append([counter_transmute_atom,transmute_atom])"
   ]
  },
  {
   "cell_type": "markdown",
   "metadata": {},
   "source": [
    "Next, we make transmutations to Atoms objects of slab and ads from their respective CONTCARs and give labels for each new model with the `transmuted_directory_names()` function. Now we can visualize these new systems and write POSCARs to do VASP calculations for benchmarking."
   ]
  },
  {
   "cell_type": "code",
   "execution_count": 13,
   "metadata": {},
   "outputs": [
    {
     "name": "stdout",
     "output_type": "stream",
     "text": "Transmuted Slab Labels\n0.0.Ir0.Au12\n0.1.Ir0.Au13\n0.2.Ir0.Au14\n0.3.Ir0.Au15\n0.4.Ir0.Au8\n0.5.Ir0.Au9\n0.6.Ir0.Au10\n0.7.Ir0.Au11\n1.0.Ir1.Au12\n1.1.Ir1.Au13\n1.2.Ir1.Au14\n1.3.Ir1.Au15\n1.4.Ir1.Au8\n1.5.Ir1.Au9\n1.6.Ir1.Au10\n1.7.Ir1.Au11\n0.0.Au0.Ir12\n0.1.Au0.Ir13\n0.2.Au0.Ir14\n0.3.Au0.Ir15\n0.4.Au0.Ir8\n0.5.Au0.Ir9\n0.6.Au0.Ir10\n0.7.Au0.Ir11\n1.0.Au1.Ir12\n1.1.Au1.Ir13\n1.2.Au1.Ir14\n1.3.Au1.Ir15\n1.4.Au1.Ir8\n1.5.Au1.Ir9\n1.6.Au1.Ir10\n1.7.Au1.Ir11\n"
    }
   ],
   "source": [
    "print('Transmuted Slab Labels')\n",
    "transmuted_slabs = []\n",
    "dir_slab = []\n",
    "for k in all_transmute:\n",
    "    slab_single_image = []\n",
    "    slabdir_single_image = []\n",
    "    for i,c in enumerate(counter[0]):\n",
    "        for j,t in enumerate(transmute[0]):\n",
    "            slab_single_image.append(transmuter(slab=slab_contcar,\n",
    "                                           atomdex=[c,t],\n",
    "                                           trans=k))\n",
    "            slab_dname = transmuted_directory_names(bdex=i,\n",
    "                                           tdex=j,\n",
    "                                           dexes=[c,t],\n",
    "                                           atoms_array=k)\n",
    "            slabdir_single_image.append(slab_dname)\n",
    "            print(slab_dname)\n",
    "    transmuted_slabs.append(slab_single_image)\n",
    "    dir_slab.append(slabdir_single_image)"
   ]
  },
  {
   "cell_type": "code",
   "execution_count": 14,
   "metadata": {},
   "outputs": [],
   "source": [
    "transmuted_ads = []\n",
    "dir_ads = []\n",
    "for im in range(0,len(images)):\n",
    "    ads_single_image = []\n",
    "    adsdir_single_image = []\n",
    "    for k in all_transmute:\n",
    "        ads_single = []\n",
    "        adsdir_single = []\n",
    "        for i,c in enumerate(counter[im]):\n",
    "            for j,t in enumerate(transmute[im]):\n",
    "                ads_single.append(transmuter(slab=ads_contcar[im],\n",
    "                                                     atomdex=[c,t],\n",
    "                                                     trans=k))\n",
    "                adsdir_single.append(transmuted_directory_names(bdex=i,\n",
    "                                                              tdex=j,\n",
    "                                                              dexes=[c,t],\n",
    "                                                              atoms_array=k))\n",
    "        ads_single_image.append(ads_single)\n",
    "        adsdir_single_image.append(adsdir_single)\n",
    "    transmuted_ads.append(ads_single_image)\n",
    "    dir_ads.append(adsdir_single_image)"
   ]
  },
  {
   "cell_type": "markdown",
   "metadata": {},
   "source": [
    "### Calculating binding energy (BE) with computational alchemy\n",
    "For validation purposes, we could then setup directories to run VASP calculations on our transmuted surface models. It's most convinient to analyze these calculations if they are each stored in a directory named with the labels generated above. \n",
    "Once all VASP calculations are complete, we can calculate binding energies on our transmuted surfaces using alchemy, then compare against DFT binding energies."
   ]
  },
  {
   "cell_type": "markdown",
   "metadata": {},
   "source": [
    "First we calculate the BEs of our reference systems, each NEB image."
   ]
  },
  {
   "cell_type": "code",
   "execution_count": 15,
   "metadata": {},
   "outputs": [],
   "source": [
    "from comp_alchemy.read_oszicar import grab_energy\n",
    "adsorbate_energy = -221.81\n",
    "slab_energy = grab_energy(oszicar='slab/trunc-OSZICAR')\n",
    "ads_energy = image_energies\n",
    "ref_be = [slab_energy + adsorbate_energy - ae for ae in ads_energy]"
   ]
  },
  {
   "cell_type": "markdown",
   "metadata": {},
   "source": [
    "The DFT-calculated energies for the transmuted systems are stored in `transmuted_ads_energies.csv` and `transmuted_slab_energies.csv`. Below we read the data into dataframes and extract the energy values. "
   ]
  },
  {
   "cell_type": "code",
   "execution_count": 16,
   "metadata": {},
   "outputs": [],
   "source": [
    "transmuted_slab_data = pd.read_csv('transmuted_slab_energies.csv',index_col='labels')\n",
    "transmuted_slab_energies = [[transmuted_slab_data['energies'][lab] for lab in dir_slab[i]] for i in range(chargelen)]"
   ]
  },
  {
   "cell_type": "code",
   "execution_count": 30,
   "metadata": {},
   "outputs": [],
   "source": [
    "transmuted_ads_data = pd.read_csv('transmuted_ads_energies.csv',index_col=['labels','image','deltaZ'])\n",
    "transmuted_ads_energies = [[[transmuted_ads_data['energies'][lab,im,charge[i]] for lab in dir_ads[im][i]] for i in range(chargelen)] for im in images]"
   ]
  },
  {
   "cell_type": "markdown",
   "metadata": {},
   "source": [
    "Next, we calculate BEs for the transmuted variations of each NEB image. With those and the reference BEs, we then calculate the $\\Delta$BEs. "
   ]
  },
  {
   "cell_type": "code",
   "execution_count": 31,
   "metadata": {},
   "outputs": [],
   "source": [
    "transmuted_be = [[[transmuted_slab_energies[i][j] + adsorbate_energy - transmuted_ads_energies[im][i][j] for j in range(len(transmuted_slab_energies[i]))] for i in range(chargelen)] for im in images]\n",
    "dft_del_be = [[[transmuted_be[im][i][j] - ref_be[im] for j in range(len(transmuted_be[im][i]))]for i in range(chargelen)] for im in images]"
   ]
  },
  {
   "cell_type": "markdown",
   "metadata": {},
   "source": [
    "Finally, we can use the `alc_be()` function to take the dot product of an array of charge differences and an array of the ESP differences to approximate the $\\Delta$BEs. Below we've used this function to construct the charge difference array and calculate BE for the transmuted systems of each NEB image. These arrays contain **all necessary information to predict BEs.**"
   ]
  },
  {
   "cell_type": "code",
   "execution_count": 32,
   "metadata": {},
   "outputs": [],
   "source": [
    "from comp_alchemy.binding_energy import alc_be\n",
    "dn = [[[[alc_be(transmute=[transmute[im][k]],\n",
    "               counter=[counter[im][j]],\n",
    "               espdiffs=diffs[im],\n",
    "               charge=charge[i])[0] for k in range(len(transmute[im]))] for j in range(len(counter[im]))] for i in range(chargelen)] for im in images]\n",
    "alc_del_be = [[[[alc_be(transmute=[transmute[im][k]],\n",
    "               counter=[counter[im][j]],\n",
    "               espdiffs=diffs[im],\n",
    "               charge=charge[i])[1] for k in range(len(transmute[im]))] for j in range(len(counter[im]))] for i in range(chargelen)] for im in images]\n",
    "\n",
    "alc_del_be = [[[item for sublist in alc_del_be[im][i] for item in sublist] for i in range(chargelen)] for im in images]"
   ]
  },
  {
   "cell_type": "markdown",
   "metadata": {},
   "source": [
    "### Benchmarking computational alchemy against DFT"
   ]
  },
  {
   "cell_type": "markdown",
   "metadata": {},
   "source": [
    "Now that the BEs are calculated, we can compute compute reaction barriers and evaluate the accuracy of computational alchemy against DFT. For each BE, we calculate the absolute error between alchemy and DFT below."
   ]
  },
  {
   "cell_type": "code",
   "execution_count": 33,
   "metadata": {},
   "outputs": [],
   "source": [
    "from numpy import average\n",
    "ae = [[[abs(alc_del_be[im][i][j] - dft_del_be[im][i][j]) for j in range(len(alc_del_be[im][i]))] for i in range(chargelen)] for im in images]\n",
    "mae = [round(average(ae[im]),3) for im in range(len(images))]"
   ]
  },
  {
   "cell_type": "markdown",
   "metadata": {},
   "source": [
    "Below we also calcuate the distance between each transmute site and the binding site of CH4. This descriptor will help us analyze the data."
   ]
  },
  {
   "cell_type": "code",
   "execution_count": 34,
   "metadata": {},
   "outputs": [],
   "source": [
    "adsorbate_site = 'C'\n",
    "adsorbate_indexes = [a.index for a in ads_contcar[0] if a.symbol == adsorbate_site]\n",
    "adsorbate_positions = [[ads_contcar[0][d].position[0],ads_contcar[0][d].position[1],ads_contcar[0][d].position[2]]for d in adsorbate_indexes]\n",
    "adsorbate_positions = [items for item in adsorbate_positions for items in item if item[2] == max([pos[2] for pos in adsorbate_positions])]\n",
    "distances = [[np.sqrt((ads_contcar[0][t].position[0]-adsorbate_positions[0])**2+(ads_contcar[0][t].position[1]-adsorbate_positions[1])**2+(ads_contcar[0][t].position[2]-adsorbate_positions[2])**2) for t in transmute[0]*len(counter[0])] for i in range(chargelen)]"
   ]
  },
  {
   "cell_type": "code",
   "execution_count": 35,
   "metadata": {},
   "outputs": [
    {
     "data": {
      "text/html": "\n    <div class=\"bk-root\">\n        <a href=\"https://bokeh.pydata.org\" target=\"_blank\" class=\"bk-logo bk-logo-small bk-logo-notebook\"></a>\n        <span id=\"1245\">Loading BokehJS ...</span>\n    </div>"
     },
     "metadata": {},
     "output_type": "display_data"
    },
    {
     "data": {
      "application/javascript": "\n(function(root) {\n  function now() {\n    return new Date();\n  }\n\n  var force = true;\n\n  if (typeof (root._bokeh_onload_callbacks) === \"undefined\" || force === true) {\n    root._bokeh_onload_callbacks = [];\n    root._bokeh_is_loading = undefined;\n  }\n\n  var JS_MIME_TYPE = 'application/javascript';\n  var HTML_MIME_TYPE = 'text/html';\n  var EXEC_MIME_TYPE = 'application/vnd.bokehjs_exec.v0+json';\n  var CLASS_NAME = 'output_bokeh rendered_html';\n\n  /**\n   * Render data to the DOM node\n   */\n  function render(props, node) {\n    var script = document.createElement(\"script\");\n    node.appendChild(script);\n  }\n\n  /**\n   * Handle when an output is cleared or removed\n   */\n  function handleClearOutput(event, handle) {\n    var cell = handle.cell;\n\n    var id = cell.output_area._bokeh_element_id;\n    var server_id = cell.output_area._bokeh_server_id;\n    // Clean up Bokeh references\n    if (id != null && id in Bokeh.index) {\n      Bokeh.index[id].model.document.clear();\n      delete Bokeh.index[id];\n    }\n\n    if (server_id !== undefined) {\n      // Clean up Bokeh references\n      var cmd = \"from bokeh.io.state import curstate; print(curstate().uuid_to_server['\" + server_id + \"'].get_sessions()[0].document.roots[0]._id)\";\n      cell.notebook.kernel.execute(cmd, {\n        iopub: {\n          output: function(msg) {\n            var id = msg.content.text.trim();\n            if (id in Bokeh.index) {\n              Bokeh.index[id].model.document.clear();\n              delete Bokeh.index[id];\n            }\n          }\n        }\n      });\n      // Destroy server and session\n      var cmd = \"import bokeh.io.notebook as ion; ion.destroy_server('\" + server_id + \"')\";\n      cell.notebook.kernel.execute(cmd);\n    }\n  }\n\n  /**\n   * Handle when a new output is added\n   */\n  function handleAddOutput(event, handle) {\n    var output_area = handle.output_area;\n    var output = handle.output;\n\n    // limit handleAddOutput to display_data with EXEC_MIME_TYPE content only\n    if ((output.output_type != \"display_data\") || (!output.data.hasOwnProperty(EXEC_MIME_TYPE))) {\n      return\n    }\n\n    var toinsert = output_area.element.find(\".\" + CLASS_NAME.split(' ')[0]);\n\n    if (output.metadata[EXEC_MIME_TYPE][\"id\"] !== undefined) {\n      toinsert[toinsert.length - 1].firstChild.textContent = output.data[JS_MIME_TYPE];\n      // store reference to embed id on output_area\n      output_area._bokeh_element_id = output.metadata[EXEC_MIME_TYPE][\"id\"];\n    }\n    if (output.metadata[EXEC_MIME_TYPE][\"server_id\"] !== undefined) {\n      var bk_div = document.createElement(\"div\");\n      bk_div.innerHTML = output.data[HTML_MIME_TYPE];\n      var script_attrs = bk_div.children[0].attributes;\n      for (var i = 0; i < script_attrs.length; i++) {\n        toinsert[toinsert.length - 1].firstChild.setAttribute(script_attrs[i].name, script_attrs[i].value);\n      }\n      // store reference to server id on output_area\n      output_area._bokeh_server_id = output.metadata[EXEC_MIME_TYPE][\"server_id\"];\n    }\n  }\n\n  function register_renderer(events, OutputArea) {\n\n    function append_mime(data, metadata, element) {\n      // create a DOM node to render to\n      var toinsert = this.create_output_subarea(\n        metadata,\n        CLASS_NAME,\n        EXEC_MIME_TYPE\n      );\n      this.keyboard_manager.register_events(toinsert);\n      // Render to node\n      var props = {data: data, metadata: metadata[EXEC_MIME_TYPE]};\n      render(props, toinsert[toinsert.length - 1]);\n      element.append(toinsert);\n      return toinsert\n    }\n\n    /* Handle when an output is cleared or removed */\n    events.on('clear_output.CodeCell', handleClearOutput);\n    events.on('delete.Cell', handleClearOutput);\n\n    /* Handle when a new output is added */\n    events.on('output_added.OutputArea', handleAddOutput);\n\n    /**\n     * Register the mime type and append_mime function with output_area\n     */\n    OutputArea.prototype.register_mime_type(EXEC_MIME_TYPE, append_mime, {\n      /* Is output safe? */\n      safe: true,\n      /* Index of renderer in `output_area.display_order` */\n      index: 0\n    });\n  }\n\n  // register the mime type if in Jupyter Notebook environment and previously unregistered\n  if (root.Jupyter !== undefined) {\n    var events = require('base/js/events');\n    var OutputArea = require('notebook/js/outputarea').OutputArea;\n\n    if (OutputArea.prototype.mime_types().indexOf(EXEC_MIME_TYPE) == -1) {\n      register_renderer(events, OutputArea);\n    }\n  }\n\n  \n  if (typeof (root._bokeh_timeout) === \"undefined\" || force === true) {\n    root._bokeh_timeout = Date.now() + 5000;\n    root._bokeh_failed_load = false;\n  }\n\n  var NB_LOAD_WARNING = {'data': {'text/html':\n     \"<div style='background-color: #fdd'>\\n\"+\n     \"<p>\\n\"+\n     \"BokehJS does not appear to have successfully loaded. If loading BokehJS from CDN, this \\n\"+\n     \"may be due to a slow or bad network connection. Possible fixes:\\n\"+\n     \"</p>\\n\"+\n     \"<ul>\\n\"+\n     \"<li>re-rerun `output_notebook()` to attempt to load from CDN again, or</li>\\n\"+\n     \"<li>use INLINE resources instead, as so:</li>\\n\"+\n     \"</ul>\\n\"+\n     \"<code>\\n\"+\n     \"from bokeh.resources import INLINE\\n\"+\n     \"output_notebook(resources=INLINE)\\n\"+\n     \"</code>\\n\"+\n     \"</div>\"}};\n\n  function display_loaded() {\n    var el = document.getElementById(\"1245\");\n    if (el != null) {\n      el.textContent = \"BokehJS is loading...\";\n    }\n    if (root.Bokeh !== undefined) {\n      if (el != null) {\n        el.textContent = \"BokehJS \" + root.Bokeh.version + \" successfully loaded.\";\n      }\n    } else if (Date.now() < root._bokeh_timeout) {\n      setTimeout(display_loaded, 100)\n    }\n  }\n\n\n  function run_callbacks() {\n    try {\n      root._bokeh_onload_callbacks.forEach(function(callback) { callback() });\n    }\n    finally {\n      delete root._bokeh_onload_callbacks\n    }\n    console.info(\"Bokeh: all callbacks have finished\");\n  }\n\n  function load_libs(js_urls, callback) {\n    root._bokeh_onload_callbacks.push(callback);\n    if (root._bokeh_is_loading > 0) {\n      console.log(\"Bokeh: BokehJS is being loaded, scheduling callback at\", now());\n      return null;\n    }\n    if (js_urls == null || js_urls.length === 0) {\n      run_callbacks();\n      return null;\n    }\n    console.log(\"Bokeh: BokehJS not loaded, scheduling load and callback at\", now());\n    root._bokeh_is_loading = js_urls.length;\n    for (var i = 0; i < js_urls.length; i++) {\n      var url = js_urls[i];\n      var s = document.createElement('script');\n      s.src = url;\n      s.async = false;\n      s.onreadystatechange = s.onload = function() {\n        root._bokeh_is_loading--;\n        if (root._bokeh_is_loading === 0) {\n          console.log(\"Bokeh: all BokehJS libraries loaded\");\n          run_callbacks()\n        }\n      };\n      s.onerror = function() {\n        console.warn(\"failed to load library \" + url);\n      };\n      console.log(\"Bokeh: injecting script tag for BokehJS library: \", url);\n      document.getElementsByTagName(\"head\")[0].appendChild(s);\n    }\n  };var element = document.getElementById(\"1245\");\n  if (element == null) {\n    console.log(\"Bokeh: ERROR: autoload.js configured with elementid '1245' but no matching script tag was found. \")\n    return false;\n  }\n\n  var js_urls = [\"https://cdn.pydata.org/bokeh/release/bokeh-1.0.4.min.js\", \"https://cdn.pydata.org/bokeh/release/bokeh-widgets-1.0.4.min.js\", \"https://cdn.pydata.org/bokeh/release/bokeh-tables-1.0.4.min.js\", \"https://cdn.pydata.org/bokeh/release/bokeh-gl-1.0.4.min.js\"];\n\n  var inline_js = [\n    function(Bokeh) {\n      Bokeh.set_log_level(\"info\");\n    },\n    \n    function(Bokeh) {\n      \n    },\n    function(Bokeh) {\n      console.log(\"Bokeh: injecting CSS: https://cdn.pydata.org/bokeh/release/bokeh-1.0.4.min.css\");\n      Bokeh.embed.inject_css(\"https://cdn.pydata.org/bokeh/release/bokeh-1.0.4.min.css\");\n      console.log(\"Bokeh: injecting CSS: https://cdn.pydata.org/bokeh/release/bokeh-widgets-1.0.4.min.css\");\n      Bokeh.embed.inject_css(\"https://cdn.pydata.org/bokeh/release/bokeh-widgets-1.0.4.min.css\");\n      console.log(\"Bokeh: injecting CSS: https://cdn.pydata.org/bokeh/release/bokeh-tables-1.0.4.min.css\");\n      Bokeh.embed.inject_css(\"https://cdn.pydata.org/bokeh/release/bokeh-tables-1.0.4.min.css\");\n    }\n  ];\n\n  function run_inline_js() {\n    \n    if ((root.Bokeh !== undefined) || (force === true)) {\n      for (var i = 0; i < inline_js.length; i++) {\n        inline_js[i].call(root, root.Bokeh);\n      }if (force === true) {\n        display_loaded();\n      }} else if (Date.now() < root._bokeh_timeout) {\n      setTimeout(run_inline_js, 100);\n    } else if (!root._bokeh_failed_load) {\n      console.log(\"Bokeh: BokehJS failed to load within specified timeout.\");\n      root._bokeh_failed_load = true;\n    } else if (force !== true) {\n      var cell = $(document.getElementById(\"1245\")).parents('.cell').data().cell;\n      cell.output_area.append_execute_result(NB_LOAD_WARNING)\n    }\n\n  }\n\n  if (root._bokeh_is_loading === 0) {\n    console.log(\"Bokeh: BokehJS loaded, going straight to plotting\");\n    run_inline_js();\n  } else {\n    load_libs(js_urls, function() {\n      console.log(\"Bokeh: BokehJS plotting callback run at\", now());\n      run_inline_js();\n    });\n  }\n}(window));",
      "application/vnd.bokehjs_load.v0+json": "\n(function(root) {\n  function now() {\n    return new Date();\n  }\n\n  var force = true;\n\n  if (typeof (root._bokeh_onload_callbacks) === \"undefined\" || force === true) {\n    root._bokeh_onload_callbacks = [];\n    root._bokeh_is_loading = undefined;\n  }\n\n  \n\n  \n  if (typeof (root._bokeh_timeout) === \"undefined\" || force === true) {\n    root._bokeh_timeout = Date.now() + 5000;\n    root._bokeh_failed_load = false;\n  }\n\n  var NB_LOAD_WARNING = {'data': {'text/html':\n     \"<div style='background-color: #fdd'>\\n\"+\n     \"<p>\\n\"+\n     \"BokehJS does not appear to have successfully loaded. If loading BokehJS from CDN, this \\n\"+\n     \"may be due to a slow or bad network connection. Possible fixes:\\n\"+\n     \"</p>\\n\"+\n     \"<ul>\\n\"+\n     \"<li>re-rerun `output_notebook()` to attempt to load from CDN again, or</li>\\n\"+\n     \"<li>use INLINE resources instead, as so:</li>\\n\"+\n     \"</ul>\\n\"+\n     \"<code>\\n\"+\n     \"from bokeh.resources import INLINE\\n\"+\n     \"output_notebook(resources=INLINE)\\n\"+\n     \"</code>\\n\"+\n     \"</div>\"}};\n\n  function display_loaded() {\n    var el = document.getElementById(\"1245\");\n    if (el != null) {\n      el.textContent = \"BokehJS is loading...\";\n    }\n    if (root.Bokeh !== undefined) {\n      if (el != null) {\n        el.textContent = \"BokehJS \" + root.Bokeh.version + \" successfully loaded.\";\n      }\n    } else if (Date.now() < root._bokeh_timeout) {\n      setTimeout(display_loaded, 100)\n    }\n  }\n\n\n  function run_callbacks() {\n    try {\n      root._bokeh_onload_callbacks.forEach(function(callback) { callback() });\n    }\n    finally {\n      delete root._bokeh_onload_callbacks\n    }\n    console.info(\"Bokeh: all callbacks have finished\");\n  }\n\n  function load_libs(js_urls, callback) {\n    root._bokeh_onload_callbacks.push(callback);\n    if (root._bokeh_is_loading > 0) {\n      console.log(\"Bokeh: BokehJS is being loaded, scheduling callback at\", now());\n      return null;\n    }\n    if (js_urls == null || js_urls.length === 0) {\n      run_callbacks();\n      return null;\n    }\n    console.log(\"Bokeh: BokehJS not loaded, scheduling load and callback at\", now());\n    root._bokeh_is_loading = js_urls.length;\n    for (var i = 0; i < js_urls.length; i++) {\n      var url = js_urls[i];\n      var s = document.createElement('script');\n      s.src = url;\n      s.async = false;\n      s.onreadystatechange = s.onload = function() {\n        root._bokeh_is_loading--;\n        if (root._bokeh_is_loading === 0) {\n          console.log(\"Bokeh: all BokehJS libraries loaded\");\n          run_callbacks()\n        }\n      };\n      s.onerror = function() {\n        console.warn(\"failed to load library \" + url);\n      };\n      console.log(\"Bokeh: injecting script tag for BokehJS library: \", url);\n      document.getElementsByTagName(\"head\")[0].appendChild(s);\n    }\n  };var element = document.getElementById(\"1245\");\n  if (element == null) {\n    console.log(\"Bokeh: ERROR: autoload.js configured with elementid '1245' but no matching script tag was found. \")\n    return false;\n  }\n\n  var js_urls = [\"https://cdn.pydata.org/bokeh/release/bokeh-1.0.4.min.js\", \"https://cdn.pydata.org/bokeh/release/bokeh-widgets-1.0.4.min.js\", \"https://cdn.pydata.org/bokeh/release/bokeh-tables-1.0.4.min.js\", \"https://cdn.pydata.org/bokeh/release/bokeh-gl-1.0.4.min.js\"];\n\n  var inline_js = [\n    function(Bokeh) {\n      Bokeh.set_log_level(\"info\");\n    },\n    \n    function(Bokeh) {\n      \n    },\n    function(Bokeh) {\n      console.log(\"Bokeh: injecting CSS: https://cdn.pydata.org/bokeh/release/bokeh-1.0.4.min.css\");\n      Bokeh.embed.inject_css(\"https://cdn.pydata.org/bokeh/release/bokeh-1.0.4.min.css\");\n      console.log(\"Bokeh: injecting CSS: https://cdn.pydata.org/bokeh/release/bokeh-widgets-1.0.4.min.css\");\n      Bokeh.embed.inject_css(\"https://cdn.pydata.org/bokeh/release/bokeh-widgets-1.0.4.min.css\");\n      console.log(\"Bokeh: injecting CSS: https://cdn.pydata.org/bokeh/release/bokeh-tables-1.0.4.min.css\");\n      Bokeh.embed.inject_css(\"https://cdn.pydata.org/bokeh/release/bokeh-tables-1.0.4.min.css\");\n    }\n  ];\n\n  function run_inline_js() {\n    \n    if ((root.Bokeh !== undefined) || (force === true)) {\n      for (var i = 0; i < inline_js.length; i++) {\n        inline_js[i].call(root, root.Bokeh);\n      }if (force === true) {\n        display_loaded();\n      }} else if (Date.now() < root._bokeh_timeout) {\n      setTimeout(run_inline_js, 100);\n    } else if (!root._bokeh_failed_load) {\n      console.log(\"Bokeh: BokehJS failed to load within specified timeout.\");\n      root._bokeh_failed_load = true;\n    } else if (force !== true) {\n      var cell = $(document.getElementById(\"1245\")).parents('.cell').data().cell;\n      cell.output_area.append_execute_result(NB_LOAD_WARNING)\n    }\n\n  }\n\n  if (root._bokeh_is_loading === 0) {\n    console.log(\"Bokeh: BokehJS loaded, going straight to plotting\");\n    run_inline_js();\n  } else {\n    load_libs(js_urls, function() {\n      console.log(\"Bokeh: BokehJS plotting callback run at\", now());\n      run_inline_js();\n    });\n  }\n}(window));"
     },
     "metadata": {},
     "output_type": "display_data"
    }
   ],
   "source": [
    "output_notebook()\n",
    "im = 3\n",
    "\n",
    "pf = figure(plot_width=800, plot_height=800,title=\"Parity Plot for BE Predictions on NEB Images with Computational Alchemy\")\n",
    "\n",
    "parity = Slope(gradient=1,y_intercept=0,)\n",
    "pf.add_layout(parity)\n",
    "\n",
    "colors = ['blue','green','red','yellow','magenta','cyan','indigo']\n",
    "pf.x_range=Range1d(-1,1)\n",
    "pf.y_range=Range1d(-1,1)\n",
    "\n",
    "r = []\n",
    "for i in range(chargelen):\n",
    "    source = ColumnDataSource(data=dict(\n",
    "                x=[d for d in dft_del_be[im][i]],\n",
    "                y=[a for a in alc_del_be[im][i]],\n",
    "                rad=[d/50 for d in distances[i]],\n",
    "                color=[colors[i]]*len(alc_del_be[im][i])))\n",
    "    r.append(pf.circle('x', 'y', radius='rad', fill_color ='color',source=source, line_color=\"black\", line_width=2, fill_alpha=0.5, legend='delZ = '+str(charge[i])))\n",
    "\n",
    "def update(neb_image):\n",
    "    neb_image = int(neb_image)\n",
    "    for i in range(chargelen):\n",
    "        r[i].data_source.data['x'] = dft_del_be[neb_image][i]\n",
    "        r[i].data_source.data['y'] = alc_del_be[neb_image][i]\n",
    "    push_notebook()"
   ]
  },
  {
   "cell_type": "code",
   "execution_count": 36,
   "metadata": {},
   "outputs": [
    {
     "data": {
      "text/html": "\n\n\n\n\n\n  <div class=\"bk-root\" id=\"a44f2ba9-7677-4603-86d6-c5d1a4c65b4a\" data-root-id=\"1247\"></div>\n"
     },
     "metadata": {},
     "output_type": "display_data"
    },
    {
     "data": {
      "application/javascript": "(function(root) {\n  function embed_document(root) {\n    \n  var docs_json = {\"10ef549c-c7ba-41cf-9bbb-7c63e2bba61a\":{\"roots\":{\"references\":[{\"attributes\":{\"below\":[{\"id\":\"1257\",\"type\":\"LinearAxis\"}],\"left\":[{\"id\":\"1262\",\"type\":\"LinearAxis\"}],\"plot_height\":800,\"plot_width\":800,\"renderers\":[{\"id\":\"1257\",\"type\":\"LinearAxis\"},{\"id\":\"1261\",\"type\":\"Grid\"},{\"id\":\"1262\",\"type\":\"LinearAxis\"},{\"id\":\"1266\",\"type\":\"Grid\"},{\"id\":\"1275\",\"type\":\"BoxAnnotation\"},{\"id\":\"1282\",\"type\":\"Slope\"},{\"id\":\"1297\",\"type\":\"Legend\"},{\"id\":\"1289\",\"type\":\"GlyphRenderer\"},{\"id\":\"1303\",\"type\":\"GlyphRenderer\"}],\"title\":{\"id\":\"1246\",\"type\":\"Title\"},\"toolbar\":{\"id\":\"1273\",\"type\":\"Toolbar\"},\"x_range\":{\"id\":\"1283\",\"type\":\"Range1d\"},\"x_scale\":{\"id\":\"1253\",\"type\":\"LinearScale\"},\"y_range\":{\"id\":\"1284\",\"type\":\"Range1d\"},\"y_scale\":{\"id\":\"1255\",\"type\":\"LinearScale\"}},\"id\":\"1247\",\"subtype\":\"Figure\",\"type\":\"Plot\"},{\"attributes\":{},\"id\":\"1268\",\"type\":\"WheelZoomTool\"},{\"attributes\":{\"formatter\":{\"id\":\"1295\",\"type\":\"BasicTickFormatter\"},\"plot\":{\"id\":\"1247\",\"subtype\":\"Figure\",\"type\":\"Plot\"},\"ticker\":{\"id\":\"1263\",\"type\":\"BasicTicker\"}},\"id\":\"1262\",\"type\":\"LinearAxis\"},{\"attributes\":{\"bottom_units\":\"screen\",\"fill_alpha\":{\"value\":0.5},\"fill_color\":{\"value\":\"lightgrey\"},\"left_units\":\"screen\",\"level\":\"overlay\",\"line_alpha\":{\"value\":1.0},\"line_color\":{\"value\":\"black\"},\"line_dash\":[4,4],\"line_width\":{\"value\":2},\"plot\":null,\"render_mode\":\"css\",\"right_units\":\"screen\",\"top_units\":\"screen\"},\"id\":\"1275\",\"type\":\"BoxAnnotation\"},{\"attributes\":{\"callback\":null,\"start\":-1},\"id\":\"1284\",\"type\":\"Range1d\"},{\"attributes\":{\"plot\":null,\"text\":\"Parity Plot for BE Predictions on NEB Images with Computational Alchemy\"},\"id\":\"1246\",\"type\":\"Title\"},{\"attributes\":{},\"id\":\"1253\",\"type\":\"LinearScale\"},{\"attributes\":{\"items\":[{\"id\":\"1298\",\"type\":\"LegendItem\"},{\"id\":\"1313\",\"type\":\"LegendItem\"}],\"plot\":{\"id\":\"1247\",\"subtype\":\"Figure\",\"type\":\"Plot\"}},\"id\":\"1297\",\"type\":\"Legend\"},{\"attributes\":{},\"id\":\"1293\",\"type\":\"BasicTickFormatter\"},{\"attributes\":{\"label\":{\"value\":\"delZ = -1\"},\"renderers\":[{\"id\":\"1303\",\"type\":\"GlyphRenderer\"}]},\"id\":\"1313\",\"type\":\"LegendItem\"},{\"attributes\":{\"callback\":null,\"data\":{\"color\":[\"blue\",\"blue\",\"blue\",\"blue\",\"blue\",\"blue\",\"blue\",\"blue\",\"blue\",\"blue\",\"blue\",\"blue\",\"blue\",\"blue\",\"blue\",\"blue\"],\"rad\":[0.0745404941945351,0.09296809515721537,0.09200509994195359,0.12105785292858444,0.16701765847395378,0.1364722700108376,0.20017949318944328,0.16644313902370442,0.0745404941945351,0.09296809515721537,0.09200509994195359,0.12105785292858444,0.16701765847395378,0.1364722700108376,0.20017949318944328,0.16644313902370442],\"x\":[-0.14949599999997076,-0.044853999999958205,-0.055864999999954534,-0.047472999999968124,-0.04957600000003026,-0.04761699999997404,-0.0605160000000069,-0.0553989999999942,-0.14962299999996276,-0.03988599999999565,-0.05398399999995718,-0.0455029999999681,-0.04998599999996145,-0.046750000000002956,-0.057738999999997986,-0.05427199999994059],\"y\":[-0.1991000000000014,-0.06550000000000011,-0.07099999999999795,-0.07119999999999038,-0.08150000000000546,-0.07980000000000587,-0.09370000000001255,-0.08970000000000766,-0.1967999999999961,-0.06319999999999482,-0.06869999999999266,-0.06889999999998508,-0.07920000000000016,-0.07750000000000057,-0.09140000000000725,-0.08740000000000236]},\"selected\":{\"id\":\"1311\",\"type\":\"Selection\"},\"selection_policy\":{\"id\":\"1310\",\"type\":\"UnionRenderers\"}},\"id\":\"1285\",\"type\":\"ColumnDataSource\"},{\"attributes\":{\"fill_alpha\":{\"value\":0.5},\"fill_color\":{\"field\":\"color\"},\"line_width\":{\"value\":2},\"radius\":{\"field\":\"rad\",\"units\":\"data\"},\"x\":{\"field\":\"x\"},\"y\":{\"field\":\"y\"}},\"id\":\"1287\",\"type\":\"Circle\"},{\"attributes\":{},\"id\":\"1270\",\"type\":\"SaveTool\"},{\"attributes\":{\"data_source\":{\"id\":\"1285\",\"type\":\"ColumnDataSource\"},\"glyph\":{\"id\":\"1287\",\"type\":\"Circle\"},\"hover_glyph\":null,\"muted_glyph\":null,\"nonselection_glyph\":{\"id\":\"1288\",\"type\":\"Circle\"},\"selection_glyph\":null,\"view\":{\"id\":\"1290\",\"type\":\"CDSView\"}},\"id\":\"1289\",\"type\":\"GlyphRenderer\"},{\"attributes\":{\"callback\":null,\"data\":{\"color\":[\"green\",\"green\",\"green\",\"green\",\"green\",\"green\",\"green\",\"green\",\"green\",\"green\",\"green\",\"green\",\"green\",\"green\",\"green\",\"green\"],\"rad\":[0.0745404941945351,0.09296809515721537,0.09200509994195359,0.12105785292858444,0.16701765847395378,0.1364722700108376,0.20017949318944328,0.16644313902370442,0.0745404941945351,0.09296809515721537,0.09200509994195359,0.12105785292858444,0.16701765847395378,0.1364722700108376,0.20017949318944328,0.16644313902370442],\"x\":[0.1466850000000477,0.02850800000001641,0.02752799999998956,0.034428000000019665,0.060119000000014466,0.06634900000003086,0.07287900000002878,0.06948900000003277,0.13747800000001575,0.029721000000023423,0.02612799999999993,0.03277900000003342,0.06157600000005914,0.05954900000003249,0.07243900000003123,0.06868900000003464],\"y\":[0.1991000000000014,0.06550000000000011,0.07099999999999795,0.07119999999999038,0.08150000000000546,0.07980000000000587,0.09370000000001255,0.08970000000000766,0.1967999999999961,0.06319999999999482,0.06869999999999266,0.06889999999998508,0.07920000000000016,0.07750000000000057,0.09140000000000725,0.08740000000000236]},\"selected\":{\"id\":\"1337\",\"type\":\"Selection\"},\"selection_policy\":{\"id\":\"1336\",\"type\":\"UnionRenderers\"}},\"id\":\"1299\",\"type\":\"ColumnDataSource\"},{\"attributes\":{},\"id\":\"1258\",\"type\":\"BasicTicker\"},{\"attributes\":{\"plot\":{\"id\":\"1247\",\"subtype\":\"Figure\",\"type\":\"Plot\"},\"ticker\":{\"id\":\"1258\",\"type\":\"BasicTicker\"}},\"id\":\"1261\",\"type\":\"Grid\"},{\"attributes\":{\"fill_alpha\":{\"value\":0.1},\"fill_color\":{\"value\":\"#1f77b4\"},\"line_alpha\":{\"value\":0.1},\"line_color\":{\"value\":\"#1f77b4\"},\"line_width\":{\"value\":2},\"radius\":{\"field\":\"rad\",\"units\":\"data\"},\"x\":{\"field\":\"x\"},\"y\":{\"field\":\"y\"}},\"id\":\"1288\",\"type\":\"Circle\"},{\"attributes\":{},\"id\":\"1272\",\"type\":\"HelpTool\"},{\"attributes\":{},\"id\":\"1255\",\"type\":\"LinearScale\"},{\"attributes\":{\"overlay\":{\"id\":\"1275\",\"type\":\"BoxAnnotation\"}},\"id\":\"1269\",\"type\":\"BoxZoomTool\"},{\"attributes\":{\"active_drag\":\"auto\",\"active_inspect\":\"auto\",\"active_multi\":null,\"active_scroll\":\"auto\",\"active_tap\":\"auto\",\"tools\":[{\"id\":\"1267\",\"type\":\"PanTool\"},{\"id\":\"1268\",\"type\":\"WheelZoomTool\"},{\"id\":\"1269\",\"type\":\"BoxZoomTool\"},{\"id\":\"1270\",\"type\":\"SaveTool\"},{\"id\":\"1271\",\"type\":\"ResetTool\"},{\"id\":\"1272\",\"type\":\"HelpTool\"}]},\"id\":\"1273\",\"type\":\"Toolbar\"},{\"attributes\":{\"gradient\":1,\"plot\":{\"id\":\"1247\",\"subtype\":\"Figure\",\"type\":\"Plot\"},\"y_intercept\":0},\"id\":\"1282\",\"type\":\"Slope\"},{\"attributes\":{\"dimension\":1,\"plot\":{\"id\":\"1247\",\"subtype\":\"Figure\",\"type\":\"Plot\"},\"ticker\":{\"id\":\"1263\",\"type\":\"BasicTicker\"}},\"id\":\"1266\",\"type\":\"Grid\"},{\"attributes\":{\"data_source\":{\"id\":\"1299\",\"type\":\"ColumnDataSource\"},\"glyph\":{\"id\":\"1301\",\"type\":\"Circle\"},\"hover_glyph\":null,\"muted_glyph\":null,\"nonselection_glyph\":{\"id\":\"1302\",\"type\":\"Circle\"},\"selection_glyph\":null,\"view\":{\"id\":\"1304\",\"type\":\"CDSView\"}},\"id\":\"1303\",\"type\":\"GlyphRenderer\"},{\"attributes\":{\"source\":{\"id\":\"1285\",\"type\":\"ColumnDataSource\"}},\"id\":\"1290\",\"type\":\"CDSView\"},{\"attributes\":{},\"id\":\"1336\",\"type\":\"UnionRenderers\"},{\"attributes\":{},\"id\":\"1295\",\"type\":\"BasicTickFormatter\"},{\"attributes\":{\"fill_alpha\":{\"value\":0.1},\"fill_color\":{\"value\":\"#1f77b4\"},\"line_alpha\":{\"value\":0.1},\"line_color\":{\"value\":\"#1f77b4\"},\"line_width\":{\"value\":2},\"radius\":{\"field\":\"rad\",\"units\":\"data\"},\"x\":{\"field\":\"x\"},\"y\":{\"field\":\"y\"}},\"id\":\"1302\",\"type\":\"Circle\"},{\"attributes\":{\"fill_alpha\":{\"value\":0.5},\"fill_color\":{\"field\":\"color\"},\"line_width\":{\"value\":2},\"radius\":{\"field\":\"rad\",\"units\":\"data\"},\"x\":{\"field\":\"x\"},\"y\":{\"field\":\"y\"}},\"id\":\"1301\",\"type\":\"Circle\"},{\"attributes\":{\"source\":{\"id\":\"1299\",\"type\":\"ColumnDataSource\"}},\"id\":\"1304\",\"type\":\"CDSView\"},{\"attributes\":{},\"id\":\"1337\",\"type\":\"Selection\"},{\"attributes\":{},\"id\":\"1310\",\"type\":\"UnionRenderers\"},{\"attributes\":{},\"id\":\"1267\",\"type\":\"PanTool\"},{\"attributes\":{\"formatter\":{\"id\":\"1293\",\"type\":\"BasicTickFormatter\"},\"plot\":{\"id\":\"1247\",\"subtype\":\"Figure\",\"type\":\"Plot\"},\"ticker\":{\"id\":\"1258\",\"type\":\"BasicTicker\"}},\"id\":\"1257\",\"type\":\"LinearAxis\"},{\"attributes\":{\"label\":{\"value\":\"delZ = 1\"},\"renderers\":[{\"id\":\"1289\",\"type\":\"GlyphRenderer\"}]},\"id\":\"1298\",\"type\":\"LegendItem\"},{\"attributes\":{},\"id\":\"1311\",\"type\":\"Selection\"},{\"attributes\":{\"callback\":null,\"start\":-1},\"id\":\"1283\",\"type\":\"Range1d\"},{\"attributes\":{},\"id\":\"1263\",\"type\":\"BasicTicker\"},{\"attributes\":{},\"id\":\"1271\",\"type\":\"ResetTool\"}],\"root_ids\":[\"1247\"]},\"title\":\"Bokeh Application\",\"version\":\"1.0.4\"}};\n  var render_items = [{\"docid\":\"10ef549c-c7ba-41cf-9bbb-7c63e2bba61a\",\"notebook_comms_target\":\"1339\",\"roots\":{\"1247\":\"a44f2ba9-7677-4603-86d6-c5d1a4c65b4a\"}}];\n  root.Bokeh.embed.embed_items_notebook(docs_json, render_items);\n\n  }\n  if (root.Bokeh !== undefined) {\n    embed_document(root);\n  } else {\n    var attempts = 0;\n    var timer = setInterval(function(root) {\n      if (root.Bokeh !== undefined) {\n        embed_document(root);\n        clearInterval(timer);\n      }\n      attempts++;\n      if (attempts > 100) {\n        console.log(\"Bokeh: ERROR: Unable to run BokehJS code because BokehJS library is missing\");\n        clearInterval(timer);\n      }\n    }, 10, root)\n  }\n})(window);",
      "application/vnd.bokehjs_exec.v0+json": ""
     },
     "metadata": {
      "application/vnd.bokehjs_exec.v0+json": {
       "id": "1247"
      }
     },
     "output_type": "display_data"
    },
    {
     "data": {
      "text/html": "<p><code>&lt;Bokeh Notebook handle for <strong>In[36]</strong>&gt;</code></p>",
      "text/plain": "<bokeh.io.notebook.CommsHandle at 0x25563669b00>"
     },
     "execution_count": 36,
     "metadata": {},
     "output_type": "execute_result"
    }
   ],
   "source": [
    "show(pf, notebook_handle=True)"
   ]
  },
  {
   "cell_type": "code",
   "execution_count": 37,
   "metadata": {},
   "outputs": [
    {
     "data": {
      "application/vnd.jupyter.widget-view+json": {
       "model_id": "8ddc030e3b17493891ef31e823213074",
       "version_major": 2,
       "version_minor": 0
      },
      "text/plain": "interactive(children=(Dropdown(description='neb_image', options=(0, 1, 2, 3, 4, 5, 6, 7, 8, 9), value=0), Outp…"
     },
     "metadata": {},
     "output_type": "display_data"
    },
    {
     "data": {
      "text/plain": "<function __main__.update(neb_image)>"
     },
     "execution_count": 37,
     "metadata": {},
     "output_type": "execute_result"
    }
   ],
   "source": [
    "interact(update, neb_image=[int(n) for n in np.linspace(0,9,10)])"
   ]
  },
  {
   "cell_type": "code",
   "execution_count": 38,
   "metadata": {},
   "outputs": [],
   "source": [
    "dft_ea = [[dft_del_be[5][i][j] - dft_del_be[0][i][j] for j in range(len(dft_del_be[0][i]))] for i in range(chargelen)]\n",
    "alc_ea = [[alc_del_be[5][i][j]-alc_del_be[0][i][j] for j in range(len(alc_del_be[0][i]))] for i in range(chargelen)]"
   ]
  },
  {
   "cell_type": "code",
   "execution_count": 39,
   "metadata": {},
   "outputs": [],
   "source": [
    "ea_abs_error = [[abs(alc_ea[i][j] - dft_ea[i][j]) for j in range(len(alc_ea[i]))] for i in range(chargelen)]\n",
    "ea_mean_abs_error = round(np.average(ea_abs_error),3)"
   ]
  },
  {
   "cell_type": "code",
   "execution_count": 40,
   "metadata": {},
   "outputs": [
    {
     "name": "stdout",
     "output_type": "stream",
     "text": "0.0.Ir0.Au12 -0.8077800000000082 -0.7267000000000081 0.08108000000000004\n0.1.Ir0.Au13 -0.00836000000001036 -0.05310000000000059 0.04473999999999023\n0.2.Ir0.Au14 -0.048570000000012215 -0.011499999999998067 0.03707000000001415\n0.3.Ir0.Au15 0.007530000000002701 -0.033699999999996066 0.04122999999999877\n0.4.Ir0.Au8 0.01099999999999568 0.03649999999998954 0.02549999999999386\n0.5.Ir0.Au9 0.010919999999998709 0.011199999999988108 0.00027999999998939984\n0.6.Ir0.Au10 -0.057390000000026475 -0.00940000000001362 0.047990000000012856\n0.7.Ir0.Au11 -0.02529000000004089 -0.006100000000003547 0.019190000000037344\n1.0.Ir1.Au12 -0.822829999999982 -0.7314000000000078 0.09142999999997414\n1.1.Ir1.Au13 -0.014130000000022847 -0.057800000000000296 0.04366999999997745\n1.2.Ir1.Au14 -0.05345000000002642 -0.016199999999997772 0.03725000000002865\n1.3.Ir1.Au15 0.00354999999998995 -0.03839999999999577 0.04194999999998572\n1.4.Ir1.Au8 0.017269999999996344 0.031799999999989836 0.014529999999993493\n1.5.Ir1.Au9 0.001519999999970878 0.006499999999988404 0.004980000000017526\n1.6.Ir1.Au10 -0.07433000000003176 -0.014100000000013324 0.060230000000018435\n1.7.Ir1.Au11 -0.038170000000064874 -0.010800000000003251 0.027370000000061623\n0.0.Au0.Ir12 0.428089999999969 0.7267000000000081 0.2986100000000391\n0.1.Au0.Ir13 0.026299999999991996 0.05310000000000059 0.026800000000008595\n0.2.Au0.Ir14 -0.043630000000007385 0.011499999999998067 0.05513000000000545\n0.3.Au0.Ir15 0.012729999999976371 0.033699999999996066 0.020970000000019695\n0.4.Au0.Ir8 -0.054200000000008686 -0.03649999999998954 0.017700000000019145\n0.5.Au0.Ir9 0.012889999999970314 -0.011199999999988108 0.024089999999958422\n0.6.Au0.Ir10 -0.021710000000012997 0.00940000000001362 0.031110000000026616\n0.7.Au0.Ir11 -0.007520000000027949 0.006100000000003547 0.013620000000031496\n1.0.Au1.Ir12 0.42517999999998324 0.7314000000000078 0.3062200000000246\n1.1.Au1.Ir13 0.02440999999998894 0.057800000000000296 0.033390000000011355\n1.2.Au1.Ir14 -0.042610000000024684 0.016199999999997772 0.058810000000022455\n1.3.Au1.Ir15 0.012939999999986185 0.03839999999999577 0.025460000000009586\n1.4.Au1.Ir8 -0.041010000000056834 -0.031799999999989836 0.009210000000066998\n1.5.Au1.Ir9 0.00309000000001447 -0.006499999999988404 0.009590000000002874\n1.6.Au1.Ir10 -0.026530000000008158 0.014100000000013324 0.04063000000002148\n1.7.Au1.Ir11 -0.00985000000005698 0.010800000000003251 0.02065000000006023\n"
    }
   ],
   "source": [
    "for i in range(chargelen):\n",
    "    for j in range(len(dft_ea[i])):\n",
    "        print(dir_slab[i][j],dft_ea[i][j],alc_ea[i][j],ea_abs_error[i][j])"
   ]
  },
  {
   "cell_type": "code",
   "execution_count": 41,
   "metadata": {},
   "outputs": [
    {
     "data": {
      "text/html": "\n    <div class=\"bk-root\">\n        <a href=\"https://bokeh.pydata.org\" target=\"_blank\" class=\"bk-logo bk-logo-small bk-logo-notebook\"></a>\n        <span id=\"1401\">Loading BokehJS ...</span>\n    </div>"
     },
     "metadata": {},
     "output_type": "display_data"
    },
    {
     "data": {
      "application/javascript": "\n(function(root) {\n  function now() {\n    return new Date();\n  }\n\n  var force = true;\n\n  if (typeof (root._bokeh_onload_callbacks) === \"undefined\" || force === true) {\n    root._bokeh_onload_callbacks = [];\n    root._bokeh_is_loading = undefined;\n  }\n\n  var JS_MIME_TYPE = 'application/javascript';\n  var HTML_MIME_TYPE = 'text/html';\n  var EXEC_MIME_TYPE = 'application/vnd.bokehjs_exec.v0+json';\n  var CLASS_NAME = 'output_bokeh rendered_html';\n\n  /**\n   * Render data to the DOM node\n   */\n  function render(props, node) {\n    var script = document.createElement(\"script\");\n    node.appendChild(script);\n  }\n\n  /**\n   * Handle when an output is cleared or removed\n   */\n  function handleClearOutput(event, handle) {\n    var cell = handle.cell;\n\n    var id = cell.output_area._bokeh_element_id;\n    var server_id = cell.output_area._bokeh_server_id;\n    // Clean up Bokeh references\n    if (id != null && id in Bokeh.index) {\n      Bokeh.index[id].model.document.clear();\n      delete Bokeh.index[id];\n    }\n\n    if (server_id !== undefined) {\n      // Clean up Bokeh references\n      var cmd = \"from bokeh.io.state import curstate; print(curstate().uuid_to_server['\" + server_id + \"'].get_sessions()[0].document.roots[0]._id)\";\n      cell.notebook.kernel.execute(cmd, {\n        iopub: {\n          output: function(msg) {\n            var id = msg.content.text.trim();\n            if (id in Bokeh.index) {\n              Bokeh.index[id].model.document.clear();\n              delete Bokeh.index[id];\n            }\n          }\n        }\n      });\n      // Destroy server and session\n      var cmd = \"import bokeh.io.notebook as ion; ion.destroy_server('\" + server_id + \"')\";\n      cell.notebook.kernel.execute(cmd);\n    }\n  }\n\n  /**\n   * Handle when a new output is added\n   */\n  function handleAddOutput(event, handle) {\n    var output_area = handle.output_area;\n    var output = handle.output;\n\n    // limit handleAddOutput to display_data with EXEC_MIME_TYPE content only\n    if ((output.output_type != \"display_data\") || (!output.data.hasOwnProperty(EXEC_MIME_TYPE))) {\n      return\n    }\n\n    var toinsert = output_area.element.find(\".\" + CLASS_NAME.split(' ')[0]);\n\n    if (output.metadata[EXEC_MIME_TYPE][\"id\"] !== undefined) {\n      toinsert[toinsert.length - 1].firstChild.textContent = output.data[JS_MIME_TYPE];\n      // store reference to embed id on output_area\n      output_area._bokeh_element_id = output.metadata[EXEC_MIME_TYPE][\"id\"];\n    }\n    if (output.metadata[EXEC_MIME_TYPE][\"server_id\"] !== undefined) {\n      var bk_div = document.createElement(\"div\");\n      bk_div.innerHTML = output.data[HTML_MIME_TYPE];\n      var script_attrs = bk_div.children[0].attributes;\n      for (var i = 0; i < script_attrs.length; i++) {\n        toinsert[toinsert.length - 1].firstChild.setAttribute(script_attrs[i].name, script_attrs[i].value);\n      }\n      // store reference to server id on output_area\n      output_area._bokeh_server_id = output.metadata[EXEC_MIME_TYPE][\"server_id\"];\n    }\n  }\n\n  function register_renderer(events, OutputArea) {\n\n    function append_mime(data, metadata, element) {\n      // create a DOM node to render to\n      var toinsert = this.create_output_subarea(\n        metadata,\n        CLASS_NAME,\n        EXEC_MIME_TYPE\n      );\n      this.keyboard_manager.register_events(toinsert);\n      // Render to node\n      var props = {data: data, metadata: metadata[EXEC_MIME_TYPE]};\n      render(props, toinsert[toinsert.length - 1]);\n      element.append(toinsert);\n      return toinsert\n    }\n\n    /* Handle when an output is cleared or removed */\n    events.on('clear_output.CodeCell', handleClearOutput);\n    events.on('delete.Cell', handleClearOutput);\n\n    /* Handle when a new output is added */\n    events.on('output_added.OutputArea', handleAddOutput);\n\n    /**\n     * Register the mime type and append_mime function with output_area\n     */\n    OutputArea.prototype.register_mime_type(EXEC_MIME_TYPE, append_mime, {\n      /* Is output safe? */\n      safe: true,\n      /* Index of renderer in `output_area.display_order` */\n      index: 0\n    });\n  }\n\n  // register the mime type if in Jupyter Notebook environment and previously unregistered\n  if (root.Jupyter !== undefined) {\n    var events = require('base/js/events');\n    var OutputArea = require('notebook/js/outputarea').OutputArea;\n\n    if (OutputArea.prototype.mime_types().indexOf(EXEC_MIME_TYPE) == -1) {\n      register_renderer(events, OutputArea);\n    }\n  }\n\n  \n  if (typeof (root._bokeh_timeout) === \"undefined\" || force === true) {\n    root._bokeh_timeout = Date.now() + 5000;\n    root._bokeh_failed_load = false;\n  }\n\n  var NB_LOAD_WARNING = {'data': {'text/html':\n     \"<div style='background-color: #fdd'>\\n\"+\n     \"<p>\\n\"+\n     \"BokehJS does not appear to have successfully loaded. If loading BokehJS from CDN, this \\n\"+\n     \"may be due to a slow or bad network connection. Possible fixes:\\n\"+\n     \"</p>\\n\"+\n     \"<ul>\\n\"+\n     \"<li>re-rerun `output_notebook()` to attempt to load from CDN again, or</li>\\n\"+\n     \"<li>use INLINE resources instead, as so:</li>\\n\"+\n     \"</ul>\\n\"+\n     \"<code>\\n\"+\n     \"from bokeh.resources import INLINE\\n\"+\n     \"output_notebook(resources=INLINE)\\n\"+\n     \"</code>\\n\"+\n     \"</div>\"}};\n\n  function display_loaded() {\n    var el = document.getElementById(\"1401\");\n    if (el != null) {\n      el.textContent = \"BokehJS is loading...\";\n    }\n    if (root.Bokeh !== undefined) {\n      if (el != null) {\n        el.textContent = \"BokehJS \" + root.Bokeh.version + \" successfully loaded.\";\n      }\n    } else if (Date.now() < root._bokeh_timeout) {\n      setTimeout(display_loaded, 100)\n    }\n  }\n\n\n  function run_callbacks() {\n    try {\n      root._bokeh_onload_callbacks.forEach(function(callback) { callback() });\n    }\n    finally {\n      delete root._bokeh_onload_callbacks\n    }\n    console.info(\"Bokeh: all callbacks have finished\");\n  }\n\n  function load_libs(js_urls, callback) {\n    root._bokeh_onload_callbacks.push(callback);\n    if (root._bokeh_is_loading > 0) {\n      console.log(\"Bokeh: BokehJS is being loaded, scheduling callback at\", now());\n      return null;\n    }\n    if (js_urls == null || js_urls.length === 0) {\n      run_callbacks();\n      return null;\n    }\n    console.log(\"Bokeh: BokehJS not loaded, scheduling load and callback at\", now());\n    root._bokeh_is_loading = js_urls.length;\n    for (var i = 0; i < js_urls.length; i++) {\n      var url = js_urls[i];\n      var s = document.createElement('script');\n      s.src = url;\n      s.async = false;\n      s.onreadystatechange = s.onload = function() {\n        root._bokeh_is_loading--;\n        if (root._bokeh_is_loading === 0) {\n          console.log(\"Bokeh: all BokehJS libraries loaded\");\n          run_callbacks()\n        }\n      };\n      s.onerror = function() {\n        console.warn(\"failed to load library \" + url);\n      };\n      console.log(\"Bokeh: injecting script tag for BokehJS library: \", url);\n      document.getElementsByTagName(\"head\")[0].appendChild(s);\n    }\n  };var element = document.getElementById(\"1401\");\n  if (element == null) {\n    console.log(\"Bokeh: ERROR: autoload.js configured with elementid '1401' but no matching script tag was found. \")\n    return false;\n  }\n\n  var js_urls = [\"https://cdn.pydata.org/bokeh/release/bokeh-1.0.4.min.js\", \"https://cdn.pydata.org/bokeh/release/bokeh-widgets-1.0.4.min.js\", \"https://cdn.pydata.org/bokeh/release/bokeh-tables-1.0.4.min.js\", \"https://cdn.pydata.org/bokeh/release/bokeh-gl-1.0.4.min.js\"];\n\n  var inline_js = [\n    function(Bokeh) {\n      Bokeh.set_log_level(\"info\");\n    },\n    \n    function(Bokeh) {\n      \n    },\n    function(Bokeh) {\n      console.log(\"Bokeh: injecting CSS: https://cdn.pydata.org/bokeh/release/bokeh-1.0.4.min.css\");\n      Bokeh.embed.inject_css(\"https://cdn.pydata.org/bokeh/release/bokeh-1.0.4.min.css\");\n      console.log(\"Bokeh: injecting CSS: https://cdn.pydata.org/bokeh/release/bokeh-widgets-1.0.4.min.css\");\n      Bokeh.embed.inject_css(\"https://cdn.pydata.org/bokeh/release/bokeh-widgets-1.0.4.min.css\");\n      console.log(\"Bokeh: injecting CSS: https://cdn.pydata.org/bokeh/release/bokeh-tables-1.0.4.min.css\");\n      Bokeh.embed.inject_css(\"https://cdn.pydata.org/bokeh/release/bokeh-tables-1.0.4.min.css\");\n    }\n  ];\n\n  function run_inline_js() {\n    \n    if ((root.Bokeh !== undefined) || (force === true)) {\n      for (var i = 0; i < inline_js.length; i++) {\n        inline_js[i].call(root, root.Bokeh);\n      }if (force === true) {\n        display_loaded();\n      }} else if (Date.now() < root._bokeh_timeout) {\n      setTimeout(run_inline_js, 100);\n    } else if (!root._bokeh_failed_load) {\n      console.log(\"Bokeh: BokehJS failed to load within specified timeout.\");\n      root._bokeh_failed_load = true;\n    } else if (force !== true) {\n      var cell = $(document.getElementById(\"1401\")).parents('.cell').data().cell;\n      cell.output_area.append_execute_result(NB_LOAD_WARNING)\n    }\n\n  }\n\n  if (root._bokeh_is_loading === 0) {\n    console.log(\"Bokeh: BokehJS loaded, going straight to plotting\");\n    run_inline_js();\n  } else {\n    load_libs(js_urls, function() {\n      console.log(\"Bokeh: BokehJS plotting callback run at\", now());\n      run_inline_js();\n    });\n  }\n}(window));",
      "application/vnd.bokehjs_load.v0+json": "\n(function(root) {\n  function now() {\n    return new Date();\n  }\n\n  var force = true;\n\n  if (typeof (root._bokeh_onload_callbacks) === \"undefined\" || force === true) {\n    root._bokeh_onload_callbacks = [];\n    root._bokeh_is_loading = undefined;\n  }\n\n  \n\n  \n  if (typeof (root._bokeh_timeout) === \"undefined\" || force === true) {\n    root._bokeh_timeout = Date.now() + 5000;\n    root._bokeh_failed_load = false;\n  }\n\n  var NB_LOAD_WARNING = {'data': {'text/html':\n     \"<div style='background-color: #fdd'>\\n\"+\n     \"<p>\\n\"+\n     \"BokehJS does not appear to have successfully loaded. If loading BokehJS from CDN, this \\n\"+\n     \"may be due to a slow or bad network connection. Possible fixes:\\n\"+\n     \"</p>\\n\"+\n     \"<ul>\\n\"+\n     \"<li>re-rerun `output_notebook()` to attempt to load from CDN again, or</li>\\n\"+\n     \"<li>use INLINE resources instead, as so:</li>\\n\"+\n     \"</ul>\\n\"+\n     \"<code>\\n\"+\n     \"from bokeh.resources import INLINE\\n\"+\n     \"output_notebook(resources=INLINE)\\n\"+\n     \"</code>\\n\"+\n     \"</div>\"}};\n\n  function display_loaded() {\n    var el = document.getElementById(\"1401\");\n    if (el != null) {\n      el.textContent = \"BokehJS is loading...\";\n    }\n    if (root.Bokeh !== undefined) {\n      if (el != null) {\n        el.textContent = \"BokehJS \" + root.Bokeh.version + \" successfully loaded.\";\n      }\n    } else if (Date.now() < root._bokeh_timeout) {\n      setTimeout(display_loaded, 100)\n    }\n  }\n\n\n  function run_callbacks() {\n    try {\n      root._bokeh_onload_callbacks.forEach(function(callback) { callback() });\n    }\n    finally {\n      delete root._bokeh_onload_callbacks\n    }\n    console.info(\"Bokeh: all callbacks have finished\");\n  }\n\n  function load_libs(js_urls, callback) {\n    root._bokeh_onload_callbacks.push(callback);\n    if (root._bokeh_is_loading > 0) {\n      console.log(\"Bokeh: BokehJS is being loaded, scheduling callback at\", now());\n      return null;\n    }\n    if (js_urls == null || js_urls.length === 0) {\n      run_callbacks();\n      return null;\n    }\n    console.log(\"Bokeh: BokehJS not loaded, scheduling load and callback at\", now());\n    root._bokeh_is_loading = js_urls.length;\n    for (var i = 0; i < js_urls.length; i++) {\n      var url = js_urls[i];\n      var s = document.createElement('script');\n      s.src = url;\n      s.async = false;\n      s.onreadystatechange = s.onload = function() {\n        root._bokeh_is_loading--;\n        if (root._bokeh_is_loading === 0) {\n          console.log(\"Bokeh: all BokehJS libraries loaded\");\n          run_callbacks()\n        }\n      };\n      s.onerror = function() {\n        console.warn(\"failed to load library \" + url);\n      };\n      console.log(\"Bokeh: injecting script tag for BokehJS library: \", url);\n      document.getElementsByTagName(\"head\")[0].appendChild(s);\n    }\n  };var element = document.getElementById(\"1401\");\n  if (element == null) {\n    console.log(\"Bokeh: ERROR: autoload.js configured with elementid '1401' but no matching script tag was found. \")\n    return false;\n  }\n\n  var js_urls = [\"https://cdn.pydata.org/bokeh/release/bokeh-1.0.4.min.js\", \"https://cdn.pydata.org/bokeh/release/bokeh-widgets-1.0.4.min.js\", \"https://cdn.pydata.org/bokeh/release/bokeh-tables-1.0.4.min.js\", \"https://cdn.pydata.org/bokeh/release/bokeh-gl-1.0.4.min.js\"];\n\n  var inline_js = [\n    function(Bokeh) {\n      Bokeh.set_log_level(\"info\");\n    },\n    \n    function(Bokeh) {\n      \n    },\n    function(Bokeh) {\n      console.log(\"Bokeh: injecting CSS: https://cdn.pydata.org/bokeh/release/bokeh-1.0.4.min.css\");\n      Bokeh.embed.inject_css(\"https://cdn.pydata.org/bokeh/release/bokeh-1.0.4.min.css\");\n      console.log(\"Bokeh: injecting CSS: https://cdn.pydata.org/bokeh/release/bokeh-widgets-1.0.4.min.css\");\n      Bokeh.embed.inject_css(\"https://cdn.pydata.org/bokeh/release/bokeh-widgets-1.0.4.min.css\");\n      console.log(\"Bokeh: injecting CSS: https://cdn.pydata.org/bokeh/release/bokeh-tables-1.0.4.min.css\");\n      Bokeh.embed.inject_css(\"https://cdn.pydata.org/bokeh/release/bokeh-tables-1.0.4.min.css\");\n    }\n  ];\n\n  function run_inline_js() {\n    \n    if ((root.Bokeh !== undefined) || (force === true)) {\n      for (var i = 0; i < inline_js.length; i++) {\n        inline_js[i].call(root, root.Bokeh);\n      }if (force === true) {\n        display_loaded();\n      }} else if (Date.now() < root._bokeh_timeout) {\n      setTimeout(run_inline_js, 100);\n    } else if (!root._bokeh_failed_load) {\n      console.log(\"Bokeh: BokehJS failed to load within specified timeout.\");\n      root._bokeh_failed_load = true;\n    } else if (force !== true) {\n      var cell = $(document.getElementById(\"1401\")).parents('.cell').data().cell;\n      cell.output_area.append_execute_result(NB_LOAD_WARNING)\n    }\n\n  }\n\n  if (root._bokeh_is_loading === 0) {\n    console.log(\"Bokeh: BokehJS loaded, going straight to plotting\");\n    run_inline_js();\n  } else {\n    load_libs(js_urls, function() {\n      console.log(\"Bokeh: BokehJS plotting callback run at\", now());\n      run_inline_js();\n    });\n  }\n}(window));"
     },
     "metadata": {},
     "output_type": "display_data"
    },
    {
     "data": {
      "text/html": "\n\n\n\n\n\n  <div class=\"bk-root\" id=\"ac85fee4-5a42-4dc1-85e9-beac2bc37e9f\" data-root-id=\"1403\"></div>\n"
     },
     "metadata": {},
     "output_type": "display_data"
    },
    {
     "data": {
      "application/javascript": "(function(root) {\n  function embed_document(root) {\n    \n  var docs_json = {\"df394ba7-1461-4136-816b-31ab313c22fd\":{\"roots\":{\"references\":[{\"attributes\":{\"below\":[{\"id\":\"1413\",\"type\":\"LinearAxis\"}],\"left\":[{\"id\":\"1418\",\"type\":\"LinearAxis\"}],\"plot_height\":800,\"plot_width\":800,\"renderers\":[{\"id\":\"1413\",\"type\":\"LinearAxis\"},{\"id\":\"1417\",\"type\":\"Grid\"},{\"id\":\"1418\",\"type\":\"LinearAxis\"},{\"id\":\"1422\",\"type\":\"Grid\"},{\"id\":\"1431\",\"type\":\"BoxAnnotation\"},{\"id\":\"1438\",\"type\":\"Slope\"},{\"id\":\"1451\",\"type\":\"Legend\"},{\"id\":\"1443\",\"type\":\"GlyphRenderer\"},{\"id\":\"1457\",\"type\":\"GlyphRenderer\"},{\"id\":\"1471\",\"type\":\"GlyphRenderer\"}],\"title\":{\"id\":\"1402\",\"type\":\"Title\"},\"toolbar\":{\"id\":\"1429\",\"type\":\"Toolbar\"},\"x_range\":{\"id\":\"1484\",\"type\":\"Range1d\"},\"x_scale\":{\"id\":\"1409\",\"type\":\"LinearScale\"},\"y_range\":{\"id\":\"1485\",\"type\":\"Range1d\"},\"y_scale\":{\"id\":\"1411\",\"type\":\"LinearScale\"}},\"id\":\"1403\",\"subtype\":\"Figure\",\"type\":\"Plot\"},{\"attributes\":{},\"id\":\"1464\",\"type\":\"UnionRenderers\"},{\"attributes\":{\"fill_color\":{\"value\":\"red\"},\"line_color\":{\"value\":\"red\"},\"line_width\":{\"value\":5},\"size\":{\"units\":\"screen\",\"value\":50},\"x\":{\"value\":0},\"y\":{\"value\":0}},\"id\":\"1469\",\"type\":\"Asterisk\"},{\"attributes\":{},\"id\":\"1428\",\"type\":\"HelpTool\"},{\"attributes\":{},\"id\":\"1465\",\"type\":\"Selection\"},{\"attributes\":{\"active_drag\":\"auto\",\"active_inspect\":\"auto\",\"active_multi\":null,\"active_scroll\":\"auto\",\"active_tap\":\"auto\",\"tools\":[{\"id\":\"1423\",\"type\":\"PanTool\"},{\"id\":\"1424\",\"type\":\"WheelZoomTool\"},{\"id\":\"1425\",\"type\":\"BoxZoomTool\"},{\"id\":\"1426\",\"type\":\"SaveTool\"},{\"id\":\"1427\",\"type\":\"ResetTool\"},{\"id\":\"1428\",\"type\":\"HelpTool\"}]},\"id\":\"1429\",\"type\":\"Toolbar\"},{\"attributes\":{\"label\":{\"value\":\"delZ = -1\"},\"renderers\":[{\"id\":\"1457\",\"type\":\"GlyphRenderer\"}]},\"id\":\"1467\",\"type\":\"LegendItem\"},{\"attributes\":{\"plot\":{\"id\":\"1403\",\"subtype\":\"Figure\",\"type\":\"Plot\"},\"ticker\":{\"id\":\"1414\",\"type\":\"BasicTicker\"}},\"id\":\"1417\",\"type\":\"Grid\"},{\"attributes\":{\"bottom_units\":\"screen\",\"fill_alpha\":{\"value\":0.5},\"fill_color\":{\"value\":\"lightgrey\"},\"left_units\":\"screen\",\"level\":\"overlay\",\"line_alpha\":{\"value\":1.0},\"line_color\":{\"value\":\"black\"},\"line_dash\":[4,4],\"line_width\":{\"value\":2},\"plot\":null,\"render_mode\":\"css\",\"right_units\":\"screen\",\"top_units\":\"screen\"},\"id\":\"1431\",\"type\":\"BoxAnnotation\"},{\"attributes\":{\"callback\":null,\"start\":-1},\"id\":\"1484\",\"type\":\"Range1d\"},{\"attributes\":{\"data_source\":{\"id\":\"1468\",\"type\":\"ColumnDataSource\"},\"glyph\":{\"id\":\"1469\",\"type\":\"Asterisk\"},\"hover_glyph\":null,\"muted_glyph\":null,\"nonselection_glyph\":{\"id\":\"1470\",\"type\":\"Asterisk\"},\"selection_glyph\":null,\"view\":{\"id\":\"1472\",\"type\":\"CDSView\"}},\"id\":\"1471\",\"type\":\"GlyphRenderer\"},{\"attributes\":{\"align\":\"center\",\"plot\":null,\"text\":\"Parity Plot for Barrier Height Predictions with Computational Alchemy\",\"text_font_size\":{\"value\":\"12pt\"}},\"id\":\"1402\",\"type\":\"Title\"},{\"attributes\":{\"source\":{\"id\":\"1468\",\"type\":\"ColumnDataSource\"}},\"id\":\"1472\",\"type\":\"CDSView\"},{\"attributes\":{\"fill_alpha\":{\"value\":0.5},\"fill_color\":{\"field\":\"color\"},\"line_width\":{\"value\":2},\"radius\":{\"field\":\"rad\",\"units\":\"data\"},\"x\":{\"field\":\"xx\"},\"y\":{\"field\":\"yy\"}},\"id\":\"1441\",\"type\":\"Circle\"},{\"attributes\":{},\"id\":\"1480\",\"type\":\"UnionRenderers\"},{\"attributes\":{\"fill_alpha\":{\"value\":0.1},\"fill_color\":{\"value\":\"#1f77b4\"},\"line_alpha\":{\"value\":0.1},\"line_color\":{\"value\":\"#1f77b4\"},\"line_width\":{\"value\":2},\"radius\":{\"field\":\"rad\",\"units\":\"data\"},\"x\":{\"field\":\"xx\"},\"y\":{\"field\":\"yy\"}},\"id\":\"1442\",\"type\":\"Circle\"},{\"attributes\":{},\"id\":\"1409\",\"type\":\"LinearScale\"},{\"attributes\":{},\"id\":\"1419\",\"type\":\"BasicTicker\"},{\"attributes\":{},\"id\":\"1481\",\"type\":\"Selection\"},{\"attributes\":{\"data_source\":{\"id\":\"1439\",\"type\":\"ColumnDataSource\"},\"glyph\":{\"id\":\"1441\",\"type\":\"Circle\"},\"hover_glyph\":null,\"muted_glyph\":null,\"nonselection_glyph\":{\"id\":\"1442\",\"type\":\"Circle\"},\"selection_glyph\":null,\"view\":{\"id\":\"1444\",\"type\":\"CDSView\"}},\"id\":\"1443\",\"type\":\"GlyphRenderer\"},{\"attributes\":{},\"id\":\"1411\",\"type\":\"LinearScale\"},{\"attributes\":{\"label\":{\"value\":\"Ea_ref\"},\"renderers\":[{\"id\":\"1471\",\"type\":\"GlyphRenderer\"}]},\"id\":\"1483\",\"type\":\"LegendItem\"},{\"attributes\":{\"source\":{\"id\":\"1439\",\"type\":\"ColumnDataSource\"}},\"id\":\"1444\",\"type\":\"CDSView\"},{\"attributes\":{\"axis_label\":\"DFT\",\"axis_label_text_font_size\":{\"value\":\"18pt\"},\"axis_label_text_font_style\":\"bold\",\"formatter\":{\"id\":\"1447\",\"type\":\"BasicTickFormatter\"},\"major_label_text_font_size\":{\"value\":\"14pt\"},\"major_label_text_font_style\":\"bold\",\"major_tick_line_width\":{\"value\":2},\"plot\":{\"id\":\"1403\",\"subtype\":\"Figure\",\"type\":\"Plot\"},\"ticker\":{\"id\":\"1414\",\"type\":\"BasicTicker\"}},\"id\":\"1413\",\"type\":\"LinearAxis\"},{\"attributes\":{},\"id\":\"1447\",\"type\":\"BasicTickFormatter\"},{\"attributes\":{\"callback\":null,\"start\":-1},\"id\":\"1485\",\"type\":\"Range1d\"},{\"attributes\":{},\"id\":\"1414\",\"type\":\"BasicTicker\"},{\"attributes\":{},\"id\":\"1449\",\"type\":\"BasicTickFormatter\"},{\"attributes\":{\"fill_alpha\":{\"value\":0.1},\"fill_color\":{\"value\":\"#1f77b4\"},\"line_alpha\":{\"value\":0.1},\"line_color\":{\"value\":\"#1f77b4\"},\"line_width\":{\"value\":5},\"size\":{\"units\":\"screen\",\"value\":50},\"x\":{\"value\":0},\"y\":{\"value\":0}},\"id\":\"1470\",\"type\":\"Asterisk\"},{\"attributes\":{\"dimension\":1,\"plot\":{\"id\":\"1403\",\"subtype\":\"Figure\",\"type\":\"Plot\"},\"ticker\":{\"id\":\"1419\",\"type\":\"BasicTicker\"}},\"id\":\"1422\",\"type\":\"Grid\"},{\"attributes\":{\"callback\":null,\"data\":{},\"selected\":{\"id\":\"1521\",\"type\":\"Selection\"},\"selection_policy\":{\"id\":\"1520\",\"type\":\"UnionRenderers\"}},\"id\":\"1468\",\"type\":\"ColumnDataSource\"},{\"attributes\":{\"label\":{\"value\":\"delZ = 1\"},\"renderers\":[{\"id\":\"1443\",\"type\":\"GlyphRenderer\"}]},\"id\":\"1452\",\"type\":\"LegendItem\"},{\"attributes\":{\"callback\":null,\"data\":{\"color\":[\"blue\",\"blue\",\"blue\",\"blue\",\"blue\",\"blue\",\"blue\",\"blue\",\"blue\",\"blue\",\"blue\",\"blue\",\"blue\",\"blue\",\"blue\",\"blue\"],\"rad\":[0.0745404941945351,0.09296809515721537,0.09200509994195359,0.12105785292858444,0.16701765847395378,0.1364722700108376,0.20017949318944328,0.16644313902370442,0.0745404941945351,0.09296809515721537,0.09200509994195359,0.12105785292858444,0.16701765847395378,0.1364722700108376,0.20017949318944328,0.16644313902370442],\"xx\":[-0.8077800000000082,-0.00836000000001036,-0.048570000000012215,0.007530000000002701,0.01099999999999568,0.010919999999998709,-0.057390000000026475,-0.02529000000004089,-0.822829999999982,-0.014130000000022847,-0.05345000000002642,0.00354999999998995,0.017269999999996344,0.001519999999970878,-0.07433000000003176,-0.038170000000064874],\"yy\":[-0.7267000000000081,-0.05310000000000059,-0.011499999999998067,-0.033699999999996066,0.03649999999998954,0.011199999999988108,-0.00940000000001362,-0.006100000000003547,-0.7314000000000078,-0.057800000000000296,-0.016199999999997772,-0.03839999999999577,0.031799999999989836,0.006499999999988404,-0.014100000000013324,-0.010800000000003251]},\"selected\":{\"id\":\"1465\",\"type\":\"Selection\"},\"selection_policy\":{\"id\":\"1464\",\"type\":\"UnionRenderers\"}},\"id\":\"1439\",\"type\":\"ColumnDataSource\"},{\"attributes\":{},\"id\":\"1520\",\"type\":\"UnionRenderers\"},{\"attributes\":{\"gradient\":1,\"plot\":{\"id\":\"1403\",\"subtype\":\"Figure\",\"type\":\"Plot\"},\"y_intercept\":0},\"id\":\"1438\",\"type\":\"Slope\"},{\"attributes\":{\"callback\":null,\"data\":{\"color\":[\"green\",\"green\",\"green\",\"green\",\"green\",\"green\",\"green\",\"green\",\"green\",\"green\",\"green\",\"green\",\"green\",\"green\",\"green\",\"green\"],\"rad\":[0.0745404941945351,0.09296809515721537,0.09200509994195359,0.12105785292858444,0.16701765847395378,0.1364722700108376,0.20017949318944328,0.16644313902370442,0.0745404941945351,0.09296809515721537,0.09200509994195359,0.12105785292858444,0.16701765847395378,0.1364722700108376,0.20017949318944328,0.16644313902370442],\"xx\":[0.428089999999969,0.026299999999991996,-0.043630000000007385,0.012729999999976371,-0.054200000000008686,0.012889999999970314,-0.021710000000012997,-0.007520000000027949,0.42517999999998324,0.02440999999998894,-0.042610000000024684,0.012939999999986185,-0.041010000000056834,0.00309000000001447,-0.026530000000008158,-0.00985000000005698],\"yy\":[0.7267000000000081,0.05310000000000059,0.011499999999998067,0.033699999999996066,-0.03649999999998954,-0.011199999999988108,0.00940000000001362,0.006100000000003547,0.7314000000000078,0.057800000000000296,0.016199999999997772,0.03839999999999577,-0.031799999999989836,-0.006499999999988404,0.014100000000013324,0.010800000000003251]},\"selected\":{\"id\":\"1481\",\"type\":\"Selection\"},\"selection_policy\":{\"id\":\"1480\",\"type\":\"UnionRenderers\"}},\"id\":\"1453\",\"type\":\"ColumnDataSource\"},{\"attributes\":{},\"id\":\"1521\",\"type\":\"Selection\"},{\"attributes\":{},\"id\":\"1423\",\"type\":\"PanTool\"},{\"attributes\":{\"axis_label\":\"Alchemy\",\"axis_label_text_font_size\":{\"value\":\"18pt\"},\"axis_label_text_font_style\":\"bold\",\"formatter\":{\"id\":\"1449\",\"type\":\"BasicTickFormatter\"},\"major_label_text_font_size\":{\"value\":\"14pt\"},\"major_label_text_font_style\":\"bold\",\"major_tick_line_width\":{\"value\":2},\"plot\":{\"id\":\"1403\",\"subtype\":\"Figure\",\"type\":\"Plot\"},\"ticker\":{\"id\":\"1419\",\"type\":\"BasicTicker\"}},\"id\":\"1418\",\"type\":\"LinearAxis\"},{\"attributes\":{\"click_policy\":\"hide\",\"glyph_height\":65,\"glyph_width\":65,\"items\":[{\"id\":\"1452\",\"type\":\"LegendItem\"},{\"id\":\"1467\",\"type\":\"LegendItem\"},{\"id\":\"1483\",\"type\":\"LegendItem\"}],\"label_text_font_size\":{\"value\":\"18pt\"},\"location\":\"top_left\",\"plot\":{\"id\":\"1403\",\"subtype\":\"Figure\",\"type\":\"Plot\"}},\"id\":\"1451\",\"type\":\"Legend\"},{\"attributes\":{},\"id\":\"1424\",\"type\":\"WheelZoomTool\"},{\"attributes\":{\"fill_alpha\":{\"value\":0.5},\"fill_color\":{\"field\":\"color\"},\"line_width\":{\"value\":2},\"radius\":{\"field\":\"rad\",\"units\":\"data\"},\"x\":{\"field\":\"xx\"},\"y\":{\"field\":\"yy\"}},\"id\":\"1455\",\"type\":\"Circle\"},{\"attributes\":{\"overlay\":{\"id\":\"1431\",\"type\":\"BoxAnnotation\"}},\"id\":\"1425\",\"type\":\"BoxZoomTool\"},{\"attributes\":{\"fill_alpha\":{\"value\":0.1},\"fill_color\":{\"value\":\"#1f77b4\"},\"line_alpha\":{\"value\":0.1},\"line_color\":{\"value\":\"#1f77b4\"},\"line_width\":{\"value\":2},\"radius\":{\"field\":\"rad\",\"units\":\"data\"},\"x\":{\"field\":\"xx\"},\"y\":{\"field\":\"yy\"}},\"id\":\"1456\",\"type\":\"Circle\"},{\"attributes\":{},\"id\":\"1426\",\"type\":\"SaveTool\"},{\"attributes\":{\"data_source\":{\"id\":\"1453\",\"type\":\"ColumnDataSource\"},\"glyph\":{\"id\":\"1455\",\"type\":\"Circle\"},\"hover_glyph\":null,\"muted_glyph\":null,\"nonselection_glyph\":{\"id\":\"1456\",\"type\":\"Circle\"},\"selection_glyph\":null,\"view\":{\"id\":\"1458\",\"type\":\"CDSView\"}},\"id\":\"1457\",\"type\":\"GlyphRenderer\"},{\"attributes\":{},\"id\":\"1427\",\"type\":\"ResetTool\"},{\"attributes\":{\"source\":{\"id\":\"1453\",\"type\":\"ColumnDataSource\"}},\"id\":\"1458\",\"type\":\"CDSView\"}],\"root_ids\":[\"1403\"]},\"title\":\"Bokeh Application\",\"version\":\"1.0.4\"}};\n  var render_items = [{\"docid\":\"df394ba7-1461-4136-816b-31ab313c22fd\",\"roots\":{\"1403\":\"ac85fee4-5a42-4dc1-85e9-beac2bc37e9f\"}}];\n  root.Bokeh.embed.embed_items_notebook(docs_json, render_items);\n\n  }\n  if (root.Bokeh !== undefined) {\n    embed_document(root);\n  } else {\n    var attempts = 0;\n    var timer = setInterval(function(root) {\n      if (root.Bokeh !== undefined) {\n        embed_document(root);\n        clearInterval(timer);\n      }\n      attempts++;\n      if (attempts > 100) {\n        console.log(\"Bokeh: ERROR: Unable to run BokehJS code because BokehJS library is missing\");\n        clearInterval(timer);\n      }\n    }, 10, root)\n  }\n})(window);",
      "application/vnd.bokehjs_exec.v0+json": ""
     },
     "metadata": {
      "application/vnd.bokehjs_exec.v0+json": {
       "id": "1403"
      }
     },
     "output_type": "display_data"
    }
   ],
   "source": [
    "output_notebook()\n",
    "\n",
    "pf2 = figure(plot_width=800, plot_height=800, title=\"Parity Plot for Barrier Height Predictions with Computational Alchemy\")\n",
    "\n",
    "\n",
    "pf2.xaxis.axis_label = \"DFT\"\n",
    "pf2.xaxis.axis_label_text_font_style = \"bold\"\n",
    "pf2.xaxis.axis_label_text_font_size = \"18pt\"\n",
    "pf2.xaxis.major_label_text_font_size = \"14pt\"\n",
    "pf2.xaxis.major_label_text_font_style = \"bold\"\n",
    "pf2.xaxis.major_tick_line_width = 2\n",
    "\n",
    "pf2.yaxis.axis_label = \"Alchemy\"\n",
    "pf2.yaxis.axis_label_text_font_style = \"bold\"\n",
    "pf2.yaxis.axis_label_text_font_size = \"18pt\"\n",
    "pf2.yaxis.major_label_text_font_size = \"14pt\"\n",
    "pf2.yaxis.major_label_text_font_style = \"bold\"\n",
    "pf2.yaxis.major_tick_line_width = 2\n",
    "\n",
    "pf2.title.text_font_size = '12pt'\n",
    "pf2.title.align = 'center'\n",
    "\n",
    "parity = Slope(gradient=1,y_intercept=0,)\n",
    "pf2.add_layout(parity)\n",
    "\n",
    "colors = ['blue','green','red','yellow','magenta','cyan','indigo']\n",
    "mx = []\n",
    "mn =[]\n",
    "for i in range(chargelen):\n",
    "    mx.append(max(dft_ea[i]+alc_ea[i]))\n",
    "    mn.append(min(dft_ea[i]+alc_ea[i]))\n",
    "    source2 = ColumnDataSource(data=dict(\n",
    "            xx=[d for d in dft_ea[i]],\n",
    "            yy=[a for a in alc_ea[i]],\n",
    "            rad=[d/50 for d in distances[i]],\n",
    "            color=[colors[i]]*len(alc_ea[i])))\n",
    "    pf2.circle('xx', 'yy', radius='rad', fill_color ='color',source=source2, line_color=\"black\", line_width=2, fill_alpha=0.5, legend='delZ = '+str(charge[i]))\n",
    "\n",
    "pf2.asterisk(0,0,size=50,line_width=5,color='red',legend='Ea_ref')\n",
    "\n",
    "#pf2.x_range=Range1d(min(mn)*0.95,max(mx)*1.05)\n",
    "#pf2.y_range=Range1d(min(mn)*0.95,max(mx)*1.05)\n",
    "pf2.x_range=Range1d(-1,1)\n",
    "pf2.y_range=Range1d(-1,1)\n",
    "\n",
    "pf2.legend.location = \"top_left\"\n",
    "pf2.legend.click_policy = \"hide\"\n",
    "pf2.legend.label_text_font_size = \"18pt\"\n",
    "pf2.legend.glyph_height = 65\n",
    "pf2.legend.glyph_width = 65\n",
    "show(pf2)"
   ]
  },
  {
   "cell_type": "code",
   "execution_count": 45,
   "metadata": {},
   "outputs": [
    {
     "name": "stdout",
     "output_type": "stream",
     "text": "labels image number  DFT Binding Energy  Alchemy Binding Energy  \\\n0    0.0.Ir0.Au12            1           -0.063566                 -0.0964   \n1    0.1.Ir0.Au13            1           -0.048324                 -0.0756   \n2    0.2.Ir0.Au14            1           -0.052155                 -0.0766   \n3    0.3.Ir0.Au15            1           -0.049953                 -0.0774   \n4     0.4.Ir0.Au8            1           -0.046856                 -0.0771   \n5     0.5.Ir0.Au9            1           -0.045077                 -0.0763   \n6    0.6.Ir0.Au10            1           -0.047016                 -0.0763   \n7    0.7.Ir0.Au11            1           -0.046769                 -0.0772   \n8    1.0.Ir1.Au12            1           -0.064623                 -0.0967   \n9    1.1.Ir1.Au13            1           -0.047496                 -0.0759   \n10   1.2.Ir1.Au14            1           -0.052414                 -0.0769   \n11   1.3.Ir1.Au15            1           -0.050053                 -0.0777   \n12    1.4.Ir1.Au8            1           -0.046606                 -0.0774   \n13    1.5.Ir1.Au9            1           -0.046280                 -0.0766   \n14   1.6.Ir1.Au10            1           -0.046279                 -0.0766   \n15   1.7.Ir1.Au11            1           -0.047262                 -0.0775   \n16   0.0.Au0.Ir12            1            0.074555                  0.0964   \n17   0.1.Au0.Ir13            1            0.053518                  0.0756   \n18   0.2.Au0.Ir14            1            0.052398                  0.0766   \n19   0.3.Au0.Ir15            1            0.055008                  0.0774   \n20    0.4.Au0.Ir8            1            0.060779                  0.0771   \n21    0.5.Au0.Ir9            1            0.065829                  0.0763   \n22   0.6.Au0.Ir10            1            0.059889                  0.0763   \n23   0.7.Au0.Ir11            1            0.061809                  0.0772   \n24   1.0.Au1.Ir12            1            0.072068                  0.0967   \n25   1.1.Au1.Ir13            1            0.055111                  0.0759   \n26   1.2.Au1.Ir14            1            0.052288                  0.0769   \n27   1.3.Au1.Ir15            1            0.055109                  0.0777   \n28    1.4.Au1.Ir8            1            0.066206                  0.0774   \n29    1.5.Au1.Ir9            1            0.060739                  0.0766   \n..            ...          ...                 ...                     ...   \n290  0.2.Ir0.Au14           10           -0.863005                 -0.6629   \n291  0.3.Ir0.Au15           10           -0.130543                 -0.2227   \n292   0.4.Ir0.Au8           10           -0.102606                 -0.0457   \n293   0.5.Ir0.Au9           10           -0.098747                 -0.1089   \n294  0.6.Ir0.Au10           10           -0.096846                 -0.0471   \n295  0.7.Ir0.Au11           10           -0.082309                 -0.0711   \n296  1.0.Ir1.Au12           10           -0.692853                 -0.4850   \n297  1.1.Ir1.Au13           10           -0.132586                 -0.2174   \n298  1.2.Ir1.Au14           10           -0.859744                 -0.6602   \n299  1.3.Ir1.Au15           10           -0.124193                 -0.2200   \n300   1.4.Ir1.Au8           10           -0.075956                 -0.0430   \n301   1.5.Ir1.Au9           10           -0.118120                 -0.1062   \n302  1.6.Ir1.Au10           10           -0.100579                 -0.0444   \n303  1.7.Ir1.Au11           10           -0.094942                 -0.0684   \n304  0.0.Au0.Ir12           10            0.207865                  0.4877   \n305  0.1.Au0.Ir13           10            0.163828                  0.2201   \n306  0.2.Au0.Ir14           10            0.302648                  0.6629   \n307  0.3.Au0.Ir15           10            0.166618                  0.2227   \n308   0.4.Au0.Ir8           10           -0.030271                  0.0457   \n309   0.5.Au0.Ir9           10            0.102109                  0.1089   \n310  0.6.Au0.Ir10           10           -0.023481                  0.0471   \n311  0.7.Au0.Ir11           10            0.040149                  0.0711   \n312  1.0.Au1.Ir12           10            0.199728                  0.4850   \n313  1.1.Au1.Ir13           10            0.157811                  0.2174   \n314  1.2.Au1.Ir14           10            0.294808                  0.6602   \n315  1.3.Au1.Ir15           10            0.163289                  0.2200   \n316   1.4.Au1.Ir8           10           -0.003914                  0.0430   \n317   1.5.Au1.Ir9           10            0.070439                  0.1062   \n318  1.6.Au1.Ir10           10           -0.030211                  0.0444   \n319  1.7.Au1.Ir11           10            0.028789                  0.0684   \n\n     BE Absolute Errors Transmutation Site Index  \\\n0              0.032834                       12   \n1              0.027276                       13   \n2              0.024445                       14   \n3              0.027447                       15   \n4              0.030244                        8   \n5              0.031223                        9   \n6              0.029284                       10   \n7              0.030431                       11   \n8              0.032077                       12   \n9              0.028404                       13   \n10             0.024486                       14   \n11             0.027647                       15   \n12             0.030794                        8   \n13             0.030320                        9   \n14             0.030321                       10   \n15             0.030238                       11   \n16             0.021845                       12   \n17             0.022082                       13   \n18             0.024202                       14   \n19             0.022392                       15   \n20             0.016321                        8   \n21             0.010471                        9   \n22             0.016411                       10   \n23             0.015391                       11   \n24             0.024632                       12   \n25             0.020789                       13   \n26             0.024612                       14   \n27             0.022591                       15   \n28             0.011194                        8   \n29             0.015861                        9   \n..                  ...                      ...   \n290            0.200105                       14   \n291            0.092157                       15   \n292            0.056906                        8   \n293            0.010153                        9   \n294            0.049746                       10   \n295            0.011209                       11   \n296            0.207853                       12   \n297            0.084814                       13   \n298            0.199544                       14   \n299            0.095807                       15   \n300            0.032956                        8   \n301            0.011920                        9   \n302            0.056179                       10   \n303            0.026542                       11   \n304            0.279835                       12   \n305            0.056272                       13   \n306            0.360252                       14   \n307            0.056082                       15   \n308            0.075971                        8   \n309            0.006791                        9   \n310            0.070581                       10   \n311            0.030951                       11   \n312            0.285272                       12   \n313            0.059589                       13   \n314            0.365392                       14   \n315            0.056711                       15   \n316            0.046914                        8   \n317            0.035761                        9   \n318            0.074611                       10   \n319            0.039611                       11   \n\n     ESP Difference at Transmute Site  DFT Activation Energy  \\\n0                             -0.5763               -0.80778   \n1                             -0.5555               -0.00836   \n2                             -0.5565               -0.04857   \n3                             -0.5573                0.00753   \n4                             -0.5570                0.01100   \n5                             -0.5562                0.01092   \n6                             -0.5562               -0.05739   \n7                             -0.5571               -0.02529   \n8                             -0.5763               -0.82283   \n9                             -0.5555               -0.01413   \n10                            -0.5565               -0.05345   \n11                            -0.5573                0.00355   \n12                            -0.5570                0.01727   \n13                            -0.5562                0.00152   \n14                            -0.5562               -0.07433   \n15                            -0.5571               -0.03817   \n16                            -0.5763                0.42809   \n17                            -0.5555                0.02630   \n18                            -0.5565               -0.04363   \n19                            -0.5573                0.01273   \n20                            -0.5570               -0.05420   \n21                            -0.5562                0.01289   \n22                            -0.5562               -0.02171   \n23                            -0.5571               -0.00752   \n24                            -0.5763                0.42518   \n25                            -0.5555                0.02441   \n26                            -0.5565               -0.04261   \n27                            -0.5573                0.01294   \n28                            -0.5570               -0.04101   \n29                            -0.5562                0.00309   \n..                                ...                    ...   \n290                           -0.8213               -0.04857   \n291                           -0.3811                0.00753   \n292                           -0.2041                0.01100   \n293                           -0.2673                0.01092   \n294                           -0.2055               -0.05739   \n295                           -0.2295               -0.02529   \n296                           -0.6461               -0.82283   \n297                           -0.3785               -0.01413   \n298                           -0.8213               -0.05345   \n299                           -0.3811                0.00355   \n300                           -0.2041                0.01727   \n301                           -0.2673                0.00152   \n302                           -0.2055               -0.07433   \n303                           -0.2295               -0.03817   \n304                           -0.6461                0.42809   \n305                           -0.3785                0.02630   \n306                           -0.8213               -0.04363   \n307                           -0.3811                0.01273   \n308                           -0.2041               -0.05420   \n309                           -0.2673                0.01289   \n310                           -0.2055               -0.02171   \n311                           -0.2295               -0.00752   \n312                           -0.6461                0.42518   \n313                           -0.3785                0.02441   \n314                           -0.8213               -0.04261   \n315                           -0.3811                0.01294   \n316                           -0.2041               -0.04101   \n317                           -0.2673                0.00309   \n318                           -0.2055               -0.02653   \n319                           -0.2295               -0.00985   \n\n     Alchemy Activation Energy  Ea Absolute Errors  \n0                      -0.7267             0.08108  \n1                      -0.0531             0.04474  \n2                      -0.0115             0.03707  \n3                      -0.0337             0.04123  \n4                       0.0365             0.02550  \n5                       0.0112             0.00028  \n6                      -0.0094             0.04799  \n7                      -0.0061             0.01919  \n8                      -0.7314             0.09143  \n9                      -0.0578             0.04367  \n10                     -0.0162             0.03725  \n11                     -0.0384             0.04195  \n12                      0.0318             0.01453  \n13                      0.0065             0.00498  \n14                     -0.0141             0.06023  \n15                     -0.0108             0.02737  \n16                      0.7267             0.29861  \n17                      0.0531             0.02680  \n18                      0.0115             0.05513  \n19                      0.0337             0.02097  \n20                     -0.0365             0.01770  \n21                     -0.0112             0.02409  \n22                      0.0094             0.03111  \n23                      0.0061             0.01362  \n24                      0.7314             0.30622  \n25                      0.0578             0.03339  \n26                      0.0162             0.05881  \n27                      0.0384             0.02546  \n28                     -0.0318             0.00921  \n29                     -0.0065             0.00959  \n..                         ...                 ...  \n290                    -0.0115             0.03707  \n291                    -0.0337             0.04123  \n292                     0.0365             0.02550  \n293                     0.0112             0.00028  \n294                    -0.0094             0.04799  \n295                    -0.0061             0.01919  \n296                    -0.7314             0.09143  \n297                    -0.0578             0.04367  \n298                    -0.0162             0.03725  \n299                    -0.0384             0.04195  \n300                     0.0318             0.01453  \n301                     0.0065             0.00498  \n302                    -0.0141             0.06023  \n303                    -0.0108             0.02737  \n304                     0.7267             0.29861  \n305                     0.0531             0.02680  \n306                     0.0115             0.05513  \n307                     0.0337             0.02097  \n308                    -0.0365             0.01770  \n309                    -0.0112             0.02409  \n310                     0.0094             0.03111  \n311                     0.0061             0.01362  \n312                     0.7314             0.30622  \n313                     0.0578             0.03339  \n314                     0.0162             0.05881  \n315                     0.0384             0.02546  \n316                    -0.0318             0.00921  \n317                    -0.0065             0.00959  \n318                     0.0141             0.04063  \n319                     0.0108             0.02065  \n\n[320 rows x 10 columns]\n"
    }
   ],
   "source": [
    "datsum = pd.DataFrame(columns=['labels','image number','DFT Binding Energy','Alchemy Binding Energy',\n",
    "                               'BE Absolute Errors','Transmutation Site Index',\n",
    "                              'ESP Difference at Transmute Site','DFT Activation Energy','Alchemy Activation Energy','Ea Absolute Errors'])\n",
    "for i in images:\n",
    "    for j in range(chargelen):\n",
    "        for k in range(len(dir_ads[i][j])):\n",
    "            datsum = datsum.append({'labels': dir_ads[i][j][k],\n",
    "                                    'image number': i+1,\n",
    "                                    'DFT Binding Energy': dft_del_be[i][j][k],\n",
    "                                    'Alchemy Binding Energy': alc_del_be[i][j][k],\n",
    "                                    'BE Absolute Errors': ae[i][j][k],\n",
    "                                    'Transmutation Site Index': (transmute[i]*len(counter))[k],\n",
    "                                    'ESP Difference at Transmute Site': ([diffs[i][l] for l in transmute[i]]*len(counter))[k],\n",
    "                                    'DFT Activation Energy': dft_ea[j][k],\n",
    "                                    'Alchemy Activation Energy': alc_ea[j][k],\n",
    "                                    'Ea Absolute Errors': ea_abs_error[j][k]\n",
    "                                    }, ignore_index=True)\n",
    "print(datsum)"
   ]
  },
  {
   "cell_type": "code",
   "execution_count": 48,
   "metadata": {},
   "outputs": [],
   "source": [
    "#datsum.to_csv('data_summary.csv',index=False)"
   ]
  },
  {
   "cell_type": "code",
   "execution_count": null,
   "metadata": {},
   "outputs": [],
   "source": []
  }
 ],
 "metadata": {
  "kernelspec": {
   "display_name": "Python 3",
   "language": "python",
   "name": "python3"
  },
  "language_info": {
   "codemirror_mode": {
    "name": "ipython",
    "version": 3
   },
   "file_extension": ".py",
   "mimetype": "text/x-python",
   "name": "python",
   "nbconvert_exporter": "python",
   "pygments_lexer": "ipython3",
   "version": "3.7.3"
  }
 },
 "nbformat": 4,
 "nbformat_minor": 2
}