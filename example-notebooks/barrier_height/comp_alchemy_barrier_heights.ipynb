{
 "cells": [
  {
   "cell_type": "markdown",
   "metadata": {},
   "source": [
    "# Running Computational Alchemy for Catalysis: Transition State Barrier Height Predictions\n",
    "This notebook outlines Python functions that use information from VASP calculations to predict descriptors for hypothetical catalyst. These functions utilize tools from the Atomic Simulation Environment (ASE) to manipulate catalyst surface models and perform calculations with computational alchemy. "
   ]
  },
  {
   "cell_type": "markdown",
   "metadata": {},
   "source": [
    "In this example, we apply computational alchemy on reference set of nudged elastic band (NEB) calculcations of CH4 dehydrogenation on Pt(111) to predict transition state barrier heights of the same process on hypothetical alloys of Pt(111). "
   ]
  },
  {
   "cell_type": "code",
   "execution_count": 1,
   "metadata": {},
   "outputs": [],
   "source": [
    "import comp_alchemy"
   ]
  },
  {
   "cell_type": "code",
   "execution_count": 2,
   "metadata": {},
   "outputs": [],
   "source": [
    "import numpy as np\n",
    "import pandas as pd\n",
    "from bokeh.plotting import figure, output_notebook, show\n",
    "from bokeh.models import ColumnDataSource, CustomJS, Range1d\n",
    "from bokeh.models.annotations import Slope\n",
    "from ipywidgets import interact\n",
    "from bokeh.io import push_notebook, show, output_notebook"
   ]
  },
  {
   "cell_type": "markdown",
   "metadata": {},
   "source": [
    "This example uses an NEB calculation with 10 images in total. Below we plot the total energy for each image. You also can hover your mouse over any data point to visualize the image"
   ]
  },
  {
   "cell_type": "code",
   "execution_count": 3,
   "metadata": {},
   "outputs": [],
   "source": [
    "images = range(10)\n",
    "image_energies = pd.read_csv('reference_images_energies.csv')\n",
    "image_energies = image_energies['energy']"
   ]
  },
  {
   "cell_type": "code",
   "execution_count": 4,
   "metadata": {},
   "outputs": [
    {
     "data": {
      "text/html": "\n    <div class=\"bk-root\">\n        <a href=\"https://bokeh.pydata.org\" target=\"_blank\" class=\"bk-logo bk-logo-small bk-logo-notebook\"></a>\n        <span id=\"bdc1b978-c668-4514-a23c-bb260964b20f\">Loading BokehJS ...</span>\n    </div>"
     },
     "metadata": {},
     "output_type": "display_data"
    },
    {
     "data": {
      "application/javascript": "\n(function(root) {\n  function now() {\n    return new Date();\n  }\n\n  var force = true;\n\n  if (typeof (root._bokeh_onload_callbacks) === \"undefined\" || force === true) {\n    root._bokeh_onload_callbacks = [];\n    root._bokeh_is_loading = undefined;\n  }\n\n  var JS_MIME_TYPE = 'application/javascript';\n  var HTML_MIME_TYPE = 'text/html';\n  var EXEC_MIME_TYPE = 'application/vnd.bokehjs_exec.v0+json';\n  var CLASS_NAME = 'output_bokeh rendered_html';\n\n  /**\n   * Render data to the DOM node\n   */\n  function render(props, node) {\n    var script = document.createElement(\"script\");\n    node.appendChild(script);\n  }\n\n  /**\n   * Handle when an output is cleared or removed\n   */\n  function handleClearOutput(event, handle) {\n    var cell = handle.cell;\n\n    var id = cell.output_area._bokeh_element_id;\n    var server_id = cell.output_area._bokeh_server_id;\n    // Clean up Bokeh references\n    if (id != null && id in Bokeh.index) {\n      Bokeh.index[id].model.document.clear();\n      delete Bokeh.index[id];\n    }\n\n    if (server_id !== undefined) {\n      // Clean up Bokeh references\n      var cmd = \"from bokeh.io.state import curstate; print(curstate().uuid_to_server['\" + server_id + \"'].get_sessions()[0].document.roots[0]._id)\";\n      cell.notebook.kernel.execute(cmd, {\n        iopub: {\n          output: function(msg) {\n            var id = msg.content.text.trim();\n            if (id in Bokeh.index) {\n              Bokeh.index[id].model.document.clear();\n              delete Bokeh.index[id];\n            }\n          }\n        }\n      });\n      // Destroy server and session\n      var cmd = \"import bokeh.io.notebook as ion; ion.destroy_server('\" + server_id + \"')\";\n      cell.notebook.kernel.execute(cmd);\n    }\n  }\n\n  /**\n   * Handle when a new output is added\n   */\n  function handleAddOutput(event, handle) {\n    var output_area = handle.output_area;\n    var output = handle.output;\n\n    // limit handleAddOutput to display_data with EXEC_MIME_TYPE content only\n    if ((output.output_type != \"display_data\") || (!output.data.hasOwnProperty(EXEC_MIME_TYPE))) {\n      return\n    }\n\n    var toinsert = output_area.element.find(\".\" + CLASS_NAME.split(' ')[0]);\n\n    if (output.metadata[EXEC_MIME_TYPE][\"id\"] !== undefined) {\n      toinsert[toinsert.length - 1].firstChild.textContent = output.data[JS_MIME_TYPE];\n      // store reference to embed id on output_area\n      output_area._bokeh_element_id = output.metadata[EXEC_MIME_TYPE][\"id\"];\n    }\n    if (output.metadata[EXEC_MIME_TYPE][\"server_id\"] !== undefined) {\n      var bk_div = document.createElement(\"div\");\n      bk_div.innerHTML = output.data[HTML_MIME_TYPE];\n      var script_attrs = bk_div.children[0].attributes;\n      for (var i = 0; i < script_attrs.length; i++) {\n        toinsert[toinsert.length - 1].firstChild.setAttribute(script_attrs[i].name, script_attrs[i].value);\n      }\n      // store reference to server id on output_area\n      output_area._bokeh_server_id = output.metadata[EXEC_MIME_TYPE][\"server_id\"];\n    }\n  }\n\n  function register_renderer(events, OutputArea) {\n\n    function append_mime(data, metadata, element) {\n      // create a DOM node to render to\n      var toinsert = this.create_output_subarea(\n        metadata,\n        CLASS_NAME,\n        EXEC_MIME_TYPE\n      );\n      this.keyboard_manager.register_events(toinsert);\n      // Render to node\n      var props = {data: data, metadata: metadata[EXEC_MIME_TYPE]};\n      render(props, toinsert[toinsert.length - 1]);\n      element.append(toinsert);\n      return toinsert\n    }\n\n    /* Handle when an output is cleared or removed */\n    events.on('clear_output.CodeCell', handleClearOutput);\n    events.on('delete.Cell', handleClearOutput);\n\n    /* Handle when a new output is added */\n    events.on('output_added.OutputArea', handleAddOutput);\n\n    /**\n     * Register the mime type and append_mime function with output_area\n     */\n    OutputArea.prototype.register_mime_type(EXEC_MIME_TYPE, append_mime, {\n      /* Is output safe? */\n      safe: true,\n      /* Index of renderer in `output_area.display_order` */\n      index: 0\n    });\n  }\n\n  // register the mime type if in Jupyter Notebook environment and previously unregistered\n  if (root.Jupyter !== undefined) {\n    var events = require('base/js/events');\n    var OutputArea = require('notebook/js/outputarea').OutputArea;\n\n    if (OutputArea.prototype.mime_types().indexOf(EXEC_MIME_TYPE) == -1) {\n      register_renderer(events, OutputArea);\n    }\n  }\n\n  \n  if (typeof (root._bokeh_timeout) === \"undefined\" || force === true) {\n    root._bokeh_timeout = Date.now() + 5000;\n    root._bokeh_failed_load = false;\n  }\n\n  var NB_LOAD_WARNING = {'data': {'text/html':\n     \"<div style='background-color: #fdd'>\\n\"+\n     \"<p>\\n\"+\n     \"BokehJS does not appear to have successfully loaded. If loading BokehJS from CDN, this \\n\"+\n     \"may be due to a slow or bad network connection. Possible fixes:\\n\"+\n     \"</p>\\n\"+\n     \"<ul>\\n\"+\n     \"<li>re-rerun `output_notebook()` to attempt to load from CDN again, or</li>\\n\"+\n     \"<li>use INLINE resources instead, as so:</li>\\n\"+\n     \"</ul>\\n\"+\n     \"<code>\\n\"+\n     \"from bokeh.resources import INLINE\\n\"+\n     \"output_notebook(resources=INLINE)\\n\"+\n     \"</code>\\n\"+\n     \"</div>\"}};\n\n  function display_loaded() {\n    var el = document.getElementById(\"bdc1b978-c668-4514-a23c-bb260964b20f\");\n    if (el != null) {\n      el.textContent = \"BokehJS is loading...\";\n    }\n    if (root.Bokeh !== undefined) {\n      if (el != null) {\n        el.textContent = \"BokehJS \" + root.Bokeh.version + \" successfully loaded.\";\n      }\n    } else if (Date.now() < root._bokeh_timeout) {\n      setTimeout(display_loaded, 100)\n    }\n  }\n\n\n  function run_callbacks() {\n    try {\n      root._bokeh_onload_callbacks.forEach(function(callback) { callback() });\n    }\n    finally {\n      delete root._bokeh_onload_callbacks\n    }\n    console.info(\"Bokeh: all callbacks have finished\");\n  }\n\n  function load_libs(js_urls, callback) {\n    root._bokeh_onload_callbacks.push(callback);\n    if (root._bokeh_is_loading > 0) {\n      console.log(\"Bokeh: BokehJS is being loaded, scheduling callback at\", now());\n      return null;\n    }\n    if (js_urls == null || js_urls.length === 0) {\n      run_callbacks();\n      return null;\n    }\n    console.log(\"Bokeh: BokehJS not loaded, scheduling load and callback at\", now());\n    root._bokeh_is_loading = js_urls.length;\n    for (var i = 0; i < js_urls.length; i++) {\n      var url = js_urls[i];\n      var s = document.createElement('script');\n      s.src = url;\n      s.async = false;\n      s.onreadystatechange = s.onload = function() {\n        root._bokeh_is_loading--;\n        if (root._bokeh_is_loading === 0) {\n          console.log(\"Bokeh: all BokehJS libraries loaded\");\n          run_callbacks()\n        }\n      };\n      s.onerror = function() {\n        console.warn(\"failed to load library \" + url);\n      };\n      console.log(\"Bokeh: injecting script tag for BokehJS library: \", url);\n      document.getElementsByTagName(\"head\")[0].appendChild(s);\n    }\n  };var element = document.getElementById(\"bdc1b978-c668-4514-a23c-bb260964b20f\");\n  if (element == null) {\n    console.log(\"Bokeh: ERROR: autoload.js configured with elementid 'bdc1b978-c668-4514-a23c-bb260964b20f' but no matching script tag was found. \")\n    return false;\n  }\n\n  var js_urls = [\"https://cdn.pydata.org/bokeh/release/bokeh-0.13.0.min.js\", \"https://cdn.pydata.org/bokeh/release/bokeh-widgets-0.13.0.min.js\", \"https://cdn.pydata.org/bokeh/release/bokeh-tables-0.13.0.min.js\", \"https://cdn.pydata.org/bokeh/release/bokeh-gl-0.13.0.min.js\"];\n\n  var inline_js = [\n    function(Bokeh) {\n      Bokeh.set_log_level(\"info\");\n    },\n    \n    function(Bokeh) {\n      \n    },\n    function(Bokeh) {\n      console.log(\"Bokeh: injecting CSS: https://cdn.pydata.org/bokeh/release/bokeh-0.13.0.min.css\");\n      Bokeh.embed.inject_css(\"https://cdn.pydata.org/bokeh/release/bokeh-0.13.0.min.css\");\n      console.log(\"Bokeh: injecting CSS: https://cdn.pydata.org/bokeh/release/bokeh-widgets-0.13.0.min.css\");\n      Bokeh.embed.inject_css(\"https://cdn.pydata.org/bokeh/release/bokeh-widgets-0.13.0.min.css\");\n      console.log(\"Bokeh: injecting CSS: https://cdn.pydata.org/bokeh/release/bokeh-tables-0.13.0.min.css\");\n      Bokeh.embed.inject_css(\"https://cdn.pydata.org/bokeh/release/bokeh-tables-0.13.0.min.css\");\n    }\n  ];\n\n  function run_inline_js() {\n    \n    if ((root.Bokeh !== undefined) || (force === true)) {\n      for (var i = 0; i < inline_js.length; i++) {\n        inline_js[i].call(root, root.Bokeh);\n      }if (force === true) {\n        display_loaded();\n      }} else if (Date.now() < root._bokeh_timeout) {\n      setTimeout(run_inline_js, 100);\n    } else if (!root._bokeh_failed_load) {\n      console.log(\"Bokeh: BokehJS failed to load within specified timeout.\");\n      root._bokeh_failed_load = true;\n    } else if (force !== true) {\n      var cell = $(document.getElementById(\"bdc1b978-c668-4514-a23c-bb260964b20f\")).parents('.cell').data().cell;\n      cell.output_area.append_execute_result(NB_LOAD_WARNING)\n    }\n\n  }\n\n  if (root._bokeh_is_loading === 0) {\n    console.log(\"Bokeh: BokehJS loaded, going straight to plotting\");\n    run_inline_js();\n  } else {\n    load_libs(js_urls, function() {\n      console.log(\"Bokeh: BokehJS plotting callback run at\", now());\n      run_inline_js();\n    });\n  }\n}(window));",
      "application/vnd.bokehjs_load.v0+json": "\n(function(root) {\n  function now() {\n    return new Date();\n  }\n\n  var force = true;\n\n  if (typeof (root._bokeh_onload_callbacks) === \"undefined\" || force === true) {\n    root._bokeh_onload_callbacks = [];\n    root._bokeh_is_loading = undefined;\n  }\n\n  \n\n  \n  if (typeof (root._bokeh_timeout) === \"undefined\" || force === true) {\n    root._bokeh_timeout = Date.now() + 5000;\n    root._bokeh_failed_load = false;\n  }\n\n  var NB_LOAD_WARNING = {'data': {'text/html':\n     \"<div style='background-color: #fdd'>\\n\"+\n     \"<p>\\n\"+\n     \"BokehJS does not appear to have successfully loaded. If loading BokehJS from CDN, this \\n\"+\n     \"may be due to a slow or bad network connection. Possible fixes:\\n\"+\n     \"</p>\\n\"+\n     \"<ul>\\n\"+\n     \"<li>re-rerun `output_notebook()` to attempt to load from CDN again, or</li>\\n\"+\n     \"<li>use INLINE resources instead, as so:</li>\\n\"+\n     \"</ul>\\n\"+\n     \"<code>\\n\"+\n     \"from bokeh.resources import INLINE\\n\"+\n     \"output_notebook(resources=INLINE)\\n\"+\n     \"</code>\\n\"+\n     \"</div>\"}};\n\n  function display_loaded() {\n    var el = document.getElementById(\"bdc1b978-c668-4514-a23c-bb260964b20f\");\n    if (el != null) {\n      el.textContent = \"BokehJS is loading...\";\n    }\n    if (root.Bokeh !== undefined) {\n      if (el != null) {\n        el.textContent = \"BokehJS \" + root.Bokeh.version + \" successfully loaded.\";\n      }\n    } else if (Date.now() < root._bokeh_timeout) {\n      setTimeout(display_loaded, 100)\n    }\n  }\n\n\n  function run_callbacks() {\n    try {\n      root._bokeh_onload_callbacks.forEach(function(callback) { callback() });\n    }\n    finally {\n      delete root._bokeh_onload_callbacks\n    }\n    console.info(\"Bokeh: all callbacks have finished\");\n  }\n\n  function load_libs(js_urls, callback) {\n    root._bokeh_onload_callbacks.push(callback);\n    if (root._bokeh_is_loading > 0) {\n      console.log(\"Bokeh: BokehJS is being loaded, scheduling callback at\", now());\n      return null;\n    }\n    if (js_urls == null || js_urls.length === 0) {\n      run_callbacks();\n      return null;\n    }\n    console.log(\"Bokeh: BokehJS not loaded, scheduling load and callback at\", now());\n    root._bokeh_is_loading = js_urls.length;\n    for (var i = 0; i < js_urls.length; i++) {\n      var url = js_urls[i];\n      var s = document.createElement('script');\n      s.src = url;\n      s.async = false;\n      s.onreadystatechange = s.onload = function() {\n        root._bokeh_is_loading--;\n        if (root._bokeh_is_loading === 0) {\n          console.log(\"Bokeh: all BokehJS libraries loaded\");\n          run_callbacks()\n        }\n      };\n      s.onerror = function() {\n        console.warn(\"failed to load library \" + url);\n      };\n      console.log(\"Bokeh: injecting script tag for BokehJS library: \", url);\n      document.getElementsByTagName(\"head\")[0].appendChild(s);\n    }\n  };var element = document.getElementById(\"bdc1b978-c668-4514-a23c-bb260964b20f\");\n  if (element == null) {\n    console.log(\"Bokeh: ERROR: autoload.js configured with elementid 'bdc1b978-c668-4514-a23c-bb260964b20f' but no matching script tag was found. \")\n    return false;\n  }\n\n  var js_urls = [\"https://cdn.pydata.org/bokeh/release/bokeh-0.13.0.min.js\", \"https://cdn.pydata.org/bokeh/release/bokeh-widgets-0.13.0.min.js\", \"https://cdn.pydata.org/bokeh/release/bokeh-tables-0.13.0.min.js\", \"https://cdn.pydata.org/bokeh/release/bokeh-gl-0.13.0.min.js\"];\n\n  var inline_js = [\n    function(Bokeh) {\n      Bokeh.set_log_level(\"info\");\n    },\n    \n    function(Bokeh) {\n      \n    },\n    function(Bokeh) {\n      console.log(\"Bokeh: injecting CSS: https://cdn.pydata.org/bokeh/release/bokeh-0.13.0.min.css\");\n      Bokeh.embed.inject_css(\"https://cdn.pydata.org/bokeh/release/bokeh-0.13.0.min.css\");\n      console.log(\"Bokeh: injecting CSS: https://cdn.pydata.org/bokeh/release/bokeh-widgets-0.13.0.min.css\");\n      Bokeh.embed.inject_css(\"https://cdn.pydata.org/bokeh/release/bokeh-widgets-0.13.0.min.css\");\n      console.log(\"Bokeh: injecting CSS: https://cdn.pydata.org/bokeh/release/bokeh-tables-0.13.0.min.css\");\n      Bokeh.embed.inject_css(\"https://cdn.pydata.org/bokeh/release/bokeh-tables-0.13.0.min.css\");\n    }\n  ];\n\n  function run_inline_js() {\n    \n    if ((root.Bokeh !== undefined) || (force === true)) {\n      for (var i = 0; i < inline_js.length; i++) {\n        inline_js[i].call(root, root.Bokeh);\n      }if (force === true) {\n        display_loaded();\n      }} else if (Date.now() < root._bokeh_timeout) {\n      setTimeout(run_inline_js, 100);\n    } else if (!root._bokeh_failed_load) {\n      console.log(\"Bokeh: BokehJS failed to load within specified timeout.\");\n      root._bokeh_failed_load = true;\n    } else if (force !== true) {\n      var cell = $(document.getElementById(\"bdc1b978-c668-4514-a23c-bb260964b20f\")).parents('.cell').data().cell;\n      cell.output_area.append_execute_result(NB_LOAD_WARNING)\n    }\n\n  }\n\n  if (root._bokeh_is_loading === 0) {\n    console.log(\"Bokeh: BokehJS loaded, going straight to plotting\");\n    run_inline_js();\n  } else {\n    load_libs(js_urls, function() {\n      console.log(\"Bokeh: BokehJS plotting callback run at\", now());\n      run_inline_js();\n    });\n  }\n}(window));"
     },
     "metadata": {},
     "output_type": "display_data"
    },
    {
     "data": {
      "text/html": "\n\n\n\n\n\n  <div class=\"bk-root\" id=\"6cddc8b2-ad77-418f-9218-a73b932e9236\"></div>\n"
     },
     "metadata": {},
     "output_type": "display_data"
    },
    {
     "data": {
      "application/javascript": "(function(root) {\n  function embed_document(root) {\n    \n  var docs_json = {\"5ae39438-8718-4f1d-aa37-2e88d9bb76e4\":{\"roots\":{\"references\":[{\"attributes\":{\"axis_label\":\"NEB Image Number\",\"axis_label_text_font_size\":{\"value\":\"12pt\"},\"axis_label_text_font_style\":\"bold\",\"formatter\":{\"id\":\"de728a46-8d5c-44fb-8bf2-671e09d29ad1\",\"type\":\"BasicTickFormatter\"},\"plot\":{\"id\":\"75502475-1314-4b45-a4fb-728421c1231d\",\"subtype\":\"Figure\",\"type\":\"Plot\"},\"ticker\":{\"id\":\"a88db92d-3868-465f-9c82-19bfeecd811b\",\"type\":\"BasicTicker\"}},\"id\":\"7851feec-4187-46b3-80b4-cdf2d231d5e8\",\"type\":\"LinearAxis\"},{\"attributes\":{},\"id\":\"a88db92d-3868-465f-9c82-19bfeecd811b\",\"type\":\"BasicTicker\"},{\"attributes\":{\"plot\":{\"id\":\"75502475-1314-4b45-a4fb-728421c1231d\",\"subtype\":\"Figure\",\"type\":\"Plot\"},\"ticker\":{\"id\":\"a88db92d-3868-465f-9c82-19bfeecd811b\",\"type\":\"BasicTicker\"}},\"id\":\"30812498-4409-454c-b3e3-f3051111d68c\",\"type\":\"Grid\"},{\"attributes\":{\"axis_label\":\"Energy (eV)\",\"axis_label_text_font_size\":{\"value\":\"12pt\"},\"axis_label_text_font_style\":\"bold\",\"formatter\":{\"id\":\"3d668362-ab59-48a4-9bbd-a656e2497b54\",\"type\":\"BasicTickFormatter\"},\"plot\":{\"id\":\"75502475-1314-4b45-a4fb-728421c1231d\",\"subtype\":\"Figure\",\"type\":\"Plot\"},\"ticker\":{\"id\":\"39432f66-692b-412b-9def-831baa1438ba\",\"type\":\"BasicTicker\"}},\"id\":\"0052a85e-0a23-48a0-ae04-96f0cdc5f2b3\",\"type\":\"LinearAxis\"},{\"attributes\":{},\"id\":\"39432f66-692b-412b-9def-831baa1438ba\",\"type\":\"BasicTicker\"},{\"attributes\":{\"dimension\":1,\"plot\":{\"id\":\"75502475-1314-4b45-a4fb-728421c1231d\",\"subtype\":\"Figure\",\"type\":\"Plot\"},\"ticker\":{\"id\":\"39432f66-692b-412b-9def-831baa1438ba\",\"type\":\"BasicTicker\"}},\"id\":\"775a45c9-3a1f-4b2f-9084-b6b30dd20b0a\",\"type\":\"Grid\"},{\"attributes\":{\"bottom_units\":\"screen\",\"fill_alpha\":{\"value\":0.5},\"fill_color\":{\"value\":\"lightgrey\"},\"left_units\":\"screen\",\"level\":\"overlay\",\"line_alpha\":{\"value\":1.0},\"line_color\":{\"value\":\"black\"},\"line_dash\":[4,4],\"line_width\":{\"value\":2},\"plot\":null,\"render_mode\":\"css\",\"right_units\":\"screen\",\"top_units\":\"screen\"},\"id\":\"06e5091e-3a77-4e33-a3af-046516f08f41\",\"type\":\"BoxAnnotation\"},{\"attributes\":{\"align\":\"center\",\"plot\":null,\"text\":\"\",\"text_font_size\":{\"value\":\"12pt\"}},\"id\":\"f863e00e-48f7-46bd-bccb-4ef42b0e0196\",\"type\":\"Title\"},{\"attributes\":{\"fill_color\":{\"value\":\"#1f77b4\"},\"line_color\":{\"value\":\"#1f77b4\"},\"size\":{\"units\":\"screen\",\"value\":45},\"x\":{\"field\":\"x\"},\"y\":{\"field\":\"y\"}},\"id\":\"2f19069b-f40e-4bd1-97f9-72a6ee0af102\",\"type\":\"Circle\"},{\"attributes\":{},\"id\":\"69dafa92-f440-4fd8-b124-5b8ef1ec7071\",\"type\":\"PanTool\"},{\"attributes\":{\"fill_alpha\":{\"value\":0.1},\"fill_color\":{\"value\":\"#1f77b4\"},\"line_alpha\":{\"value\":0.1},\"line_color\":{\"value\":\"#1f77b4\"},\"size\":{\"units\":\"screen\",\"value\":45},\"x\":{\"field\":\"x\"},\"y\":{\"field\":\"y\"}},\"id\":\"bad8ec31-73ea-4819-8e06-e3589ef3424e\",\"type\":\"Circle\"},{\"attributes\":{},\"id\":\"edb3b715-4307-4b48-90e7-29ba96ac7308\",\"type\":\"WheelZoomTool\"},{\"attributes\":{\"overlay\":{\"id\":\"06e5091e-3a77-4e33-a3af-046516f08f41\",\"type\":\"BoxAnnotation\"}},\"id\":\"c7ffd94a-8d42-4920-b15b-4d8e71097c47\",\"type\":\"BoxZoomTool\"},{\"attributes\":{},\"id\":\"d388d322-4067-45b9-a412-33d2f3b2b9f7\",\"type\":\"SaveTool\"},{\"attributes\":{},\"id\":\"abf95a6e-b488-4b72-a045-485b5b76038e\",\"type\":\"ResetTool\"},{\"attributes\":{},\"id\":\"02dfbd4c-9316-450c-8387-4631617e1329\",\"type\":\"HelpTool\"},{\"attributes\":{\"callback\":null,\"renderers\":\"auto\",\"tooltips\":\"\\n            <p>\\n                <span style=\\\"font-size: 25px;\\\">NEB Image </span>\\n                <span style=\\\"font-size: 25px;\\\">$index</span>\\n            </p>\\n            <p>\\n                <img\\n                src=\\\"@ads_imgs\\\" height=\\\"150\\\" alt=\\\"@ads_imgs\\\" width=\\\"150\\\"\\n                style=\\\"float: center; margin: 0px 15px 15px 0px;\\\"\\n                border=\\\"2\\\"\\n                ></img>\\n\"},\"id\":\"47733ba3-a5f4-403c-8b33-671818e8529f\",\"type\":\"HoverTool\"},{\"attributes\":{\"data_source\":{\"id\":\"182441d5-c892-48a9-8e17-0ac5a38b20b3\",\"type\":\"ColumnDataSource\"},\"glyph\":{\"id\":\"2f19069b-f40e-4bd1-97f9-72a6ee0af102\",\"type\":\"Circle\"},\"hover_glyph\":null,\"muted_glyph\":null,\"nonselection_glyph\":{\"id\":\"bad8ec31-73ea-4819-8e06-e3589ef3424e\",\"type\":\"Circle\"},\"selection_glyph\":null,\"view\":{\"id\":\"90b82bf4-48f0-47a8-9714-d43bf648d61a\",\"type\":\"CDSView\"}},\"id\":\"2e3ba290-aae8-44c0-b6f8-f7c714a31bfd\",\"type\":\"GlyphRenderer\"},{\"attributes\":{},\"id\":\"de728a46-8d5c-44fb-8bf2-671e09d29ad1\",\"type\":\"BasicTickFormatter\"},{\"attributes\":{\"source\":{\"id\":\"182441d5-c892-48a9-8e17-0ac5a38b20b3\",\"type\":\"ColumnDataSource\"}},\"id\":\"90b82bf4-48f0-47a8-9714-d43bf648d61a\",\"type\":\"CDSView\"},{\"attributes\":{\"line_color\":\"#1f77b4\",\"line_dash\":[6],\"x\":{\"field\":\"x\"},\"y\":{\"field\":\"y\"}},\"id\":\"95a9f437-d945-4e8f-833a-ee04db3f821f\",\"type\":\"Line\"},{\"attributes\":{\"active_drag\":\"auto\",\"active_inspect\":\"auto\",\"active_multi\":null,\"active_scroll\":\"auto\",\"active_tap\":\"auto\",\"tools\":[{\"id\":\"69dafa92-f440-4fd8-b124-5b8ef1ec7071\",\"type\":\"PanTool\"},{\"id\":\"edb3b715-4307-4b48-90e7-29ba96ac7308\",\"type\":\"WheelZoomTool\"},{\"id\":\"c7ffd94a-8d42-4920-b15b-4d8e71097c47\",\"type\":\"BoxZoomTool\"},{\"id\":\"d388d322-4067-45b9-a412-33d2f3b2b9f7\",\"type\":\"SaveTool\"},{\"id\":\"abf95a6e-b488-4b72-a045-485b5b76038e\",\"type\":\"ResetTool\"},{\"id\":\"02dfbd4c-9316-450c-8387-4631617e1329\",\"type\":\"HelpTool\"},{\"id\":\"47733ba3-a5f4-403c-8b33-671818e8529f\",\"type\":\"HoverTool\"}]},\"id\":\"1c886696-2cec-4e11-a62c-442059505aba\",\"type\":\"Toolbar\"},{\"attributes\":{\"line_alpha\":0.1,\"line_color\":\"#1f77b4\",\"line_dash\":[6],\"x\":{\"field\":\"x\"},\"y\":{\"field\":\"y\"}},\"id\":\"2b1f4194-f4cd-4136-9bb4-ef5422916639\",\"type\":\"Line\"},{\"attributes\":{\"data_source\":{\"id\":\"182441d5-c892-48a9-8e17-0ac5a38b20b3\",\"type\":\"ColumnDataSource\"},\"glyph\":{\"id\":\"95a9f437-d945-4e8f-833a-ee04db3f821f\",\"type\":\"Line\"},\"hover_glyph\":null,\"muted_glyph\":null,\"nonselection_glyph\":{\"id\":\"2b1f4194-f4cd-4136-9bb4-ef5422916639\",\"type\":\"Line\"},\"selection_glyph\":null,\"view\":{\"id\":\"7da06ee4-90d4-4f49-b6b9-8c6df97bdb79\",\"type\":\"CDSView\"}},\"id\":\"64cc2586-a444-4c71-890b-8fa99d856d5a\",\"type\":\"GlyphRenderer\"},{\"attributes\":{\"source\":{\"id\":\"182441d5-c892-48a9-8e17-0ac5a38b20b3\",\"type\":\"ColumnDataSource\"}},\"id\":\"7da06ee4-90d4-4f49-b6b9-8c6df97bdb79\",\"type\":\"CDSView\"},{\"attributes\":{\"callback\":null,\"data\":{\"ads_imgs\":[\"neb_images/0/neb_image_0.png\",\"neb_images/1/neb_image_1.png\",\"neb_images/2/neb_image_2.png\",\"neb_images/3/neb_image_3.png\",\"neb_images/4/neb_image_4.png\",\"neb_images/5/neb_image_5.png\",\"neb_images/6/neb_image_6.png\",\"neb_images/7/neb_image_7.png\",\"neb_images/8/neb_image_8.png\",\"neb_images/9/neb_image_9.png\"],\"x\":[0,1,2,3,4,5,6,7,8,9],\"y\":{\"__ndarray__\":\"7Lsi+N82XcDyQc9m1TVdwDoeM1AZM13AoswGmWQsXcAUxhaCHBxdwIqYEkn0/FzAKePfZ1weXcCB7PXujyNdwKJdhZSfKl3AXtIYraMqXcA=\",\"dtype\":\"float64\",\"shape\":[10]}},\"selected\":{\"id\":\"f317e695-ae6e-4149-a902-6dafdb24d556\",\"type\":\"Selection\"},\"selection_policy\":{\"id\":\"9f8209fd-7ef5-40fc-a8b1-ec3bb9a0062d\",\"type\":\"UnionRenderers\"}},\"id\":\"182441d5-c892-48a9-8e17-0ac5a38b20b3\",\"type\":\"ColumnDataSource\"},{\"attributes\":{},\"id\":\"3d668362-ab59-48a4-9bbd-a656e2497b54\",\"type\":\"BasicTickFormatter\"},{\"attributes\":{\"callback\":null,\"end\":-115.45241000000001,\"start\":-117.35741999999999},\"id\":\"0059de98-f3b3-40e8-bb78-4e7d9717feda\",\"type\":\"Range1d\"},{\"attributes\":{},\"id\":\"f317e695-ae6e-4149-a902-6dafdb24d556\",\"type\":\"Selection\"},{\"attributes\":{\"callback\":null},\"id\":\"c7ab117d-af48-496f-ad05-e2c17128ee07\",\"type\":\"DataRange1d\"},{\"attributes\":{},\"id\":\"9f8209fd-7ef5-40fc-a8b1-ec3bb9a0062d\",\"type\":\"UnionRenderers\"},{\"attributes\":{\"below\":[{\"id\":\"7851feec-4187-46b3-80b4-cdf2d231d5e8\",\"type\":\"LinearAxis\"}],\"left\":[{\"id\":\"0052a85e-0a23-48a0-ae04-96f0cdc5f2b3\",\"type\":\"LinearAxis\"}],\"plot_width\":900,\"renderers\":[{\"id\":\"7851feec-4187-46b3-80b4-cdf2d231d5e8\",\"type\":\"LinearAxis\"},{\"id\":\"30812498-4409-454c-b3e3-f3051111d68c\",\"type\":\"Grid\"},{\"id\":\"0052a85e-0a23-48a0-ae04-96f0cdc5f2b3\",\"type\":\"LinearAxis\"},{\"id\":\"775a45c9-3a1f-4b2f-9084-b6b30dd20b0a\",\"type\":\"Grid\"},{\"id\":\"06e5091e-3a77-4e33-a3af-046516f08f41\",\"type\":\"BoxAnnotation\"},{\"id\":\"2e3ba290-aae8-44c0-b6f8-f7c714a31bfd\",\"type\":\"GlyphRenderer\"},{\"id\":\"64cc2586-a444-4c71-890b-8fa99d856d5a\",\"type\":\"GlyphRenderer\"}],\"title\":{\"id\":\"f863e00e-48f7-46bd-bccb-4ef42b0e0196\",\"type\":\"Title\"},\"toolbar\":{\"id\":\"1c886696-2cec-4e11-a62c-442059505aba\",\"type\":\"Toolbar\"},\"x_range\":{\"id\":\"c7ab117d-af48-496f-ad05-e2c17128ee07\",\"type\":\"DataRange1d\"},\"x_scale\":{\"id\":\"312bd3bc-8106-4163-be67-f25c6eea2b09\",\"type\":\"LinearScale\"},\"y_range\":{\"id\":\"0059de98-f3b3-40e8-bb78-4e7d9717feda\",\"type\":\"Range1d\"},\"y_scale\":{\"id\":\"d8c8a294-2317-4c26-9002-aa4dd13cdc3b\",\"type\":\"LinearScale\"}},\"id\":\"75502475-1314-4b45-a4fb-728421c1231d\",\"subtype\":\"Figure\",\"type\":\"Plot\"},{\"attributes\":{},\"id\":\"d8c8a294-2317-4c26-9002-aa4dd13cdc3b\",\"type\":\"LinearScale\"},{\"attributes\":{},\"id\":\"312bd3bc-8106-4163-be67-f25c6eea2b09\",\"type\":\"LinearScale\"}],\"root_ids\":[\"75502475-1314-4b45-a4fb-728421c1231d\"]},\"title\":\"Bokeh Application\",\"version\":\"0.13.0\"}};\n  var render_items = [{\"docid\":\"5ae39438-8718-4f1d-aa37-2e88d9bb76e4\",\"notebook_comms_target\":\"2a556a61-98fa-4a2d-96a1-b63c50956af6\",\"roots\":{\"75502475-1314-4b45-a4fb-728421c1231d\":\"6cddc8b2-ad77-418f-9218-a73b932e9236\"}}];\n  root.Bokeh.embed.embed_items_notebook(docs_json, render_items);\n\n  }\n  if (root.Bokeh !== undefined) {\n    embed_document(root);\n  } else {\n    var attempts = 0;\n    var timer = setInterval(function(root) {\n      if (root.Bokeh !== undefined) {\n        embed_document(root);\n        clearInterval(timer);\n      }\n      attempts++;\n      if (attempts > 100) {\n        console.log(\"Bokeh: ERROR: Unable to run BokehJS code because BokehJS library is missing\")\n        clearInterval(timer);\n      }\n    }, 10, root)\n  }\n})(window);",
      "application/vnd.bokehjs_exec.v0+json": ""
     },
     "metadata": {
      "application/vnd.bokehjs_exec.v0+json": {
       "id": "75502475-1314-4b45-a4fb-728421c1231d"
      }
     },
     "output_type": "display_data"
    },
    {
     "data": {
      "text/html": "<p><code>&lt;Bokeh Notebook handle for <strong>In[4]</strong>&gt;</code></p>",
      "text/plain": "<bokeh.io.notebook.CommsHandle at 0x279eb22cb70>"
     },
     "execution_count": 4,
     "metadata": {},
     "output_type": "execute_result"
    }
   ],
   "source": [
    "output_notebook()\n",
    "\n",
    "en_source = ColumnDataSource(\n",
    "data=dict(\n",
    "x=[int(im) for im in images],\n",
    "y=image_energies,\n",
    "ads_imgs=['neb_images/'+str(im)+'/'+'neb_image_'+str(im)+'.png' for im in images]))\n",
    "\n",
    "en_tooltips=\"\"\"\n",
    "            <p>\n",
    "                <span style=\"font-size: 25px;\">NEB Image </span>\n",
    "                <span style=\"font-size: 25px;\">$index</span>\n",
    "            </p>\n",
    "            <p>\n",
    "                <img\n",
    "                src=\"@ads_imgs\" height=\"150\" alt=\"@ads_imgs\" width=\"150\"\n",
    "                style=\"float: center; margin: 0px 15px 15px 0px;\"\n",
    "                border=\"2\"\n",
    "                ></img>\n",
    "\"\"\"\n",
    "\n",
    "ef = figure(plot_width=900, plot_height=600,y_range=(min(image_energies)-0.5,max(image_energies)+0.5),tooltips=en_tooltips)\n",
    "\n",
    "ef.xaxis.axis_label = \"NEB Image Number\"\n",
    "ef.xaxis.axis_label_text_font_style = \"bold\"\n",
    "ef.xaxis.axis_label_text_font_size = \"12pt\"\n",
    "ef.yaxis.axis_label = \"Energy (eV)\"\n",
    "ef.yaxis.axis_label_text_font_style = \"bold\"\n",
    "ef.yaxis.axis_label_text_font_size = \"12pt\"\n",
    "ef.title.text_font_size = '12pt'\n",
    "ef.title.align = 'center'\n",
    "\n",
    "ef.circle('x', 'y', size=45, source=en_source)\n",
    "ef.line('x','y', line_dash=\"dashed\", source=en_source)\n",
    "\n",
    "show(ef, notebook_handle=True)"
   ]
  },
  {
   "cell_type": "markdown",
   "metadata": {},
   "source": [
    "From the plot above, it's apparent that image 5 is the transition state for CH4 dehydrogenation."
   ]
  },
  {
   "cell_type": "markdown",
   "metadata": {},
   "source": [
    "Next we make ASE Atoms objects with VASP POSCARs and CONTCARs for the bare catalyst surface (slab) and the catalyst surface with the adsorbate (ads) for each image. These models and the results of the VASP calculations for each will be used as our reference for computational alchemy calculations."
   ]
  },
  {
   "cell_type": "code",
   "execution_count": 5,
   "metadata": {},
   "outputs": [],
   "source": [
    "from ase.io import read \n",
    "from ase.visualize import view\n",
    "slab = read('slab/POSCAR',format='vasp')\n",
    "slab_contcar = read('slab/CONTCAR',format='vasp')\n",
    "ads = [read(f'neb_images/{str(im)}/POSCAR',format='vasp') for im in images]\n",
    "ads_contcar = [read(f'neb_images/{str(im)}/CONTCAR',format='vasp') for im in images]"
   ]
  },
  {
   "cell_type": "code",
   "execution_count": 6,
   "metadata": {},
   "outputs": [],
   "source": [
    "from comp_alchemy.ads_slab_pairs import pairs\n",
    "p = [pairs(slab,slab) for a in ads]"
   ]
  },
  {
   "cell_type": "markdown",
   "metadata": {},
   "source": [
    "### Working with electrostatic potentials in VASP OUTCAR\n",
    "Next we can grab the atom-centered electrostatic potentials (ESPs) printed at the end of the OUTCAR with `grab_esp()`. \n",
    "Here we grab ESPs for slab and ads and calculate the differences with `espdiff()`. The ESP differnces define the alchemical derivatives that facilitate predictions with alchemy."
   ]
  },
  {
   "cell_type": "code",
   "execution_count": 7,
   "metadata": {},
   "outputs": [],
   "source": [
    "from comp_alchemy.elec_stat_pot import (grab_esp,espdiff,remove_duplicate_espdiffs,heatmap)\n",
    "slab_elec = grab_esp(poscar='slab/POSCAR',outcar='slab/trunc-OUTCAR')\n",
    "ads_elec = [grab_esp(poscar=f'neb_images/{str(im)}/POSCAR',\n",
    "                     outcar=f'neb_images/{str(im)}/trunc-OUTCAR') for im in images]\n",
    "diffs = [espdiff(elec1=slab_elec,elec2=ads_elec[im],pair=p[im]) for im in images]"
   ]
  },
  {
   "cell_type": "code",
   "execution_count": 8,
   "metadata": {},
   "outputs": [
    {
     "name": "stdout",
     "output_type": "stream",
     "text": "\nAtom-centered electrostatic potentials for the initial state of CH4 dehydrogenation (image 0):\n\nSlab:\n[-73.7064, -73.7064, -73.7064, -73.7064, -74.1493, -74.1493, -74.1493, -74.1493, -74.0957, -74.0957, -74.0957, -74.0957, -73.6192, -73.6192, -73.6192, -73.6192]\n\nAds:\n[-74.1863, -74.186, -74.1864, -74.1866, -74.6565, -74.6556, -74.6567, -74.6575, -74.6527, -74.6519, -74.6519, -74.6528, -74.1955, -74.1747, -74.1757, -74.1765, -53.2355, -36.6325, -36.6332, -36.6324, -36.6331]\n\nDifferences in electrostatic potentials between ads and slab\n[-0.4799, -0.4796, -0.48, -0.4802, -0.5072, -0.5063, -0.5074, -0.5082, -0.557, -0.5562, -0.5562, -0.5571, -0.5763, -0.5555, -0.5565, -0.5573]\n"
    }
   ],
   "source": [
    "diffs0 = [round(d,4) for d in diffs[0]]\n",
    "print(f'''\n",
    "Atom-centered electrostatic potentials for the initial state of CH4 dehydrogenation (image 0):\n",
    "\n",
    "Slab:\n",
    "{slab_elec}\n",
    "\n",
    "Ads:\n",
    "{ads_elec[0]}\n",
    "\n",
    "Differences in electrostatic potentials between ads and slab\n",
    "{diffs0}''')"
   ]
  },
  {
   "cell_type": "markdown",
   "metadata": {},
   "source": [
    "### Visualizing alchemical derivatives\n",
    "With the `heatmap()` function, visualize the alchemical derivatives with ASE GUI by running the cell below, pressing \"c\" in ASE GUI, and under \"Choose how the atoms are colored:\" selecting \"By initial charge\" "
   ]
  },
  {
   "cell_type": "code",
   "execution_count": 9,
   "metadata": {},
   "outputs": [],
   "source": [
    "slab_vis = [heatmap(poscar='slab/POSCAR',dexlist=[dex[0] for dex in p[im]],espdiffs=diffs[im]) for im in range(0,len(images))]\n",
    "#view(slab_vis)"
   ]
  },
  {
   "cell_type": "markdown",
   "metadata": {},
   "source": [
    "### Creating hypothetical materials by making transmutations\n",
    "Below we use the `index_transmuted()` function to grab indexes of atoms that we want to transmute in our reference slabs. We specify the number of transmutable atoms by setting `transmute_num`. \n",
    "\n",
    "This function also grabs indexes of atoms at the bottom of the slab that we can counter-transmute to maintain isoelectronicity. We set the number of counter-transmutable atoms with `counter_num`."
   ]
  },
  {
   "cell_type": "code",
   "execution_count": 10,
   "metadata": {},
   "outputs": [],
   "source": [
    "from ase import Atom\n",
    "from comp_alchemy.alloy_index import index_transmuted, transmuter, transmuted_directory_names\n",
    "metal = Atom('Pt')\n",
    "[transmute, counter] = index_transmuted(slab=slab,\n",
    "                                        transmute_atom_sym=metal.symbol,\n",
    "                                        counter_atom_sym=metal.symbol,\n",
    "                                        transmute_num=8,\n",
    "                                        counter_num=2,\n",
    "                                        symmetric = False)\n",
    "\n",
    "transmute = [transmute for im in images]\n",
    "counter = [counter for im in images]"
   ]
  },
  {
   "cell_type": "code",
   "execution_count": 11,
   "metadata": {},
   "outputs": [
    {
     "name": "stdout",
     "output_type": "stream",
     "text": "Indices of atoms to be transmuted in the top two surface layers.\n[12, 13, 14, 15, 8, 9, 10, 11]\n\nIndices of atoms to be counter transmuted with unique electrostatic potential differences.\n[0, 1]\n\nThere are 10 sites near the surface of the catalyst where we will make transmutations.\n\nFor each transmutation, we can make counter transmutations at 1 of 10 sites.\n\nConsidering all combinations of transmute and counter-transmute sites, we will assess a total of 100 hypothetical configurations of alloys.\n\n"
    }
   ],
   "source": [
    "print(f'''Indices of atoms to be transmuted in the top two surface layers.\n",
    "{transmute[0]}\n",
    "\n",
    "Indices of atoms to be counter transmuted with unique electrostatic potential differences.\n",
    "{counter[0]}\n",
    "\n",
    "There are {len(transmute)} sites near the surface of the catalyst where we will make transmutations.\n",
    "\n",
    "For each transmutation, we can make counter transmutations at 1 of {len(counter)} sites.\n",
    "\n",
    "Considering all combinations of transmute and counter-transmute sites, we will assess a total of {len(transmute)*len(counter)} hypothetical configurations of alloys.\n",
    "''')"
   ]
  },
  {
   "cell_type": "markdown",
   "metadata": {},
   "source": [
    "In this example, we transmute surface Pt atoms to Au or Ir (change in nuclear charge of +/- 1) and counter-transmute Pt atoms in the bottom layers to Ir or Au (change in nuclear charge of -/+ 1). Below we construct an array with Au and Ir Atom objects to use in the `transmuter()` function."
   ]
  },
  {
   "cell_type": "code",
   "execution_count": 12,
   "metadata": {},
   "outputs": [],
   "source": [
    "charge = [1,-1]\n",
    "chargelen = len(charge)\n",
    "all_transmute = []\n",
    "for c in charge:\n",
    "    transmute_atom = Atom(metal.symbol)\n",
    "    transmute_atom.number += c\n",
    "    counter_transmute_atom = Atom(metal.symbol)\n",
    "    counter_transmute_atom.number -= c\n",
    "    all_transmute.append([counter_transmute_atom,transmute_atom])"
   ]
  },
  {
   "cell_type": "markdown",
   "metadata": {},
   "source": [
    "Next, we make transmutations to Atoms objects of slab and ads from their respective CONTCARs and give labels for each new model with the `transmuted_directory_names()` function. Now we can visualize these new systems and write POSCARs to do VASP calculations for benchmarking."
   ]
  },
  {
   "cell_type": "code",
   "execution_count": 13,
   "metadata": {},
   "outputs": [
    {
     "name": "stdout",
     "output_type": "stream",
     "text": "Transmuted Slab Labels\n0.0.Ir0.Au12\n0.1.Ir0.Au13\n0.2.Ir0.Au14\n0.3.Ir0.Au15\n0.4.Ir0.Au8\n0.5.Ir0.Au9\n0.6.Ir0.Au10\n0.7.Ir0.Au11\n1.0.Ir1.Au12\n1.1.Ir1.Au13\n1.2.Ir1.Au14\n1.3.Ir1.Au15\n1.4.Ir1.Au8\n1.5.Ir1.Au9\n1.6.Ir1.Au10\n1.7.Ir1.Au11\n0.0.Au0.Ir12\n0.1.Au0.Ir13\n0.2.Au0.Ir14\n0.3.Au0.Ir15\n0.4.Au0.Ir8\n0.5.Au0.Ir9\n0.6.Au0.Ir10\n0.7.Au0.Ir11\n1.0.Au1.Ir12\n1.1.Au1.Ir13\n1.2.Au1.Ir14\n1.3.Au1.Ir15\n1.4.Au1.Ir8\n1.5.Au1.Ir9\n1.6.Au1.Ir10\n1.7.Au1.Ir11\n"
    }
   ],
   "source": [
    "print('Transmuted Slab Labels')\n",
    "transmuted_slabs = []\n",
    "dir_slab = []\n",
    "for k in all_transmute:\n",
    "    slab_single_image = []\n",
    "    slabdir_single_image = []\n",
    "    for i,c in enumerate(counter[0]):\n",
    "        for j,t in enumerate(transmute[0]):\n",
    "            slab_single_image.append(transmuter(slab=slab_contcar,\n",
    "                                           atomdex=[c,t],\n",
    "                                           trans=k))\n",
    "            slab_dname = transmuted_directory_names(bdex=i,\n",
    "                                           tdex=j,\n",
    "                                           dexes=[c,t],\n",
    "                                           atoms_array=k)\n",
    "            slabdir_single_image.append(slab_dname)\n",
    "            print(slab_dname)\n",
    "    transmuted_slabs.append(slab_single_image)\n",
    "    dir_slab.append(slabdir_single_image)"
   ]
  },
  {
   "cell_type": "code",
   "execution_count": 14,
   "metadata": {},
   "outputs": [],
   "source": [
    "transmuted_ads = []\n",
    "dir_ads = []\n",
    "for im in range(0,len(images)):\n",
    "    ads_single_image = []\n",
    "    adsdir_single_image = []\n",
    "    for k in all_transmute:\n",
    "        ads_single = []\n",
    "        adsdir_single = []\n",
    "        for i,c in enumerate(counter[im]):\n",
    "            for j,t in enumerate(transmute[im]):\n",
    "                ads_single.append(transmuter(slab=ads_contcar[im],\n",
    "                                                     atomdex=[c,t],\n",
    "                                                     trans=k))\n",
    "                adsdir_single.append(transmuted_directory_names(bdex=i,\n",
    "                                                              tdex=j,\n",
    "                                                              dexes=[c,t],\n",
    "                                                              atoms_array=k))\n",
    "        ads_single_image.append(ads_single)\n",
    "        adsdir_single_image.append(adsdir_single)\n",
    "    transmuted_ads.append(ads_single_image)\n",
    "    dir_ads.append(adsdir_single_image)"
   ]
  },
  {
   "cell_type": "markdown",
   "metadata": {},
   "source": [
    "### Calculating binding energy (BE) with computational alchemy\n",
    "For validation purposes, we could then setup directories to run VASP calculations on our transmuted surface models. It's most convinient to analyze these calculations if they are each stored in a directory named with the labels generated above. \n",
    "Once all VASP calculations are complete, we can calculate binding energies on our transmuted surfaces using alchemy, then compare against DFT binding energies."
   ]
  },
  {
   "cell_type": "markdown",
   "metadata": {},
   "source": [
    "First we calculate the BEs of our reference systems, each NEB image."
   ]
  },
  {
   "cell_type": "code",
   "execution_count": 15,
   "metadata": {},
   "outputs": [],
   "source": [
    "from comp_alchemy.read_oszicar import grab_energy\n",
    "adsorbate_energy = -221.81\n",
    "slab_energy = grab_energy(oszicar='slab/trunc-OSZICAR')\n",
    "ads_energy = image_energies\n",
    "ref_be = [slab_energy + adsorbate_energy - ae for ae in ads_energy]"
   ]
  },
  {
   "cell_type": "markdown",
   "metadata": {},
   "source": [
    "The DFT-calculated energies for the transmuted systems are stored in `transmuted_ads_energies.csv` and `transmuted_slab_energies.csv`. Below we read the data into dataframes and extract the energy values. "
   ]
  },
  {
   "cell_type": "code",
   "execution_count": 16,
   "metadata": {},
   "outputs": [],
   "source": [
    "transmuted_slab_data = pd.read_csv('transmuted_slab_energies.csv',index_col='labels')\n",
    "transmuted_slab_energies = [[transmuted_slab_data['energies'][lab] for lab in dir_slab[i]] for i in range(chargelen)]"
   ]
  },
  {
   "cell_type": "code",
   "execution_count": 17,
   "metadata": {},
   "outputs": [],
   "source": [
    "transmuted_ads_data = pd.read_csv('transmuted_ads_energies.csv',index_col=['labels','image','deltaZ'])\n",
    "transmuted_ads_energies = [[[transmuted_ads_data['energies'][lab,im,charge[i]] for lab in dir_ads[im][i]] for i in range(chargelen)] for im in images]"
   ]
  },
  {
   "cell_type": "markdown",
   "metadata": {},
   "source": [
    "Next, we calculate BEs for the transmuted variations of each NEB image. With those and the reference BEs, we then calculate the $\\Delta$BEs. "
   ]
  },
  {
   "cell_type": "code",
   "execution_count": 18,
   "metadata": {},
   "outputs": [],
   "source": [
    "transmuted_be = [[[transmuted_slab_energies[i][j] + adsorbate_energy - transmuted_ads_energies[im][i][j] for j in range(len(transmuted_slab_energies[i]))] for i in range(chargelen)] for im in images]\n",
    "dft_del_be = [[[transmuted_be[im][i][j] - ref_be[im] for j in range(len(transmuted_be[im][i]))]for i in range(chargelen)] for im in images]"
   ]
  },
  {
   "cell_type": "markdown",
   "metadata": {},
   "source": [
    "Finally, we can use the `alc_be()` function to take the dot product of an array of charge differences and an array of the ESP differences to approximate the $\\Delta$BEs. Below we've used this function to construct the charge difference array and calculate BE for the transmuted systems of each NEB image. These arrays contain **all necessary information to predict BEs.**"
   ]
  },
  {
   "cell_type": "code",
   "execution_count": 19,
   "metadata": {},
   "outputs": [],
   "source": [
    "from comp_alchemy.binding_energy import alc_be\n",
    "dn = [[[[alc_be(transmute=[transmute[im][k]],\n",
    "               counter=[counter[im][j]],\n",
    "               espdiffs=diffs[im],\n",
    "               charge=charge[i])[0] for k in range(len(transmute[im]))] for j in range(len(counter[im]))] for i in range(chargelen)] for im in images]\n",
    "alc_del_be = [[[[alc_be(transmute=[transmute[im][k]],\n",
    "               counter=[counter[im][j]],\n",
    "               espdiffs=diffs[im],\n",
    "               charge=charge[i])[1] for k in range(len(transmute[im]))] for j in range(len(counter[im]))] for i in range(chargelen)] for im in images]\n",
    "\n",
    "alc_del_be = [[[item for sublist in alc_del_be[im][i] for item in sublist] for i in range(chargelen)] for im in images]"
   ]
  },
  {
   "cell_type": "markdown",
   "metadata": {},
   "source": [
    "### Benchmarking computational alchemy against DFT"
   ]
  },
  {
   "cell_type": "markdown",
   "metadata": {},
   "source": [
    "Now that the BEs are calculated, we can compute compute reaction barriers and evaluate the accuracy of computational alchemy against DFT. For each BE, we calculate the absolute error between alchemy and DFT below."
   ]
  },
  {
   "cell_type": "code",
   "execution_count": 20,
   "metadata": {},
   "outputs": [],
   "source": [
    "from numpy import average\n",
    "ae = [[[abs(alc_del_be[im][i][j] - dft_del_be[im][i][j]) for j in range(len(alc_del_be[im][i]))] for i in range(chargelen)] for im in images]\n",
    "mae = [round(average(ae[im]),3) for im in range(len(images))]"
   ]
  },
  {
   "cell_type": "markdown",
   "metadata": {},
   "source": [
    "Below we also calcuate the distance between each transmute site and the binding site of CH4. This descriptor will help us analyze the data."
   ]
  },
  {
   "cell_type": "code",
   "execution_count": 21,
   "metadata": {},
   "outputs": [],
   "source": [
    "adsorbate_site = 'C'\n",
    "adsorbate_indexes = [a.index for a in ads_contcar[0] if a.symbol == adsorbate_site]\n",
    "adsorbate_positions = [[ads_contcar[0][d].position[0],ads_contcar[0][d].position[1],ads_contcar[0][d].position[2]]for d in adsorbate_indexes]\n",
    "adsorbate_positions = [items for item in adsorbate_positions for items in item if item[2] == max([pos[2] for pos in adsorbate_positions])]\n",
    "distances = [[np.sqrt((ads_contcar[0][t].position[0]-adsorbate_positions[0])**2+(ads_contcar[0][t].position[1]-adsorbate_positions[1])**2+(ads_contcar[0][t].position[2]-adsorbate_positions[2])**2) for t in transmute[0]*len(counter[0])] for i in range(chargelen)]"
   ]
  },
  {
   "cell_type": "code",
   "execution_count": 22,
   "metadata": {},
   "outputs": [
    {
     "data": {
      "text/html": "\n    <div class=\"bk-root\">\n        <a href=\"https://bokeh.pydata.org\" target=\"_blank\" class=\"bk-logo bk-logo-small bk-logo-notebook\"></a>\n        <span id=\"40de4504-2fcd-4f6d-8c0b-bda713208dec\">Loading BokehJS ...</span>\n    </div>"
     },
     "metadata": {},
     "output_type": "display_data"
    },
    {
     "data": {
      "application/javascript": "\n(function(root) {\n  function now() {\n    return new Date();\n  }\n\n  var force = true;\n\n  if (typeof (root._bokeh_onload_callbacks) === \"undefined\" || force === true) {\n    root._bokeh_onload_callbacks = [];\n    root._bokeh_is_loading = undefined;\n  }\n\n  var JS_MIME_TYPE = 'application/javascript';\n  var HTML_MIME_TYPE = 'text/html';\n  var EXEC_MIME_TYPE = 'application/vnd.bokehjs_exec.v0+json';\n  var CLASS_NAME = 'output_bokeh rendered_html';\n\n  /**\n   * Render data to the DOM node\n   */\n  function render(props, node) {\n    var script = document.createElement(\"script\");\n    node.appendChild(script);\n  }\n\n  /**\n   * Handle when an output is cleared or removed\n   */\n  function handleClearOutput(event, handle) {\n    var cell = handle.cell;\n\n    var id = cell.output_area._bokeh_element_id;\n    var server_id = cell.output_area._bokeh_server_id;\n    // Clean up Bokeh references\n    if (id != null && id in Bokeh.index) {\n      Bokeh.index[id].model.document.clear();\n      delete Bokeh.index[id];\n    }\n\n    if (server_id !== undefined) {\n      // Clean up Bokeh references\n      var cmd = \"from bokeh.io.state import curstate; print(curstate().uuid_to_server['\" + server_id + \"'].get_sessions()[0].document.roots[0]._id)\";\n      cell.notebook.kernel.execute(cmd, {\n        iopub: {\n          output: function(msg) {\n            var id = msg.content.text.trim();\n            if (id in Bokeh.index) {\n              Bokeh.index[id].model.document.clear();\n              delete Bokeh.index[id];\n            }\n          }\n        }\n      });\n      // Destroy server and session\n      var cmd = \"import bokeh.io.notebook as ion; ion.destroy_server('\" + server_id + \"')\";\n      cell.notebook.kernel.execute(cmd);\n    }\n  }\n\n  /**\n   * Handle when a new output is added\n   */\n  function handleAddOutput(event, handle) {\n    var output_area = handle.output_area;\n    var output = handle.output;\n\n    // limit handleAddOutput to display_data with EXEC_MIME_TYPE content only\n    if ((output.output_type != \"display_data\") || (!output.data.hasOwnProperty(EXEC_MIME_TYPE))) {\n      return\n    }\n\n    var toinsert = output_area.element.find(\".\" + CLASS_NAME.split(' ')[0]);\n\n    if (output.metadata[EXEC_MIME_TYPE][\"id\"] !== undefined) {\n      toinsert[toinsert.length - 1].firstChild.textContent = output.data[JS_MIME_TYPE];\n      // store reference to embed id on output_area\n      output_area._bokeh_element_id = output.metadata[EXEC_MIME_TYPE][\"id\"];\n    }\n    if (output.metadata[EXEC_MIME_TYPE][\"server_id\"] !== undefined) {\n      var bk_div = document.createElement(\"div\");\n      bk_div.innerHTML = output.data[HTML_MIME_TYPE];\n      var script_attrs = bk_div.children[0].attributes;\n      for (var i = 0; i < script_attrs.length; i++) {\n        toinsert[toinsert.length - 1].firstChild.setAttribute(script_attrs[i].name, script_attrs[i].value);\n      }\n      // store reference to server id on output_area\n      output_area._bokeh_server_id = output.metadata[EXEC_MIME_TYPE][\"server_id\"];\n    }\n  }\n\n  function register_renderer(events, OutputArea) {\n\n    function append_mime(data, metadata, element) {\n      // create a DOM node to render to\n      var toinsert = this.create_output_subarea(\n        metadata,\n        CLASS_NAME,\n        EXEC_MIME_TYPE\n      );\n      this.keyboard_manager.register_events(toinsert);\n      // Render to node\n      var props = {data: data, metadata: metadata[EXEC_MIME_TYPE]};\n      render(props, toinsert[toinsert.length - 1]);\n      element.append(toinsert);\n      return toinsert\n    }\n\n    /* Handle when an output is cleared or removed */\n    events.on('clear_output.CodeCell', handleClearOutput);\n    events.on('delete.Cell', handleClearOutput);\n\n    /* Handle when a new output is added */\n    events.on('output_added.OutputArea', handleAddOutput);\n\n    /**\n     * Register the mime type and append_mime function with output_area\n     */\n    OutputArea.prototype.register_mime_type(EXEC_MIME_TYPE, append_mime, {\n      /* Is output safe? */\n      safe: true,\n      /* Index of renderer in `output_area.display_order` */\n      index: 0\n    });\n  }\n\n  // register the mime type if in Jupyter Notebook environment and previously unregistered\n  if (root.Jupyter !== undefined) {\n    var events = require('base/js/events');\n    var OutputArea = require('notebook/js/outputarea').OutputArea;\n\n    if (OutputArea.prototype.mime_types().indexOf(EXEC_MIME_TYPE) == -1) {\n      register_renderer(events, OutputArea);\n    }\n  }\n\n  \n  if (typeof (root._bokeh_timeout) === \"undefined\" || force === true) {\n    root._bokeh_timeout = Date.now() + 5000;\n    root._bokeh_failed_load = false;\n  }\n\n  var NB_LOAD_WARNING = {'data': {'text/html':\n     \"<div style='background-color: #fdd'>\\n\"+\n     \"<p>\\n\"+\n     \"BokehJS does not appear to have successfully loaded. If loading BokehJS from CDN, this \\n\"+\n     \"may be due to a slow or bad network connection. Possible fixes:\\n\"+\n     \"</p>\\n\"+\n     \"<ul>\\n\"+\n     \"<li>re-rerun `output_notebook()` to attempt to load from CDN again, or</li>\\n\"+\n     \"<li>use INLINE resources instead, as so:</li>\\n\"+\n     \"</ul>\\n\"+\n     \"<code>\\n\"+\n     \"from bokeh.resources import INLINE\\n\"+\n     \"output_notebook(resources=INLINE)\\n\"+\n     \"</code>\\n\"+\n     \"</div>\"}};\n\n  function display_loaded() {\n    var el = document.getElementById(\"40de4504-2fcd-4f6d-8c0b-bda713208dec\");\n    if (el != null) {\n      el.textContent = \"BokehJS is loading...\";\n    }\n    if (root.Bokeh !== undefined) {\n      if (el != null) {\n        el.textContent = \"BokehJS \" + root.Bokeh.version + \" successfully loaded.\";\n      }\n    } else if (Date.now() < root._bokeh_timeout) {\n      setTimeout(display_loaded, 100)\n    }\n  }\n\n\n  function run_callbacks() {\n    try {\n      root._bokeh_onload_callbacks.forEach(function(callback) { callback() });\n    }\n    finally {\n      delete root._bokeh_onload_callbacks\n    }\n    console.info(\"Bokeh: all callbacks have finished\");\n  }\n\n  function load_libs(js_urls, callback) {\n    root._bokeh_onload_callbacks.push(callback);\n    if (root._bokeh_is_loading > 0) {\n      console.log(\"Bokeh: BokehJS is being loaded, scheduling callback at\", now());\n      return null;\n    }\n    if (js_urls == null || js_urls.length === 0) {\n      run_callbacks();\n      return null;\n    }\n    console.log(\"Bokeh: BokehJS not loaded, scheduling load and callback at\", now());\n    root._bokeh_is_loading = js_urls.length;\n    for (var i = 0; i < js_urls.length; i++) {\n      var url = js_urls[i];\n      var s = document.createElement('script');\n      s.src = url;\n      s.async = false;\n      s.onreadystatechange = s.onload = function() {\n        root._bokeh_is_loading--;\n        if (root._bokeh_is_loading === 0) {\n          console.log(\"Bokeh: all BokehJS libraries loaded\");\n          run_callbacks()\n        }\n      };\n      s.onerror = function() {\n        console.warn(\"failed to load library \" + url);\n      };\n      console.log(\"Bokeh: injecting script tag for BokehJS library: \", url);\n      document.getElementsByTagName(\"head\")[0].appendChild(s);\n    }\n  };var element = document.getElementById(\"40de4504-2fcd-4f6d-8c0b-bda713208dec\");\n  if (element == null) {\n    console.log(\"Bokeh: ERROR: autoload.js configured with elementid '40de4504-2fcd-4f6d-8c0b-bda713208dec' but no matching script tag was found. \")\n    return false;\n  }\n\n  var js_urls = [\"https://cdn.pydata.org/bokeh/release/bokeh-0.13.0.min.js\", \"https://cdn.pydata.org/bokeh/release/bokeh-widgets-0.13.0.min.js\", \"https://cdn.pydata.org/bokeh/release/bokeh-tables-0.13.0.min.js\", \"https://cdn.pydata.org/bokeh/release/bokeh-gl-0.13.0.min.js\"];\n\n  var inline_js = [\n    function(Bokeh) {\n      Bokeh.set_log_level(\"info\");\n    },\n    \n    function(Bokeh) {\n      \n    },\n    function(Bokeh) {\n      console.log(\"Bokeh: injecting CSS: https://cdn.pydata.org/bokeh/release/bokeh-0.13.0.min.css\");\n      Bokeh.embed.inject_css(\"https://cdn.pydata.org/bokeh/release/bokeh-0.13.0.min.css\");\n      console.log(\"Bokeh: injecting CSS: https://cdn.pydata.org/bokeh/release/bokeh-widgets-0.13.0.min.css\");\n      Bokeh.embed.inject_css(\"https://cdn.pydata.org/bokeh/release/bokeh-widgets-0.13.0.min.css\");\n      console.log(\"Bokeh: injecting CSS: https://cdn.pydata.org/bokeh/release/bokeh-tables-0.13.0.min.css\");\n      Bokeh.embed.inject_css(\"https://cdn.pydata.org/bokeh/release/bokeh-tables-0.13.0.min.css\");\n    }\n  ];\n\n  function run_inline_js() {\n    \n    if ((root.Bokeh !== undefined) || (force === true)) {\n      for (var i = 0; i < inline_js.length; i++) {\n        inline_js[i].call(root, root.Bokeh);\n      }if (force === true) {\n        display_loaded();\n      }} else if (Date.now() < root._bokeh_timeout) {\n      setTimeout(run_inline_js, 100);\n    } else if (!root._bokeh_failed_load) {\n      console.log(\"Bokeh: BokehJS failed to load within specified timeout.\");\n      root._bokeh_failed_load = true;\n    } else if (force !== true) {\n      var cell = $(document.getElementById(\"40de4504-2fcd-4f6d-8c0b-bda713208dec\")).parents('.cell').data().cell;\n      cell.output_area.append_execute_result(NB_LOAD_WARNING)\n    }\n\n  }\n\n  if (root._bokeh_is_loading === 0) {\n    console.log(\"Bokeh: BokehJS loaded, going straight to plotting\");\n    run_inline_js();\n  } else {\n    load_libs(js_urls, function() {\n      console.log(\"Bokeh: BokehJS plotting callback run at\", now());\n      run_inline_js();\n    });\n  }\n}(window));",
      "application/vnd.bokehjs_load.v0+json": "\n(function(root) {\n  function now() {\n    return new Date();\n  }\n\n  var force = true;\n\n  if (typeof (root._bokeh_onload_callbacks) === \"undefined\" || force === true) {\n    root._bokeh_onload_callbacks = [];\n    root._bokeh_is_loading = undefined;\n  }\n\n  \n\n  \n  if (typeof (root._bokeh_timeout) === \"undefined\" || force === true) {\n    root._bokeh_timeout = Date.now() + 5000;\n    root._bokeh_failed_load = false;\n  }\n\n  var NB_LOAD_WARNING = {'data': {'text/html':\n     \"<div style='background-color: #fdd'>\\n\"+\n     \"<p>\\n\"+\n     \"BokehJS does not appear to have successfully loaded. If loading BokehJS from CDN, this \\n\"+\n     \"may be due to a slow or bad network connection. Possible fixes:\\n\"+\n     \"</p>\\n\"+\n     \"<ul>\\n\"+\n     \"<li>re-rerun `output_notebook()` to attempt to load from CDN again, or</li>\\n\"+\n     \"<li>use INLINE resources instead, as so:</li>\\n\"+\n     \"</ul>\\n\"+\n     \"<code>\\n\"+\n     \"from bokeh.resources import INLINE\\n\"+\n     \"output_notebook(resources=INLINE)\\n\"+\n     \"</code>\\n\"+\n     \"</div>\"}};\n\n  function display_loaded() {\n    var el = document.getElementById(\"40de4504-2fcd-4f6d-8c0b-bda713208dec\");\n    if (el != null) {\n      el.textContent = \"BokehJS is loading...\";\n    }\n    if (root.Bokeh !== undefined) {\n      if (el != null) {\n        el.textContent = \"BokehJS \" + root.Bokeh.version + \" successfully loaded.\";\n      }\n    } else if (Date.now() < root._bokeh_timeout) {\n      setTimeout(display_loaded, 100)\n    }\n  }\n\n\n  function run_callbacks() {\n    try {\n      root._bokeh_onload_callbacks.forEach(function(callback) { callback() });\n    }\n    finally {\n      delete root._bokeh_onload_callbacks\n    }\n    console.info(\"Bokeh: all callbacks have finished\");\n  }\n\n  function load_libs(js_urls, callback) {\n    root._bokeh_onload_callbacks.push(callback);\n    if (root._bokeh_is_loading > 0) {\n      console.log(\"Bokeh: BokehJS is being loaded, scheduling callback at\", now());\n      return null;\n    }\n    if (js_urls == null || js_urls.length === 0) {\n      run_callbacks();\n      return null;\n    }\n    console.log(\"Bokeh: BokehJS not loaded, scheduling load and callback at\", now());\n    root._bokeh_is_loading = js_urls.length;\n    for (var i = 0; i < js_urls.length; i++) {\n      var url = js_urls[i];\n      var s = document.createElement('script');\n      s.src = url;\n      s.async = false;\n      s.onreadystatechange = s.onload = function() {\n        root._bokeh_is_loading--;\n        if (root._bokeh_is_loading === 0) {\n          console.log(\"Bokeh: all BokehJS libraries loaded\");\n          run_callbacks()\n        }\n      };\n      s.onerror = function() {\n        console.warn(\"failed to load library \" + url);\n      };\n      console.log(\"Bokeh: injecting script tag for BokehJS library: \", url);\n      document.getElementsByTagName(\"head\")[0].appendChild(s);\n    }\n  };var element = document.getElementById(\"40de4504-2fcd-4f6d-8c0b-bda713208dec\");\n  if (element == null) {\n    console.log(\"Bokeh: ERROR: autoload.js configured with elementid '40de4504-2fcd-4f6d-8c0b-bda713208dec' but no matching script tag was found. \")\n    return false;\n  }\n\n  var js_urls = [\"https://cdn.pydata.org/bokeh/release/bokeh-0.13.0.min.js\", \"https://cdn.pydata.org/bokeh/release/bokeh-widgets-0.13.0.min.js\", \"https://cdn.pydata.org/bokeh/release/bokeh-tables-0.13.0.min.js\", \"https://cdn.pydata.org/bokeh/release/bokeh-gl-0.13.0.min.js\"];\n\n  var inline_js = [\n    function(Bokeh) {\n      Bokeh.set_log_level(\"info\");\n    },\n    \n    function(Bokeh) {\n      \n    },\n    function(Bokeh) {\n      console.log(\"Bokeh: injecting CSS: https://cdn.pydata.org/bokeh/release/bokeh-0.13.0.min.css\");\n      Bokeh.embed.inject_css(\"https://cdn.pydata.org/bokeh/release/bokeh-0.13.0.min.css\");\n      console.log(\"Bokeh: injecting CSS: https://cdn.pydata.org/bokeh/release/bokeh-widgets-0.13.0.min.css\");\n      Bokeh.embed.inject_css(\"https://cdn.pydata.org/bokeh/release/bokeh-widgets-0.13.0.min.css\");\n      console.log(\"Bokeh: injecting CSS: https://cdn.pydata.org/bokeh/release/bokeh-tables-0.13.0.min.css\");\n      Bokeh.embed.inject_css(\"https://cdn.pydata.org/bokeh/release/bokeh-tables-0.13.0.min.css\");\n    }\n  ];\n\n  function run_inline_js() {\n    \n    if ((root.Bokeh !== undefined) || (force === true)) {\n      for (var i = 0; i < inline_js.length; i++) {\n        inline_js[i].call(root, root.Bokeh);\n      }if (force === true) {\n        display_loaded();\n      }} else if (Date.now() < root._bokeh_timeout) {\n      setTimeout(run_inline_js, 100);\n    } else if (!root._bokeh_failed_load) {\n      console.log(\"Bokeh: BokehJS failed to load within specified timeout.\");\n      root._bokeh_failed_load = true;\n    } else if (force !== true) {\n      var cell = $(document.getElementById(\"40de4504-2fcd-4f6d-8c0b-bda713208dec\")).parents('.cell').data().cell;\n      cell.output_area.append_execute_result(NB_LOAD_WARNING)\n    }\n\n  }\n\n  if (root._bokeh_is_loading === 0) {\n    console.log(\"Bokeh: BokehJS loaded, going straight to plotting\");\n    run_inline_js();\n  } else {\n    load_libs(js_urls, function() {\n      console.log(\"Bokeh: BokehJS plotting callback run at\", now());\n      run_inline_js();\n    });\n  }\n}(window));"
     },
     "metadata": {},
     "output_type": "display_data"
    }
   ],
   "source": [
    "output_notebook()\n",
    "im = 3\n",
    "\n",
    "pf = figure(plot_width=800, plot_height=800,title=\"Parity Plot for BE Predictions on NEB Images with Computational Alchemy\")\n",
    "\n",
    "parity = Slope(gradient=1,y_intercept=0,)\n",
    "pf.add_layout(parity)\n",
    "\n",
    "colors = ['blue','green','red','yellow','magenta','cyan','indigo']\n",
    "pf.x_range=Range1d(-1,1)\n",
    "pf.y_range=Range1d(-1,1)\n",
    "\n",
    "r = []\n",
    "for i in range(chargelen):\n",
    "    source = ColumnDataSource(data=dict(\n",
    "                x=[d for d in dft_del_be[im][i]],\n",
    "                y=[a for a in alc_del_be[im][i]],\n",
    "                rad=[d/50 for d in distances[i]],\n",
    "                color=[colors[i]]*len(alc_del_be[im][i])))\n",
    "    r.append(pf.circle('x', 'y', radius='rad', fill_color ='color',source=source, line_color=\"black\", line_width=2, fill_alpha=0.5, legend='delZ = '+str(charge[i])))\n",
    "\n",
    "def update(neb_image):\n",
    "    neb_image = int(neb_image)\n",
    "    for i in range(chargelen):\n",
    "        r[i].data_source.data['x'] = dft_del_be[neb_image][i]\n",
    "        r[i].data_source.data['y'] = alc_del_be[neb_image][i]\n",
    "    push_notebook()"
   ]
  },
  {
   "cell_type": "code",
   "execution_count": 23,
   "metadata": {},
   "outputs": [
    {
     "data": {
      "text/html": "\n\n\n\n\n\n  <div class=\"bk-root\" id=\"b6b248ca-6b52-4ec8-b54b-dbc95df09da0\"></div>\n"
     },
     "metadata": {},
     "output_type": "display_data"
    },
    {
     "data": {
      "application/javascript": "(function(root) {\n  function embed_document(root) {\n    \n  var docs_json = {\"f6fd58f3-6bc9-48df-8032-a9ad9beed133\":{\"roots\":{\"references\":[{\"attributes\":{\"items\":[{\"id\":\"7189d9e9-74ad-4e9e-a1ab-8963bc3b10bd\",\"type\":\"LegendItem\"},{\"id\":\"6fc03260-83b9-4dfc-afda-0b70c51a5f63\",\"type\":\"LegendItem\"}],\"plot\":{\"id\":\"bb48f839-518a-40ad-9b45-096a505494c7\",\"subtype\":\"Figure\",\"type\":\"Plot\"}},\"id\":\"a390f466-b9f5-449d-9fa2-1944300d2573\",\"type\":\"Legend\"},{\"attributes\":{\"data_source\":{\"id\":\"a0020383-31da-4588-823b-4c21f7e7c0a0\",\"type\":\"ColumnDataSource\"},\"glyph\":{\"id\":\"fcc50c90-41bd-43fd-b75a-310ae0dcfc3a\",\"type\":\"Circle\"},\"hover_glyph\":null,\"muted_glyph\":null,\"nonselection_glyph\":{\"id\":\"28fa1413-c584-4ad1-9682-23ce3f093fcb\",\"type\":\"Circle\"},\"selection_glyph\":null,\"view\":{\"id\":\"7b33c3c9-91d2-43a4-85a6-ae029df133ec\",\"type\":\"CDSView\"}},\"id\":\"87f3b1d1-d09d-451b-9ec5-65c1041e44ce\",\"type\":\"GlyphRenderer\"},{\"attributes\":{\"below\":[{\"id\":\"7acc4c8c-187a-4f9f-9053-5331eba14265\",\"type\":\"LinearAxis\"}],\"left\":[{\"id\":\"a846c854-dff9-4835-9f22-fdf9b63b56f3\",\"type\":\"LinearAxis\"}],\"plot_height\":800,\"plot_width\":800,\"renderers\":[{\"id\":\"7acc4c8c-187a-4f9f-9053-5331eba14265\",\"type\":\"LinearAxis\"},{\"id\":\"a119b2ec-3e69-4ba5-a663-7580d8dca64c\",\"type\":\"Grid\"},{\"id\":\"a846c854-dff9-4835-9f22-fdf9b63b56f3\",\"type\":\"LinearAxis\"},{\"id\":\"39f43024-5a61-461e-8544-b8810645cd37\",\"type\":\"Grid\"},{\"id\":\"7bd7436e-a588-41e9-8c16-49f49fc523d8\",\"type\":\"BoxAnnotation\"},{\"id\":\"dd1dbda9-b4df-4ed6-94cc-e13cfa7f3d02\",\"type\":\"Slope\"},{\"id\":\"a390f466-b9f5-449d-9fa2-1944300d2573\",\"type\":\"Legend\"},{\"id\":\"87f3b1d1-d09d-451b-9ec5-65c1041e44ce\",\"type\":\"GlyphRenderer\"},{\"id\":\"4ebd10f8-c56c-499e-8db3-bd5bc9e4fc7f\",\"type\":\"GlyphRenderer\"}],\"title\":{\"id\":\"158c2252-d94c-4ec5-9b8a-33415fa3e0ed\",\"type\":\"Title\"},\"toolbar\":{\"id\":\"248541bc-fb9e-4910-8624-f88bb7bca9ad\",\"type\":\"Toolbar\"},\"x_range\":{\"id\":\"d4e772b3-bd04-4a0a-9f23-3d3857496e51\",\"type\":\"Range1d\"},\"x_scale\":{\"id\":\"19a1c5ef-e693-44df-aa22-3d1ab4fcd455\",\"type\":\"LinearScale\"},\"y_range\":{\"id\":\"e4da1798-1fa6-4b50-9663-623bbe16ffa1\",\"type\":\"Range1d\"},\"y_scale\":{\"id\":\"5bcfa33d-60f2-4896-8fe5-363d6eea3c5b\",\"type\":\"LinearScale\"}},\"id\":\"bb48f839-518a-40ad-9b45-096a505494c7\",\"subtype\":\"Figure\",\"type\":\"Plot\"},{\"attributes\":{\"source\":{\"id\":\"a0020383-31da-4588-823b-4c21f7e7c0a0\",\"type\":\"ColumnDataSource\"}},\"id\":\"7b33c3c9-91d2-43a4-85a6-ae029df133ec\",\"type\":\"CDSView\"},{\"attributes\":{},\"id\":\"ea5622db-596e-44f0-a59a-3adb4c814cca\",\"type\":\"BasicTickFormatter\"},{\"attributes\":{},\"id\":\"4c283be2-88a7-4281-b9ca-74785b0884f8\",\"type\":\"BasicTickFormatter\"},{\"attributes\":{\"label\":{\"value\":\"delZ = 1\"},\"renderers\":[{\"id\":\"87f3b1d1-d09d-451b-9ec5-65c1041e44ce\",\"type\":\"GlyphRenderer\"}]},\"id\":\"7189d9e9-74ad-4e9e-a1ab-8963bc3b10bd\",\"type\":\"LegendItem\"},{\"attributes\":{\"callback\":null,\"data\":{\"color\":[\"green\",\"green\",\"green\",\"green\",\"green\",\"green\",\"green\",\"green\",\"green\",\"green\",\"green\",\"green\",\"green\",\"green\",\"green\",\"green\"],\"rad\":[0.0745404941945351,0.09296809515721537,0.09200509994195359,0.12105785292858444,0.16701765847395378,0.1364722700108376,0.20017949318944328,0.16644313902370442,0.0745404941945351,0.09296809515721537,0.09200509994195359,0.12105785292858444,0.16701765847395378,0.1364722700108376,0.20017949318944328,0.16644313902370442],\"x\":[0.1466850000000477,0.02850800000001641,0.02752799999998956,0.034428000000019665,0.060119000000014466,0.06634900000003086,0.07287900000002878,0.06948900000003277,0.13747800000001575,0.029721000000023423,0.02612799999999993,0.03277900000003342,0.06157600000005914,0.05954900000003249,0.07243900000003123,0.06868900000003464],\"y\":[0.1991000000000014,0.06550000000000011,0.07099999999999795,0.07119999999999038,0.08150000000000546,0.07980000000000587,0.09370000000001255,0.08970000000000766,0.1967999999999961,0.06319999999999482,0.06869999999999266,0.06889999999998508,0.07920000000000016,0.07750000000000057,0.09140000000000725,0.08740000000000236]},\"selected\":{\"id\":\"ba456179-5ea6-4763-b265-2d6fed838e67\",\"type\":\"Selection\"},\"selection_policy\":{\"id\":\"a4d9ed30-31db-4a2d-832c-8118669ffa4e\",\"type\":\"UnionRenderers\"}},\"id\":\"055e92e2-703c-4ea3-9657-6284283ca9a4\",\"type\":\"ColumnDataSource\"},{\"attributes\":{\"fill_alpha\":{\"value\":0.5},\"fill_color\":{\"field\":\"color\"},\"line_width\":{\"value\":2},\"radius\":{\"field\":\"rad\",\"units\":\"data\"},\"x\":{\"field\":\"x\"},\"y\":{\"field\":\"y\"}},\"id\":\"fcc50c90-41bd-43fd-b75a-310ae0dcfc3a\",\"type\":\"Circle\"},{\"attributes\":{},\"id\":\"0120bdf4-5665-4a9b-891a-d0c818247c19\",\"type\":\"UnionRenderers\"},{\"attributes\":{\"fill_alpha\":{\"value\":0.5},\"fill_color\":{\"field\":\"color\"},\"line_width\":{\"value\":2},\"radius\":{\"field\":\"rad\",\"units\":\"data\"},\"x\":{\"field\":\"x\"},\"y\":{\"field\":\"y\"}},\"id\":\"d502a4db-0638-4c7b-ac6b-b9cbdded0d15\",\"type\":\"Circle\"},{\"attributes\":{},\"id\":\"ba456179-5ea6-4763-b265-2d6fed838e67\",\"type\":\"Selection\"},{\"attributes\":{\"fill_alpha\":{\"value\":0.1},\"fill_color\":{\"value\":\"#1f77b4\"},\"line_alpha\":{\"value\":0.1},\"line_color\":{\"value\":\"#1f77b4\"},\"line_width\":{\"value\":2},\"radius\":{\"field\":\"rad\",\"units\":\"data\"},\"x\":{\"field\":\"x\"},\"y\":{\"field\":\"y\"}},\"id\":\"9ce084d4-054f-4b4e-b8a6-37cccd8081a0\",\"type\":\"Circle\"},{\"attributes\":{\"plot\":{\"id\":\"bb48f839-518a-40ad-9b45-096a505494c7\",\"subtype\":\"Figure\",\"type\":\"Plot\"},\"ticker\":{\"id\":\"bbb67cff-7399-44d6-862a-a3b96d82525e\",\"type\":\"BasicTicker\"}},\"id\":\"a119b2ec-3e69-4ba5-a663-7580d8dca64c\",\"type\":\"Grid\"},{\"attributes\":{\"data_source\":{\"id\":\"055e92e2-703c-4ea3-9657-6284283ca9a4\",\"type\":\"ColumnDataSource\"},\"glyph\":{\"id\":\"d502a4db-0638-4c7b-ac6b-b9cbdded0d15\",\"type\":\"Circle\"},\"hover_glyph\":null,\"muted_glyph\":null,\"nonselection_glyph\":{\"id\":\"9ce084d4-054f-4b4e-b8a6-37cccd8081a0\",\"type\":\"Circle\"},\"selection_glyph\":null,\"view\":{\"id\":\"a195dfbb-0ed9-4041-b1a9-dd12b3d9e3c7\",\"type\":\"CDSView\"}},\"id\":\"4ebd10f8-c56c-499e-8db3-bd5bc9e4fc7f\",\"type\":\"GlyphRenderer\"},{\"attributes\":{\"plot\":null,\"text\":\"Parity Plot for BE Predictions on NEB Images with Computational Alchemy\"},\"id\":\"158c2252-d94c-4ec5-9b8a-33415fa3e0ed\",\"type\":\"Title\"},{\"attributes\":{\"source\":{\"id\":\"055e92e2-703c-4ea3-9657-6284283ca9a4\",\"type\":\"ColumnDataSource\"}},\"id\":\"a195dfbb-0ed9-4041-b1a9-dd12b3d9e3c7\",\"type\":\"CDSView\"},{\"attributes\":{\"active_drag\":\"auto\",\"active_inspect\":\"auto\",\"active_multi\":null,\"active_scroll\":\"auto\",\"active_tap\":\"auto\",\"tools\":[{\"id\":\"e43f419b-40d1-4579-886b-7e431b429911\",\"type\":\"PanTool\"},{\"id\":\"2d63ffae-3ae6-4b8e-8886-5f95c39d2af1\",\"type\":\"WheelZoomTool\"},{\"id\":\"77fac158-dd27-45d4-b03d-cd063953e4e9\",\"type\":\"BoxZoomTool\"},{\"id\":\"24aa1c36-8f11-4251-b91e-ad69d8309695\",\"type\":\"SaveTool\"},{\"id\":\"48cb0536-2131-48f4-9825-49e3ebbe3b0d\",\"type\":\"ResetTool\"},{\"id\":\"2f7318f6-9c36-4e1d-b7f1-9257db218aaa\",\"type\":\"HelpTool\"}]},\"id\":\"248541bc-fb9e-4910-8624-f88bb7bca9ad\",\"type\":\"Toolbar\"},{\"attributes\":{},\"id\":\"24987683-e425-47ab-83ed-0df7d255a00a\",\"type\":\"Selection\"},{\"attributes\":{},\"id\":\"19a1c5ef-e693-44df-aa22-3d1ab4fcd455\",\"type\":\"LinearScale\"},{\"attributes\":{\"label\":{\"value\":\"delZ = -1\"},\"renderers\":[{\"id\":\"4ebd10f8-c56c-499e-8db3-bd5bc9e4fc7f\",\"type\":\"GlyphRenderer\"}]},\"id\":\"6fc03260-83b9-4dfc-afda-0b70c51a5f63\",\"type\":\"LegendItem\"},{\"attributes\":{\"formatter\":{\"id\":\"ea5622db-596e-44f0-a59a-3adb4c814cca\",\"type\":\"BasicTickFormatter\"},\"plot\":{\"id\":\"bb48f839-518a-40ad-9b45-096a505494c7\",\"subtype\":\"Figure\",\"type\":\"Plot\"},\"ticker\":{\"id\":\"bbb67cff-7399-44d6-862a-a3b96d82525e\",\"type\":\"BasicTicker\"}},\"id\":\"7acc4c8c-187a-4f9f-9053-5331eba14265\",\"type\":\"LinearAxis\"},{\"attributes\":{},\"id\":\"5bcfa33d-60f2-4896-8fe5-363d6eea3c5b\",\"type\":\"LinearScale\"},{\"attributes\":{},\"id\":\"bbb67cff-7399-44d6-862a-a3b96d82525e\",\"type\":\"BasicTicker\"},{\"attributes\":{\"formatter\":{\"id\":\"4c283be2-88a7-4281-b9ca-74785b0884f8\",\"type\":\"BasicTickFormatter\"},\"plot\":{\"id\":\"bb48f839-518a-40ad-9b45-096a505494c7\",\"subtype\":\"Figure\",\"type\":\"Plot\"},\"ticker\":{\"id\":\"9b4f0418-f888-43a0-9c00-27e1b163c3dd\",\"type\":\"BasicTicker\"}},\"id\":\"a846c854-dff9-4835-9f22-fdf9b63b56f3\",\"type\":\"LinearAxis\"},{\"attributes\":{},\"id\":\"9b4f0418-f888-43a0-9c00-27e1b163c3dd\",\"type\":\"BasicTicker\"},{\"attributes\":{\"dimension\":1,\"plot\":{\"id\":\"bb48f839-518a-40ad-9b45-096a505494c7\",\"subtype\":\"Figure\",\"type\":\"Plot\"},\"ticker\":{\"id\":\"9b4f0418-f888-43a0-9c00-27e1b163c3dd\",\"type\":\"BasicTicker\"}},\"id\":\"39f43024-5a61-461e-8544-b8810645cd37\",\"type\":\"Grid\"},{\"attributes\":{\"callback\":null,\"start\":-1},\"id\":\"e4da1798-1fa6-4b50-9663-623bbe16ffa1\",\"type\":\"Range1d\"},{\"attributes\":{\"fill_alpha\":{\"value\":0.1},\"fill_color\":{\"value\":\"#1f77b4\"},\"line_alpha\":{\"value\":0.1},\"line_color\":{\"value\":\"#1f77b4\"},\"line_width\":{\"value\":2},\"radius\":{\"field\":\"rad\",\"units\":\"data\"},\"x\":{\"field\":\"x\"},\"y\":{\"field\":\"y\"}},\"id\":\"28fa1413-c584-4ad1-9682-23ce3f093fcb\",\"type\":\"Circle\"},{\"attributes\":{},\"id\":\"a4d9ed30-31db-4a2d-832c-8118669ffa4e\",\"type\":\"UnionRenderers\"},{\"attributes\":{\"callback\":null,\"start\":-1},\"id\":\"d4e772b3-bd04-4a0a-9f23-3d3857496e51\",\"type\":\"Range1d\"},{\"attributes\":{},\"id\":\"e43f419b-40d1-4579-886b-7e431b429911\",\"type\":\"PanTool\"},{\"attributes\":{},\"id\":\"2d63ffae-3ae6-4b8e-8886-5f95c39d2af1\",\"type\":\"WheelZoomTool\"},{\"attributes\":{\"overlay\":{\"id\":\"7bd7436e-a588-41e9-8c16-49f49fc523d8\",\"type\":\"BoxAnnotation\"}},\"id\":\"77fac158-dd27-45d4-b03d-cd063953e4e9\",\"type\":\"BoxZoomTool\"},{\"attributes\":{},\"id\":\"24aa1c36-8f11-4251-b91e-ad69d8309695\",\"type\":\"SaveTool\"},{\"attributes\":{},\"id\":\"48cb0536-2131-48f4-9825-49e3ebbe3b0d\",\"type\":\"ResetTool\"},{\"attributes\":{\"callback\":null,\"data\":{\"color\":[\"blue\",\"blue\",\"blue\",\"blue\",\"blue\",\"blue\",\"blue\",\"blue\",\"blue\",\"blue\",\"blue\",\"blue\",\"blue\",\"blue\",\"blue\",\"blue\"],\"rad\":[0.0745404941945351,0.09296809515721537,0.09200509994195359,0.12105785292858444,0.16701765847395378,0.1364722700108376,0.20017949318944328,0.16644313902370442,0.0745404941945351,0.09296809515721537,0.09200509994195359,0.12105785292858444,0.16701765847395378,0.1364722700108376,0.20017949318944328,0.16644313902370442],\"x\":[-0.14949599999997076,-0.044853999999958205,-0.055864999999954534,-0.047472999999968124,-0.04957600000003026,-0.04761699999997404,-0.0605160000000069,-0.0553989999999942,-0.14962299999996276,-0.03988599999999565,-0.05398399999995718,-0.0455029999999681,-0.04998599999996145,-0.046750000000002956,-0.057738999999997986,-0.05427199999994059],\"y\":[-0.1991000000000014,-0.06550000000000011,-0.07099999999999795,-0.07119999999999038,-0.08150000000000546,-0.07980000000000587,-0.09370000000001255,-0.08970000000000766,-0.1967999999999961,-0.06319999999999482,-0.06869999999999266,-0.06889999999998508,-0.07920000000000016,-0.07750000000000057,-0.09140000000000725,-0.08740000000000236]},\"selected\":{\"id\":\"24987683-e425-47ab-83ed-0df7d255a00a\",\"type\":\"Selection\"},\"selection_policy\":{\"id\":\"0120bdf4-5665-4a9b-891a-d0c818247c19\",\"type\":\"UnionRenderers\"}},\"id\":\"a0020383-31da-4588-823b-4c21f7e7c0a0\",\"type\":\"ColumnDataSource\"},{\"attributes\":{},\"id\":\"2f7318f6-9c36-4e1d-b7f1-9257db218aaa\",\"type\":\"HelpTool\"},{\"attributes\":{\"bottom_units\":\"screen\",\"fill_alpha\":{\"value\":0.5},\"fill_color\":{\"value\":\"lightgrey\"},\"left_units\":\"screen\",\"level\":\"overlay\",\"line_alpha\":{\"value\":1.0},\"line_color\":{\"value\":\"black\"},\"line_dash\":[4,4],\"line_width\":{\"value\":2},\"plot\":null,\"render_mode\":\"css\",\"right_units\":\"screen\",\"top_units\":\"screen\"},\"id\":\"7bd7436e-a588-41e9-8c16-49f49fc523d8\",\"type\":\"BoxAnnotation\"},{\"attributes\":{\"gradient\":1,\"plot\":{\"id\":\"bb48f839-518a-40ad-9b45-096a505494c7\",\"subtype\":\"Figure\",\"type\":\"Plot\"},\"y_intercept\":0},\"id\":\"dd1dbda9-b4df-4ed6-94cc-e13cfa7f3d02\",\"type\":\"Slope\"}],\"root_ids\":[\"bb48f839-518a-40ad-9b45-096a505494c7\"]},\"title\":\"Bokeh Application\",\"version\":\"0.13.0\"}};\n  var render_items = [{\"docid\":\"f6fd58f3-6bc9-48df-8032-a9ad9beed133\",\"notebook_comms_target\":\"f4d3f27e-8fcc-450d-be00-6310dc6637cc\",\"roots\":{\"bb48f839-518a-40ad-9b45-096a505494c7\":\"b6b248ca-6b52-4ec8-b54b-dbc95df09da0\"}}];\n  root.Bokeh.embed.embed_items_notebook(docs_json, render_items);\n\n  }\n  if (root.Bokeh !== undefined) {\n    embed_document(root);\n  } else {\n    var attempts = 0;\n    var timer = setInterval(function(root) {\n      if (root.Bokeh !== undefined) {\n        embed_document(root);\n        clearInterval(timer);\n      }\n      attempts++;\n      if (attempts > 100) {\n        console.log(\"Bokeh: ERROR: Unable to run BokehJS code because BokehJS library is missing\")\n        clearInterval(timer);\n      }\n    }, 10, root)\n  }\n})(window);",
      "application/vnd.bokehjs_exec.v0+json": ""
     },
     "metadata": {
      "application/vnd.bokehjs_exec.v0+json": {
       "id": "bb48f839-518a-40ad-9b45-096a505494c7"
      }
     },
     "output_type": "display_data"
    },
    {
     "data": {
      "text/html": "<p><code>&lt;Bokeh Notebook handle for <strong>In[23]</strong>&gt;</code></p>",
      "text/plain": "<bokeh.io.notebook.CommsHandle at 0x279eb4de470>"
     },
     "execution_count": 23,
     "metadata": {},
     "output_type": "execute_result"
    }
   ],
   "source": [
    "show(pf, notebook_handle=True)"
   ]
  },
  {
   "cell_type": "code",
   "execution_count": 24,
   "metadata": {},
   "outputs": [
    {
     "data": {
      "application/vnd.jupyter.widget-view+json": {
       "model_id": "0f02cd65e5f649159406b46af19e58ab",
       "version_major": 2,
       "version_minor": 0
      },
      "text/plain": "interactive(children=(Dropdown(description='neb_image', options=(0, 1, 2, 3, 4, 5, 6, 7, 8, 9), value=0), Outp…"
     },
     "metadata": {},
     "output_type": "display_data"
    },
    {
     "data": {
      "text/plain": "<function __main__.update(neb_image)>"
     },
     "execution_count": 24,
     "metadata": {},
     "output_type": "execute_result"
    }
   ],
   "source": [
    "interact(update, neb_image=[int(n) for n in np.linspace(0,9,10)])"
   ]
  },
  {
   "cell_type": "code",
   "execution_count": 25,
   "metadata": {},
   "outputs": [],
   "source": [
    "dft_ea = [[dft_del_be[5][i][j] - dft_del_be[0][i][j] for j in range(len(dft_del_be[0][i]))] for i in range(chargelen)]\n",
    "alc_ea = [[alc_del_be[5][i][j]-alc_del_be[0][i][j] for j in range(len(alc_del_be[0][i]))] for i in range(chargelen)]"
   ]
  },
  {
   "cell_type": "code",
   "execution_count": 26,
   "metadata": {},
   "outputs": [],
   "source": [
    "ea_abs_error = [[abs(alc_ea[i][j] - dft_ea[i][j]) for j in range(len(alc_ea[i]))] for i in range(chargelen)]\n",
    "ea_mean_abs_error = round(np.average(ea_abs_error),3)"
   ]
  },
  {
   "cell_type": "code",
   "execution_count": 27,
   "metadata": {},
   "outputs": [
    {
     "name": "stdout",
     "output_type": "stream",
     "text": "0.0.Ir0.Au12 -0.8077800000000082 -0.7267000000000081 0.08108000000000004\n0.1.Ir0.Au13 -0.00836000000001036 -0.05310000000000059 0.04473999999999023\n0.2.Ir0.Au14 -0.048570000000012215 -0.011499999999998067 0.03707000000001415\n0.3.Ir0.Au15 0.007530000000002701 -0.033699999999996066 0.04122999999999877\n0.4.Ir0.Au8 0.01099999999999568 0.03649999999998954 0.02549999999999386\n0.5.Ir0.Au9 0.010919999999998709 0.011199999999988108 0.00027999999998939984\n0.6.Ir0.Au10 -0.057390000000026475 -0.00940000000001362 0.047990000000012856\n0.7.Ir0.Au11 -0.02529000000004089 -0.006100000000003547 0.019190000000037344\n1.0.Ir1.Au12 -0.822829999999982 -0.7314000000000078 0.09142999999997414\n1.1.Ir1.Au13 -0.014130000000022847 -0.057800000000000296 0.04366999999997745\n1.2.Ir1.Au14 -0.05345000000002642 -0.016199999999997772 0.03725000000002865\n1.3.Ir1.Au15 0.00354999999998995 -0.03839999999999577 0.04194999999998572\n1.4.Ir1.Au8 0.017269999999996344 0.031799999999989836 0.014529999999993493\n1.5.Ir1.Au9 0.001519999999970878 0.006499999999988404 0.004980000000017526\n1.6.Ir1.Au10 -0.07433000000003176 -0.014100000000013324 0.060230000000018435\n1.7.Ir1.Au11 -0.038170000000064874 -0.010800000000003251 0.027370000000061623\n0.0.Au0.Ir12 0.428089999999969 0.7267000000000081 0.2986100000000391\n0.1.Au0.Ir13 0.026299999999991996 0.05310000000000059 0.026800000000008595\n0.2.Au0.Ir14 -0.043630000000007385 0.011499999999998067 0.05513000000000545\n0.3.Au0.Ir15 0.012729999999976371 0.033699999999996066 0.020970000000019695\n0.4.Au0.Ir8 -0.054200000000008686 -0.03649999999998954 0.017700000000019145\n0.5.Au0.Ir9 0.012889999999970314 -0.011199999999988108 0.024089999999958422\n0.6.Au0.Ir10 -0.021710000000012997 0.00940000000001362 0.031110000000026616\n0.7.Au0.Ir11 -0.007520000000027949 0.006100000000003547 0.013620000000031496\n1.0.Au1.Ir12 0.42517999999998324 0.7314000000000078 0.3062200000000246\n1.1.Au1.Ir13 0.02440999999998894 0.057800000000000296 0.033390000000011355\n1.2.Au1.Ir14 -0.042610000000024684 0.016199999999997772 0.058810000000022455\n1.3.Au1.Ir15 0.012939999999986185 0.03839999999999577 0.025460000000009586\n1.4.Au1.Ir8 -0.041010000000056834 -0.031799999999989836 0.009210000000066998\n1.5.Au1.Ir9 0.00309000000001447 -0.006499999999988404 0.009590000000002874\n1.6.Au1.Ir10 -0.026530000000008158 0.014100000000013324 0.04063000000002148\n1.7.Au1.Ir11 -0.00985000000005698 0.010800000000003251 0.02065000000006023\n"
    }
   ],
   "source": [
    "for i in range(chargelen):\n",
    "    for j in range(len(dft_ea[i])):\n",
    "        print(dir_slab[i][j],dft_ea[i][j],alc_ea[i][j],ea_abs_error[i][j])"
   ]
  },
  {
   "cell_type": "code",
   "execution_count": 28,
   "metadata": {},
   "outputs": [
    {
     "data": {
      "text/html": "\n    <div class=\"bk-root\">\n        <a href=\"https://bokeh.pydata.org\" target=\"_blank\" class=\"bk-logo bk-logo-small bk-logo-notebook\"></a>\n        <span id=\"272a4fae-400b-4791-8af4-c2cf8dfb8d7d\">Loading BokehJS ...</span>\n    </div>"
     },
     "metadata": {},
     "output_type": "display_data"
    },
    {
     "data": {
      "application/javascript": "\n(function(root) {\n  function now() {\n    return new Date();\n  }\n\n  var force = true;\n\n  if (typeof (root._bokeh_onload_callbacks) === \"undefined\" || force === true) {\n    root._bokeh_onload_callbacks = [];\n    root._bokeh_is_loading = undefined;\n  }\n\n  var JS_MIME_TYPE = 'application/javascript';\n  var HTML_MIME_TYPE = 'text/html';\n  var EXEC_MIME_TYPE = 'application/vnd.bokehjs_exec.v0+json';\n  var CLASS_NAME = 'output_bokeh rendered_html';\n\n  /**\n   * Render data to the DOM node\n   */\n  function render(props, node) {\n    var script = document.createElement(\"script\");\n    node.appendChild(script);\n  }\n\n  /**\n   * Handle when an output is cleared or removed\n   */\n  function handleClearOutput(event, handle) {\n    var cell = handle.cell;\n\n    var id = cell.output_area._bokeh_element_id;\n    var server_id = cell.output_area._bokeh_server_id;\n    // Clean up Bokeh references\n    if (id != null && id in Bokeh.index) {\n      Bokeh.index[id].model.document.clear();\n      delete Bokeh.index[id];\n    }\n\n    if (server_id !== undefined) {\n      // Clean up Bokeh references\n      var cmd = \"from bokeh.io.state import curstate; print(curstate().uuid_to_server['\" + server_id + \"'].get_sessions()[0].document.roots[0]._id)\";\n      cell.notebook.kernel.execute(cmd, {\n        iopub: {\n          output: function(msg) {\n            var id = msg.content.text.trim();\n            if (id in Bokeh.index) {\n              Bokeh.index[id].model.document.clear();\n              delete Bokeh.index[id];\n            }\n          }\n        }\n      });\n      // Destroy server and session\n      var cmd = \"import bokeh.io.notebook as ion; ion.destroy_server('\" + server_id + \"')\";\n      cell.notebook.kernel.execute(cmd);\n    }\n  }\n\n  /**\n   * Handle when a new output is added\n   */\n  function handleAddOutput(event, handle) {\n    var output_area = handle.output_area;\n    var output = handle.output;\n\n    // limit handleAddOutput to display_data with EXEC_MIME_TYPE content only\n    if ((output.output_type != \"display_data\") || (!output.data.hasOwnProperty(EXEC_MIME_TYPE))) {\n      return\n    }\n\n    var toinsert = output_area.element.find(\".\" + CLASS_NAME.split(' ')[0]);\n\n    if (output.metadata[EXEC_MIME_TYPE][\"id\"] !== undefined) {\n      toinsert[toinsert.length - 1].firstChild.textContent = output.data[JS_MIME_TYPE];\n      // store reference to embed id on output_area\n      output_area._bokeh_element_id = output.metadata[EXEC_MIME_TYPE][\"id\"];\n    }\n    if (output.metadata[EXEC_MIME_TYPE][\"server_id\"] !== undefined) {\n      var bk_div = document.createElement(\"div\");\n      bk_div.innerHTML = output.data[HTML_MIME_TYPE];\n      var script_attrs = bk_div.children[0].attributes;\n      for (var i = 0; i < script_attrs.length; i++) {\n        toinsert[toinsert.length - 1].firstChild.setAttribute(script_attrs[i].name, script_attrs[i].value);\n      }\n      // store reference to server id on output_area\n      output_area._bokeh_server_id = output.metadata[EXEC_MIME_TYPE][\"server_id\"];\n    }\n  }\n\n  function register_renderer(events, OutputArea) {\n\n    function append_mime(data, metadata, element) {\n      // create a DOM node to render to\n      var toinsert = this.create_output_subarea(\n        metadata,\n        CLASS_NAME,\n        EXEC_MIME_TYPE\n      );\n      this.keyboard_manager.register_events(toinsert);\n      // Render to node\n      var props = {data: data, metadata: metadata[EXEC_MIME_TYPE]};\n      render(props, toinsert[toinsert.length - 1]);\n      element.append(toinsert);\n      return toinsert\n    }\n\n    /* Handle when an output is cleared or removed */\n    events.on('clear_output.CodeCell', handleClearOutput);\n    events.on('delete.Cell', handleClearOutput);\n\n    /* Handle when a new output is added */\n    events.on('output_added.OutputArea', handleAddOutput);\n\n    /**\n     * Register the mime type and append_mime function with output_area\n     */\n    OutputArea.prototype.register_mime_type(EXEC_MIME_TYPE, append_mime, {\n      /* Is output safe? */\n      safe: true,\n      /* Index of renderer in `output_area.display_order` */\n      index: 0\n    });\n  }\n\n  // register the mime type if in Jupyter Notebook environment and previously unregistered\n  if (root.Jupyter !== undefined) {\n    var events = require('base/js/events');\n    var OutputArea = require('notebook/js/outputarea').OutputArea;\n\n    if (OutputArea.prototype.mime_types().indexOf(EXEC_MIME_TYPE) == -1) {\n      register_renderer(events, OutputArea);\n    }\n  }\n\n  \n  if (typeof (root._bokeh_timeout) === \"undefined\" || force === true) {\n    root._bokeh_timeout = Date.now() + 5000;\n    root._bokeh_failed_load = false;\n  }\n\n  var NB_LOAD_WARNING = {'data': {'text/html':\n     \"<div style='background-color: #fdd'>\\n\"+\n     \"<p>\\n\"+\n     \"BokehJS does not appear to have successfully loaded. If loading BokehJS from CDN, this \\n\"+\n     \"may be due to a slow or bad network connection. Possible fixes:\\n\"+\n     \"</p>\\n\"+\n     \"<ul>\\n\"+\n     \"<li>re-rerun `output_notebook()` to attempt to load from CDN again, or</li>\\n\"+\n     \"<li>use INLINE resources instead, as so:</li>\\n\"+\n     \"</ul>\\n\"+\n     \"<code>\\n\"+\n     \"from bokeh.resources import INLINE\\n\"+\n     \"output_notebook(resources=INLINE)\\n\"+\n     \"</code>\\n\"+\n     \"</div>\"}};\n\n  function display_loaded() {\n    var el = document.getElementById(\"272a4fae-400b-4791-8af4-c2cf8dfb8d7d\");\n    if (el != null) {\n      el.textContent = \"BokehJS is loading...\";\n    }\n    if (root.Bokeh !== undefined) {\n      if (el != null) {\n        el.textContent = \"BokehJS \" + root.Bokeh.version + \" successfully loaded.\";\n      }\n    } else if (Date.now() < root._bokeh_timeout) {\n      setTimeout(display_loaded, 100)\n    }\n  }\n\n\n  function run_callbacks() {\n    try {\n      root._bokeh_onload_callbacks.forEach(function(callback) { callback() });\n    }\n    finally {\n      delete root._bokeh_onload_callbacks\n    }\n    console.info(\"Bokeh: all callbacks have finished\");\n  }\n\n  function load_libs(js_urls, callback) {\n    root._bokeh_onload_callbacks.push(callback);\n    if (root._bokeh_is_loading > 0) {\n      console.log(\"Bokeh: BokehJS is being loaded, scheduling callback at\", now());\n      return null;\n    }\n    if (js_urls == null || js_urls.length === 0) {\n      run_callbacks();\n      return null;\n    }\n    console.log(\"Bokeh: BokehJS not loaded, scheduling load and callback at\", now());\n    root._bokeh_is_loading = js_urls.length;\n    for (var i = 0; i < js_urls.length; i++) {\n      var url = js_urls[i];\n      var s = document.createElement('script');\n      s.src = url;\n      s.async = false;\n      s.onreadystatechange = s.onload = function() {\n        root._bokeh_is_loading--;\n        if (root._bokeh_is_loading === 0) {\n          console.log(\"Bokeh: all BokehJS libraries loaded\");\n          run_callbacks()\n        }\n      };\n      s.onerror = function() {\n        console.warn(\"failed to load library \" + url);\n      };\n      console.log(\"Bokeh: injecting script tag for BokehJS library: \", url);\n      document.getElementsByTagName(\"head\")[0].appendChild(s);\n    }\n  };var element = document.getElementById(\"272a4fae-400b-4791-8af4-c2cf8dfb8d7d\");\n  if (element == null) {\n    console.log(\"Bokeh: ERROR: autoload.js configured with elementid '272a4fae-400b-4791-8af4-c2cf8dfb8d7d' but no matching script tag was found. \")\n    return false;\n  }\n\n  var js_urls = [\"https://cdn.pydata.org/bokeh/release/bokeh-0.13.0.min.js\", \"https://cdn.pydata.org/bokeh/release/bokeh-widgets-0.13.0.min.js\", \"https://cdn.pydata.org/bokeh/release/bokeh-tables-0.13.0.min.js\", \"https://cdn.pydata.org/bokeh/release/bokeh-gl-0.13.0.min.js\"];\n\n  var inline_js = [\n    function(Bokeh) {\n      Bokeh.set_log_level(\"info\");\n    },\n    \n    function(Bokeh) {\n      \n    },\n    function(Bokeh) {\n      console.log(\"Bokeh: injecting CSS: https://cdn.pydata.org/bokeh/release/bokeh-0.13.0.min.css\");\n      Bokeh.embed.inject_css(\"https://cdn.pydata.org/bokeh/release/bokeh-0.13.0.min.css\");\n      console.log(\"Bokeh: injecting CSS: https://cdn.pydata.org/bokeh/release/bokeh-widgets-0.13.0.min.css\");\n      Bokeh.embed.inject_css(\"https://cdn.pydata.org/bokeh/release/bokeh-widgets-0.13.0.min.css\");\n      console.log(\"Bokeh: injecting CSS: https://cdn.pydata.org/bokeh/release/bokeh-tables-0.13.0.min.css\");\n      Bokeh.embed.inject_css(\"https://cdn.pydata.org/bokeh/release/bokeh-tables-0.13.0.min.css\");\n    }\n  ];\n\n  function run_inline_js() {\n    \n    if ((root.Bokeh !== undefined) || (force === true)) {\n      for (var i = 0; i < inline_js.length; i++) {\n        inline_js[i].call(root, root.Bokeh);\n      }if (force === true) {\n        display_loaded();\n      }} else if (Date.now() < root._bokeh_timeout) {\n      setTimeout(run_inline_js, 100);\n    } else if (!root._bokeh_failed_load) {\n      console.log(\"Bokeh: BokehJS failed to load within specified timeout.\");\n      root._bokeh_failed_load = true;\n    } else if (force !== true) {\n      var cell = $(document.getElementById(\"272a4fae-400b-4791-8af4-c2cf8dfb8d7d\")).parents('.cell').data().cell;\n      cell.output_area.append_execute_result(NB_LOAD_WARNING)\n    }\n\n  }\n\n  if (root._bokeh_is_loading === 0) {\n    console.log(\"Bokeh: BokehJS loaded, going straight to plotting\");\n    run_inline_js();\n  } else {\n    load_libs(js_urls, function() {\n      console.log(\"Bokeh: BokehJS plotting callback run at\", now());\n      run_inline_js();\n    });\n  }\n}(window));",
      "application/vnd.bokehjs_load.v0+json": "\n(function(root) {\n  function now() {\n    return new Date();\n  }\n\n  var force = true;\n\n  if (typeof (root._bokeh_onload_callbacks) === \"undefined\" || force === true) {\n    root._bokeh_onload_callbacks = [];\n    root._bokeh_is_loading = undefined;\n  }\n\n  \n\n  \n  if (typeof (root._bokeh_timeout) === \"undefined\" || force === true) {\n    root._bokeh_timeout = Date.now() + 5000;\n    root._bokeh_failed_load = false;\n  }\n\n  var NB_LOAD_WARNING = {'data': {'text/html':\n     \"<div style='background-color: #fdd'>\\n\"+\n     \"<p>\\n\"+\n     \"BokehJS does not appear to have successfully loaded. If loading BokehJS from CDN, this \\n\"+\n     \"may be due to a slow or bad network connection. Possible fixes:\\n\"+\n     \"</p>\\n\"+\n     \"<ul>\\n\"+\n     \"<li>re-rerun `output_notebook()` to attempt to load from CDN again, or</li>\\n\"+\n     \"<li>use INLINE resources instead, as so:</li>\\n\"+\n     \"</ul>\\n\"+\n     \"<code>\\n\"+\n     \"from bokeh.resources import INLINE\\n\"+\n     \"output_notebook(resources=INLINE)\\n\"+\n     \"</code>\\n\"+\n     \"</div>\"}};\n\n  function display_loaded() {\n    var el = document.getElementById(\"272a4fae-400b-4791-8af4-c2cf8dfb8d7d\");\n    if (el != null) {\n      el.textContent = \"BokehJS is loading...\";\n    }\n    if (root.Bokeh !== undefined) {\n      if (el != null) {\n        el.textContent = \"BokehJS \" + root.Bokeh.version + \" successfully loaded.\";\n      }\n    } else if (Date.now() < root._bokeh_timeout) {\n      setTimeout(display_loaded, 100)\n    }\n  }\n\n\n  function run_callbacks() {\n    try {\n      root._bokeh_onload_callbacks.forEach(function(callback) { callback() });\n    }\n    finally {\n      delete root._bokeh_onload_callbacks\n    }\n    console.info(\"Bokeh: all callbacks have finished\");\n  }\n\n  function load_libs(js_urls, callback) {\n    root._bokeh_onload_callbacks.push(callback);\n    if (root._bokeh_is_loading > 0) {\n      console.log(\"Bokeh: BokehJS is being loaded, scheduling callback at\", now());\n      return null;\n    }\n    if (js_urls == null || js_urls.length === 0) {\n      run_callbacks();\n      return null;\n    }\n    console.log(\"Bokeh: BokehJS not loaded, scheduling load and callback at\", now());\n    root._bokeh_is_loading = js_urls.length;\n    for (var i = 0; i < js_urls.length; i++) {\n      var url = js_urls[i];\n      var s = document.createElement('script');\n      s.src = url;\n      s.async = false;\n      s.onreadystatechange = s.onload = function() {\n        root._bokeh_is_loading--;\n        if (root._bokeh_is_loading === 0) {\n          console.log(\"Bokeh: all BokehJS libraries loaded\");\n          run_callbacks()\n        }\n      };\n      s.onerror = function() {\n        console.warn(\"failed to load library \" + url);\n      };\n      console.log(\"Bokeh: injecting script tag for BokehJS library: \", url);\n      document.getElementsByTagName(\"head\")[0].appendChild(s);\n    }\n  };var element = document.getElementById(\"272a4fae-400b-4791-8af4-c2cf8dfb8d7d\");\n  if (element == null) {\n    console.log(\"Bokeh: ERROR: autoload.js configured with elementid '272a4fae-400b-4791-8af4-c2cf8dfb8d7d' but no matching script tag was found. \")\n    return false;\n  }\n\n  var js_urls = [\"https://cdn.pydata.org/bokeh/release/bokeh-0.13.0.min.js\", \"https://cdn.pydata.org/bokeh/release/bokeh-widgets-0.13.0.min.js\", \"https://cdn.pydata.org/bokeh/release/bokeh-tables-0.13.0.min.js\", \"https://cdn.pydata.org/bokeh/release/bokeh-gl-0.13.0.min.js\"];\n\n  var inline_js = [\n    function(Bokeh) {\n      Bokeh.set_log_level(\"info\");\n    },\n    \n    function(Bokeh) {\n      \n    },\n    function(Bokeh) {\n      console.log(\"Bokeh: injecting CSS: https://cdn.pydata.org/bokeh/release/bokeh-0.13.0.min.css\");\n      Bokeh.embed.inject_css(\"https://cdn.pydata.org/bokeh/release/bokeh-0.13.0.min.css\");\n      console.log(\"Bokeh: injecting CSS: https://cdn.pydata.org/bokeh/release/bokeh-widgets-0.13.0.min.css\");\n      Bokeh.embed.inject_css(\"https://cdn.pydata.org/bokeh/release/bokeh-widgets-0.13.0.min.css\");\n      console.log(\"Bokeh: injecting CSS: https://cdn.pydata.org/bokeh/release/bokeh-tables-0.13.0.min.css\");\n      Bokeh.embed.inject_css(\"https://cdn.pydata.org/bokeh/release/bokeh-tables-0.13.0.min.css\");\n    }\n  ];\n\n  function run_inline_js() {\n    \n    if ((root.Bokeh !== undefined) || (force === true)) {\n      for (var i = 0; i < inline_js.length; i++) {\n        inline_js[i].call(root, root.Bokeh);\n      }if (force === true) {\n        display_loaded();\n      }} else if (Date.now() < root._bokeh_timeout) {\n      setTimeout(run_inline_js, 100);\n    } else if (!root._bokeh_failed_load) {\n      console.log(\"Bokeh: BokehJS failed to load within specified timeout.\");\n      root._bokeh_failed_load = true;\n    } else if (force !== true) {\n      var cell = $(document.getElementById(\"272a4fae-400b-4791-8af4-c2cf8dfb8d7d\")).parents('.cell').data().cell;\n      cell.output_area.append_execute_result(NB_LOAD_WARNING)\n    }\n\n  }\n\n  if (root._bokeh_is_loading === 0) {\n    console.log(\"Bokeh: BokehJS loaded, going straight to plotting\");\n    run_inline_js();\n  } else {\n    load_libs(js_urls, function() {\n      console.log(\"Bokeh: BokehJS plotting callback run at\", now());\n      run_inline_js();\n    });\n  }\n}(window));"
     },
     "metadata": {},
     "output_type": "display_data"
    },
    {
     "data": {
      "text/html": "\n\n\n\n\n\n  <div class=\"bk-root\" id=\"74f724b7-c679-49cd-ad85-0f0684a5a5c8\"></div>\n"
     },
     "metadata": {},
     "output_type": "display_data"
    },
    {
     "data": {
      "application/javascript": "(function(root) {\n  function embed_document(root) {\n    \n  var docs_json = {\"773434fe-b98b-4fc8-99da-dfd21f7e941e\":{\"roots\":{\"references\":[{\"attributes\":{\"callback\":null,\"data\":{\"color\":[\"green\",\"green\",\"green\",\"green\",\"green\",\"green\",\"green\",\"green\",\"green\",\"green\",\"green\",\"green\",\"green\",\"green\",\"green\",\"green\"],\"rad\":[0.0745404941945351,0.09296809515721537,0.09200509994195359,0.12105785292858444,0.16701765847395378,0.1364722700108376,0.20017949318944328,0.16644313902370442,0.0745404941945351,0.09296809515721537,0.09200509994195359,0.12105785292858444,0.16701765847395378,0.1364722700108376,0.20017949318944328,0.16644313902370442],\"xx\":[0.428089999999969,0.026299999999991996,-0.043630000000007385,0.012729999999976371,-0.054200000000008686,0.012889999999970314,-0.021710000000012997,-0.007520000000027949,0.42517999999998324,0.02440999999998894,-0.042610000000024684,0.012939999999986185,-0.041010000000056834,0.00309000000001447,-0.026530000000008158,-0.00985000000005698],\"yy\":[0.7267000000000081,0.05310000000000059,0.011499999999998067,0.033699999999996066,-0.03649999999998954,-0.011199999999988108,0.00940000000001362,0.006100000000003547,0.7314000000000078,0.057800000000000296,0.016199999999997772,0.03839999999999577,-0.031799999999989836,-0.006499999999988404,0.014100000000013324,0.010800000000003251]},\"selected\":{\"id\":\"96cb856c-0411-48ac-8d55-ac82fed4bdff\",\"type\":\"Selection\"},\"selection_policy\":{\"id\":\"f9d2f025-956c-40d2-8767-bb3a35f87252\",\"type\":\"UnionRenderers\"}},\"id\":\"1ba6e08b-c170-4696-a8cb-505f805f39d4\",\"type\":\"ColumnDataSource\"},{\"attributes\":{\"source\":{\"id\":\"e9bdc594-71a5-4441-a647-d1764012fa6f\",\"type\":\"ColumnDataSource\"}},\"id\":\"141b9b1a-a331-4e43-ad0e-88e017660abd\",\"type\":\"CDSView\"},{\"attributes\":{\"fill_alpha\":{\"value\":0.5},\"fill_color\":{\"field\":\"color\"},\"line_width\":{\"value\":2},\"radius\":{\"field\":\"rad\",\"units\":\"data\"},\"x\":{\"field\":\"xx\"},\"y\":{\"field\":\"yy\"}},\"id\":\"5fa5d6c4-613f-4d56-ba9d-7bfea30c587b\",\"type\":\"Circle\"},{\"attributes\":{\"fill_alpha\":{\"value\":0.1},\"fill_color\":{\"value\":\"#1f77b4\"},\"line_alpha\":{\"value\":0.1},\"line_color\":{\"value\":\"#1f77b4\"},\"line_width\":{\"value\":2},\"radius\":{\"field\":\"rad\",\"units\":\"data\"},\"x\":{\"field\":\"xx\"},\"y\":{\"field\":\"yy\"}},\"id\":\"6f6d490f-9241-414e-ad05-6ecb17505b7a\",\"type\":\"Circle\"},{\"attributes\":{\"data_source\":{\"id\":\"1ba6e08b-c170-4696-a8cb-505f805f39d4\",\"type\":\"ColumnDataSource\"},\"glyph\":{\"id\":\"5fa5d6c4-613f-4d56-ba9d-7bfea30c587b\",\"type\":\"Circle\"},\"hover_glyph\":null,\"muted_glyph\":null,\"nonselection_glyph\":{\"id\":\"6f6d490f-9241-414e-ad05-6ecb17505b7a\",\"type\":\"Circle\"},\"selection_glyph\":null,\"view\":{\"id\":\"d46fa8cc-3d27-4070-a990-0aaf55a0844f\",\"type\":\"CDSView\"}},\"id\":\"51766a8e-a03b-4e16-851a-bc30e2281e30\",\"type\":\"GlyphRenderer\"},{\"attributes\":{\"active_drag\":\"auto\",\"active_inspect\":\"auto\",\"active_multi\":null,\"active_scroll\":\"auto\",\"active_tap\":\"auto\",\"tools\":[{\"id\":\"0708c03d-1d8e-43b1-ae4b-cc975ec8d607\",\"type\":\"PanTool\"},{\"id\":\"90acda1c-76bd-467c-9ffa-8b06a2f7a77f\",\"type\":\"WheelZoomTool\"},{\"id\":\"776d2abd-9a01-4478-8e4d-2cc01549e1c3\",\"type\":\"BoxZoomTool\"},{\"id\":\"99d67f28-c73e-42d4-a8f2-027cd538c0bd\",\"type\":\"SaveTool\"},{\"id\":\"d606a38f-20be-4899-a3cd-74d95797dc2f\",\"type\":\"ResetTool\"},{\"id\":\"effd1321-e772-4b9a-9656-2cbdd919479e\",\"type\":\"HelpTool\"}]},\"id\":\"75b27f1e-c937-4d0b-88c3-526a3abdd328\",\"type\":\"Toolbar\"},{\"attributes\":{\"source\":{\"id\":\"1ba6e08b-c170-4696-a8cb-505f805f39d4\",\"type\":\"ColumnDataSource\"}},\"id\":\"d46fa8cc-3d27-4070-a990-0aaf55a0844f\",\"type\":\"CDSView\"},{\"attributes\":{\"click_policy\":\"hide\",\"glyph_height\":65,\"glyph_width\":65,\"items\":[{\"id\":\"dfbc69be-713b-42e0-ad77-7ce4298369a3\",\"type\":\"LegendItem\"},{\"id\":\"9478a4aa-a2c7-4544-bd90-0b566c60c160\",\"type\":\"LegendItem\"},{\"id\":\"574135cd-0b9a-43a8-90e4-c9284b17ca29\",\"type\":\"LegendItem\"}],\"label_text_font_size\":{\"value\":\"18pt\"},\"location\":\"top_left\",\"plot\":{\"id\":\"bc453f95-24ce-4c9f-8fa2-45a7d029ec37\",\"subtype\":\"Figure\",\"type\":\"Plot\"}},\"id\":\"a686010d-5570-48ce-be44-f4c88465072d\",\"type\":\"Legend\"},{\"attributes\":{\"align\":\"center\",\"plot\":null,\"text\":\"Parity Plot for Barrier Height Predictions with Computational Alchemy\",\"text_font_size\":{\"value\":\"12pt\"}},\"id\":\"4de096db-d378-44a0-a1fb-77fb14919570\",\"type\":\"Title\"},{\"attributes\":{},\"id\":\"d0aa9b34-6329-4ab9-a312-d202ad27fb16\",\"type\":\"UnionRenderers\"},{\"attributes\":{\"label\":{\"value\":\"delZ = -1\"},\"renderers\":[{\"id\":\"51766a8e-a03b-4e16-851a-bc30e2281e30\",\"type\":\"GlyphRenderer\"}]},\"id\":\"9478a4aa-a2c7-4544-bd90-0b566c60c160\",\"type\":\"LegendItem\"},{\"attributes\":{\"fill_color\":{\"value\":\"red\"},\"line_color\":{\"value\":\"red\"},\"line_width\":{\"value\":5},\"size\":{\"units\":\"screen\",\"value\":50},\"x\":{\"value\":0},\"y\":{\"value\":0}},\"id\":\"956cf716-1575-4da0-9037-b541c43f0610\",\"type\":\"Asterisk\"},{\"attributes\":{\"callback\":null,\"start\":-1},\"id\":\"fa610910-c4df-4457-8dbb-19ed8d570f87\",\"type\":\"Range1d\"},{\"attributes\":{},\"id\":\"951eeb5e-97b8-4966-bcee-ccd1263b02f2\",\"type\":\"LinearScale\"},{\"attributes\":{},\"id\":\"96cb856c-0411-48ac-8d55-ac82fed4bdff\",\"type\":\"Selection\"},{\"attributes\":{\"callback\":null,\"start\":-1},\"id\":\"d72df48d-0391-4233-ae17-a575071ec489\",\"type\":\"Range1d\"},{\"attributes\":{},\"id\":\"6a3fbe3b-dfdd-48a6-a351-00621ba548f4\",\"type\":\"LinearScale\"},{\"attributes\":{\"label\":{\"value\":\"Ea_ref\"},\"renderers\":[{\"id\":\"8ba8075d-42f6-4a06-bfb3-aba7d884c16c\",\"type\":\"GlyphRenderer\"}]},\"id\":\"574135cd-0b9a-43a8-90e4-c9284b17ca29\",\"type\":\"LegendItem\"},{\"attributes\":{\"plot\":{\"id\":\"bc453f95-24ce-4c9f-8fa2-45a7d029ec37\",\"subtype\":\"Figure\",\"type\":\"Plot\"},\"ticker\":{\"id\":\"9219482e-f2e1-4bea-944e-5bef803c1bfd\",\"type\":\"BasicTicker\"}},\"id\":\"60e207c5-d1cd-451a-88a6-d5bd229d6eda\",\"type\":\"Grid\"},{\"attributes\":{\"axis_label\":\"DFT\",\"axis_label_text_font_size\":{\"value\":\"18pt\"},\"axis_label_text_font_style\":\"bold\",\"formatter\":{\"id\":\"37fa1481-4e8f-4bfb-82fe-bc5dfd95ff07\",\"type\":\"BasicTickFormatter\"},\"major_label_text_font_size\":{\"value\":\"14pt\"},\"major_label_text_font_style\":\"bold\",\"major_tick_line_width\":{\"value\":2},\"plot\":{\"id\":\"bc453f95-24ce-4c9f-8fa2-45a7d029ec37\",\"subtype\":\"Figure\",\"type\":\"Plot\"},\"ticker\":{\"id\":\"9219482e-f2e1-4bea-944e-5bef803c1bfd\",\"type\":\"BasicTicker\"}},\"id\":\"2ea7155f-bab9-48f6-ad87-26d6f8abe796\",\"type\":\"LinearAxis\"},{\"attributes\":{},\"id\":\"9219482e-f2e1-4bea-944e-5bef803c1bfd\",\"type\":\"BasicTicker\"},{\"attributes\":{},\"id\":\"fb6dd719-1178-4f75-b1c1-c33ac4d896c9\",\"type\":\"Selection\"},{\"attributes\":{\"axis_label\":\"Alchemy\",\"axis_label_text_font_size\":{\"value\":\"18pt\"},\"axis_label_text_font_style\":\"bold\",\"formatter\":{\"id\":\"f582bb78-e6aa-421e-8d0a-e17af188519c\",\"type\":\"BasicTickFormatter\"},\"major_label_text_font_size\":{\"value\":\"14pt\"},\"major_label_text_font_style\":\"bold\",\"major_tick_line_width\":{\"value\":2},\"plot\":{\"id\":\"bc453f95-24ce-4c9f-8fa2-45a7d029ec37\",\"subtype\":\"Figure\",\"type\":\"Plot\"},\"ticker\":{\"id\":\"ee2b5815-fb71-4540-b32b-bfab9e9a876b\",\"type\":\"BasicTicker\"}},\"id\":\"b2823605-ecce-4fe6-8bc6-d9247dc0a396\",\"type\":\"LinearAxis\"},{\"attributes\":{\"gradient\":1,\"plot\":{\"id\":\"bc453f95-24ce-4c9f-8fa2-45a7d029ec37\",\"subtype\":\"Figure\",\"type\":\"Plot\"},\"y_intercept\":0},\"id\":\"2f799dda-4111-43d8-974d-edf1dbe6e538\",\"type\":\"Slope\"},{\"attributes\":{},\"id\":\"ee2b5815-fb71-4540-b32b-bfab9e9a876b\",\"type\":\"BasicTicker\"},{\"attributes\":{},\"id\":\"d5562877-138b-43d0-949e-2da7ff5ad7c9\",\"type\":\"UnionRenderers\"},{\"attributes\":{\"dimension\":1,\"plot\":{\"id\":\"bc453f95-24ce-4c9f-8fa2-45a7d029ec37\",\"subtype\":\"Figure\",\"type\":\"Plot\"},\"ticker\":{\"id\":\"ee2b5815-fb71-4540-b32b-bfab9e9a876b\",\"type\":\"BasicTicker\"}},\"id\":\"05a25d2d-b8f4-49bf-8ab7-ed68fe3595a2\",\"type\":\"Grid\"},{\"attributes\":{\"fill_alpha\":{\"value\":0.1},\"fill_color\":{\"value\":\"#1f77b4\"},\"line_alpha\":{\"value\":0.1},\"line_color\":{\"value\":\"#1f77b4\"},\"line_width\":{\"value\":5},\"size\":{\"units\":\"screen\",\"value\":50},\"x\":{\"value\":0},\"y\":{\"value\":0}},\"id\":\"0126251b-7a98-4ee8-80e2-4bb5b1b73c38\",\"type\":\"Asterisk\"},{\"attributes\":{\"below\":[{\"id\":\"2ea7155f-bab9-48f6-ad87-26d6f8abe796\",\"type\":\"LinearAxis\"}],\"left\":[{\"id\":\"b2823605-ecce-4fe6-8bc6-d9247dc0a396\",\"type\":\"LinearAxis\"}],\"plot_height\":800,\"plot_width\":800,\"renderers\":[{\"id\":\"2ea7155f-bab9-48f6-ad87-26d6f8abe796\",\"type\":\"LinearAxis\"},{\"id\":\"60e207c5-d1cd-451a-88a6-d5bd229d6eda\",\"type\":\"Grid\"},{\"id\":\"b2823605-ecce-4fe6-8bc6-d9247dc0a396\",\"type\":\"LinearAxis\"},{\"id\":\"05a25d2d-b8f4-49bf-8ab7-ed68fe3595a2\",\"type\":\"Grid\"},{\"id\":\"01c90185-b7b7-43a4-af19-91479fcc4cd3\",\"type\":\"BoxAnnotation\"},{\"id\":\"2f799dda-4111-43d8-974d-edf1dbe6e538\",\"type\":\"Slope\"},{\"id\":\"a686010d-5570-48ce-be44-f4c88465072d\",\"type\":\"Legend\"},{\"id\":\"0031dc9b-49cc-4e9c-ba2b-95cf2b7be20e\",\"type\":\"GlyphRenderer\"},{\"id\":\"51766a8e-a03b-4e16-851a-bc30e2281e30\",\"type\":\"GlyphRenderer\"},{\"id\":\"8ba8075d-42f6-4a06-bfb3-aba7d884c16c\",\"type\":\"GlyphRenderer\"}],\"title\":{\"id\":\"4de096db-d378-44a0-a1fb-77fb14919570\",\"type\":\"Title\"},\"toolbar\":{\"id\":\"75b27f1e-c937-4d0b-88c3-526a3abdd328\",\"type\":\"Toolbar\"},\"x_range\":{\"id\":\"fa610910-c4df-4457-8dbb-19ed8d570f87\",\"type\":\"Range1d\"},\"x_scale\":{\"id\":\"951eeb5e-97b8-4966-bcee-ccd1263b02f2\",\"type\":\"LinearScale\"},\"y_range\":{\"id\":\"d72df48d-0391-4233-ae17-a575071ec489\",\"type\":\"Range1d\"},\"y_scale\":{\"id\":\"6a3fbe3b-dfdd-48a6-a351-00621ba548f4\",\"type\":\"LinearScale\"}},\"id\":\"bc453f95-24ce-4c9f-8fa2-45a7d029ec37\",\"subtype\":\"Figure\",\"type\":\"Plot\"},{\"attributes\":{},\"id\":\"f9d2f025-956c-40d2-8767-bb3a35f87252\",\"type\":\"UnionRenderers\"},{\"attributes\":{},\"id\":\"e9d01f37-66b7-4d05-bc89-09bfae97548b\",\"type\":\"Selection\"},{\"attributes\":{\"fill_alpha\":{\"value\":0.5},\"fill_color\":{\"field\":\"color\"},\"line_width\":{\"value\":2},\"radius\":{\"field\":\"rad\",\"units\":\"data\"},\"x\":{\"field\":\"xx\"},\"y\":{\"field\":\"yy\"}},\"id\":\"6cfd26bb-a211-417c-96b6-30647024cb95\",\"type\":\"Circle\"},{\"attributes\":{},\"id\":\"0708c03d-1d8e-43b1-ae4b-cc975ec8d607\",\"type\":\"PanTool\"},{\"attributes\":{\"data_source\":{\"id\":\"e9bdc594-71a5-4441-a647-d1764012fa6f\",\"type\":\"ColumnDataSource\"},\"glyph\":{\"id\":\"956cf716-1575-4da0-9037-b541c43f0610\",\"type\":\"Asterisk\"},\"hover_glyph\":null,\"muted_glyph\":null,\"nonselection_glyph\":{\"id\":\"0126251b-7a98-4ee8-80e2-4bb5b1b73c38\",\"type\":\"Asterisk\"},\"selection_glyph\":null,\"view\":{\"id\":\"141b9b1a-a331-4e43-ad0e-88e017660abd\",\"type\":\"CDSView\"}},\"id\":\"8ba8075d-42f6-4a06-bfb3-aba7d884c16c\",\"type\":\"GlyphRenderer\"},{\"attributes\":{},\"id\":\"90acda1c-76bd-467c-9ffa-8b06a2f7a77f\",\"type\":\"WheelZoomTool\"},{\"attributes\":{\"overlay\":{\"id\":\"01c90185-b7b7-43a4-af19-91479fcc4cd3\",\"type\":\"BoxAnnotation\"}},\"id\":\"776d2abd-9a01-4478-8e4d-2cc01549e1c3\",\"type\":\"BoxZoomTool\"},{\"attributes\":{\"callback\":null,\"data\":{},\"selected\":{\"id\":\"fb6dd719-1178-4f75-b1c1-c33ac4d896c9\",\"type\":\"Selection\"},\"selection_policy\":{\"id\":\"d5562877-138b-43d0-949e-2da7ff5ad7c9\",\"type\":\"UnionRenderers\"}},\"id\":\"e9bdc594-71a5-4441-a647-d1764012fa6f\",\"type\":\"ColumnDataSource\"},{\"attributes\":{},\"id\":\"99d67f28-c73e-42d4-a8f2-027cd538c0bd\",\"type\":\"SaveTool\"},{\"attributes\":{},\"id\":\"d606a38f-20be-4899-a3cd-74d95797dc2f\",\"type\":\"ResetTool\"},{\"attributes\":{},\"id\":\"effd1321-e772-4b9a-9656-2cbdd919479e\",\"type\":\"HelpTool\"},{\"attributes\":{\"bottom_units\":\"screen\",\"fill_alpha\":{\"value\":0.5},\"fill_color\":{\"value\":\"lightgrey\"},\"left_units\":\"screen\",\"level\":\"overlay\",\"line_alpha\":{\"value\":1.0},\"line_color\":{\"value\":\"black\"},\"line_dash\":[4,4],\"line_width\":{\"value\":2},\"plot\":null,\"render_mode\":\"css\",\"right_units\":\"screen\",\"top_units\":\"screen\"},\"id\":\"01c90185-b7b7-43a4-af19-91479fcc4cd3\",\"type\":\"BoxAnnotation\"},{\"attributes\":{\"source\":{\"id\":\"f3c03511-e2cd-4f23-86bc-83127d91ea48\",\"type\":\"ColumnDataSource\"}},\"id\":\"ac2cc472-9568-4055-bb70-b11268f91733\",\"type\":\"CDSView\"},{\"attributes\":{\"fill_alpha\":{\"value\":0.1},\"fill_color\":{\"value\":\"#1f77b4\"},\"line_alpha\":{\"value\":0.1},\"line_color\":{\"value\":\"#1f77b4\"},\"line_width\":{\"value\":2},\"radius\":{\"field\":\"rad\",\"units\":\"data\"},\"x\":{\"field\":\"xx\"},\"y\":{\"field\":\"yy\"}},\"id\":\"dca73100-c002-4d74-abec-aead0a61ae91\",\"type\":\"Circle\"},{\"attributes\":{\"callback\":null,\"data\":{\"color\":[\"blue\",\"blue\",\"blue\",\"blue\",\"blue\",\"blue\",\"blue\",\"blue\",\"blue\",\"blue\",\"blue\",\"blue\",\"blue\",\"blue\",\"blue\",\"blue\"],\"rad\":[0.0745404941945351,0.09296809515721537,0.09200509994195359,0.12105785292858444,0.16701765847395378,0.1364722700108376,0.20017949318944328,0.16644313902370442,0.0745404941945351,0.09296809515721537,0.09200509994195359,0.12105785292858444,0.16701765847395378,0.1364722700108376,0.20017949318944328,0.16644313902370442],\"xx\":[-0.8077800000000082,-0.00836000000001036,-0.048570000000012215,0.007530000000002701,0.01099999999999568,0.010919999999998709,-0.057390000000026475,-0.02529000000004089,-0.822829999999982,-0.014130000000022847,-0.05345000000002642,0.00354999999998995,0.017269999999996344,0.001519999999970878,-0.07433000000003176,-0.038170000000064874],\"yy\":[-0.7267000000000081,-0.05310000000000059,-0.011499999999998067,-0.033699999999996066,0.03649999999998954,0.011199999999988108,-0.00940000000001362,-0.006100000000003547,-0.7314000000000078,-0.057800000000000296,-0.016199999999997772,-0.03839999999999577,0.031799999999989836,0.006499999999988404,-0.014100000000013324,-0.010800000000003251]},\"selected\":{\"id\":\"e9d01f37-66b7-4d05-bc89-09bfae97548b\",\"type\":\"Selection\"},\"selection_policy\":{\"id\":\"d0aa9b34-6329-4ab9-a312-d202ad27fb16\",\"type\":\"UnionRenderers\"}},\"id\":\"f3c03511-e2cd-4f23-86bc-83127d91ea48\",\"type\":\"ColumnDataSource\"},{\"attributes\":{\"data_source\":{\"id\":\"f3c03511-e2cd-4f23-86bc-83127d91ea48\",\"type\":\"ColumnDataSource\"},\"glyph\":{\"id\":\"6cfd26bb-a211-417c-96b6-30647024cb95\",\"type\":\"Circle\"},\"hover_glyph\":null,\"muted_glyph\":null,\"nonselection_glyph\":{\"id\":\"dca73100-c002-4d74-abec-aead0a61ae91\",\"type\":\"Circle\"},\"selection_glyph\":null,\"view\":{\"id\":\"ac2cc472-9568-4055-bb70-b11268f91733\",\"type\":\"CDSView\"}},\"id\":\"0031dc9b-49cc-4e9c-ba2b-95cf2b7be20e\",\"type\":\"GlyphRenderer\"},{\"attributes\":{},\"id\":\"37fa1481-4e8f-4bfb-82fe-bc5dfd95ff07\",\"type\":\"BasicTickFormatter\"},{\"attributes\":{},\"id\":\"f582bb78-e6aa-421e-8d0a-e17af188519c\",\"type\":\"BasicTickFormatter\"},{\"attributes\":{\"label\":{\"value\":\"delZ = 1\"},\"renderers\":[{\"id\":\"0031dc9b-49cc-4e9c-ba2b-95cf2b7be20e\",\"type\":\"GlyphRenderer\"}]},\"id\":\"dfbc69be-713b-42e0-ad77-7ce4298369a3\",\"type\":\"LegendItem\"}],\"root_ids\":[\"bc453f95-24ce-4c9f-8fa2-45a7d029ec37\"]},\"title\":\"Bokeh Application\",\"version\":\"0.13.0\"}};\n  var render_items = [{\"docid\":\"773434fe-b98b-4fc8-99da-dfd21f7e941e\",\"roots\":{\"bc453f95-24ce-4c9f-8fa2-45a7d029ec37\":\"74f724b7-c679-49cd-ad85-0f0684a5a5c8\"}}];\n  root.Bokeh.embed.embed_items_notebook(docs_json, render_items);\n\n  }\n  if (root.Bokeh !== undefined) {\n    embed_document(root);\n  } else {\n    var attempts = 0;\n    var timer = setInterval(function(root) {\n      if (root.Bokeh !== undefined) {\n        embed_document(root);\n        clearInterval(timer);\n      }\n      attempts++;\n      if (attempts > 100) {\n        console.log(\"Bokeh: ERROR: Unable to run BokehJS code because BokehJS library is missing\")\n        clearInterval(timer);\n      }\n    }, 10, root)\n  }\n})(window);",
      "application/vnd.bokehjs_exec.v0+json": ""
     },
     "metadata": {
      "application/vnd.bokehjs_exec.v0+json": {
       "id": "bc453f95-24ce-4c9f-8fa2-45a7d029ec37"
      }
     },
     "output_type": "display_data"
    }
   ],
   "source": [
    "output_notebook()\n",
    "\n",
    "pf2 = figure(plot_width=800, plot_height=800, title=\"Parity Plot for Barrier Height Predictions with Computational Alchemy\")\n",
    "\n",
    "\n",
    "pf2.xaxis.axis_label = \"DFT\"\n",
    "pf2.xaxis.axis_label_text_font_style = \"bold\"\n",
    "pf2.xaxis.axis_label_text_font_size = \"18pt\"\n",
    "pf2.xaxis.major_label_text_font_size = \"14pt\"\n",
    "pf2.xaxis.major_label_text_font_style = \"bold\"\n",
    "pf2.xaxis.major_tick_line_width = 2\n",
    "\n",
    "pf2.yaxis.axis_label = \"Alchemy\"\n",
    "pf2.yaxis.axis_label_text_font_style = \"bold\"\n",
    "pf2.yaxis.axis_label_text_font_size = \"18pt\"\n",
    "pf2.yaxis.major_label_text_font_size = \"14pt\"\n",
    "pf2.yaxis.major_label_text_font_style = \"bold\"\n",
    "pf2.yaxis.major_tick_line_width = 2\n",
    "\n",
    "pf2.title.text_font_size = '12pt'\n",
    "pf2.title.align = 'center'\n",
    "\n",
    "parity = Slope(gradient=1,y_intercept=0,)\n",
    "pf2.add_layout(parity)\n",
    "\n",
    "colors = ['blue','green','red','yellow','magenta','cyan','indigo']\n",
    "mx = []\n",
    "mn =[]\n",
    "for i in range(chargelen):\n",
    "    mx.append(max(dft_ea[i]+alc_ea[i]))\n",
    "    mn.append(min(dft_ea[i]+alc_ea[i]))\n",
    "    source2 = ColumnDataSource(data=dict(\n",
    "            xx=[d for d in dft_ea[i]],\n",
    "            yy=[a for a in alc_ea[i]],\n",
    "            rad=[d/50 for d in distances[i]],\n",
    "            color=[colors[i]]*len(alc_ea[i])))\n",
    "    pf2.circle('xx', 'yy', radius='rad', fill_color ='color',source=source2, line_color=\"black\", line_width=2, fill_alpha=0.5, legend='delZ = '+str(charge[i]))\n",
    "\n",
    "pf2.asterisk(0,0,size=50,line_width=5,color='red',legend='Ea_ref')\n",
    "\n",
    "#pf2.x_range=Range1d(min(mn)*0.95,max(mx)*1.05)\n",
    "#pf2.y_range=Range1d(min(mn)*0.95,max(mx)*1.05)\n",
    "pf2.x_range=Range1d(-1,1)\n",
    "pf2.y_range=Range1d(-1,1)\n",
    "\n",
    "pf2.legend.location = \"top_left\"\n",
    "pf2.legend.click_policy = \"hide\"\n",
    "pf2.legend.label_text_font_size = \"18pt\"\n",
    "pf2.legend.glyph_height = 65\n",
    "pf2.legend.glyph_width = 65\n",
    "show(pf2)"
   ]
  },
  {
   "cell_type": "code",
   "execution_count": 34,
   "metadata": {},
   "outputs": [
    {
     "name": "stdout",
     "output_type": "stream",
     "text": "labels image number  DFT Delta Binding Energy  \\\n0    0.0.Ir0.Au12            1                 -0.063566   \n1    0.1.Ir0.Au13            1                 -0.048324   \n2    0.2.Ir0.Au14            1                 -0.052155   \n3    0.3.Ir0.Au15            1                 -0.049953   \n4     0.4.Ir0.Au8            1                 -0.046856   \n5     0.5.Ir0.Au9            1                 -0.045077   \n6    0.6.Ir0.Au10            1                 -0.047016   \n7    0.7.Ir0.Au11            1                 -0.046769   \n8    1.0.Ir1.Au12            1                 -0.064623   \n9    1.1.Ir1.Au13            1                 -0.047496   \n10   1.2.Ir1.Au14            1                 -0.052414   \n11   1.3.Ir1.Au15            1                 -0.050053   \n12    1.4.Ir1.Au8            1                 -0.046606   \n13    1.5.Ir1.Au9            1                 -0.046280   \n14   1.6.Ir1.Au10            1                 -0.046279   \n15   1.7.Ir1.Au11            1                 -0.047262   \n16   0.0.Au0.Ir12            1                  0.074555   \n17   0.1.Au0.Ir13            1                  0.053518   \n18   0.2.Au0.Ir14            1                  0.052398   \n19   0.3.Au0.Ir15            1                  0.055008   \n20    0.4.Au0.Ir8            1                  0.060779   \n21    0.5.Au0.Ir9            1                  0.065829   \n22   0.6.Au0.Ir10            1                  0.059889   \n23   0.7.Au0.Ir11            1                  0.061809   \n24   1.0.Au1.Ir12            1                  0.072068   \n25   1.1.Au1.Ir13            1                  0.055111   \n26   1.2.Au1.Ir14            1                  0.052288   \n27   1.3.Au1.Ir15            1                  0.055109   \n28    1.4.Au1.Ir8            1                  0.066206   \n29    1.5.Au1.Ir9            1                  0.060739   \n..            ...          ...                       ...   \n290  0.2.Ir0.Au14           10                 -0.863005   \n291  0.3.Ir0.Au15           10                 -0.130543   \n292   0.4.Ir0.Au8           10                 -0.102606   \n293   0.5.Ir0.Au9           10                 -0.098747   \n294  0.6.Ir0.Au10           10                 -0.096846   \n295  0.7.Ir0.Au11           10                 -0.082309   \n296  1.0.Ir1.Au12           10                 -0.692853   \n297  1.1.Ir1.Au13           10                 -0.132586   \n298  1.2.Ir1.Au14           10                 -0.859744   \n299  1.3.Ir1.Au15           10                 -0.124193   \n300   1.4.Ir1.Au8           10                 -0.075956   \n301   1.5.Ir1.Au9           10                 -0.118120   \n302  1.6.Ir1.Au10           10                 -0.100579   \n303  1.7.Ir1.Au11           10                 -0.094942   \n304  0.0.Au0.Ir12           10                  0.207865   \n305  0.1.Au0.Ir13           10                  0.163828   \n306  0.2.Au0.Ir14           10                  0.302648   \n307  0.3.Au0.Ir15           10                  0.166618   \n308   0.4.Au0.Ir8           10                 -0.030271   \n309   0.5.Au0.Ir9           10                  0.102109   \n310  0.6.Au0.Ir10           10                 -0.023481   \n311  0.7.Au0.Ir11           10                  0.040149   \n312  1.0.Au1.Ir12           10                  0.199728   \n313  1.1.Au1.Ir13           10                  0.157811   \n314  1.2.Au1.Ir14           10                  0.294808   \n315  1.3.Au1.Ir15           10                  0.163289   \n316   1.4.Au1.Ir8           10                 -0.003914   \n317   1.5.Au1.Ir9           10                  0.070439   \n318  1.6.Au1.Ir10           10                 -0.030211   \n319  1.7.Au1.Ir11           10                  0.028789   \n\n     Alchemy Delta Binding Energy  Delta BE Absolute Errors  \\\n0                         -0.0964                  0.032834   \n1                         -0.0756                  0.027276   \n2                         -0.0766                  0.024445   \n3                         -0.0774                  0.027447   \n4                         -0.0771                  0.030244   \n5                         -0.0763                  0.031223   \n6                         -0.0763                  0.029284   \n7                         -0.0772                  0.030431   \n8                         -0.0967                  0.032077   \n9                         -0.0759                  0.028404   \n10                        -0.0769                  0.024486   \n11                        -0.0777                  0.027647   \n12                        -0.0774                  0.030794   \n13                        -0.0766                  0.030320   \n14                        -0.0766                  0.030321   \n15                        -0.0775                  0.030238   \n16                         0.0964                  0.021845   \n17                         0.0756                  0.022082   \n18                         0.0766                  0.024202   \n19                         0.0774                  0.022392   \n20                         0.0771                  0.016321   \n21                         0.0763                  0.010471   \n22                         0.0763                  0.016411   \n23                         0.0772                  0.015391   \n24                         0.0967                  0.024632   \n25                         0.0759                  0.020789   \n26                         0.0769                  0.024612   \n27                         0.0777                  0.022591   \n28                         0.0774                  0.011194   \n29                         0.0766                  0.015861   \n..                            ...                       ...   \n290                       -0.6629                  0.200105   \n291                       -0.2227                  0.092157   \n292                       -0.0457                  0.056906   \n293                       -0.1089                  0.010153   \n294                       -0.0471                  0.049746   \n295                       -0.0711                  0.011209   \n296                       -0.4850                  0.207853   \n297                       -0.2174                  0.084814   \n298                       -0.6602                  0.199544   \n299                       -0.2200                  0.095807   \n300                       -0.0430                  0.032956   \n301                       -0.1062                  0.011920   \n302                       -0.0444                  0.056179   \n303                       -0.0684                  0.026542   \n304                        0.4877                  0.279835   \n305                        0.2201                  0.056272   \n306                        0.6629                  0.360252   \n307                        0.2227                  0.056082   \n308                        0.0457                  0.075971   \n309                        0.1089                  0.006791   \n310                        0.0471                  0.070581   \n311                        0.0711                  0.030951   \n312                        0.4850                  0.285272   \n313                        0.2174                  0.059589   \n314                        0.6602                  0.365392   \n315                        0.2200                  0.056711   \n316                        0.0430                  0.046914   \n317                        0.1062                  0.035761   \n318                        0.0444                  0.074611   \n319                        0.0684                  0.039611   \n\n    Transmutation Site Index  Distance from Adsorbate  \\\n0                         12                 3.727025   \n1                         13                 4.648405   \n2                         14                 4.600255   \n3                         15                 6.052893   \n4                          8                 8.350883   \n5                          9                 6.823614   \n6                         10                10.008975   \n7                         11                 8.322157   \n8                         12                 3.727025   \n9                         13                 4.648405   \n10                        14                 4.600255   \n11                        15                 6.052893   \n12                         8                 8.350883   \n13                         9                 6.823614   \n14                        10                10.008975   \n15                        11                 8.322157   \n16                        12                 3.727025   \n17                        13                 4.648405   \n18                        14                 4.600255   \n19                        15                 6.052893   \n20                         8                 8.350883   \n21                         9                 6.823614   \n22                        10                10.008975   \n23                        11                 8.322157   \n24                        12                 3.727025   \n25                        13                 4.648405   \n26                        14                 4.600255   \n27                        15                 6.052893   \n28                         8                 8.350883   \n29                         9                 6.823614   \n..                       ...                      ...   \n290                       14                 4.600255   \n291                       15                 6.052893   \n292                        8                 8.350883   \n293                        9                 6.823614   \n294                       10                10.008975   \n295                       11                 8.322157   \n296                       12                 3.727025   \n297                       13                 4.648405   \n298                       14                 4.600255   \n299                       15                 6.052893   \n300                        8                 8.350883   \n301                        9                 6.823614   \n302                       10                10.008975   \n303                       11                 8.322157   \n304                       12                 3.727025   \n305                       13                 4.648405   \n306                       14                 4.600255   \n307                       15                 6.052893   \n308                        8                 8.350883   \n309                        9                 6.823614   \n310                       10                10.008975   \n311                       11                 8.322157   \n312                       12                 3.727025   \n313                       13                 4.648405   \n314                       14                 4.600255   \n315                       15                 6.052893   \n316                        8                 8.350883   \n317                        9                 6.823614   \n318                       10                10.008975   \n319                       11                 8.322157   \n\n     ESP Difference at Transmute Site  DFT Delta Activation Energy  \\\n0                             -0.5763                     -0.80778   \n1                             -0.5555                     -0.00836   \n2                             -0.5565                     -0.04857   \n3                             -0.5573                      0.00753   \n4                             -0.5570                      0.01100   \n5                             -0.5562                      0.01092   \n6                             -0.5562                     -0.05739   \n7                             -0.5571                     -0.02529   \n8                             -0.5763                     -0.82283   \n9                             -0.5555                     -0.01413   \n10                            -0.5565                     -0.05345   \n11                            -0.5573                      0.00355   \n12                            -0.5570                      0.01727   \n13                            -0.5562                      0.00152   \n14                            -0.5562                     -0.07433   \n15                            -0.5571                     -0.03817   \n16                            -0.5763                      0.42809   \n17                            -0.5555                      0.02630   \n18                            -0.5565                     -0.04363   \n19                            -0.5573                      0.01273   \n20                            -0.5570                     -0.05420   \n21                            -0.5562                      0.01289   \n22                            -0.5562                     -0.02171   \n23                            -0.5571                     -0.00752   \n24                            -0.5763                      0.42518   \n25                            -0.5555                      0.02441   \n26                            -0.5565                     -0.04261   \n27                            -0.5573                      0.01294   \n28                            -0.5570                     -0.04101   \n29                            -0.5562                      0.00309   \n..                                ...                          ...   \n290                           -0.8213                     -0.04857   \n291                           -0.3811                      0.00753   \n292                           -0.2041                      0.01100   \n293                           -0.2673                      0.01092   \n294                           -0.2055                     -0.05739   \n295                           -0.2295                     -0.02529   \n296                           -0.6461                     -0.82283   \n297                           -0.3785                     -0.01413   \n298                           -0.8213                     -0.05345   \n299                           -0.3811                      0.00355   \n300                           -0.2041                      0.01727   \n301                           -0.2673                      0.00152   \n302                           -0.2055                     -0.07433   \n303                           -0.2295                     -0.03817   \n304                           -0.6461                      0.42809   \n305                           -0.3785                      0.02630   \n306                           -0.8213                     -0.04363   \n307                           -0.3811                      0.01273   \n308                           -0.2041                     -0.05420   \n309                           -0.2673                      0.01289   \n310                           -0.2055                     -0.02171   \n311                           -0.2295                     -0.00752   \n312                           -0.6461                      0.42518   \n313                           -0.3785                      0.02441   \n314                           -0.8213                     -0.04261   \n315                           -0.3811                      0.01294   \n316                           -0.2041                     -0.04101   \n317                           -0.2673                      0.00309   \n318                           -0.2055                     -0.02653   \n319                           -0.2295                     -0.00985   \n\n     Alchemy Delta Activation Energy  Delta Ea Absolute Errors  \n0                            -0.7267                   0.08108  \n1                            -0.0531                   0.04474  \n2                            -0.0115                   0.03707  \n3                            -0.0337                   0.04123  \n4                             0.0365                   0.02550  \n5                             0.0112                   0.00028  \n6                            -0.0094                   0.04799  \n7                            -0.0061                   0.01919  \n8                            -0.7314                   0.09143  \n9                            -0.0578                   0.04367  \n10                           -0.0162                   0.03725  \n11                           -0.0384                   0.04195  \n12                            0.0318                   0.01453  \n13                            0.0065                   0.00498  \n14                           -0.0141                   0.06023  \n15                           -0.0108                   0.02737  \n16                            0.7267                   0.29861  \n17                            0.0531                   0.02680  \n18                            0.0115                   0.05513  \n19                            0.0337                   0.02097  \n20                           -0.0365                   0.01770  \n21                           -0.0112                   0.02409  \n22                            0.0094                   0.03111  \n23                            0.0061                   0.01362  \n24                            0.7314                   0.30622  \n25                            0.0578                   0.03339  \n26                            0.0162                   0.05881  \n27                            0.0384                   0.02546  \n28                           -0.0318                   0.00921  \n29                           -0.0065                   0.00959  \n..                               ...                       ...  \n290                          -0.0115                   0.03707  \n291                          -0.0337                   0.04123  \n292                           0.0365                   0.02550  \n293                           0.0112                   0.00028  \n294                          -0.0094                   0.04799  \n295                          -0.0061                   0.01919  \n296                          -0.7314                   0.09143  \n297                          -0.0578                   0.04367  \n298                          -0.0162                   0.03725  \n299                          -0.0384                   0.04195  \n300                           0.0318                   0.01453  \n301                           0.0065                   0.00498  \n302                          -0.0141                   0.06023  \n303                          -0.0108                   0.02737  \n304                           0.7267                   0.29861  \n305                           0.0531                   0.02680  \n306                           0.0115                   0.05513  \n307                           0.0337                   0.02097  \n308                          -0.0365                   0.01770  \n309                          -0.0112                   0.02409  \n310                           0.0094                   0.03111  \n311                           0.0061                   0.01362  \n312                           0.7314                   0.30622  \n313                           0.0578                   0.03339  \n314                           0.0162                   0.05881  \n315                           0.0384                   0.02546  \n316                          -0.0318                   0.00921  \n317                          -0.0065                   0.00959  \n318                           0.0141                   0.04063  \n319                           0.0108                   0.02065  \n\n[320 rows x 11 columns]\n"
    }
   ],
   "source": [
    "datsum = pd.DataFrame(columns=['labels','image number','DFT Delta Binding Energy','Alchemy Delta Binding Energy',\n",
    "                               'Delta BE Absolute Errors','Transmutation Site Index','Distance from Adsorbate',\n",
    "                              'ESP Difference at Transmute Site','DFT Delta Activation Energy','Alchemy Delta Activation Energy','Delta Ea Absolute Errors'])\n",
    "for i in images:\n",
    "    for j in range(chargelen):\n",
    "        for k in range(len(dir_ads[i][j])):\n",
    "            datsum = datsum.append({'labels': dir_ads[i][j][k],\n",
    "                                    'image number': i+1,\n",
    "                                    'DFT Delta Binding Energy': dft_del_be[i][j][k],\n",
    "                                    'Alchemy Delta Binding Energy': alc_del_be[i][j][k],\n",
    "                                    'Delta BE Absolute Errors': ae[i][j][k],\n",
    "                                    'Transmutation Site Index': (transmute[i]*len(counter))[k],\n",
    "                                    'Distance from Adsorbate': distances[j][k],\n",
    "                                    'ESP Difference at Transmute Site': ([diffs[i][l] for l in transmute[i]]*len(counter))[k],\n",
    "                                    'DFT Delta Activation Energy': dft_ea[j][k],\n",
    "                                    'Alchemy Delta Activation Energy': alc_ea[j][k],\n",
    "                                    'Delta Ea Absolute Errors': ea_abs_error[j][k]\n",
    "                                    }, ignore_index=True)\n",
    "print(datsum)"
   ]
  },
  {
   "cell_type": "code",
   "execution_count": 37,
   "metadata": {},
   "outputs": [],
   "source": [
    "#datsum.to_csv('data_summary.csv',index=False)"
   ]
  },
  {
   "cell_type": "code",
   "execution_count": null,
   "metadata": {},
   "outputs": [],
   "source": []
  }
 ],
 "metadata": {
  "kernelspec": {
   "display_name": "Python 3",
   "language": "python",
   "name": "python3"
  },
  "language_info": {
   "codemirror_mode": {
    "name": "ipython",
    "version": 3
   },
   "file_extension": ".py",
   "mimetype": "text/x-python",
   "name": "python",
   "nbconvert_exporter": "python",
   "pygments_lexer": "ipython3",
   "version": "3.7.0"
  }
 },
 "nbformat": 4,
 "nbformat_minor": 2
}