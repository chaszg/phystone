{
 "cells": [
  {
   "cell_type": "markdown",
   "metadata": {},
   "source": [
    "# Running Computational Alchemy for Catalysis: Binding Energy Predictions\n",
    "This notebook outlines Python functions that use information from VASP calculations to predict descriptors for hypothetical catalyst. These functions utilize tools from the Atomic Simulation Environment (ASE) to manipulate catalyst surface models and perform calculations with computational alchemy. "
   ]
  },
  {
   "cell_type": "markdown",
   "metadata": {},
   "source": [
    "Here we make ASE Atoms objects with VASP POSCARs and CONTCARs for the bare catalyst surface (slab) and the catalyst surface with an adsorbate (ads). These models and the results of the VASP calculations for each will be used as our reference for computational alchemy calculations."
   ]
  },
  {
   "cell_type": "code",
   "execution_count": 1,
   "metadata": {},
   "outputs": [],
   "source": [
    "from ase.io import read \n",
    "from ase.visualize import view\n",
    "slab = read('POSCAR_pd',format='vasp')\n",
    "slab_contcar = read('CONTCAR_pd',format='vasp')\n",
    "ads = read('POSCAR_pd_co',format='vasp')\n",
    "ads_contcar = read('CONTCAR_pd_co',format='vasp')"
   ]
  },
  {
   "cell_type": "markdown",
   "metadata": {},
   "source": [
    "To do computational alchemy, we label the atoms in our models using indexes assigned by ASE.\n",
    "\n",
    "However, it's very likely that the atom indexes between slab and ads won't match. For instance, the atom located at the origin of the unit cell in slab may be indexed as 0, while the atom at the origin in ads may be indexed as 1. \n",
    "\n",
    "Here we use the **pairs** function to find the index of an atom in ads that share the same position in the unit cell with an atom in slab."
   ]
  },
  {
   "cell_type": "code",
   "execution_count": 2,
   "metadata": {},
   "outputs": [
    {
     "name": "stdout",
     "output_type": "stream",
     "text": [
      "Ordering: [slab index, ads index]\n",
      "[[0, 11], [1, 4], [2, 5], [3, 6], [4, 7], [5, 8], [6, 9], [7, 10], [8, 21], [9, 20], [10, 12], [11, 13], [12, 14], [13, 15], [14, 16], [15, 17], [16, 18], [17, 19], [18, 3], [19, 2]]\n"
     ]
    }
   ],
   "source": [
    "from ads_slab_pairs import pairs\n",
    "p = pairs(slab,ads)\n",
    "\n",
    "print('Ordering: [slab index, ads index]')\n",
    "print(p)"
   ]
  },
  {
   "cell_type": "markdown",
   "metadata": {},
   "source": [
    "### Working with electrostatic potentials in VASP OUTCAR\n",
    "Next we can grab the atom-centered electrostatic potentials (ESPs) printed at the end of the OUTCAR with **grab_esp**. \n",
    "Here we grab ESPs for slab and ads and calculate the differences with **espdiff**. The ESP differnces define the alchemical derivatives that facilitate predictions with alchemy."
   ]
  },
  {
   "cell_type": "code",
   "execution_count": 3,
   "metadata": {},
   "outputs": [],
   "source": [
    "from elec_stat_pot import (grab_esp,espdiff,remove_duplicate_espdiffs,heatmap)\n",
    "slab_elec = grab_esp(poscar='POSCAR_pd',outcar='OUTCAR_pd')\n",
    "ads_elec = grab_esp(poscar='POSCAR_pd_co',outcar='OUTCAR_pd_co')\n",
    "from numpy import round\n",
    "diffs = [round(e,4) for e in espdiff(elec1=slab_elec,elec2=ads_elec,pair=p)]"
   ]
  },
  {
   "cell_type": "code",
   "execution_count": 4,
   "metadata": {
    "jupyter": {
     "source_hidden": true
    }
   },
   "outputs": [
    {
     "name": "stdout",
     "output_type": "stream",
     "text": [
      "Atom-centered electrostatic potentials:\n",
      "Slab:\n",
      "[-79.4201, -79.4135, -79.4135, -79.7811, -79.7811, -79.7811, -79.7811, -79.8361, -79.8361, -79.8361, -79.8361, -79.7831, -79.7831, -79.7831, -79.7831, -79.4201, -79.4201, -79.4201, -79.4135, -79.4135]\n",
      "\n",
      "Ads:\n",
      "[-56.4382, -76.7351, -79.3969, -79.8405, -79.8405, -79.8405, -79.7963, -79.7191, -79.7963, -79.7963, -79.8641, -79.5004, -79.8903, -79.8603, -79.8534, -79.8534, -79.8534, -79.5004, -79.5005, -79.5004, -79.8641, -79.8641]\n",
      "\n",
      "Differences in electrostatic potentials between ads and slab\n",
      "[-0.0803, -0.427, -0.427, -0.0152, 0.062, -0.0152, -0.0152, -0.028, -0.028, -0.028, -0.0542, -0.0772, -0.0703, -0.0703, -0.0703, -0.0803, -0.0804, -0.0803, -0.427, 0.0166]\n",
      "\n"
     ]
    }
   ],
   "source": [
    "print('Atom-centered electrostatic potentials:')\n",
    "print('Slab:')\n",
    "print(slab_elec)\n",
    "print('')\n",
    "print('Ads:')\n",
    "print(ads_elec)\n",
    "print('')\n",
    "print('Differences in electrostatic potentials between ads and slab')\n",
    "print(diffs)\n",
    "print('')"
   ]
  },
  {
   "cell_type": "markdown",
   "metadata": {},
   "source": [
    "### Visualizing alchemical derivatives\n",
    "With the **heatmap** function, visualize the ESP differences with ASE GUI by running the cell below, pressing \"c\" in ASE GUI, and under \"Choose how the atoms are colored:\" selecting \"By initial charge\" "
   ]
  },
  {
   "cell_type": "code",
   "execution_count": 5,
   "metadata": {},
   "outputs": [
    {
     "data": {
      "application/vnd.jupyter.widget-view+json": {
       "model_id": "0a6cd0d79dd14bb3b7789937fed988e2",
       "version_major": 2,
       "version_minor": 0
      },
      "text/plain": [
       "HBox(children=(NGLWidget(), VBox(children=(Dropdown(description='Show', options=('All', 'Pd'), value='All'), D…"
      ]
     },
     "metadata": {},
     "output_type": "display_data"
    }
   ],
   "source": [
    "slab_vis = heatmap(poscar='POSCAR_pd',\n",
    "                   dexlist=[dex[0] for dex in p],\n",
    "                   espdiffs=diffs)\n",
    "view(slab_vis, viewer='ngl')"
   ]
  },
  {
   "cell_type": "markdown",
   "metadata": {},
   "source": [
    "### Creating hypothetical materials by making transmutations\n",
    "Below we use the **index_transmuted** function to grab indexes of atoms that we want to transmute in our reference slabs. We specify the number of transmutable atoms by setting \"transmute_num.\" \n",
    "\n",
    "This function also grabs indexes of atoms at the bottom of the slab that we can counter-transmute to maintain isoelectronicity. We set the number of counter-transmutable atoms with \"counter_num.\""
   ]
  },
  {
   "cell_type": "code",
   "execution_count": 7,
   "metadata": {},
   "outputs": [],
   "source": [
    "from ase import Atom\n",
    "from alloy_index import index_transmuted, transmuter, transmuted_directory_names\n",
    "metal = Atom('Pd')\n",
    "[transmute, counter] = index_transmuted(slab=slab,\n",
    "                                        transmute_atom_sym=metal.symbol,\n",
    "                                        counter_atom_sym=metal.symbol,\n",
    "                                        transmute_num=8,\n",
    "                                        counter_num=8,\n",
    "                                        symmetric = False)"
   ]
  },
  {
   "cell_type": "markdown",
   "metadata": {},
   "source": [
    "We can filter through the ESP differences centered at each transmutable atom. This reduces the number of systems to study and preserves all the ESP information we need to thoroughly assess alchemy. This step is optional if you want to assess all possible transmutations."
   ]
  },
  {
   "cell_type": "code",
   "execution_count": 10,
   "metadata": {},
   "outputs": [
    {
     "name": "stdout",
     "output_type": "stream",
     "text": [
      "Unique Electrostatic Potential Differences:\n",
      "dict_values([-0.427, 0.0166, -0.0152, 0.062])\n",
      "\n",
      "Unique Electrostatic Potential Differences WITHIN A TOLERANCE VALUE:\n",
      "[-0.427, 0.0166, -0.0152, 0.062]\n",
      " \n",
      "Unique Electrostatic Potential Differences:\n",
      "dict_values([-0.0803, -0.0804, -0.0772, -0.0703])\n",
      "\n",
      "Unique Electrostatic Potential Differences WITHIN A TOLERANCE VALUE:\n",
      "[-0.0703]\n",
      " \n"
     ]
    }
   ],
   "source": [
    "new_transmute = remove_duplicate_espdiffs(dexlist=transmute,\n",
    "                                          espdiffs=diffs)\n",
    "new_counter = remove_duplicate_espdiffs(dexlist=counter,\n",
    "                                        espdiffs=diffs)"
   ]
  },
  {
   "cell_type": "code",
   "execution_count": 11,
   "metadata": {},
   "outputs": [
    {
     "name": "stdout",
     "output_type": "stream",
     "text": [
      "Atoms to be transmuted with unique electrostatic potential differences.\n",
      "[1, 19, 3, 4]\n",
      "\n",
      "Atoms to be counter transmuted with unique electrostatic potential differences.\n",
      "[12]\n",
      "\n"
     ]
    }
   ],
   "source": [
    "print('Atoms to be transmuted with unique electrostatic potential differences.')\n",
    "print(new_transmute)\n",
    "print('')\n",
    "print('Atoms to be counter transmuted with unique electrostatic potential differences.')\n",
    "print(new_counter)\n",
    "print('')"
   ]
  },
  {
   "cell_type": "markdown",
   "metadata": {},
   "source": [
    "In this example, we transmute Pd to Ag (change in nuclear charge of +1) and counter-transmute Pd to Rh (change in nuclear charge of -1). Below we construct an array with Ag and Rh Atom objects to use in the \"transmuter\" function."
   ]
  },
  {
   "cell_type": "code",
   "execution_count": 12,
   "metadata": {},
   "outputs": [],
   "source": [
    "charge = 1\n",
    "transmute_atom = Atom(metal.symbol)\n",
    "transmute_atom.number += charge\n",
    "counter_transmute_atom = Atom(metal.symbol)\n",
    "counter_transmute_atom.number -= charge\n",
    "all_transmute = [counter_transmute_atom,transmute_atom]"
   ]
  },
  {
   "cell_type": "markdown",
   "metadata": {},
   "source": [
    "In the next two cells, we make transmutations to Atoms objects of slab and ads from their respective CONTCARs and give labels for each new model. Now we can visualize these new systems and write POSCARs to do VASP calculations for benchmarking."
   ]
  },
  {
   "cell_type": "code",
   "execution_count": 13,
   "metadata": {},
   "outputs": [
    {
     "name": "stdout",
     "output_type": "stream",
     "text": [
      "Transmuted Slab Labels\n",
      "0.0.Rh12.Ag1\n",
      "0.1.Rh12.Ag19\n",
      "0.2.Rh12.Ag3\n",
      "0.3.Rh12.Ag4\n"
     ]
    }
   ],
   "source": [
    "from ase import Atom\n",
    "print('Transmuted Slab Labels')\n",
    "transmuted_slabs = []\n",
    "dir_slab = []\n",
    "for i,c in enumerate(new_counter):\n",
    "    for j,t in enumerate(new_transmute):\n",
    "        transmuted_slabs.append(transmuter(slab=slab_contcar,\n",
    "                                           atomdex=[c,t],\n",
    "                                           trans=all_transmute))\n",
    "        dir_slab.append(transmuted_directory_names(bdex=i,\n",
    "                                                   tdex=j,\n",
    "                                                   dexes=[c,t],\n",
    "                                                   atoms_array=all_transmute))\n",
    "        print(dir_slab[j])"
   ]
  },
  {
   "cell_type": "code",
   "execution_count": 14,
   "metadata": {},
   "outputs": [
    {
     "name": "stdout",
     "output_type": "stream",
     "text": [
      "Transmuted Ads Labels\n",
      "0.0.Rh14.Ag4\n",
      "0.1.Rh14.Ag2\n",
      "0.2.Rh14.Ag6\n",
      "0.3.Rh14.Ag7\n"
     ]
    }
   ],
   "source": [
    "print('Transmuted Ads Labels')\n",
    "transmuted_ads = []\n",
    "dir_ads = []\n",
    "for i,c in enumerate(new_counter):\n",
    "    c = p[c][1]\n",
    "    for j,t in enumerate(new_transmute):\n",
    "        t = p[t][1]\n",
    "        transmuted_ads.append(transmuter(slab=ads_contcar,\n",
    "                                         atomdex=[c,t],\n",
    "                                         trans=all_transmute))\n",
    "        dir_ads.append(transmuted_directory_names(bdex=i,\n",
    "                                                  tdex=j,\n",
    "                                                  dexes=[c,t],\n",
    "                                                  atoms_array=all_transmute))\n",
    "        print(dir_ads[j])"
   ]
  },
  {
   "cell_type": "code",
   "execution_count": 15,
   "metadata": {},
   "outputs": [],
   "source": [
    "view(transmuted_slabs[0])\n",
    "view(transmuted_ads[0])"
   ]
  },
  {
   "cell_type": "markdown",
   "metadata": {},
   "source": [
    "For validation purposes, we setup directories to run VASP calculations on our transmuted surface models."
   ]
  },
  {
   "cell_type": "code",
   "execution_count": 19,
   "metadata": {
    "jupyter": {
     "source_hidden": true
    }
   },
   "outputs": [
    {
     "ename": "FileExistsError",
     "evalue": "[WinError 183] Cannot create a file when that file already exists: '0.0.Rh12.Ag1'",
     "output_type": "error",
     "traceback": [
      "\u001b[1;31m---------------------------------------------------------------------------\u001b[0m",
      "\u001b[1;31mFileExistsError\u001b[0m                           Traceback (most recent call last)",
      "\u001b[1;32m<ipython-input-19-c69a27853cae>\u001b[0m in \u001b[0;36m<module>\u001b[1;34m\u001b[0m\n\u001b[0;32m      4\u001b[0m \u001b[1;32mfor\u001b[0m \u001b[0mi\u001b[0m\u001b[1;33m,\u001b[0m\u001b[0ms\u001b[0m \u001b[1;32min\u001b[0m \u001b[0menumerate\u001b[0m\u001b[1;33m(\u001b[0m\u001b[0mtransmuted_slabs\u001b[0m\u001b[1;33m)\u001b[0m\u001b[1;33m:\u001b[0m\u001b[1;33m\u001b[0m\u001b[1;33m\u001b[0m\u001b[0m\n\u001b[0;32m      5\u001b[0m     \u001b[0md\u001b[0m \u001b[1;33m=\u001b[0m \u001b[0mdir_slab\u001b[0m\u001b[1;33m[\u001b[0m\u001b[0mi\u001b[0m\u001b[1;33m]\u001b[0m\u001b[1;33m\u001b[0m\u001b[1;33m\u001b[0m\u001b[0m\n\u001b[1;32m----> 6\u001b[1;33m     \u001b[0mos\u001b[0m\u001b[1;33m.\u001b[0m\u001b[0mmkdir\u001b[0m\u001b[1;33m(\u001b[0m\u001b[0md\u001b[0m\u001b[1;33m)\u001b[0m\u001b[1;33m\u001b[0m\u001b[1;33m\u001b[0m\u001b[0m\n\u001b[0m\u001b[0;32m      7\u001b[0m     \u001b[0mos\u001b[0m\u001b[1;33m.\u001b[0m\u001b[0mchdir\u001b[0m\u001b[1;33m(\u001b[0m\u001b[0md\u001b[0m\u001b[1;33m)\u001b[0m\u001b[1;33m\u001b[0m\u001b[1;33m\u001b[0m\u001b[0m\n\u001b[0;32m      8\u001b[0m     \u001b[0mhome\u001b[0m \u001b[1;33m=\u001b[0m \u001b[0mos\u001b[0m\u001b[1;33m.\u001b[0m\u001b[0mgetcwd\u001b[0m\u001b[1;33m(\u001b[0m\u001b[1;33m)\u001b[0m\u001b[1;33m\u001b[0m\u001b[1;33m\u001b[0m\u001b[0m\n",
      "\u001b[1;31mFileExistsError\u001b[0m: [WinError 183] Cannot create a file when that file already exists: '0.0.Rh12.Ag1'"
     ]
    }
   ],
   "source": [
    "import os\n",
    "from ase.io import write\n",
    "from vasp_setup import make_potcar,make_kpoints,make_incar,make_job_script\n",
    "for i,s in enumerate(transmuted_slabs):\n",
    "    d = dir_slab[i]\n",
    "    os.mkdir(d)\n",
    "    os.chdir(d)\n",
    "    home = os.getcwd()\n",
    "    write('POSCAR',s,'vasp',sort=True)\n",
    "    make_potcar(home,'/home/chaszg18/potcars/')\n",
    "    make_kpoints(home,d,kspacing=[8,8,1])\n",
    "    make_incar(home,d,encut=350,ismear=1,sigma=0.4,ibrion=-1,nsw=0)\n",
    "    make_job_script(home,d,jobnum=i,nodes=2,cores=28,cluster='mpi',partition='opa',hours=6)\n",
    "    os.chdir('../')\n",
    "    \n",
    "for i,s in enumerate(transmuted_ads):\n",
    "    d = dir_ads[i]\n",
    "    os.mkdir(d)\n",
    "    os.chdir(d)\n",
    "    home = os.getcwd()\n",
    "    write('POSCAR',s,'vasp',sort=True)\n",
    "    make_potcar(home,'/home/chaszg18/potcars/')\n",
    "    make_kpoints(home,d,kspacing=[8,8,1])\n",
    "    make_incar(home,d,encut=350,ismear=1,sigma=0.4,ibrion=-1,nsw=0)\n",
    "    make_job_script(home,d,jobnum=i,nodes=2,cores=28,cluster='mpi',partition='opa',hours=6)\n",
    "    os.chdir('../')\n",
    "    "
   ]
  },
  {
   "cell_type": "markdown",
   "metadata": {},
   "source": [
    "### Calculating binding energy (BE) with computational alchemy\n",
    "Once all VASP calculations are complete, we can calculate binding energies on our transmuted surfaces using alchemy, then compare against DFT binding energies."
   ]
  },
  {
   "cell_type": "markdown",
   "metadata": {},
   "source": [
    "First we calculate the binding energy of our reference system."
   ]
  },
  {
   "cell_type": "code",
   "execution_count": 16,
   "metadata": {},
   "outputs": [],
   "source": [
    "from read_oszicar import grab_energy\n",
    "adsorbate_energy = -.14799149E+02\n",
    "slab_energy = grab_energy(oszicar='OSZICAR_pd')\n",
    "ads_energy = grab_energy(oszicar='OSZICAR_pd_co')\n",
    "ref_be = slab_energy + adsorbate_energy - ads_energy"
   ]
  },
  {
   "cell_type": "markdown",
   "metadata": {},
   "source": [
    "Grabbing energies of transmuted surfaces from VASP calculations and calculating binding energies for each."
   ]
  },
  {
   "cell_type": "code",
   "execution_count": 17,
   "metadata": {},
   "outputs": [],
   "source": [
    "transmuted_slab_energy = [grab_energy(oszicar='results/'+d+'/OSZICAR') for d in dir_slab]\n",
    "transmuted_ads_energy = [grab_energy(oszicar='results/'+d+'/OSZICAR') for d in dir_ads]"
   ]
  },
  {
   "cell_type": "code",
   "execution_count": 18,
   "metadata": {},
   "outputs": [],
   "source": [
    "transmuted_be = [transmuted_slab_energy[i] + adsorbate_energy - transmuted_ads_energy[i] for i in range(len(transmuted_slab_energy))]\n",
    "dft_del_be = [round(transmuted_be[i] - ref_be,4) for i in range(len(transmuted_be))]"
   ]
  },
  {
   "cell_type": "markdown",
   "metadata": {},
   "source": [
    "Finally, we can use the alc_be function to take the dot product of an array of charge differences and an array of the ESP differences to approximate BEs. Below we've used this function to construct the charge difference array and calculate BE for every transmuted system. "
   ]
  },
  {
   "cell_type": "code",
   "execution_count": 19,
   "metadata": {},
   "outputs": [],
   "source": [
    "from binding_energy import alc_be\n",
    "dn = [alc_be(transmute=[new_transmute[i]],\n",
    "             counter=[new_counter[0]],\n",
    "             espdiffs=diffs,\n",
    "             charge=charge)[0] for i in range(len(new_transmute))]\n",
    "alc_del_be = [alc_be(transmute=[new_transmute[i]],\n",
    "                     counter=[new_counter[0]],\n",
    "                     espdiffs=diffs,\n",
    "                     charge=charge)[1] for i in range(len(new_transmute))]"
   ]
  },
  {
   "cell_type": "code",
   "execution_count": 20,
   "metadata": {},
   "outputs": [
    {
     "name": "stdout",
     "output_type": "stream",
     "text": [
      "Array of All Electrostatic Potential Differences:\n",
      "[-0.0803, -0.427, -0.427, -0.0152, 0.062, -0.0152, -0.0152, -0.028, -0.028, -0.028, -0.0542, -0.0772, -0.0703, -0.0703, -0.0703, -0.0803, -0.0804, -0.0803, -0.427, 0.0166]\n",
      "\n",
      "Arrays of Charge Differences:\n",
      "[ 0.  1.  0.  0.  0.  0.  0.  0.  0.  0.  0.  0. -1.  0.  0.  0.  0.  0.\n",
      "  0.  0.]\n",
      "[ 0.  0.  0.  0.  0.  0.  0.  0.  0.  0.  0.  0. -1.  0.  0.  0.  0.  0.\n",
      "  0.  1.]\n",
      "[ 0.  0.  0.  1.  0.  0.  0.  0.  0.  0.  0.  0. -1.  0.  0.  0.  0.  0.\n",
      "  0.  0.]\n",
      "[ 0.  0.  0.  0.  1.  0.  0.  0.  0.  0.  0.  0. -1.  0.  0.  0.  0.  0.\n",
      "  0.  0.]\n",
      "\n"
     ]
    }
   ],
   "source": [
    "new_transmute_espdiffs = [diffs[i] for i in new_transmute]\n",
    "print('Array of All Electrostatic Potential Differences:')\n",
    "print(diffs)\n",
    "print('')\n",
    "print('Arrays of Charge Differences:')\n",
    "for d in dn:\n",
    "    print(d)\n",
    "print('')"
   ]
  },
  {
   "cell_type": "markdown",
   "metadata": {},
   "source": [
    "Now that the BEs are calculated, we can evaluate the accuracy of computational alchemy against DFT. "
   ]
  },
  {
   "cell_type": "code",
   "execution_count": 21,
   "metadata": {},
   "outputs": [
    {
     "data": {
      "text/plain": [
       "Text(0.5, 1.0, 'Parity Plot for BE Predictions with Computational Alchemy')"
      ]
     },
     "execution_count": 21,
     "metadata": {},
     "output_type": "execute_result"
    }
   ],
   "source": [
    "from matplotlib import pyplot as plot\n",
    "plot.plot([min(dft_del_be+alc_del_be),max(dft_del_be+alc_del_be)],\n",
    "          [min(dft_del_be+alc_del_be),max(dft_del_be+alc_del_be)],\n",
    "          linewidth=2.5)\n",
    "plot.plot(dft_del_be,alc_del_be,'ko',markersize=12)\n",
    "plot.xlabel('DFT',weight='bold')\n",
    "plot.ylabel('Alchemy',weight='bold')\n",
    "plot.title('Parity Plot for BE Predictions with Computational Alchemy',weight='bold')"
   ]
  },
  {
   "cell_type": "markdown",
   "metadata": {},
   "source": [
    "Below is a summary of pertinent quantities for this analysis. We can read through the list of absolute errors printed below and identify systems with inaccurate BE predictions. For these systems with low accuracy, we can look at the magnitude of the ESP difference and the transmutation index (location of transmuted atom). Low accuracy is typically attributed to systems where transmutations are made to atoms where the magnitude of the ESP difference is large."
   ]
  },
  {
   "cell_type": "code",
   "execution_count": 22,
   "metadata": {},
   "outputs": [],
   "source": [
    "from numpy import average\n",
    "ae = [round(abs(alc_del_be[i] - dft_del_be[i]),3) for i in range(len(new_transmute))]\n",
    "mae = round(average(ae),3)"
   ]
  },
  {
   "cell_type": "code",
   "execution_count": 23,
   "metadata": {
    "jupyter": {
     "source_hidden": true
    }
   },
   "outputs": [
    {
     "name": "stdout",
     "output_type": "stream",
     "text": [
      "Transmutation Index\n",
      "[1, 19, 3, 4]\n",
      "\n",
      "Electrostatic Potential Difference at Transmutation Index\n",
      "[-0.427, 0.0166, -0.0152, 0.062]\n",
      "\n",
      "Delta Binding Energy Calculated with Alchemy (Dot Product of Above Arrays):\n",
      "[-0.3567, 0.0869, 0.0551, 0.1323]\n",
      "\n",
      "Delta Binding Energy Calculated with DFT:\n",
      "[-0.5827, 0.0936, 0.0088, -0.0372]\n",
      "\n",
      "Absolute Errors:\n",
      "[0.226, 0.007, 0.046, 0.169]\n",
      "\n",
      "Mean Absolute Error\n",
      "0.112\n",
      "\n"
     ]
    }
   ],
   "source": [
    "print('Transmutation Index')\n",
    "print(new_transmute)\n",
    "print('')\n",
    "print('Electrostatic Potential Difference at Transmutation Index')\n",
    "print(new_transmute_espdiffs)\n",
    "print('')\n",
    "print('Delta Binding Energy Calculated with Alchemy (Dot Product of Above Arrays):')\n",
    "print(alc_del_be)\n",
    "print('')\n",
    "print('Delta Binding Energy Calculated with DFT:')\n",
    "print(dft_del_be)\n",
    "print('')\n",
    "print('Absolute Errors:')\n",
    "print(ae)\n",
    "print('')\n",
    "print('Mean Absolute Error')\n",
    "print(mae)\n",
    "print('')"
   ]
  }
 ],
 "metadata": {
  "kernelspec": {
   "display_name": "Python 3",
   "language": "python",
   "name": "python3"
  },
  "language_info": {
   "codemirror_mode": {
    "name": "ipython",
    "version": 3
   },
   "file_extension": ".py",
   "mimetype": "text/x-python",
   "name": "python",
   "nbconvert_exporter": "python",
   "pygments_lexer": "ipython3",
   "version": "3.7.3"
  }
 },
 "nbformat": 4,
 "nbformat_minor": 2
}
